{
  "nbformat": 4,
  "nbformat_minor": 0,
  "metadata": {
    "colab": {
      "name": "00_tensorflow_fundamentals.ipynb",
      "provenance": [],
      "authorship_tag": "ABX9TyMMi+USOU2b5Coc2RKHGDdQ",
      "include_colab_link": true
    },
    "kernelspec": {
      "name": "python3",
      "display_name": "Python 3"
    },
    "language_info": {
      "name": "python"
    }
  },
  "cells": [
    {
      "cell_type": "markdown",
      "metadata": {
        "id": "view-in-github",
        "colab_type": "text"
      },
      "source": [
        "<a href=\"https://colab.research.google.com/github/Jyoti1706/tensorflow-certification/blob/main/00_tensorflow_fundamentals.ipynb\" target=\"_parent\"><img src=\"https://colab.research.google.com/assets/colab-badge.svg\" alt=\"Open In Colab\"/></a>"
      ]
    },
    {
      "cell_type": "markdown",
      "source": [
        "# Tensorflow fundamentals"
      ],
      "metadata": {
        "id": "TZeD5aopg9IE"
      }
    },
    {
      "cell_type": "markdown",
      "source": [
        "## Tensorflow intro"
      ],
      "metadata": {
        "id": "GV0VQN7Kg2GO"
      }
    },
    {
      "cell_type": "code",
      "source": [
        "import tensorflow as tf\n",
        "print(tf.__version__)"
      ],
      "metadata": {
        "id": "HUkBarpUg7yD",
        "colab": {
          "base_uri": "https://localhost:8080/"
        },
        "outputId": "a4dcf85b-c8a7-4dbb-a923-13fa3614df66"
      },
      "execution_count": 2,
      "outputs": [
        {
          "output_type": "stream",
          "name": "stdout",
          "text": [
            "2.8.2\n"
          ]
        }
      ]
    },
    {
      "cell_type": "code",
      "source": [
        "## Creating tensors with tf.contant()\n",
        "scalar   = tf.constant(7)\n",
        "scalar"
      ],
      "metadata": {
        "colab": {
          "base_uri": "https://localhost:8080/"
        },
        "id": "0yZ08UAtiTC-",
        "outputId": "194abdf9-cc26-4e31-8859-643119e78460"
      },
      "execution_count": 4,
      "outputs": [
        {
          "output_type": "execute_result",
          "data": {
            "text/plain": [
              "<tf.Tensor: shape=(), dtype=int32, numpy=7>"
            ]
          },
          "metadata": {},
          "execution_count": 4
        }
      ]
    },
    {
      "cell_type": "code",
      "source": [
        "## Check number of dimensions of tensor (ndim stands for number of dimension)\n",
        "scalar.ndim"
      ],
      "metadata": {
        "colab": {
          "base_uri": "https://localhost:8080/"
        },
        "id": "oQqthsUxi0Yp",
        "outputId": "dc9590a7-f134-44c7-eb0b-05c5d961af99"
      },
      "execution_count": 5,
      "outputs": [
        {
          "output_type": "execute_result",
          "data": {
            "text/plain": [
              "0"
            ]
          },
          "metadata": {},
          "execution_count": 5
        }
      ]
    },
    {
      "cell_type": "code",
      "source": [
        "## Create a vector and find dimension\n",
        "vector = tf.constant([10,10])\n",
        "print(vector, vector.ndim)"
      ],
      "metadata": {
        "colab": {
          "base_uri": "https://localhost:8080/"
        },
        "id": "WDuDRcaYjCvT",
        "outputId": "1f1c0ece-2b56-4f26-c3ca-e1d86492d3ff"
      },
      "execution_count": 8,
      "outputs": [
        {
          "output_type": "stream",
          "name": "stdout",
          "text": [
            "tf.Tensor([10 10], shape=(2,), dtype=int32) 1\n"
          ]
        }
      ]
    },
    {
      "cell_type": "code",
      "source": [
        "## Create a matrix and find dimension\n",
        "matrix = tf.constant([[10,10,32], [9,8,5]])\n",
        "print(matrix, matrix.ndim)"
      ],
      "metadata": {
        "colab": {
          "base_uri": "https://localhost:8080/"
        },
        "id": "nEcLmuO9jNpS",
        "outputId": "d1eb7a84-163d-4727-eda1-128c72c2626f"
      },
      "execution_count": 10,
      "outputs": [
        {
          "output_type": "stream",
          "name": "stdout",
          "text": [
            "tf.Tensor(\n",
            "[[10 10 32]\n",
            " [ 9  8  5]], shape=(2, 3), dtype=int32) 2\n"
          ]
        }
      ]
    },
    {
      "cell_type": "code",
      "source": [
        "## Create a another matrix and find dimension\n",
        "another_matrix = tf.constant([[1.,2.,3.], [9.,8.,5.]], dtype=tf.float16)\n",
        "print(another_matrix, another_matrix.ndim)"
      ],
      "metadata": {
        "colab": {
          "base_uri": "https://localhost:8080/"
        },
        "id": "9VWbX2U8j477",
        "outputId": "be212bad-15eb-4797-e54a-d011327f1344"
      },
      "execution_count": 11,
      "outputs": [
        {
          "output_type": "stream",
          "name": "stdout",
          "text": [
            "tf.Tensor(\n",
            "[[1. 2. 3.]\n",
            " [9. 8. 5.]], shape=(2, 3), dtype=float16) 2\n"
          ]
        }
      ]
    },
    {
      "cell_type": "code",
      "source": [
        "## Create a tensor and find dimension\n",
        "tensor = tf.constant([[[1.,2.,3.], [9.,8.,5.]],\n",
        "                      [[3.,2.2,3.2], [9.1,8.1,5.4]],\n",
        "                      [[21.,42.,31.], [9.4,48.,56.]]], dtype=tf.float16)\n",
        "print(tensor, tensor.ndim)"
      ],
      "metadata": {
        "colab": {
          "base_uri": "https://localhost:8080/"
        },
        "id": "xKJXG8Frlf0k",
        "outputId": "b9ca60be-cd53-4044-88d6-3f9922f58bbb"
      },
      "execution_count": 12,
      "outputs": [
        {
          "output_type": "stream",
          "name": "stdout",
          "text": [
            "tf.Tensor(\n",
            "[[[ 1.   2.   3. ]\n",
            "  [ 9.   8.   5. ]]\n",
            "\n",
            " [[ 3.   2.2  3.2]\n",
            "  [ 9.1  8.1  5.4]]\n",
            "\n",
            " [[21.  42.  31. ]\n",
            "  [ 9.4 48.  56. ]]], shape=(3, 2, 3), dtype=float16) 3\n"
          ]
        }
      ]
    },
    {
      "cell_type": "markdown",
      "source": [
        "### What we have created so far is\n",
        "\n",
        "* Scalar: a single number (0 Dimension)\n",
        "* Vector: a number with direction (1 Dimension) (e.g: speed)\n",
        "* Matrix: a 2-D of array of number (2 Dimension)\n",
        "* Tensor: a n-dimensional array of number (where n can be any number, 0-Dimensional tensor is a scalar, a 1-dimensional tensor is a vector"
      ],
      "metadata": {
        "id": "IHlzk18Cl1b6"
      }
    },
    {
      "cell_type": "markdown",
      "source": [
        "### Creating tensor with tf.variable"
      ],
      "metadata": {
        "id": "QVcT4nUzmxy5"
      }
    },
    {
      "cell_type": "code",
      "source": [
        ""
      ],
      "metadata": {
        "id": "tyCpjTcmnAld"
      },
      "execution_count": null,
      "outputs": []
    }
  ]
}