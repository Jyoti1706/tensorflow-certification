{
  "nbformat": 4,
  "nbformat_minor": 0,
  "metadata": {
    "colab": {
      "name": "01_Neural_Network_Regression_with_Tensorflow.ipynb",
      "provenance": [],
      "toc_visible": true,
      "mount_file_id": "https://github.com/Jyoti1706/tensorflow-certification/blob/main/01_Neural_Network_Regression_with_Tensorflow.ipynb",
      "authorship_tag": "ABX9TyNosXAPs0FfaxF+GqsD7AvR",
      "include_colab_link": true
    },
    "kernelspec": {
      "name": "python3",
      "display_name": "Python 3"
    },
    "language_info": {
      "name": "python"
    },
    "accelerator": "GPU",
    "gpuClass": "standard"
  },
  "cells": [
    {
      "cell_type": "markdown",
      "metadata": {
        "id": "view-in-github",
        "colab_type": "text"
      },
      "source": [
        "<a href=\"https://colab.research.google.com/github/Jyoti1706/tensorflow-certification/blob/main/01_Neural_Network_Regression_with_Tensorflow.ipynb\" target=\"_parent\"><img src=\"https://colab.research.google.com/assets/colab-badge.svg\" alt=\"Open In Colab\"/></a>"
      ]
    },
    {
      "cell_type": "markdown",
      "source": [
        "# 01. Neural Network Regression with TensorFlow\n",
        "\n",
        "Regression is: predicting a number(dependent variable) with the help of independen variables\n",
        "\n",
        "For example, you might want to:\n",
        "- Predict the selling price of houses given information about them (such as number of rooms, size, number of bathrooms).\n",
        "- Predict the coordinates of a bounding box of an item in an image.\n",
        "- Predict the cost of medical insurance for an individual given their demographics (age, sex, gender, race)."
      ],
      "metadata": {
        "id": "jmN4U11RCHm2"
      }
    },
    {
      "cell_type": "markdown",
      "source": [
        "### Input and Output for (NNR) Neural Network Regression with TF\n",
        "\n",
        "![example of input and output shapes for a housing price prediction problem](https://raw.githubusercontent.com/mrdbourke/tensorflow-deep-learning/main/images/01-input-and-output-shapes-housing-prices.png)\n",
        "*If you were working on building a machine learning algorithm for predicting housing prices, your inputs may be number of bedrooms, number of bathrooms and number of garages, giving you an input shape of 3 (3 different features). And since you're trying to predict the price of the house, your output shape would be 1.*\n",
        "\n",
        "## Typical architecture of a regresison neural network\n",
        "\n",
        "The word *typical* is on purpose.\n",
        "\n",
        "Because there are many different ways (actually, there's almost an infinite number of ways) to write neural networks.\n",
        "\n",
        "But the following is a generic setup for ingesting a collection of numbers, finding patterns in them and then outputing some kind of target number.\n",
        "\n",
        "\n",
        "| **Hyperparameter** | **Typical value** |\n",
        "| --- | --- |\n",
        "| Input layer shape | Same shape as number of features (e.g. 3 for # bedrooms, # bathrooms, # car spaces in housing price prediction) |\n",
        "| Hidden layer(s) | Problem specific, minimum = 1, maximum = unlimited |\n",
        "| Neurons per hidden layer | Problem specific, generally 10 to 100 |\n",
        "| Output layer shape | Same shape as desired prediction shape (e.g. 1 for house price) |\n",
        "| Hidden activation | Usually [ReLU](https://www.kaggle.com/dansbecker/rectified-linear-units-relu-in-deep-learning) (rectified linear unit) |\n",
        "| Output activation | None, ReLU, logistic/tanh |\n",
        "| Loss function | [MSE](https://en.wikipedia.org/wiki/Mean_squared_error) (mean square error) or [MAE](https://en.wikipedia.org/wiki/Mean_absolute_error) (mean absolute error)/Huber (combination of MAE/MSE) if outliers |\n",
        "| Optimizer | [SGD](https://www.tensorflow.org/api_docs/python/tf/keras/optimizers/SGD) (stochastic gradient descent), [Adam](https://www.tensorflow.org/api_docs/python/tf/keras/optimizers/Adam) |\n",
        "\n",
        "***Table 1:*** *Typical architecture of a regression network.* ***Source:*** *Adapted from page 293 of [Hands-On Machine Learning with Scikit-Learn, Keras & TensorFlow Book by Aurélien Géron](https://www.oreilly.com/library/view/hands-on-machine-learning/9781492032632/)*\n",
        "\n",
        "Again, if you're new to neural networks and deep learning in general, much of the above table won't make sense. But don't worry, we'll be getting hands-on with all of it soon.\n",
        "\n",
        "> 🔑 **Note:** A **hyperparameter** in machine learning is something a data analyst or developer can set themselves, where as a **parameter** usually describes something a model learns on its own (a value not explicitly set by an analyst).\n",
        "\n"
      ],
      "metadata": {
        "id": "WqrQyKgSEPnA"
      }
    },
    {
      "cell_type": "code",
      "source": [
        "import tensorflow as tf\n",
        "import numpy as np\n",
        "import matplotlib.pyplot as plt\n",
        "print(tf.__version__)"
      ],
      "metadata": {
        "colab": {
          "base_uri": "https://localhost:8080/"
        },
        "id": "QVcS3AGLD994",
        "outputId": "52f130cb-41aa-4b03-f5b0-7e49b8ea4f98"
      },
      "execution_count": 1,
      "outputs": [
        {
          "output_type": "stream",
          "name": "stdout",
          "text": [
            "2.8.2\n"
          ]
        }
      ]
    },
    {
      "cell_type": "code",
      "source": [
        ""
      ],
      "metadata": {
        "id": "Heck9bFFJCMo"
      },
      "execution_count": 1,
      "outputs": []
    },
    {
      "cell_type": "code",
      "source": [
        "## Create the input feature\n",
        "X = np.array([-7.0, -4.0, -1.0, 2.0, 5.0, 8.0, 11.0, 14.0])\n",
        "\n",
        "# Create labels\n",
        "y = np.array([3.0, 6.0, 9.0, 12.0, 15.0, 18.0, 21.0, 24.0])\n",
        "\n",
        "# Visualize it\n",
        "plt.scatter(X, y);"
      ],
      "metadata": {
        "colab": {
          "base_uri": "https://localhost:8080/",
          "height": 269
        },
        "id": "EtyHXMCuJPav",
        "outputId": "4a10cf6f-f4ac-4539-e807-4c53b2c7726e"
      },
      "execution_count": 2,
      "outputs": [
        {
          "output_type": "display_data",
          "data": {
            "text/plain": [
              "<Figure size 432x288 with 1 Axes>"
            ],
            "image/png": "[encoded data removed]"
          },
          "metadata": {
            "needs_background": "light"
          }
        }
      ]
    },
    {
      "cell_type": "code",
      "source": [
        "y == X+10"
      ],
      "metadata": {
        "colab": {
          "base_uri": "https://localhost:8080/"
        },
        "id": "bRxmga7fJbdM",
        "outputId": "3a4b4989-3166-4720-eb9f-1b47001eb14c"
      },
      "execution_count": 3,
      "outputs": [
        {
          "output_type": "execute_result",
          "data": {
            "text/plain": [
              "array([ True,  True,  True,  True,  True,  True,  True,  True])"
            ]
          },
          "metadata": {},
          "execution_count": 3
        }
      ]
    },
    {
      "cell_type": "code",
      "source": [
        "## Converting numpy arrays to tensors\n",
        "X = tf.constant(X)\n",
        "y = tf.constant(y)\n",
        "X,y"
      ],
      "metadata": {
        "id": "UHV9gVrpJrWa",
        "outputId": "1bda9e1c-476a-4813-c388-3331f78904e9",
        "colab": {
          "base_uri": "https://localhost:8080/"
        }
      },
      "execution_count": 4,
      "outputs": [
        {
          "output_type": "execute_result",
          "data": {
            "text/plain": [
              "(<tf.Tensor: shape=(8,), dtype=float64, numpy=array([-7., -4., -1.,  2.,  5.,  8., 11., 14.])>,\n",
              " <tf.Tensor: shape=(8,), dtype=float64, numpy=array([ 3.,  6.,  9., 12., 15., 18., 21., 24.])>)"
            ]
          },
          "metadata": {},
          "execution_count": 4
        }
      ]
    },
    {
      "cell_type": "code",
      "source": [
        "input_shape = X[0].shape\n",
        "output_shape = y[0].shape\n",
        "print(input_shape, output_shape)"
      ],
      "metadata": {
        "id": "UtMwQ6YpfYnh",
        "outputId": "a2fcf34a-438f-41f3-f2e8-511ff47b7fcf",
        "colab": {
          "base_uri": "https://localhost:8080/"
        }
      },
      "execution_count": 5,
      "outputs": [
        {
          "output_type": "stream",
          "name": "stdout",
          "text": [
            "() ()\n"
          ]
        }
      ]
    },
    {
      "cell_type": "code",
      "source": [
        "plt.scatter(X,y)"
      ],
      "metadata": {
        "id": "QDXyu-A1fm0i",
        "outputId": "c6284526-6edd-40eb-d721-56d408570ca6",
        "colab": {
          "base_uri": "https://localhost:8080/",
          "height": 287
        }
      },
      "execution_count": 6,
      "outputs": [
        {
          "output_type": "execute_result",
          "data": {
            "text/plain": [
              "<matplotlib.collections.PathCollection at 0x7fa12bfb6150>"
            ]
          },
          "metadata": {},
          "execution_count": 6
        },
        {
          "output_type": "display_data",
          "data": {
            "text/plain": [
              "<Figure size 432x288 with 1 Axes>"
            ],
            "image/png": "[encoded data removed]"
          },
          "metadata": {
            "needs_background": "light"
          }
        }
      ]
    },
    {
      "cell_type": "markdown",
      "source": [
        "### Steps in modelling with tensorflow\n",
        "\n",
        "1. **Creating a model** - Define  the input and output layers, as well as the hidden layer of deep learning.\n",
        "2. **Compiling a model** - define loss function ( functions which tells model how wrong it is) and optimizer(tells model how to improve the pattern learning).\n",
        "3. **Fitting a model** - letting the modeltry to find pattern between X & y (features and labels\n",
        "4. **Evaluate model** - on testing data"
      ],
      "metadata": {
        "id": "4uvkM9ymg3yo"
      }
    },
    {
      "cell_type": "markdown",
      "source": [
        "### params defination\n",
        "\n",
        "1. **Compiling a model**\n",
        "\n",
        "- Loss function --> our model use to improve its performance.\n",
        "\n",
        "- Metrics --> it's for humans to check our performance of your model.\n",
        "\n",
        "2. **fit a model**\n",
        "\n",
        "- Epocs -->how many time model will go through the training example\n"
      ],
      "metadata": {
        "id": "ILW38syxlHCG"
      }
    },
    {
      "cell_type": "code",
      "source": [
        "tf.random.set_seed(42)\n",
        "\n",
        "# 1. Create model\n",
        "model = tf.keras.Sequential([\n",
        "  tf.keras.layers.Dense(1)\n",
        "])\n",
        "# Compile the model\n",
        "model.compile(loss=tf.keras.losses.mae, # mae is short for mean absolute error\n",
        "              optimizer=tf.keras.optimizers.SGD(), # SGD is short for stochastic gradient descent\n",
        "              metrics=[\"mae\"])\n",
        "\n",
        "# Fit the model\n",
        "# model.fit(X, y, epochs=5) # this will break with TensorFlow 2.7.0+\n",
        "model.fit(tf.expand_dims(X, axis=-1), y, epochs=5)"
      ],
      "metadata": {
        "id": "gTxqYoo0f9A8",
        "outputId": "40ea5f90-ee52-4402-b517-44f8c3cb2f28",
        "colab": {
          "base_uri": "https://localhost:8080/"
        }
      },
      "execution_count": 7,
      "outputs": [
        {
          "output_type": "stream",
          "name": "stdout",
          "text": [
            "Epoch 1/5\n",
            "1/1 [==============================] - 3s 3s/step - loss: 11.5048 - mae: 11.5048\n",
            "Epoch 2/5\n",
            "1/1 [==============================] - 0s 9ms/step - loss: 11.3723 - mae: 11.3723\n",
            "Epoch 3/5\n",
            "1/1 [==============================] - 0s 7ms/step - loss: 11.2398 - mae: 11.2398\n",
            "Epoch 4/5\n",
            "1/1 [==============================] - 0s 8ms/step - loss: 11.1073 - mae: 11.1073\n",
            "Epoch 5/5\n",
            "1/1 [==============================] - 0s 9ms/step - loss: 10.9748 - mae: 10.9748\n"
          ]
        },
        {
          "output_type": "execute_result",
          "data": {
            "text/plain": [
              "<keras.callbacks.History at 0x7fa1206904d0>"
            ]
          },
          "metadata": {},
          "execution_count": 7
        }
      ]
    },
    {
      "cell_type": "code",
      "source": [
        "# Check out X and y\n",
        "print(X, y)\n",
        "# Make a prediction with the model\n",
        "model.predict([17.0])"
      ],
      "metadata": {
        "id": "pDj_qSGcmA51",
        "outputId": "d127e3e1-63fc-4ee9-c68f-b4f82f178449",
        "colab": {
          "base_uri": "https://localhost:8080/"
        }
      },
      "execution_count": 8,
      "outputs": [
        {
          "output_type": "stream",
          "name": "stdout",
          "text": [
            "tf.Tensor([-7. -4. -1.  2.  5.  8. 11. 14.], shape=(8,), dtype=float64) tf.Tensor([ 3.  6.  9. 12. 15. 18. 21. 24.], shape=(8,), dtype=float64)\n"
          ]
        },
        {
          "output_type": "execute_result",
          "data": {
            "text/plain": [
              "array([[12.716021]], dtype=float32)"
            ]
          },
          "metadata": {},
          "execution_count": 8
        }
      ]
    },
    {
      "cell_type": "markdown",
      "source": [
        "## Imporving Model\n",
        "\n",
        "we can improve model at various stages\n",
        "\n",
        "1. while **creating a models**: \n",
        "  - we can add more layers, hidden layers, we can increase number of neurons in each layer.   \n",
        "  - within each layer change activation function.\n",
        "\n",
        "\n",
        "2. while **Compiling a model** - \n",
        "  - change optimization function \n",
        "  - change learmning rate of optimization function\n",
        "\n",
        "3. while **fitting the model**\n",
        "  - fit a model for more epochs (leave it training for longer) or on more data (give the model more examples to learn from).\n"
      ],
      "metadata": {
        "id": "nzKJVZU-nkEE"
      }
    },
    {
      "cell_type": "markdown",
      "source": [
        "![various options you can use to improve a neural network model](https://raw.githubusercontent.com/mrdbourke/tensorflow-deep-learning/main/images/02-improving-a-model-from-model-perspective.png)\n",
        "*There are many different ways to potentially improve a neural network. Some of the most common include: increasing the number of layers (making the network deeper), increasing the number of hidden units (making the network wider) and changing the learning rate. Because these values are all human-changeable, they're referred to as [hyperparameters](https://en.wikipedia.org/wiki/Hyperparameter_(machine_learning)) and the practice of trying to find the best hyperparameters is referred to as [hyperparameter tuning](https://en.wikipedia.org/wiki/Hyperparameter_optimization).*"
      ],
      "metadata": {
        "id": "AvQ3MjvKpg1U"
      }
    },
    {
      "cell_type": "code",
      "source": [
        "tf.random.set_seed(42)\n",
        "\n",
        "# 1. Create model\n",
        "model = tf.keras.Sequential([\n",
        "  tf.keras.layers.Dense(1)\n",
        "])\n",
        "# Compile the model\n",
        "model.compile(loss=tf.keras.losses.mae, # mae is short for mean absolute error\n",
        "              optimizer=tf.keras.optimizers.SGD(), # SGD is short for stochastic gradient descent\n",
        "              metrics=[\"mae\"])\n",
        "\n",
        "# Fit the model\n",
        "# model.fit(X, y, epochs=5) # this will break with TensorFlow 2.7.0+\n",
        "model.fit(tf.expand_dims(X, axis=-1), y, epochs=100)"
      ],
      "metadata": {
        "id": "JE9p61tDmFp8",
        "outputId": "bb01f954-d811-435f-db81-2bdf4708dd15",
        "colab": {
          "base_uri": "https://localhost:8080/"
        }
      },
      "execution_count": 9,
      "outputs": [
        {
          "output_type": "stream",
          "name": "stdout",
          "text": [
            "Epoch 1/100\n",
            "1/1 [==============================] - 0s 254ms/step - loss: 11.5048 - mae: 11.5048\n",
            "Epoch 2/100\n",
            "1/1 [==============================] - 0s 8ms/step - loss: 11.3723 - mae: 11.3723\n",
            "Epoch 3/100\n",
            "1/1 [==============================] - 0s 11ms/step - loss: 11.2398 - mae: 11.2398\n",
            "Epoch 4/100\n",
            "1/1 [==============================] - 0s 10ms/step - loss: 11.1073 - mae: 11.1073\n",
            "Epoch 5/100\n",
            "1/1 [==============================] - 0s 10ms/step - loss: 10.9748 - mae: 10.9748\n",
            "Epoch 6/100\n",
            "1/1 [==============================] - 0s 10ms/step - loss: 10.8423 - mae: 10.8423\n",
            "Epoch 7/100\n",
            "1/1 [==============================] - 0s 10ms/step - loss: 10.7098 - mae: 10.7098\n",
            "Epoch 8/100\n",
            "1/1 [==============================] - 0s 8ms/step - loss: 10.5773 - mae: 10.5773\n",
            "Epoch 9/100\n",
            "1/1 [==============================] - 0s 9ms/step - loss: 10.4448 - mae: 10.4448\n",
            "Epoch 10/100\n",
            "1/1 [==============================] - 0s 7ms/step - loss: 10.3123 - mae: 10.3123\n",
            "Epoch 11/100\n",
            "1/1 [==============================] - 0s 11ms/step - loss: 10.1798 - mae: 10.1798\n",
            "Epoch 12/100\n",
            "1/1 [==============================] - 0s 14ms/step - loss: 10.0473 - mae: 10.0473\n",
            "Epoch 13/100\n",
            "1/1 [==============================] - 0s 13ms/step - loss: 9.9148 - mae: 9.9148\n",
            "Epoch 14/100\n",
            "1/1 [==============================] - 0s 10ms/step - loss: 9.7823 - mae: 9.7823\n",
            "Epoch 15/100\n",
            "1/1 [==============================] - 0s 12ms/step - loss: 9.6498 - mae: 9.6498\n",
            "Epoch 16/100\n",
            "1/1 [==============================] - 0s 7ms/step - loss: 9.5173 - mae: 9.5173\n",
            "Epoch 17/100\n",
            "1/1 [==============================] - 0s 15ms/step - loss: 9.3848 - mae: 9.3848\n",
            "Epoch 18/100\n",
            "1/1 [==============================] - 0s 10ms/step - loss: 9.2523 - mae: 9.2523\n",
            "Epoch 19/100\n",
            "1/1 [==============================] - 0s 8ms/step - loss: 9.1198 - mae: 9.1198\n",
            "Epoch 20/100\n",
            "1/1 [==============================] - 0s 12ms/step - loss: 8.9873 - mae: 8.9873\n",
            "Epoch 21/100\n",
            "1/1 [==============================] - 0s 8ms/step - loss: 8.8548 - mae: 8.8548\n",
            "Epoch 22/100\n",
            "1/1 [==============================] - 0s 15ms/step - loss: 8.7223 - mae: 8.7223\n",
            "Epoch 23/100\n",
            "1/1 [==============================] - 0s 8ms/step - loss: 8.5898 - mae: 8.5898\n",
            "Epoch 24/100\n",
            "1/1 [==============================] - 0s 9ms/step - loss: 8.4573 - mae: 8.4573\n",
            "Epoch 25/100\n",
            "1/1 [==============================] - 0s 11ms/step - loss: 8.3248 - mae: 8.3248\n",
            "Epoch 26/100\n",
            "1/1 [==============================] - 0s 10ms/step - loss: 8.1923 - mae: 8.1923\n",
            "Epoch 27/100\n",
            "1/1 [==============================] - 0s 10ms/step - loss: 8.0598 - mae: 8.0598\n",
            "Epoch 28/100\n",
            "1/1 [==============================] - 0s 7ms/step - loss: 7.9273 - mae: 7.9273\n",
            "Epoch 29/100\n",
            "1/1 [==============================] - 0s 12ms/step - loss: 7.7948 - mae: 7.7948\n",
            "Epoch 30/100\n",
            "1/1 [==============================] - 0s 8ms/step - loss: 7.6623 - mae: 7.6623\n",
            "Epoch 31/100\n",
            "1/1 [==============================] - 0s 12ms/step - loss: 7.5298 - mae: 7.5298\n",
            "Epoch 32/100\n",
            "1/1 [==============================] - 0s 10ms/step - loss: 7.3973 - mae: 7.3973\n",
            "Epoch 33/100\n",
            "1/1 [==============================] - 0s 9ms/step - loss: 7.2648 - mae: 7.2648\n",
            "Epoch 34/100\n",
            "1/1 [==============================] - 0s 9ms/step - loss: 7.2525 - mae: 7.2525\n",
            "Epoch 35/100\n",
            "1/1 [==============================] - 0s 10ms/step - loss: 7.2469 - mae: 7.2469\n",
            "Epoch 36/100\n",
            "1/1 [==============================] - 0s 11ms/step - loss: 7.2413 - mae: 7.2413\n",
            "Epoch 37/100\n",
            "1/1 [==============================] - 0s 10ms/step - loss: 7.2356 - mae: 7.2356\n",
            "Epoch 38/100\n",
            "1/1 [==============================] - 0s 10ms/step - loss: 7.2300 - mae: 7.2300\n",
            "Epoch 39/100\n",
            "1/1 [==============================] - 0s 11ms/step - loss: 7.2244 - mae: 7.2244\n",
            "Epoch 40/100\n",
            "1/1 [==============================] - 0s 11ms/step - loss: 7.2188 - mae: 7.2188\n",
            "Epoch 41/100\n",
            "1/1 [==============================] - 0s 9ms/step - loss: 7.2131 - mae: 7.2131\n",
            "Epoch 42/100\n",
            "1/1 [==============================] - 0s 12ms/step - loss: 7.2075 - mae: 7.2075\n",
            "Epoch 43/100\n",
            "1/1 [==============================] - 0s 11ms/step - loss: 7.2019 - mae: 7.2019\n",
            "Epoch 44/100\n",
            "1/1 [==============================] - 0s 8ms/step - loss: 7.1962 - mae: 7.1962\n",
            "Epoch 45/100\n",
            "1/1 [==============================] - 0s 10ms/step - loss: 7.1906 - mae: 7.1906\n",
            "Epoch 46/100\n",
            "1/1 [==============================] - 0s 10ms/step - loss: 7.1850 - mae: 7.1850\n",
            "Epoch 47/100\n",
            "1/1 [==============================] - 0s 12ms/step - loss: 7.1794 - mae: 7.1794\n",
            "Epoch 48/100\n",
            "1/1 [==============================] - 0s 8ms/step - loss: 7.1738 - mae: 7.1738\n",
            "Epoch 49/100\n",
            "1/1 [==============================] - 0s 9ms/step - loss: 7.1681 - mae: 7.1681\n",
            "Epoch 50/100\n",
            "1/1 [==============================] - 0s 12ms/step - loss: 7.1625 - mae: 7.1625\n",
            "Epoch 51/100\n",
            "1/1 [==============================] - 0s 11ms/step - loss: 7.1569 - mae: 7.1569\n",
            "Epoch 52/100\n",
            "1/1 [==============================] - 0s 9ms/step - loss: 7.1512 - mae: 7.1512\n",
            "Epoch 53/100\n",
            "1/1 [==============================] - 0s 13ms/step - loss: 7.1456 - mae: 7.1456\n",
            "Epoch 54/100\n",
            "1/1 [==============================] - 0s 16ms/step - loss: 7.1400 - mae: 7.1400\n",
            "Epoch 55/100\n",
            "1/1 [==============================] - 0s 16ms/step - loss: 7.1344 - mae: 7.1344\n",
            "Epoch 56/100\n",
            "1/1 [==============================] - 0s 11ms/step - loss: 7.1287 - mae: 7.1287\n",
            "Epoch 57/100\n",
            "1/1 [==============================] - 0s 13ms/step - loss: 7.1231 - mae: 7.1231\n",
            "Epoch 58/100\n",
            "1/1 [==============================] - 0s 11ms/step - loss: 7.1175 - mae: 7.1175\n",
            "Epoch 59/100\n",
            "1/1 [==============================] - 0s 10ms/step - loss: 7.1119 - mae: 7.1119\n",
            "Epoch 60/100\n",
            "1/1 [==============================] - 0s 10ms/step - loss: 7.1063 - mae: 7.1063\n",
            "Epoch 61/100\n",
            "1/1 [==============================] - 0s 10ms/step - loss: 7.1006 - mae: 7.1006\n",
            "Epoch 62/100\n",
            "1/1 [==============================] - 0s 13ms/step - loss: 7.0950 - mae: 7.0950\n",
            "Epoch 63/100\n",
            "1/1 [==============================] - 0s 8ms/step - loss: 7.0894 - mae: 7.0894\n",
            "Epoch 64/100\n",
            "1/1 [==============================] - 0s 10ms/step - loss: 7.0838 - mae: 7.0838\n",
            "Epoch 65/100\n",
            "1/1 [==============================] - 0s 9ms/step - loss: 7.0781 - mae: 7.0781\n",
            "Epoch 66/100\n",
            "1/1 [==============================] - 0s 10ms/step - loss: 7.0725 - mae: 7.0725\n",
            "Epoch 67/100\n",
            "1/1 [==============================] - 0s 9ms/step - loss: 7.0669 - mae: 7.0669\n",
            "Epoch 68/100\n",
            "1/1 [==============================] - 0s 10ms/step - loss: 7.0613 - mae: 7.0613\n",
            "Epoch 69/100\n",
            "1/1 [==============================] - 0s 8ms/step - loss: 7.0556 - mae: 7.0556\n",
            "Epoch 70/100\n",
            "1/1 [==============================] - 0s 8ms/step - loss: 7.0500 - mae: 7.0500\n",
            "Epoch 71/100\n",
            "1/1 [==============================] - 0s 7ms/step - loss: 7.0444 - mae: 7.0444\n",
            "Epoch 72/100\n",
            "1/1 [==============================] - 0s 11ms/step - loss: 7.0388 - mae: 7.0388\n",
            "Epoch 73/100\n",
            "1/1 [==============================] - 0s 12ms/step - loss: 7.0331 - mae: 7.0331\n",
            "Epoch 74/100\n",
            "1/1 [==============================] - 0s 7ms/step - loss: 7.0275 - mae: 7.0275\n",
            "Epoch 75/100\n",
            "1/1 [==============================] - 0s 10ms/step - loss: 7.0219 - mae: 7.0219\n",
            "Epoch 76/100\n",
            "1/1 [==============================] - 0s 9ms/step - loss: 7.0163 - mae: 7.0163\n",
            "Epoch 77/100\n",
            "1/1 [==============================] - 0s 7ms/step - loss: 7.0106 - mae: 7.0106\n",
            "Epoch 78/100\n",
            "1/1 [==============================] - 0s 7ms/step - loss: 7.0050 - mae: 7.0050\n",
            "Epoch 79/100\n",
            "1/1 [==============================] - 0s 7ms/step - loss: 6.9994 - mae: 6.9994\n",
            "Epoch 80/100\n",
            "1/1 [==============================] - 0s 8ms/step - loss: 6.9938 - mae: 6.9938\n",
            "Epoch 81/100\n",
            "1/1 [==============================] - 0s 7ms/step - loss: 6.9881 - mae: 6.9881\n",
            "Epoch 82/100\n",
            "1/1 [==============================] - 0s 8ms/step - loss: 6.9825 - mae: 6.9825\n",
            "Epoch 83/100\n",
            "1/1 [==============================] - 0s 10ms/step - loss: 6.9769 - mae: 6.9769\n",
            "Epoch 84/100\n",
            "1/1 [==============================] - 0s 9ms/step - loss: 6.9713 - mae: 6.9713\n",
            "Epoch 85/100\n",
            "1/1 [==============================] - 0s 10ms/step - loss: 6.9656 - mae: 6.9656\n",
            "Epoch 86/100\n",
            "1/1 [==============================] - 0s 8ms/step - loss: 6.9600 - mae: 6.9600\n",
            "Epoch 87/100\n",
            "1/1 [==============================] - 0s 9ms/step - loss: 6.9544 - mae: 6.9544\n",
            "Epoch 88/100\n",
            "1/1 [==============================] - 0s 9ms/step - loss: 6.9488 - mae: 6.9488\n",
            "Epoch 89/100\n",
            "1/1 [==============================] - 0s 8ms/step - loss: 6.9431 - mae: 6.9431\n",
            "Epoch 90/100\n",
            "1/1 [==============================] - 0s 14ms/step - loss: 6.9375 - mae: 6.9375\n",
            "Epoch 91/100\n",
            "1/1 [==============================] - 0s 8ms/step - loss: 6.9319 - mae: 6.9319\n",
            "Epoch 92/100\n",
            "1/1 [==============================] - 0s 12ms/step - loss: 6.9263 - mae: 6.9263\n",
            "Epoch 93/100\n",
            "1/1 [==============================] - 0s 14ms/step - loss: 6.9206 - mae: 6.9206\n",
            "Epoch 94/100\n",
            "1/1 [==============================] - 0s 10ms/step - loss: 6.9150 - mae: 6.9150\n",
            "Epoch 95/100\n",
            "1/1 [==============================] - 0s 9ms/step - loss: 6.9094 - mae: 6.9094\n",
            "Epoch 96/100\n",
            "1/1 [==============================] - 0s 7ms/step - loss: 6.9038 - mae: 6.9038\n",
            "Epoch 97/100\n",
            "1/1 [==============================] - 0s 9ms/step - loss: 6.8981 - mae: 6.8981\n",
            "Epoch 98/100\n",
            "1/1 [==============================] - 0s 7ms/step - loss: 6.8925 - mae: 6.8925\n",
            "Epoch 99/100\n",
            "1/1 [==============================] - 0s 10ms/step - loss: 6.8869 - mae: 6.8869\n",
            "Epoch 100/100\n",
            "1/1 [==============================] - 0s 8ms/step - loss: 6.8813 - mae: 6.8813\n"
          ]
        },
        {
          "output_type": "execute_result",
          "data": {
            "text/plain": [
              "<keras.callbacks.History at 0x7fa12056ac90>"
            ]
          },
          "metadata": {},
          "execution_count": 9
        }
      ]
    },
    {
      "cell_type": "code",
      "source": [
        "X,y"
      ],
      "metadata": {
        "id": "umzOd6rIq7Q_",
        "outputId": "80c3d0d9-6434-4112-fd23-cf29657435ac",
        "colab": {
          "base_uri": "https://localhost:8080/"
        }
      },
      "execution_count": 10,
      "outputs": [
        {
          "output_type": "execute_result",
          "data": {
            "text/plain": [
              "(<tf.Tensor: shape=(8,), dtype=float64, numpy=array([-7., -4., -1.,  2.,  5.,  8., 11., 14.])>,\n",
              " <tf.Tensor: shape=(8,), dtype=float64, numpy=array([ 3.,  6.,  9., 12., 15., 18., 21., 24.])>)"
            ]
          },
          "metadata": {},
          "execution_count": 10
        }
      ]
    },
    {
      "cell_type": "code",
      "source": [
        "model.predict([17.0])"
      ],
      "metadata": {
        "id": "DyxeyCHcrgUJ",
        "outputId": "658af92c-11aa-4f28-9bef-d8f8bba653ed",
        "colab": {
          "base_uri": "https://localhost:8080/"
        }
      },
      "execution_count": 11,
      "outputs": [
        {
          "output_type": "execute_result",
          "data": {
            "text/plain": [
              "array([[30.158512]], dtype=float32)"
            ]
          },
          "metadata": {},
          "execution_count": 11
        }
      ]
    },
    {
      "cell_type": "code",
      "source": [
        "# 1. Create model\n",
        "model = tf.keras.Sequential([\n",
        "  tf.keras.layers.Dense(100, activation=None),\n",
        "  #tf.keras.layers.Dense(100, activation=\"relu\"),\n",
        "  #tf.keras.layers.Dense(100, activation=\"relu\"),\n",
        "  tf.keras.layers.Dense(1)\n",
        "])\n",
        "# Compile the model\n",
        "model.compile(loss=tf.keras.losses.mae, # mae is short for mean absolute error\n",
        "              optimizer=tf.keras.optimizers.SGD(), # SGD is short for stochastic gradient descent\n",
        "              metrics=[\"mae\"])\n",
        "\n",
        "# Fit the model\n",
        "# model.fit(X, y, epochs=5) # this will break with TensorFlow 2.7.0+\n",
        "model.fit(tf.expand_dims(X, axis=-1), y, epochs=100)"
      ],
      "metadata": {
        "id": "eg3bkKUSrizF",
        "outputId": "57e4dbc3-e9d1-4c05-9883-cb6ba07c7bf7",
        "colab": {
          "base_uri": "https://localhost:8080/"
        }
      },
      "execution_count": 12,
      "outputs": [
        {
          "output_type": "stream",
          "name": "stdout",
          "text": [
            "Epoch 1/100\n",
            "1/1 [==============================] - 1s 692ms/step - loss: 14.6302 - mae: 14.6302\n",
            "Epoch 2/100\n",
            "1/1 [==============================] - 0s 13ms/step - loss: 14.1254 - mae: 14.1254\n",
            "Epoch 3/100\n",
            "1/1 [==============================] - 0s 14ms/step - loss: 13.6253 - mae: 13.6253\n",
            "Epoch 4/100\n",
            "1/1 [==============================] - 0s 14ms/step - loss: 13.1272 - mae: 13.1272\n",
            "Epoch 5/100\n",
            "1/1 [==============================] - 0s 20ms/step - loss: 12.6286 - mae: 12.6286\n",
            "Epoch 6/100\n",
            "1/1 [==============================] - 0s 18ms/step - loss: 12.1269 - mae: 12.1269\n",
            "Epoch 7/100\n",
            "1/1 [==============================] - 0s 11ms/step - loss: 11.6195 - mae: 11.6195\n",
            "Epoch 8/100\n",
            "1/1 [==============================] - 0s 10ms/step - loss: 11.1037 - mae: 11.1037\n",
            "Epoch 9/100\n",
            "1/1 [==============================] - 0s 16ms/step - loss: 10.5770 - mae: 10.5770\n",
            "Epoch 10/100\n",
            "1/1 [==============================] - 0s 7ms/step - loss: 10.0366 - mae: 10.0366\n",
            "Epoch 11/100\n",
            "1/1 [==============================] - 0s 8ms/step - loss: 9.4797 - mae: 9.4797\n",
            "Epoch 12/100\n",
            "1/1 [==============================] - 0s 6ms/step - loss: 8.9035 - mae: 8.9035\n",
            "Epoch 13/100\n",
            "1/1 [==============================] - 0s 6ms/step - loss: 8.3050 - mae: 8.3050\n",
            "Epoch 14/100\n",
            "1/1 [==============================] - 0s 9ms/step - loss: 7.6812 - mae: 7.6812\n",
            "Epoch 15/100\n",
            "1/1 [==============================] - 0s 13ms/step - loss: 7.1677 - mae: 7.1677\n",
            "Epoch 16/100\n",
            "1/1 [==============================] - 0s 8ms/step - loss: 7.1476 - mae: 7.1476\n",
            "Epoch 17/100\n",
            "1/1 [==============================] - 0s 14ms/step - loss: 7.1276 - mae: 7.1276\n",
            "Epoch 18/100\n",
            "1/1 [==============================] - 0s 9ms/step - loss: 7.1074 - mae: 7.1074\n",
            "Epoch 19/100\n",
            "1/1 [==============================] - 0s 13ms/step - loss: 7.0873 - mae: 7.0873\n",
            "Epoch 20/100\n",
            "1/1 [==============================] - 0s 11ms/step - loss: 7.0670 - mae: 7.0670\n",
            "Epoch 21/100\n",
            "1/1 [==============================] - 0s 20ms/step - loss: 7.0467 - mae: 7.0467\n",
            "Epoch 22/100\n",
            "1/1 [==============================] - 0s 6ms/step - loss: 7.0263 - mae: 7.0263\n",
            "Epoch 23/100\n",
            "1/1 [==============================] - 0s 14ms/step - loss: 7.0059 - mae: 7.0059\n",
            "Epoch 24/100\n",
            "1/1 [==============================] - 0s 7ms/step - loss: 6.9853 - mae: 6.9853\n",
            "Epoch 25/100\n",
            "1/1 [==============================] - 0s 6ms/step - loss: 6.9647 - mae: 6.9647\n",
            "Epoch 26/100\n",
            "1/1 [==============================] - 0s 14ms/step - loss: 6.9440 - mae: 6.9440\n",
            "Epoch 27/100\n",
            "1/1 [==============================] - 0s 12ms/step - loss: 6.9232 - mae: 6.9232\n",
            "Epoch 28/100\n",
            "1/1 [==============================] - 0s 17ms/step - loss: 6.9024 - mae: 6.9024\n",
            "Epoch 29/100\n",
            "1/1 [==============================] - 0s 11ms/step - loss: 6.8814 - mae: 6.8814\n",
            "Epoch 30/100\n",
            "1/1 [==============================] - 0s 11ms/step - loss: 6.8603 - mae: 6.8603\n",
            "Epoch 31/100\n",
            "1/1 [==============================] - 0s 14ms/step - loss: 6.8392 - mae: 6.8392\n",
            "Epoch 32/100\n",
            "1/1 [==============================] - 0s 11ms/step - loss: 6.8179 - mae: 6.8179\n",
            "Epoch 33/100\n",
            "1/1 [==============================] - 0s 12ms/step - loss: 6.7966 - mae: 6.7966\n",
            "Epoch 34/100\n",
            "1/1 [==============================] - 0s 13ms/step - loss: 6.7751 - mae: 6.7751\n",
            "Epoch 35/100\n",
            "1/1 [==============================] - 0s 11ms/step - loss: 6.7535 - mae: 6.7535\n",
            "Epoch 36/100\n",
            "1/1 [==============================] - 0s 12ms/step - loss: 6.7318 - mae: 6.7318\n",
            "Epoch 37/100\n",
            "1/1 [==============================] - 0s 11ms/step - loss: 6.7099 - mae: 6.7099\n",
            "Epoch 38/100\n",
            "1/1 [==============================] - 0s 18ms/step - loss: 6.6880 - mae: 6.6880\n",
            "Epoch 39/100\n",
            "1/1 [==============================] - 0s 7ms/step - loss: 6.6659 - mae: 6.6659\n",
            "Epoch 40/100\n",
            "1/1 [==============================] - 0s 7ms/step - loss: 6.6437 - mae: 6.6437\n",
            "Epoch 41/100\n",
            "1/1 [==============================] - 0s 6ms/step - loss: 6.6213 - mae: 6.6213\n",
            "Epoch 42/100\n",
            "1/1 [==============================] - 0s 6ms/step - loss: 6.5989 - mae: 6.5989\n",
            "Epoch 43/100\n",
            "1/1 [==============================] - 0s 6ms/step - loss: 6.5762 - mae: 6.5762\n",
            "Epoch 44/100\n",
            "1/1 [==============================] - 0s 6ms/step - loss: 6.5561 - mae: 6.5561\n",
            "Epoch 45/100\n",
            "1/1 [==============================] - 0s 10ms/step - loss: 6.5494 - mae: 6.5494\n",
            "Epoch 46/100\n",
            "1/1 [==============================] - 0s 10ms/step - loss: 6.5269 - mae: 6.5269\n",
            "Epoch 47/100\n",
            "1/1 [==============================] - 0s 9ms/step - loss: 6.5042 - mae: 6.5042\n",
            "Epoch 48/100\n",
            "1/1 [==============================] - 0s 11ms/step - loss: 6.4814 - mae: 6.4814\n",
            "Epoch 49/100\n",
            "1/1 [==============================] - 0s 11ms/step - loss: 6.4585 - mae: 6.4585\n",
            "Epoch 50/100\n",
            "1/1 [==============================] - 0s 6ms/step - loss: 6.4354 - mae: 6.4354\n",
            "Epoch 51/100\n",
            "1/1 [==============================] - 0s 7ms/step - loss: 6.4121 - mae: 6.4121\n",
            "Epoch 52/100\n",
            "1/1 [==============================] - 0s 7ms/step - loss: 6.3886 - mae: 6.3886\n",
            "Epoch 53/100\n",
            "1/1 [==============================] - 0s 8ms/step - loss: 6.3649 - mae: 6.3649\n",
            "Epoch 54/100\n",
            "1/1 [==============================] - 0s 8ms/step - loss: 6.3411 - mae: 6.3411\n",
            "Epoch 55/100\n",
            "1/1 [==============================] - 0s 7ms/step - loss: 6.3171 - mae: 6.3171\n",
            "Epoch 56/100\n",
            "1/1 [==============================] - 0s 7ms/step - loss: 6.2929 - mae: 6.2929\n",
            "Epoch 57/100\n",
            "1/1 [==============================] - 0s 7ms/step - loss: 6.2685 - mae: 6.2685\n",
            "Epoch 58/100\n",
            "1/1 [==============================] - 0s 11ms/step - loss: 6.2439 - mae: 6.2439\n",
            "Epoch 59/100\n",
            "1/1 [==============================] - 0s 11ms/step - loss: 6.2191 - mae: 6.2191\n",
            "Epoch 60/100\n",
            "1/1 [==============================] - 0s 11ms/step - loss: 6.1940 - mae: 6.1940\n",
            "Epoch 61/100\n",
            "1/1 [==============================] - 0s 14ms/step - loss: 6.1688 - mae: 6.1688\n",
            "Epoch 62/100\n",
            "1/1 [==============================] - 0s 10ms/step - loss: 6.1434 - mae: 6.1434\n",
            "Epoch 63/100\n",
            "1/1 [==============================] - 0s 12ms/step - loss: 6.1177 - mae: 6.1177\n",
            "Epoch 64/100\n",
            "1/1 [==============================] - 0s 11ms/step - loss: 6.0985 - mae: 6.0985\n",
            "Epoch 65/100\n",
            "1/1 [==============================] - 0s 25ms/step - loss: 6.0903 - mae: 6.0903\n",
            "Epoch 66/100\n",
            "1/1 [==============================] - 0s 12ms/step - loss: 6.0645 - mae: 6.0645\n",
            "Epoch 67/100\n",
            "1/1 [==============================] - 0s 11ms/step - loss: 6.0386 - mae: 6.0386\n",
            "Epoch 68/100\n",
            "1/1 [==============================] - 0s 12ms/step - loss: 6.0124 - mae: 6.0124\n",
            "Epoch 69/100\n",
            "1/1 [==============================] - 0s 14ms/step - loss: 5.9859 - mae: 5.9859\n",
            "Epoch 70/100\n",
            "1/1 [==============================] - 0s 16ms/step - loss: 5.9592 - mae: 5.9592\n",
            "Epoch 71/100\n",
            "1/1 [==============================] - 0s 13ms/step - loss: 5.9322 - mae: 5.9322\n",
            "Epoch 72/100\n",
            "1/1 [==============================] - 0s 10ms/step - loss: 5.9050 - mae: 5.9050\n",
            "Epoch 73/100\n",
            "1/1 [==============================] - 0s 12ms/step - loss: 5.8776 - mae: 5.8776\n",
            "Epoch 74/100\n",
            "1/1 [==============================] - 0s 13ms/step - loss: 5.8498 - mae: 5.8498\n",
            "Epoch 75/100\n",
            "1/1 [==============================] - 0s 10ms/step - loss: 5.8218 - mae: 5.8218\n",
            "Epoch 76/100\n",
            "1/1 [==============================] - 0s 13ms/step - loss: 5.7935 - mae: 5.7935\n",
            "Epoch 77/100\n",
            "1/1 [==============================] - 0s 12ms/step - loss: 5.7650 - mae: 5.7650\n",
            "Epoch 78/100\n",
            "1/1 [==============================] - 0s 12ms/step - loss: 5.7361 - mae: 5.7361\n",
            "Epoch 79/100\n",
            "1/1 [==============================] - 0s 11ms/step - loss: 5.7070 - mae: 5.7070\n",
            "Epoch 80/100\n",
            "1/1 [==============================] - 0s 13ms/step - loss: 5.6775 - mae: 5.6775\n",
            "Epoch 81/100\n",
            "1/1 [==============================] - 0s 33ms/step - loss: 5.6686 - mae: 5.6686\n",
            "Epoch 82/100\n",
            "1/1 [==============================] - 0s 16ms/step - loss: 5.6470 - mae: 5.6470\n",
            "Epoch 83/100\n",
            "1/1 [==============================] - 0s 11ms/step - loss: 5.6173 - mae: 5.6173\n",
            "Epoch 84/100\n",
            "1/1 [==============================] - 0s 10ms/step - loss: 5.5872 - mae: 5.5872\n",
            "Epoch 85/100\n",
            "1/1 [==============================] - 0s 10ms/step - loss: 5.5569 - mae: 5.5569\n",
            "Epoch 86/100\n",
            "1/1 [==============================] - 0s 16ms/step - loss: 5.5262 - mae: 5.5262\n",
            "Epoch 87/100\n",
            "1/1 [==============================] - 0s 8ms/step - loss: 5.4951 - mae: 5.4951\n",
            "Epoch 88/100\n",
            "1/1 [==============================] - 0s 6ms/step - loss: 5.4638 - mae: 5.4638\n",
            "Epoch 89/100\n",
            "1/1 [==============================] - 0s 9ms/step - loss: 5.4321 - mae: 5.4321\n",
            "Epoch 90/100\n",
            "1/1 [==============================] - 0s 8ms/step - loss: 5.4000 - mae: 5.4000\n",
            "Epoch 91/100\n",
            "1/1 [==============================] - 0s 18ms/step - loss: 5.3676 - mae: 5.3676\n",
            "Epoch 92/100\n",
            "1/1 [==============================] - 0s 15ms/step - loss: 5.3349 - mae: 5.3349\n",
            "Epoch 93/100\n",
            "1/1 [==============================] - 0s 12ms/step - loss: 5.3017 - mae: 5.3017\n",
            "Epoch 94/100\n",
            "1/1 [==============================] - 0s 12ms/step - loss: 5.2683 - mae: 5.2683\n",
            "Epoch 95/100\n",
            "1/1 [==============================] - 0s 12ms/step - loss: 5.2344 - mae: 5.2344\n",
            "Epoch 96/100\n",
            "1/1 [==============================] - 0s 12ms/step - loss: 5.2291 - mae: 5.2291\n",
            "Epoch 97/100\n",
            "1/1 [==============================] - 0s 11ms/step - loss: 5.2451 - mae: 5.2451\n",
            "Epoch 98/100\n",
            "1/1 [==============================] - 0s 10ms/step - loss: 5.3407 - mae: 5.3407\n",
            "Epoch 99/100\n",
            "1/1 [==============================] - 0s 10ms/step - loss: 5.1255 - mae: 5.1255\n",
            "Epoch 100/100\n",
            "1/1 [==============================] - 0s 10ms/step - loss: 5.0902 - mae: 5.0902\n"
          ]
        },
        {
          "output_type": "execute_result",
          "data": {
            "text/plain": [
              "<keras.callbacks.History at 0x7fa1202f7790>"
            ]
          },
          "metadata": {},
          "execution_count": 12
        }
      ]
    },
    {
      "cell_type": "code",
      "source": [
        "model.predict([17.0])"
      ],
      "metadata": {
        "id": "AAERdMblsJwF",
        "outputId": "bf0c4862-25f9-4894-d3bf-2ad509cb8dfb",
        "colab": {
          "base_uri": "https://localhost:8080/"
        }
      },
      "execution_count": 13,
      "outputs": [
        {
          "output_type": "execute_result",
          "data": {
            "text/plain": [
              "array([[29.664333]], dtype=float32)"
            ]
          },
          "metadata": {},
          "execution_count": 13
        }
      ]
    },
    {
      "cell_type": "code",
      "source": [
        "# 1. Create model\n",
        "model = tf.keras.Sequential([\n",
        "  tf.keras.layers.Dense(100, activation=\"relu\"),\n",
        "  tf.keras.layers.Dense(100, activation=\"relu\"),\n",
        "  tf.keras.layers.Dense(100, activation=\"relu\"),\n",
        "  tf.keras.layers.Dense(1)\n",
        "])\n",
        "# Compile the model\n",
        "model.compile(loss=tf.keras.losses.mae, # mae is short for mean absolute error\n",
        "              optimizer=tf.keras.optimizers.Adam(lr=0.0001), # SGD is short for stochastic gradient descent\n",
        "              metrics=[\"mae\"])\n",
        "\n",
        "# Fit the model\n",
        "# model.fit(X, y, epochs=5) # this will break with TensorFlow 2.7.0+\n",
        "model.fit(tf.expand_dims(X, axis=-1), y, epochs=100)"
      ],
      "metadata": {
        "id": "vRmTfwQvsShu",
        "outputId": "b47f1456-d9cb-4f54-e855-1daaf67c3e47",
        "colab": {
          "base_uri": "https://localhost:8080/"
        }
      },
      "execution_count": 14,
      "outputs": [
        {
          "output_type": "stream",
          "name": "stdout",
          "text": [
            "Epoch 1/100\n"
          ]
        },
        {
          "output_type": "stream",
          "name": "stderr",
          "text": [
            "/usr/local/lib/python3.7/dist-packages/keras/optimizer_v2/adam.py:105: UserWarning: The `lr` argument is deprecated, use `learning_rate` instead.\n",
            "  super(Adam, self).__init__(name, **kwargs)\n"
          ]
        },
        {
          "output_type": "stream",
          "name": "stdout",
          "text": [
            "1/1 [==============================] - 1s 1s/step - loss: 13.0060 - mae: 13.0060\n",
            "Epoch 2/100\n",
            "1/1 [==============================] - 0s 11ms/step - loss: 12.9709 - mae: 12.9709\n",
            "Epoch 3/100\n",
            "1/1 [==============================] - 0s 10ms/step - loss: 12.9357 - mae: 12.9357\n",
            "Epoch 4/100\n",
            "1/1 [==============================] - 0s 19ms/step - loss: 12.9006 - mae: 12.9006\n",
            "Epoch 5/100\n",
            "1/1 [==============================] - 0s 14ms/step - loss: 12.8674 - mae: 12.8674\n",
            "Epoch 6/100\n",
            "1/1 [==============================] - 0s 9ms/step - loss: 12.8345 - mae: 12.8345\n",
            "Epoch 7/100\n",
            "1/1 [==============================] - 0s 18ms/step - loss: 12.8017 - mae: 12.8017\n",
            "Epoch 8/100\n",
            "1/1 [==============================] - 0s 11ms/step - loss: 12.7690 - mae: 12.7690\n",
            "Epoch 9/100\n",
            "1/1 [==============================] - 0s 26ms/step - loss: 12.7366 - mae: 12.7366\n",
            "Epoch 10/100\n",
            "1/1 [==============================] - 0s 26ms/step - loss: 12.7044 - mae: 12.7044\n",
            "Epoch 11/100\n",
            "1/1 [==============================] - 0s 25ms/step - loss: 12.6722 - mae: 12.6722\n",
            "Epoch 12/100\n",
            "1/1 [==============================] - 0s 18ms/step - loss: 12.6401 - mae: 12.6401\n",
            "Epoch 13/100\n",
            "1/1 [==============================] - 0s 19ms/step - loss: 12.6080 - mae: 12.6080\n",
            "Epoch 14/100\n",
            "1/1 [==============================] - 0s 22ms/step - loss: 12.5758 - mae: 12.5758\n",
            "Epoch 15/100\n",
            "1/1 [==============================] - 0s 7ms/step - loss: 12.5434 - mae: 12.5434\n",
            "Epoch 16/100\n",
            "1/1 [==============================] - 0s 8ms/step - loss: 12.5111 - mae: 12.5111\n",
            "Epoch 17/100\n",
            "1/1 [==============================] - 0s 10ms/step - loss: 12.4787 - mae: 12.4787\n",
            "Epoch 18/100\n",
            "1/1 [==============================] - 0s 10ms/step - loss: 12.4460 - mae: 12.4460\n",
            "Epoch 19/100\n",
            "1/1 [==============================] - 0s 12ms/step - loss: 12.4132 - mae: 12.4132\n",
            "Epoch 20/100\n",
            "1/1 [==============================] - 0s 24ms/step - loss: 12.3804 - mae: 12.3804\n",
            "Epoch 21/100\n",
            "1/1 [==============================] - 0s 12ms/step - loss: 12.3475 - mae: 12.3475\n",
            "Epoch 22/100\n",
            "1/1 [==============================] - 0s 11ms/step - loss: 12.3143 - mae: 12.3143\n",
            "Epoch 23/100\n",
            "1/1 [==============================] - 0s 10ms/step - loss: 12.2811 - mae: 12.2811\n",
            "Epoch 24/100\n",
            "1/1 [==============================] - 0s 9ms/step - loss: 12.2478 - mae: 12.2478\n",
            "Epoch 25/100\n",
            "1/1 [==============================] - 0s 11ms/step - loss: 12.2144 - mae: 12.2144\n",
            "Epoch 26/100\n",
            "1/1 [==============================] - 0s 20ms/step - loss: 12.1809 - mae: 12.1809\n",
            "Epoch 27/100\n",
            "1/1 [==============================] - 0s 15ms/step - loss: 12.1473 - mae: 12.1473\n",
            "Epoch 28/100\n",
            "1/1 [==============================] - 0s 22ms/step - loss: 12.1136 - mae: 12.1136\n",
            "Epoch 29/100\n",
            "1/1 [==============================] - 0s 32ms/step - loss: 12.0796 - mae: 12.0796\n",
            "Epoch 30/100\n",
            "1/1 [==============================] - 0s 27ms/step - loss: 12.0455 - mae: 12.0455\n",
            "Epoch 31/100\n",
            "1/1 [==============================] - 0s 12ms/step - loss: 12.0113 - mae: 12.0113\n",
            "Epoch 32/100\n",
            "1/1 [==============================] - 0s 21ms/step - loss: 11.9766 - mae: 11.9766\n",
            "Epoch 33/100\n",
            "1/1 [==============================] - 0s 11ms/step - loss: 11.9421 - mae: 11.9421\n",
            "Epoch 34/100\n",
            "1/1 [==============================] - 0s 11ms/step - loss: 11.9080 - mae: 11.9080\n",
            "Epoch 35/100\n",
            "1/1 [==============================] - 0s 17ms/step - loss: 11.8736 - mae: 11.8736\n",
            "Epoch 36/100\n",
            "1/1 [==============================] - 0s 18ms/step - loss: 11.8390 - mae: 11.8390\n",
            "Epoch 37/100\n",
            "1/1 [==============================] - 0s 14ms/step - loss: 11.8042 - mae: 11.8042\n",
            "Epoch 38/100\n",
            "1/1 [==============================] - 0s 11ms/step - loss: 11.7690 - mae: 11.7690\n",
            "Epoch 39/100\n",
            "1/1 [==============================] - 0s 16ms/step - loss: 11.7335 - mae: 11.7335\n",
            "Epoch 40/100\n",
            "1/1 [==============================] - 0s 27ms/step - loss: 11.6977 - mae: 11.6977\n",
            "Epoch 41/100\n",
            "1/1 [==============================] - 0s 21ms/step - loss: 11.6617 - mae: 11.6617\n",
            "Epoch 42/100\n",
            "1/1 [==============================] - 0s 18ms/step - loss: 11.6255 - mae: 11.6255\n",
            "Epoch 43/100\n",
            "1/1 [==============================] - 0s 15ms/step - loss: 11.5890 - mae: 11.5890\n",
            "Epoch 44/100\n",
            "1/1 [==============================] - 0s 23ms/step - loss: 11.5523 - mae: 11.5523\n",
            "Epoch 45/100\n",
            "1/1 [==============================] - 0s 23ms/step - loss: 11.5156 - mae: 11.5156\n",
            "Epoch 46/100\n",
            "1/1 [==============================] - 0s 20ms/step - loss: 11.4786 - mae: 11.4786\n",
            "Epoch 47/100\n",
            "1/1 [==============================] - 0s 29ms/step - loss: 11.4412 - mae: 11.4412\n",
            "Epoch 48/100\n",
            "1/1 [==============================] - 0s 32ms/step - loss: 11.4035 - mae: 11.4035\n",
            "Epoch 49/100\n",
            "1/1 [==============================] - 0s 13ms/step - loss: 11.3657 - mae: 11.3657\n",
            "Epoch 50/100\n",
            "1/1 [==============================] - 0s 22ms/step - loss: 11.3278 - mae: 11.3278\n",
            "Epoch 51/100\n",
            "1/1 [==============================] - 0s 22ms/step - loss: 11.2899 - mae: 11.2899\n",
            "Epoch 52/100\n",
            "1/1 [==============================] - 0s 14ms/step - loss: 11.2516 - mae: 11.2516\n",
            "Epoch 53/100\n",
            "1/1 [==============================] - 0s 16ms/step - loss: 11.2128 - mae: 11.2128\n",
            "Epoch 54/100\n",
            "1/1 [==============================] - 0s 27ms/step - loss: 11.1741 - mae: 11.1741\n",
            "Epoch 55/100\n",
            "1/1 [==============================] - 0s 13ms/step - loss: 11.1352 - mae: 11.1352\n",
            "Epoch 56/100\n",
            "1/1 [==============================] - 0s 13ms/step - loss: 11.0960 - mae: 11.0960\n",
            "Epoch 57/100\n",
            "1/1 [==============================] - 0s 23ms/step - loss: 11.0565 - mae: 11.0565\n",
            "Epoch 58/100\n",
            "1/1 [==============================] - 0s 11ms/step - loss: 11.0169 - mae: 11.0169\n",
            "Epoch 59/100\n",
            "1/1 [==============================] - 0s 18ms/step - loss: 10.9771 - mae: 10.9771\n",
            "Epoch 60/100\n",
            "1/1 [==============================] - 0s 12ms/step - loss: 10.9367 - mae: 10.9367\n",
            "Epoch 61/100\n",
            "1/1 [==============================] - 0s 15ms/step - loss: 10.8961 - mae: 10.8961\n",
            "Epoch 62/100\n",
            "1/1 [==============================] - 0s 12ms/step - loss: 10.8550 - mae: 10.8550\n",
            "Epoch 63/100\n",
            "1/1 [==============================] - 0s 15ms/step - loss: 10.8128 - mae: 10.8128\n",
            "Epoch 64/100\n",
            "1/1 [==============================] - 0s 14ms/step - loss: 10.7700 - mae: 10.7700\n",
            "Epoch 65/100\n",
            "1/1 [==============================] - 0s 20ms/step - loss: 10.7270 - mae: 10.7270\n",
            "Epoch 66/100\n",
            "1/1 [==============================] - 0s 15ms/step - loss: 10.6833 - mae: 10.6833\n",
            "Epoch 67/100\n",
            "1/1 [==============================] - 0s 13ms/step - loss: 10.6394 - mae: 10.6394\n",
            "Epoch 68/100\n",
            "1/1 [==============================] - 0s 20ms/step - loss: 10.5950 - mae: 10.5950\n",
            "Epoch 69/100\n",
            "1/1 [==============================] - 0s 19ms/step - loss: 10.5500 - mae: 10.5500\n",
            "Epoch 70/100\n",
            "1/1 [==============================] - 0s 14ms/step - loss: 10.5045 - mae: 10.5045\n",
            "Epoch 71/100\n",
            "1/1 [==============================] - 0s 15ms/step - loss: 10.4585 - mae: 10.4585\n",
            "Epoch 72/100\n",
            "1/1 [==============================] - 0s 19ms/step - loss: 10.4119 - mae: 10.4119\n",
            "Epoch 73/100\n",
            "1/1 [==============================] - 0s 21ms/step - loss: 10.3651 - mae: 10.3651\n",
            "Epoch 74/100\n",
            "1/1 [==============================] - 0s 12ms/step - loss: 10.3178 - mae: 10.3178\n",
            "Epoch 75/100\n",
            "1/1 [==============================] - 0s 10ms/step - loss: 10.2700 - mae: 10.2700\n",
            "Epoch 76/100\n",
            "1/1 [==============================] - 0s 8ms/step - loss: 10.2219 - mae: 10.2219\n",
            "Epoch 77/100\n",
            "1/1 [==============================] - 0s 15ms/step - loss: 10.1733 - mae: 10.1733\n",
            "Epoch 78/100\n",
            "1/1 [==============================] - 0s 15ms/step - loss: 10.1241 - mae: 10.1241\n",
            "Epoch 79/100\n",
            "1/1 [==============================] - 0s 20ms/step - loss: 10.0744 - mae: 10.0744\n",
            "Epoch 80/100\n",
            "1/1 [==============================] - 0s 15ms/step - loss: 10.0242 - mae: 10.0242\n",
            "Epoch 81/100\n",
            "1/1 [==============================] - 0s 10ms/step - loss: 9.9792 - mae: 9.9792\n",
            "Epoch 82/100\n",
            "1/1 [==============================] - 0s 12ms/step - loss: 9.9382 - mae: 9.9382\n",
            "Epoch 83/100\n",
            "1/1 [==============================] - 0s 8ms/step - loss: 9.8966 - mae: 9.8966\n",
            "Epoch 84/100\n",
            "1/1 [==============================] - 0s 8ms/step - loss: 9.8545 - mae: 9.8545\n",
            "Epoch 85/100\n",
            "1/1 [==============================] - 0s 12ms/step - loss: 9.8120 - mae: 9.8120\n",
            "Epoch 86/100\n",
            "1/1 [==============================] - 0s 12ms/step - loss: 9.7691 - mae: 9.7691\n",
            "Epoch 87/100\n",
            "1/1 [==============================] - 0s 10ms/step - loss: 9.7263 - mae: 9.7263\n",
            "Epoch 88/100\n",
            "1/1 [==============================] - 0s 17ms/step - loss: 9.6834 - mae: 9.6834\n",
            "Epoch 89/100\n",
            "1/1 [==============================] - 0s 10ms/step - loss: 9.6403 - mae: 9.6403\n",
            "Epoch 90/100\n",
            "1/1 [==============================] - 0s 10ms/step - loss: 9.5970 - mae: 9.5970\n",
            "Epoch 91/100\n",
            "1/1 [==============================] - 0s 10ms/step - loss: 9.5536 - mae: 9.5536\n",
            "Epoch 92/100\n",
            "1/1 [==============================] - 0s 12ms/step - loss: 9.5102 - mae: 9.5102\n",
            "Epoch 93/100\n",
            "1/1 [==============================] - 0s 11ms/step - loss: 9.4664 - mae: 9.4664\n",
            "Epoch 94/100\n",
            "1/1 [==============================] - 0s 11ms/step - loss: 9.4222 - mae: 9.4222\n",
            "Epoch 95/100\n",
            "1/1 [==============================] - 0s 11ms/step - loss: 9.3780 - mae: 9.3780\n",
            "Epoch 96/100\n",
            "1/1 [==============================] - 0s 11ms/step - loss: 9.3334 - mae: 9.3334\n",
            "Epoch 97/100\n",
            "1/1 [==============================] - 0s 16ms/step - loss: 9.2883 - mae: 9.2883\n",
            "Epoch 98/100\n",
            "1/1 [==============================] - 0s 8ms/step - loss: 9.2429 - mae: 9.2429\n",
            "Epoch 99/100\n",
            "1/1 [==============================] - 0s 13ms/step - loss: 9.1973 - mae: 9.1973\n",
            "Epoch 100/100\n",
            "1/1 [==============================] - 0s 24ms/step - loss: 9.1512 - mae: 9.1512\n"
          ]
        },
        {
          "output_type": "execute_result",
          "data": {
            "text/plain": [
              "<keras.callbacks.History at 0x7fa120190550>"
            ]
          },
          "metadata": {},
          "execution_count": 14
        }
      ]
    },
    {
      "cell_type": "code",
      "source": [
        "model.predict([17.0])"
      ],
      "metadata": {
        "id": "-Dot4mfcuq77",
        "outputId": "2076cc03-11d5-4e76-8175-e9f700375900",
        "colab": {
          "base_uri": "https://localhost:8080/"
        }
      },
      "execution_count": 15,
      "outputs": [
        {
          "output_type": "execute_result",
          "data": {
            "text/plain": [
              "array([[12.539059]], dtype=float32)"
            ]
          },
          "metadata": {},
          "execution_count": 15
        }
      ]
    },
    {
      "cell_type": "markdown",
      "source": [
        "## Evaluating a model \n",
        "\n",
        "A typical workflow you'll go through when building neural networks is:\n",
        "\n",
        "```\n",
        "Build a model -> evaluate it -> build (tweak) a model -> evaulate it -> build (tweak) a model -> evaluate it...\n",
        "```\n",
        "\n",
        "The tweaking comes from maybe not building a model from scratch but adjusting an existing one.\n",
        "\n",
        "### Visualize, visualize, visualize\n",
        "\n",
        "When it comes to evaluation, you'll want to remember the words: \"visualize, visualize, visualize.\" \n",
        "\n",
        "This is because you're probably better looking at something (doing) than you are thinking about something.\n",
        "\n",
        "It's a good idea to visualize:\n",
        "* **The data** - what data are you working with? What does it look like?\n",
        "* **The model itself** - what does the architecture look like? What are the different shapes?\n",
        "* **The training of a model** - how does a model perform while it learns?\n",
        "* **The predictions of a model** - how do the predictions of a model line up against the ground truth (the original labels)?\n",
        "\n",
        "Let's start by visualizing the model.\n",
        "\n",
        "\n"
      ],
      "metadata": {
        "id": "KqLMf7JuLpem"
      }
    },
    {
      "cell_type": "code",
      "source": [
        "# Make a bigger dataset\n",
        "X = np.arange(-100, 100, 4)\n",
        "\n",
        "y = X + 10\n",
        "X, y"
      ],
      "metadata": {
        "id": "xQxbcUqFuunD",
        "outputId": "027890a5-9ec0-4036-b802-17a5f01c2832",
        "colab": {
          "base_uri": "https://localhost:8080/"
        }
      },
      "execution_count": 16,
      "outputs": [
        {
          "output_type": "execute_result",
          "data": {
            "text/plain": [
              "(array([-100,  -96,  -92,  -88,  -84,  -80,  -76,  -72,  -68,  -64,  -60,\n",
              "         -56,  -52,  -48,  -44,  -40,  -36,  -32,  -28,  -24,  -20,  -16,\n",
              "         -12,   -8,   -4,    0,    4,    8,   12,   16,   20,   24,   28,\n",
              "          32,   36,   40,   44,   48,   52,   56,   60,   64,   68,   72,\n",
              "          76,   80,   84,   88,   92,   96]),\n",
              " array([-90, -86, -82, -78, -74, -70, -66, -62, -58, -54, -50, -46, -42,\n",
              "        -38, -34, -30, -26, -22, -18, -14, -10,  -6,  -2,   2,   6,  10,\n",
              "         14,  18,  22,  26,  30,  34,  38,  42,  46,  50,  54,  58,  62,\n",
              "         66,  70,  74,  78,  82,  86,  90,  94,  98, 102, 106]))"
            ]
          },
          "metadata": {},
          "execution_count": 16
        }
      ]
    },
    {
      "cell_type": "code",
      "source": [
        "plt.figure(figsize=(10, 7))\n",
        "# Plot training data in blue\n",
        "plt.scatter(X, y, c='b', label='full data')\n",
        "\n",
        "plt.legend();"
      ],
      "metadata": {
        "id": "Gui6BcwiMsnu",
        "outputId": "ca83f586-a14d-421b-e382-29494cb9f90f",
        "colab": {
          "base_uri": "https://localhost:8080/",
          "height": 0
        }
      },
      "execution_count": 17,
      "outputs": [
        {
          "output_type": "display_data",
          "data": {
            "text/plain": [
              "<Figure size 720x504 with 1 Axes>"
            ],
            "image/png": "[encoded data removed]"
          },
          "metadata": {
            "needs_background": "light"
          }
        }
      ]
    },
    {
      "cell_type": "markdown",
      "source": [
        "## Split data into training/test set\n",
        "\n",
        "One of the other most common and important steps in a machine learning project is creating a training and test set (and when required, a validation set).\n",
        "\n",
        "Each set serves a specific purpose:\n",
        "* **Training set** - the model learns from this data, which is typically 70-80% of the total data available (like the course materials you study during the semester).\n",
        "* **Validation set** - the model gets tuned on this data, which is typically 10-15% of the total data available (like the practice exam you take before the final exam).\n",
        "* **Test set** - the model gets evaluated on this data to test what it has learned, it's typically 10-15% of the total data available (like the final exam you take at the end of the semester).\n",
        "\n",
        "For now, we'll just use a training and test set, this means we'll have a dataset for our model to learn on as well as be evaluated on.\n",
        "\n",
        "We can create them by splitting our `X` and `y` arrays.\n",
        "\n",
        "> 🔑 **Note:** When dealing with real-world data, this step is typically done right at the start of a project (the test set should always be kept separate from all other data). We want our model to learn on training data and then evaluate it on test data to get an indication of how well it **generalizes** to unseen examples."
      ],
      "metadata": {
        "id": "qNX_i3yOMC4e"
      }
    },
    {
      "cell_type": "code",
      "source": [
        "# Check how many samples we have\n",
        "len(X)"
      ],
      "metadata": {
        "id": "gJ0wooUZL2jh",
        "outputId": "2d4b8a21-e601-45ee-e4c8-d777fe4e2810",
        "colab": {
          "base_uri": "https://localhost:8080/"
        }
      },
      "execution_count": 18,
      "outputs": [
        {
          "output_type": "execute_result",
          "data": {
            "text/plain": [
              "50"
            ]
          },
          "metadata": {},
          "execution_count": 18
        }
      ]
    },
    {
      "cell_type": "code",
      "source": [
        "X_train = X[:40]  #(80% of data)\n",
        "y_train = y[:40]\n",
        "X_test = X[40:]  #(20% of data)\n",
        "y_test = y[40:]"
      ],
      "metadata": {
        "id": "3Pb2C_MYMHZp"
      },
      "execution_count": 19,
      "outputs": []
    },
    {
      "cell_type": "markdown",
      "source": [
        "## Visualizing the data"
      ],
      "metadata": {
        "id": "UMXrZpavM7zm"
      }
    },
    {
      "cell_type": "code",
      "source": [
        "plt.figure(figsize=(10, 7))\n",
        "# Plot training data in blue\n",
        "plt.scatter(X_train, y_train, c='b', label='Training data')\n",
        "# Plot test data in green\n",
        "plt.scatter(X_test, y_test, c='g', label='Testing data')\n",
        "# Show the legend\n",
        "plt.legend();\n",
        "\n",
        "#; after legend helps to remove <matplotlib.legend.Legend at 0x7f8d619d7f50>"
      ],
      "metadata": {
        "id": "LhpF2ldUMn17",
        "outputId": "1c87b9d9-4e2d-4cf4-882f-f45f13e498d0",
        "colab": {
          "base_uri": "https://localhost:8080/",
          "height": 428
        }
      },
      "execution_count": 20,
      "outputs": [
        {
          "output_type": "display_data",
          "data": {
            "text/plain": [
              "<Figure size 720x504 with 1 Axes>"
            ],
            "image/png": "[encoded data removed]"
          },
          "metadata": {
            "needs_background": "light"
          }
        }
      ]
    },
    {
      "cell_type": "code",
      "source": [
        "# Create\n",
        "model= tf.keras.Sequential(\n",
        "    [tf.keras.layers.Dense(1)]\n",
        ")\n",
        "# Compile\n",
        "model.compile(loss = tf.keras.losses.mae, \n",
        "              optimizer=tf.keras.optimizers.SGD(),\n",
        "              metrics=[\"mae\"])\n",
        "# # Fit\n",
        "# model.fit(X_train, y_train, epochs = 100)"
      ],
      "metadata": {
        "id": "sC38jfljM1R_"
      },
      "execution_count": 21,
      "outputs": []
    },
    {
      "cell_type": "code",
      "source": [
        "model.build(input_shape=(1,1))"
      ],
      "metadata": {
        "id": "hwEsNtX8Ovzl"
      },
      "execution_count": 22,
      "outputs": []
    },
    {
      "cell_type": "code",
      "source": [
        "model.summary()"
      ],
      "metadata": {
        "id": "-qYE-qqKO1bg",
        "outputId": "8a4f73b6-f24b-4a9f-83ad-08238dc8d0ad",
        "colab": {
          "base_uri": "https://localhost:8080/"
        }
      },
      "execution_count": 23,
      "outputs": [
        {
          "output_type": "stream",
          "name": "stdout",
          "text": [
            "Model: \"sequential_4\"\n",
            "_________________________________________________________________\n",
            " Layer (type)                Output Shape              Param #   \n",
            "=================================================================\n",
            " dense_8 (Dense)             (1, 1)                    2         \n",
            "                                                                 \n",
            "=================================================================\n",
            "Total params: 2\n",
            "Trainable params: 2\n",
            "Non-trainable params: 0\n",
            "_________________________________________________________________\n"
          ]
        }
      ]
    },
    {
      "cell_type": "markdown",
      "source": [
        "Create Model with input_shape , Input_shape is a tuple with input and output\n",
        "\n",
        "Dense = fully Connected layer"
      ],
      "metadata": {
        "id": "P4IbLPD8SA3m"
      }
    },
    {
      "cell_type": "code",
      "source": [
        "# Set random seed\n",
        "tf.random.set_seed(42)\n",
        "\n",
        "# Create a model (same as above)\n",
        "model = tf.keras.Sequential(\n",
        "    [tf.keras.layers.Dense(1, input_shape=[1])]\n",
        ")\n",
        "# Compile model (same as above)\n",
        "model.compile(loss=tf.keras.losses.mae,\n",
        "              optimizer=tf.keras.optimizers.SGD(),\n",
        "              metrics=[\"mae\"])"
      ],
      "metadata": {
        "id": "mtypMjusSAWX"
      },
      "execution_count": 24,
      "outputs": []
    },
    {
      "cell_type": "code",
      "source": [
        "model.summary()"
      ],
      "metadata": {
        "id": "9cmzKDWtQHGW",
        "outputId": "4769f7b7-56af-4a6b-a948-1446e9a1b9f8",
        "colab": {
          "base_uri": "https://localhost:8080/"
        }
      },
      "execution_count": 25,
      "outputs": [
        {
          "output_type": "stream",
          "name": "stdout",
          "text": [
            "Model: \"sequential_5\"\n",
            "_________________________________________________________________\n",
            " Layer (type)                Output Shape              Param #   \n",
            "=================================================================\n",
            " dense_9 (Dense)             (None, 1)                 2         \n",
            "                                                                 \n",
            "=================================================================\n",
            "Total params: 2\n",
            "Trainable params: 2\n",
            "Non-trainable params: 0\n",
            "_________________________________________________________________\n"
          ]
        }
      ]
    },
    {
      "cell_type": "markdown",
      "source": [
        "Calling `summary()` on our model shows us the layers it contains, the output shape and the number of parameters.\n",
        "* **Total params** - total number of parameters in the model.\n",
        "* **Trainable parameters** - these are the parameters (patterns) the model can update as it trains.\n",
        "* **Non-trainable parameters** - these parameters aren't updated during training (this is typical when you bring in the already learned patterns from other models during transfer learning).\n",
        "\n",
        "> 📖 **Resource:** For a more in-depth overview of the trainable parameters within a layer, check out [MIT's introduction to deep learning video](https://youtu.be/njKP3FqW3Sk).\n",
        "\n",
        "> 🛠 **Exercise:** Try playing around with the number of hidden units in the `Dense` layer (e.g. `Dense(2)`, `Dense(3)`). How does this change the Total/Trainable params? Investigate what's causing the change.\n",
        "\n"
      ],
      "metadata": {
        "id": "zlQ3ZBnyTiUv"
      }
    },
    {
      "cell_type": "code",
      "source": [
        "# Create a model (same as above)\n",
        "model = tf.keras.Sequential(\n",
        "    [tf.keras.layers.Dense(3, input_shape=[1])]\n",
        ")\n",
        "# Compile model (same as above)\n",
        "model.compile(loss=tf.keras.losses.mae,\n",
        "              optimizer=tf.keras.optimizers.SGD(lr=0.001),\n",
        "              metrics=[\"mae\"])\n",
        "model.summary()"
      ],
      "metadata": {
        "id": "7nmwXxQmSuyN",
        "outputId": "9fb0eb2c-d9db-4d01-a85a-97a24a580026",
        "colab": {
          "base_uri": "https://localhost:8080/"
        }
      },
      "execution_count": 26,
      "outputs": [
        {
          "output_type": "stream",
          "name": "stdout",
          "text": [
            "Model: \"sequential_6\"\n",
            "_________________________________________________________________\n",
            " Layer (type)                Output Shape              Param #   \n",
            "=================================================================\n",
            " dense_10 (Dense)            (None, 3)                 6         \n",
            "                                                                 \n",
            "=================================================================\n",
            "Total params: 6\n",
            "Trainable params: 6\n",
            "Non-trainable params: 0\n",
            "_________________________________________________________________\n"
          ]
        },
        {
          "output_type": "stream",
          "name": "stderr",
          "text": [
            "/usr/local/lib/python3.7/dist-packages/keras/optimizer_v2/gradient_descent.py:102: UserWarning: The `lr` argument is deprecated, use `learning_rate` instead.\n",
            "  super(SGD, self).__init__(name, **kwargs)\n"
          ]
        }
      ]
    },
    {
      "cell_type": "code",
      "source": [
        "model.fit(X_train, y_train, epochs = 100, verbose=1)"
      ],
      "metadata": {
        "id": "FUzDvWUSYTbJ",
        "outputId": "cbe59551-5f2e-4fcb-ac36-dffe2c082daf",
        "colab": {
          "base_uri": "https://localhost:8080/"
        }
      },
      "execution_count": 27,
      "outputs": [
        {
          "output_type": "stream",
          "name": "stdout",
          "text": [
            "Epoch 1/100\n",
            "2/2 [==============================] - 1s 9ms/step - loss: 25.0414 - mae: 25.0414\n",
            "Epoch 2/100\n",
            "2/2 [==============================] - 0s 6ms/step - loss: 24.1770 - mae: 24.1770\n",
            "Epoch 3/100\n",
            "2/2 [==============================] - 0s 5ms/step - loss: 23.2644 - mae: 23.2644\n",
            "Epoch 4/100\n",
            "2/2 [==============================] - 0s 7ms/step - loss: 22.4359 - mae: 22.4359\n",
            "Epoch 5/100\n",
            "2/2 [==============================] - 0s 4ms/step - loss: 21.6164 - mae: 21.6164\n",
            "Epoch 6/100\n",
            "2/2 [==============================] - 0s 4ms/step - loss: 20.8295 - mae: 20.8295\n",
            "Epoch 7/100\n",
            "2/2 [==============================] - 0s 6ms/step - loss: 20.0330 - mae: 20.0330\n",
            "Epoch 8/100\n",
            "2/2 [==============================] - 0s 4ms/step - loss: 19.1865 - mae: 19.1865\n",
            "Epoch 9/100\n",
            "2/2 [==============================] - 0s 11ms/step - loss: 18.2232 - mae: 18.2232\n",
            "Epoch 10/100\n",
            "2/2 [==============================] - 0s 5ms/step - loss: 17.4269 - mae: 17.4269\n",
            "Epoch 11/100\n",
            "2/2 [==============================] - 0s 8ms/step - loss: 16.7148 - mae: 16.7148\n",
            "Epoch 12/100\n",
            "2/2 [==============================] - 0s 12ms/step - loss: 15.8958 - mae: 15.8958\n",
            "Epoch 13/100\n",
            "2/2 [==============================] - 0s 4ms/step - loss: 15.1626 - mae: 15.1626\n",
            "Epoch 14/100\n",
            "2/2 [==============================] - 0s 4ms/step - loss: 14.4516 - mae: 14.4516\n",
            "Epoch 15/100\n",
            "2/2 [==============================] - 0s 6ms/step - loss: 13.8758 - mae: 13.8758\n",
            "Epoch 16/100\n",
            "2/2 [==============================] - 0s 5ms/step - loss: 13.3916 - mae: 13.3916\n",
            "Epoch 17/100\n",
            "2/2 [==============================] - 0s 9ms/step - loss: 12.9259 - mae: 12.9259\n",
            "Epoch 18/100\n",
            "2/2 [==============================] - 0s 4ms/step - loss: 12.4650 - mae: 12.4650\n",
            "Epoch 19/100\n",
            "2/2 [==============================] - 0s 6ms/step - loss: 12.0701 - mae: 12.0701\n",
            "Epoch 20/100\n",
            "2/2 [==============================] - 0s 8ms/step - loss: 11.7084 - mae: 11.7084\n",
            "Epoch 21/100\n",
            "2/2 [==============================] - 0s 6ms/step - loss: 11.3334 - mae: 11.3334\n",
            "Epoch 22/100\n",
            "2/2 [==============================] - 0s 4ms/step - loss: 10.9734 - mae: 10.9734\n",
            "Epoch 23/100\n",
            "2/2 [==============================] - 0s 26ms/step - loss: 10.6659 - mae: 10.6659\n",
            "Epoch 24/100\n",
            "2/2 [==============================] - 0s 11ms/step - loss: 10.3512 - mae: 10.3512\n",
            "Epoch 25/100\n",
            "2/2 [==============================] - 0s 4ms/step - loss: 9.9932 - mae: 9.9932\n",
            "Epoch 26/100\n",
            "2/2 [==============================] - 0s 6ms/step - loss: 9.6321 - mae: 9.6321\n",
            "Epoch 27/100\n",
            "2/2 [==============================] - 0s 13ms/step - loss: 9.2993 - mae: 9.2993\n",
            "Epoch 28/100\n",
            "2/2 [==============================] - 0s 9ms/step - loss: 8.9827 - mae: 8.9827\n",
            "Epoch 29/100\n",
            "2/2 [==============================] - 0s 6ms/step - loss: 8.7240 - mae: 8.7240\n",
            "Epoch 30/100\n",
            "2/2 [==============================] - 0s 6ms/step - loss: 8.3915 - mae: 8.3915\n",
            "Epoch 31/100\n",
            "2/2 [==============================] - 0s 11ms/step - loss: 8.1068 - mae: 8.1068\n",
            "Epoch 32/100\n",
            "2/2 [==============================] - 0s 7ms/step - loss: 7.9739 - mae: 7.9739\n",
            "Epoch 33/100\n",
            "2/2 [==============================] - 0s 6ms/step - loss: 7.8511 - mae: 7.8511\n",
            "Epoch 34/100\n",
            "2/2 [==============================] - 0s 6ms/step - loss: 7.7465 - mae: 7.7465\n",
            "Epoch 35/100\n",
            "2/2 [==============================] - 0s 6ms/step - loss: 7.7487 - mae: 7.7487\n",
            "Epoch 36/100\n",
            "2/2 [==============================] - 0s 5ms/step - loss: 7.7295 - mae: 7.7295\n",
            "Epoch 37/100\n",
            "2/2 [==============================] - 0s 30ms/step - loss: 7.6798 - mae: 7.6798\n",
            "Epoch 38/100\n",
            "2/2 [==============================] - 0s 5ms/step - loss: 7.6715 - mae: 7.6715\n",
            "Epoch 39/100\n",
            "2/2 [==============================] - 0s 8ms/step - loss: 7.6407 - mae: 7.6407\n",
            "Epoch 40/100\n",
            "2/2 [==============================] - 0s 20ms/step - loss: 7.6275 - mae: 7.6275\n",
            "Epoch 41/100\n",
            "2/2 [==============================] - 0s 10ms/step - loss: 7.6115 - mae: 7.6115\n",
            "Epoch 42/100\n",
            "2/2 [==============================] - 0s 6ms/step - loss: 7.6109 - mae: 7.6109\n",
            "Epoch 43/100\n",
            "2/2 [==============================] - 0s 7ms/step - loss: 7.6111 - mae: 7.6111\n",
            "Epoch 44/100\n",
            "2/2 [==============================] - 0s 7ms/step - loss: 7.6189 - mae: 7.6189\n",
            "Epoch 45/100\n",
            "2/2 [==============================] - 0s 12ms/step - loss: 7.6390 - mae: 7.6390\n",
            "Epoch 46/100\n",
            "2/2 [==============================] - 0s 8ms/step - loss: 7.6466 - mae: 7.6466\n",
            "Epoch 47/100\n",
            "2/2 [==============================] - 0s 7ms/step - loss: 7.6554 - mae: 7.6554\n",
            "Epoch 48/100\n",
            "2/2 [==============================] - 0s 7ms/step - loss: 7.6633 - mae: 7.6633\n",
            "Epoch 49/100\n",
            "2/2 [==============================] - 0s 16ms/step - loss: 7.6449 - mae: 7.6449\n",
            "Epoch 50/100\n",
            "2/2 [==============================] - 0s 7ms/step - loss: 7.6407 - mae: 7.6407\n",
            "Epoch 51/100\n",
            "2/2 [==============================] - 0s 10ms/step - loss: 7.6366 - mae: 7.6366\n",
            "Epoch 52/100\n",
            "2/2 [==============================] - 0s 11ms/step - loss: 7.6092 - mae: 7.6092\n",
            "Epoch 53/100\n",
            "2/2 [==============================] - 0s 8ms/step - loss: 7.6323 - mae: 7.6323\n",
            "Epoch 54/100\n",
            "2/2 [==============================] - 0s 10ms/step - loss: 7.6479 - mae: 7.6479\n",
            "Epoch 55/100\n",
            "2/2 [==============================] - 0s 7ms/step - loss: 7.6378 - mae: 7.6378\n",
            "Epoch 56/100\n",
            "2/2 [==============================] - 0s 7ms/step - loss: 7.6324 - mae: 7.6324\n",
            "Epoch 57/100\n",
            "2/2 [==============================] - 0s 7ms/step - loss: 7.6192 - mae: 7.6192\n",
            "Epoch 58/100\n",
            "2/2 [==============================] - 0s 8ms/step - loss: 7.6177 - mae: 7.6177\n",
            "Epoch 59/100\n",
            "2/2 [==============================] - 0s 15ms/step - loss: 7.6068 - mae: 7.6068\n",
            "Epoch 60/100\n",
            "2/2 [==============================] - 0s 5ms/step - loss: 7.6055 - mae: 7.6055\n",
            "Epoch 61/100\n",
            "2/2 [==============================] - 0s 9ms/step - loss: 7.6127 - mae: 7.6127\n",
            "Epoch 62/100\n",
            "2/2 [==============================] - 0s 8ms/step - loss: 7.6143 - mae: 7.6143\n",
            "Epoch 63/100\n",
            "2/2 [==============================] - 0s 8ms/step - loss: 7.6355 - mae: 7.6355\n",
            "Epoch 64/100\n",
            "2/2 [==============================] - 0s 8ms/step - loss: 7.6484 - mae: 7.6484\n",
            "Epoch 65/100\n",
            "2/2 [==============================] - 0s 4ms/step - loss: 7.6059 - mae: 7.6059\n",
            "Epoch 66/100\n",
            "2/2 [==============================] - 0s 6ms/step - loss: 7.6022 - mae: 7.6022\n",
            "Epoch 67/100\n",
            "2/2 [==============================] - 0s 8ms/step - loss: 7.6037 - mae: 7.6037\n",
            "Epoch 68/100\n",
            "2/2 [==============================] - 0s 8ms/step - loss: 7.6105 - mae: 7.6105\n",
            "Epoch 69/100\n",
            "2/2 [==============================] - 0s 6ms/step - loss: 7.6007 - mae: 7.6007\n",
            "Epoch 70/100\n",
            "2/2 [==============================] - 0s 7ms/step - loss: 7.6165 - mae: 7.6165\n",
            "Epoch 71/100\n",
            "2/2 [==============================] - 0s 7ms/step - loss: 7.6545 - mae: 7.6545\n",
            "Epoch 72/100\n",
            "2/2 [==============================] - 0s 14ms/step - loss: 7.6484 - mae: 7.6484\n",
            "Epoch 73/100\n",
            "2/2 [==============================] - 0s 7ms/step - loss: 7.6614 - mae: 7.6614\n",
            "Epoch 74/100\n",
            "2/2 [==============================] - 0s 8ms/step - loss: 7.6556 - mae: 7.6556\n",
            "Epoch 75/100\n",
            "2/2 [==============================] - 0s 7ms/step - loss: 7.6080 - mae: 7.6080\n",
            "Epoch 76/100\n",
            "2/2 [==============================] - 0s 8ms/step - loss: 7.5976 - mae: 7.5976\n",
            "Epoch 77/100\n",
            "2/2 [==============================] - 0s 8ms/step - loss: 7.6010 - mae: 7.6010\n",
            "Epoch 78/100\n",
            "2/2 [==============================] - 0s 22ms/step - loss: 7.6011 - mae: 7.6011\n",
            "Epoch 79/100\n",
            "2/2 [==============================] - 0s 25ms/step - loss: 7.6106 - mae: 7.6106\n",
            "Epoch 80/100\n",
            "2/2 [==============================] - 0s 7ms/step - loss: 7.5991 - mae: 7.5991\n",
            "Epoch 81/100\n",
            "2/2 [==============================] - 0s 7ms/step - loss: 7.5974 - mae: 7.5974\n",
            "Epoch 82/100\n",
            "2/2 [==============================] - 0s 7ms/step - loss: 7.5982 - mae: 7.5982\n",
            "Epoch 83/100\n",
            "2/2 [==============================] - 0s 8ms/step - loss: 7.6026 - mae: 7.6026\n",
            "Epoch 84/100\n",
            "2/2 [==============================] - 0s 6ms/step - loss: 7.6062 - mae: 7.6062\n",
            "Epoch 85/100\n",
            "2/2 [==============================] - 0s 5ms/step - loss: 7.5997 - mae: 7.5997\n",
            "Epoch 86/100\n",
            "2/2 [==============================] - 0s 9ms/step - loss: 7.6055 - mae: 7.6055\n",
            "Epoch 87/100\n",
            "2/2 [==============================] - 0s 6ms/step - loss: 7.6363 - mae: 7.6363\n",
            "Epoch 88/100\n",
            "2/2 [==============================] - 0s 6ms/step - loss: 7.6456 - mae: 7.6456\n",
            "Epoch 89/100\n",
            "2/2 [==============================] - 0s 6ms/step - loss: 7.6230 - mae: 7.6230\n",
            "Epoch 90/100\n",
            "2/2 [==============================] - 0s 10ms/step - loss: 7.6364 - mae: 7.6364\n",
            "Epoch 91/100\n",
            "2/2 [==============================] - 0s 5ms/step - loss: 7.6000 - mae: 7.6000\n",
            "Epoch 92/100\n",
            "2/2 [==============================] - 0s 6ms/step - loss: 7.5991 - mae: 7.5991\n",
            "Epoch 93/100\n",
            "2/2 [==============================] - 0s 4ms/step - loss: 7.5944 - mae: 7.5944\n",
            "Epoch 94/100\n",
            "2/2 [==============================] - 0s 6ms/step - loss: 7.5945 - mae: 7.5945\n",
            "Epoch 95/100\n",
            "2/2 [==============================] - 0s 5ms/step - loss: 7.6020 - mae: 7.6020\n",
            "Epoch 96/100\n",
            "2/2 [==============================] - 0s 8ms/step - loss: 7.6165 - mae: 7.6165\n",
            "Epoch 97/100\n",
            "2/2 [==============================] - 0s 6ms/step - loss: 7.5888 - mae: 7.5888\n",
            "Epoch 98/100\n",
            "2/2 [==============================] - 0s 6ms/step - loss: 7.5984 - mae: 7.5984\n",
            "Epoch 99/100\n",
            "2/2 [==============================] - 0s 11ms/step - loss: 7.5961 - mae: 7.5961\n",
            "Epoch 100/100\n",
            "2/2 [==============================] - 0s 5ms/step - loss: 7.5936 - mae: 7.5936\n"
          ]
        },
        {
          "output_type": "execute_result",
          "data": {
            "text/plain": [
              "<keras.callbacks.History at 0x7fa0ae291990>"
            ]
          },
          "metadata": {},
          "execution_count": 27
        }
      ]
    },
    {
      "cell_type": "code",
      "source": [
        "from tensorflow.keras.utils import plot_model\n",
        "\n",
        "plot_model(model, show_shapes=True)"
      ],
      "metadata": {
        "id": "B08SyUKPYVuW",
        "outputId": "beb67046-c52f-4631-e400-e5c05b0b1c13",
        "colab": {
          "base_uri": "https://localhost:8080/",
          "height": 201
        }
      },
      "execution_count": 28,
      "outputs": [
        {
          "output_type": "execute_result",
          "data": {
            "text/plain": [
              "<IPython.core.display.Image object>"
            ],
            "image/png": "[encoded data removed]"
          },
          "metadata": {},
          "execution_count": 28
        }
      ]
    },
    {
      "cell_type": "code",
      "source": [
        "model = tf.keras.Sequential(\n",
        "    [tf.keras.layers.Dense(10, input_shape=[1], name = \"Input_Layer\"),\n",
        "     tf.keras.layers.Dense(1, name = \"Output_layer\")],\n",
        "     name = \"Base_Model\"\n",
        ")\n",
        "# Compile model (same as above)\n",
        "model.compile(loss=tf.keras.losses.mae,\n",
        "              optimizer=tf.keras.optimizers.SGD(),\n",
        "              metrics=[\"mae\"])\n",
        "model.summary()"
      ],
      "metadata": {
        "id": "f9l-wBFyajfD",
        "outputId": "32c0a29c-8202-4b16-aeec-37bc042265b7",
        "colab": {
          "base_uri": "https://localhost:8080/"
        }
      },
      "execution_count": 29,
      "outputs": [
        {
          "output_type": "stream",
          "name": "stdout",
          "text": [
            "Model: \"Base_Model\"\n",
            "_________________________________________________________________\n",
            " Layer (type)                Output Shape              Param #   \n",
            "=================================================================\n",
            " Input_Layer (Dense)         (None, 10)                20        \n",
            "                                                                 \n",
            " Output_layer (Dense)        (None, 1)                 11        \n",
            "                                                                 \n",
            "=================================================================\n",
            "Total params: 31\n",
            "Trainable params: 31\n",
            "Non-trainable params: 0\n",
            "_________________________________________________________________\n"
          ]
        }
      ]
    },
    {
      "cell_type": "code",
      "source": [
        "from tensorflow.keras.utils import plot_model\n",
        "\n",
        "plot_model(model, show_shapes=True)"
      ],
      "metadata": {
        "id": "OfMgKymhbBrr",
        "outputId": "d0b77884-dd5f-43b5-907a-4fac754a2689",
        "colab": {
          "base_uri": "https://localhost:8080/",
          "height": 312
        }
      },
      "execution_count": 30,
      "outputs": [
        {
          "output_type": "execute_result",
          "data": {
            "text/plain": [
              "<IPython.core.display.Image object>"
            ],
            "image/png": "[encoded data removed]"
          },
          "metadata": {},
          "execution_count": 30
        }
      ]
    },
    {
      "cell_type": "code",
      "source": [
        "tf.random.set_seed(42)\n",
        "\n",
        "model = tf.keras.Sequential(\n",
        "    [tf.keras.layers.Dense(10, input_shape=[1], name = \"Input_Layer\"),\n",
        "     tf.keras.layers.Dense(1, name = \"Output_layer\")],\n",
        "     name = \"Base_Model\"\n",
        ")\n",
        "# Compile model (same as above)\n",
        "model.compile(loss=tf.keras.losses.mae,\n",
        "              optimizer=tf.keras.optimizers.Adam(learning_rate=0.005),\n",
        "              metrics=[\"mae\"])\n",
        "model.summary()\n",
        "\n",
        "# Fit model (this time we'll train for longer)\n",
        "model.fit(tf.expand_dims(X, axis=-1), y, epochs=150) # train for 100 epochs not 10"
      ],
      "metadata": {
        "id": "VXc3VJjRKKmR",
        "outputId": "fdb87804-60e3-441f-bb73-e945a3fdf4f7",
        "colab": {
          "base_uri": "https://localhost:8080/"
        }
      },
      "execution_count": 31,
      "outputs": [
        {
          "output_type": "stream",
          "name": "stdout",
          "text": [
            "Model: \"Base_Model\"\n",
            "_________________________________________________________________\n",
            " Layer (type)                Output Shape              Param #   \n",
            "=================================================================\n",
            " Input_Layer (Dense)         (None, 10)                20        \n",
            "                                                                 \n",
            " Output_layer (Dense)        (None, 1)                 11        \n",
            "                                                                 \n",
            "=================================================================\n",
            "Total params: 31\n",
            "Trainable params: 31\n",
            "Non-trainable params: 0\n",
            "_________________________________________________________________\n",
            "Epoch 1/150\n",
            "2/2 [==============================] - 1s 17ms/step - loss: 31.4825 - mae: 31.4825\n",
            "Epoch 2/150\n",
            "2/2 [==============================] - 0s 8ms/step - loss: 27.9390 - mae: 27.9390\n",
            "Epoch 3/150\n",
            "2/2 [==============================] - 0s 9ms/step - loss: 24.8349 - mae: 24.8349\n",
            "Epoch 4/150\n",
            "2/2 [==============================] - 0s 8ms/step - loss: 21.5009 - mae: 21.5009\n",
            "Epoch 5/150\n",
            "2/2 [==============================] - 0s 6ms/step - loss: 18.1487 - mae: 18.1487\n",
            "Epoch 6/150\n",
            "2/2 [==============================] - 0s 10ms/step - loss: 15.0432 - mae: 15.0432\n",
            "Epoch 7/150\n",
            "2/2 [==============================] - 0s 7ms/step - loss: 12.0004 - mae: 12.0004\n",
            "Epoch 8/150\n",
            "2/2 [==============================] - 0s 7ms/step - loss: 9.8411 - mae: 9.8411\n",
            "Epoch 9/150\n",
            "2/2 [==============================] - 0s 7ms/step - loss: 9.6558 - mae: 9.6558\n",
            "Epoch 10/150\n",
            "2/2 [==============================] - 0s 5ms/step - loss: 9.6253 - mae: 9.6253\n",
            "Epoch 11/150\n",
            "2/2 [==============================] - 0s 9ms/step - loss: 9.6708 - mae: 9.6708\n",
            "Epoch 12/150\n",
            "2/2 [==============================] - 0s 7ms/step - loss: 9.7018 - mae: 9.7018\n",
            "Epoch 13/150\n",
            "2/2 [==============================] - 0s 8ms/step - loss: 9.7708 - mae: 9.7708\n",
            "Epoch 14/150\n",
            "2/2 [==============================] - 0s 12ms/step - loss: 10.0692 - mae: 10.0692\n",
            "Epoch 15/150\n",
            "2/2 [==============================] - 0s 4ms/step - loss: 10.1619 - mae: 10.1619\n",
            "Epoch 16/150\n",
            "2/2 [==============================] - 0s 4ms/step - loss: 10.0098 - mae: 10.0098\n",
            "Epoch 17/150\n",
            "2/2 [==============================] - 0s 7ms/step - loss: 9.5428 - mae: 9.5428\n",
            "Epoch 18/150\n",
            "2/2 [==============================] - 0s 7ms/step - loss: 9.4156 - mae: 9.4156\n",
            "Epoch 19/150\n",
            "2/2 [==============================] - 0s 7ms/step - loss: 9.3107 - mae: 9.3107\n",
            "Epoch 20/150\n",
            "2/2 [==============================] - 0s 12ms/step - loss: 9.1986 - mae: 9.1986\n",
            "Epoch 21/150\n",
            "2/2 [==============================] - 0s 4ms/step - loss: 9.2577 - mae: 9.2577\n",
            "Epoch 22/150\n",
            "2/2 [==============================] - 0s 6ms/step - loss: 9.0735 - mae: 9.0735\n",
            "Epoch 23/150\n",
            "2/2 [==============================] - 0s 11ms/step - loss: 9.0365 - mae: 9.0365\n",
            "Epoch 24/150\n",
            "2/2 [==============================] - 0s 5ms/step - loss: 8.9394 - mae: 8.9394\n",
            "Epoch 25/150\n",
            "2/2 [==============================] - 0s 11ms/step - loss: 8.8454 - mae: 8.8454\n",
            "Epoch 26/150\n",
            "2/2 [==============================] - 0s 12ms/step - loss: 8.8001 - mae: 8.8001\n",
            "Epoch 27/150\n",
            "2/2 [==============================] - 0s 14ms/step - loss: 8.7081 - mae: 8.7081\n",
            "Epoch 28/150\n",
            "2/2 [==============================] - 0s 8ms/step - loss: 8.6408 - mae: 8.6408\n",
            "Epoch 29/150\n",
            "2/2 [==============================] - 0s 4ms/step - loss: 8.5744 - mae: 8.5744\n",
            "Epoch 30/150\n",
            "2/2 [==============================] - 0s 11ms/step - loss: 8.5204 - mae: 8.5204\n",
            "Epoch 31/150\n",
            "2/2 [==============================] - 0s 17ms/step - loss: 8.4369 - mae: 8.4369\n",
            "Epoch 32/150\n",
            "2/2 [==============================] - 0s 8ms/step - loss: 8.3756 - mae: 8.3756\n",
            "Epoch 33/150\n",
            "2/2 [==============================] - 0s 15ms/step - loss: 8.2981 - mae: 8.2981\n",
            "Epoch 34/150\n",
            "2/2 [==============================] - 0s 10ms/step - loss: 8.2201 - mae: 8.2201\n",
            "Epoch 35/150\n",
            "2/2 [==============================] - 0s 7ms/step - loss: 8.1742 - mae: 8.1742\n",
            "Epoch 36/150\n",
            "2/2 [==============================] - 0s 7ms/step - loss: 8.1677 - mae: 8.1677\n",
            "Epoch 37/150\n",
            "2/2 [==============================] - 0s 9ms/step - loss: 8.1092 - mae: 8.1092\n",
            "Epoch 38/150\n",
            "2/2 [==============================] - 0s 14ms/step - loss: 8.0163 - mae: 8.0163\n",
            "Epoch 39/150\n",
            "2/2 [==============================] - 0s 13ms/step - loss: 8.0039 - mae: 8.0039\n",
            "Epoch 40/150\n",
            "2/2 [==============================] - 0s 15ms/step - loss: 7.9215 - mae: 7.9215\n",
            "Epoch 41/150\n",
            "2/2 [==============================] - 0s 6ms/step - loss: 7.8808 - mae: 7.8808\n",
            "Epoch 42/150\n",
            "2/2 [==============================] - 0s 9ms/step - loss: 7.8198 - mae: 7.8198\n",
            "Epoch 43/150\n",
            "2/2 [==============================] - 0s 8ms/step - loss: 7.7636 - mae: 7.7636\n",
            "Epoch 44/150\n",
            "2/2 [==============================] - 0s 5ms/step - loss: 7.7095 - mae: 7.7095\n",
            "Epoch 45/150\n",
            "2/2 [==============================] - 0s 7ms/step - loss: 7.6577 - mae: 7.6577\n",
            "Epoch 46/150\n",
            "2/2 [==============================] - 0s 7ms/step - loss: 7.5943 - mae: 7.5943\n",
            "Epoch 47/150\n",
            "2/2 [==============================] - 0s 5ms/step - loss: 7.5312 - mae: 7.5312\n",
            "Epoch 48/150\n",
            "2/2 [==============================] - 0s 10ms/step - loss: 7.4813 - mae: 7.4813\n",
            "Epoch 49/150\n",
            "2/2 [==============================] - 0s 5ms/step - loss: 7.4341 - mae: 7.4341\n",
            "Epoch 50/150\n",
            "2/2 [==============================] - 0s 14ms/step - loss: 7.3834 - mae: 7.3834\n",
            "Epoch 51/150\n",
            "2/2 [==============================] - 0s 8ms/step - loss: 7.3063 - mae: 7.3063\n",
            "Epoch 52/150\n",
            "2/2 [==============================] - 0s 5ms/step - loss: 7.2496 - mae: 7.2496\n",
            "Epoch 53/150\n",
            "2/2 [==============================] - 0s 14ms/step - loss: 7.1963 - mae: 7.1963\n",
            "Epoch 54/150\n",
            "2/2 [==============================] - 0s 19ms/step - loss: 7.1335 - mae: 7.1335\n",
            "Epoch 55/150\n",
            "2/2 [==============================] - 0s 11ms/step - loss: 7.0819 - mae: 7.0819\n",
            "Epoch 56/150\n",
            "2/2 [==============================] - 0s 10ms/step - loss: 7.0150 - mae: 7.0150\n",
            "Epoch 57/150\n",
            "2/2 [==============================] - 0s 5ms/step - loss: 6.9806 - mae: 6.9806\n",
            "Epoch 58/150\n",
            "2/2 [==============================] - 0s 17ms/step - loss: 6.9173 - mae: 6.9173\n",
            "Epoch 59/150\n",
            "2/2 [==============================] - 0s 15ms/step - loss: 6.8721 - mae: 6.8721\n",
            "Epoch 60/150\n",
            "2/2 [==============================] - 0s 13ms/step - loss: 6.8027 - mae: 6.8027\n",
            "Epoch 61/150\n",
            "2/2 [==============================] - 0s 9ms/step - loss: 6.7259 - mae: 6.7259\n",
            "Epoch 62/150\n",
            "2/2 [==============================] - 0s 9ms/step - loss: 6.6781 - mae: 6.6781\n",
            "Epoch 63/150\n",
            "2/2 [==============================] - 0s 12ms/step - loss: 6.6083 - mae: 6.6083\n",
            "Epoch 64/150\n",
            "2/2 [==============================] - 0s 17ms/step - loss: 6.5529 - mae: 6.5529\n",
            "Epoch 65/150\n",
            "2/2 [==============================] - 0s 13ms/step - loss: 6.5008 - mae: 6.5008\n",
            "Epoch 66/150\n",
            "2/2 [==============================] - 0s 13ms/step - loss: 6.4375 - mae: 6.4375\n",
            "Epoch 67/150\n",
            "2/2 [==============================] - 0s 8ms/step - loss: 6.3745 - mae: 6.3745\n",
            "Epoch 68/150\n",
            "2/2 [==============================] - 0s 8ms/step - loss: 6.3118 - mae: 6.3118\n",
            "Epoch 69/150\n",
            "2/2 [==============================] - 0s 11ms/step - loss: 6.2444 - mae: 6.2444\n",
            "Epoch 70/150\n",
            "2/2 [==============================] - 0s 9ms/step - loss: 6.1960 - mae: 6.1960\n",
            "Epoch 71/150\n",
            "2/2 [==============================] - 0s 7ms/step - loss: 6.1109 - mae: 6.1109\n",
            "Epoch 72/150\n",
            "2/2 [==============================] - 0s 7ms/step - loss: 6.0514 - mae: 6.0514\n",
            "Epoch 73/150\n",
            "2/2 [==============================] - 0s 7ms/step - loss: 5.9854 - mae: 5.9854\n",
            "Epoch 74/150\n",
            "2/2 [==============================] - 0s 9ms/step - loss: 5.9246 - mae: 5.9246\n",
            "Epoch 75/150\n",
            "2/2 [==============================] - 0s 27ms/step - loss: 5.8422 - mae: 5.8422\n",
            "Epoch 76/150\n",
            "2/2 [==============================] - 0s 14ms/step - loss: 5.8044 - mae: 5.8044\n",
            "Epoch 77/150\n",
            "2/2 [==============================] - 0s 9ms/step - loss: 5.7272 - mae: 5.7272\n",
            "Epoch 78/150\n",
            "2/2 [==============================] - 0s 8ms/step - loss: 5.6635 - mae: 5.6635\n",
            "Epoch 79/150\n",
            "2/2 [==============================] - 0s 9ms/step - loss: 5.6055 - mae: 5.6055\n",
            "Epoch 80/150\n",
            "2/2 [==============================] - 0s 8ms/step - loss: 5.5205 - mae: 5.5205\n",
            "Epoch 81/150\n",
            "2/2 [==============================] - 0s 13ms/step - loss: 5.4435 - mae: 5.4435\n",
            "Epoch 82/150\n",
            "2/2 [==============================] - 0s 19ms/step - loss: 5.3542 - mae: 5.3542\n",
            "Epoch 83/150\n",
            "2/2 [==============================] - 0s 11ms/step - loss: 5.2913 - mae: 5.2913\n",
            "Epoch 84/150\n",
            "2/2 [==============================] - 0s 11ms/step - loss: 5.2411 - mae: 5.2411\n",
            "Epoch 85/150\n",
            "2/2 [==============================] - 0s 16ms/step - loss: 5.1408 - mae: 5.1408\n",
            "Epoch 86/150\n",
            "2/2 [==============================] - 0s 8ms/step - loss: 5.0670 - mae: 5.0670\n",
            "Epoch 87/150\n",
            "2/2 [==============================] - 0s 8ms/step - loss: 5.0011 - mae: 5.0011\n",
            "Epoch 88/150\n",
            "2/2 [==============================] - 0s 10ms/step - loss: 4.9406 - mae: 4.9406\n",
            "Epoch 89/150\n",
            "2/2 [==============================] - 0s 10ms/step - loss: 4.8705 - mae: 4.8705\n",
            "Epoch 90/150\n",
            "2/2 [==============================] - 0s 11ms/step - loss: 4.8013 - mae: 4.8013\n",
            "Epoch 91/150\n",
            "2/2 [==============================] - 0s 9ms/step - loss: 4.7287 - mae: 4.7287\n",
            "Epoch 92/150\n",
            "2/2 [==============================] - 0s 9ms/step - loss: 4.6539 - mae: 4.6539\n",
            "Epoch 93/150\n",
            "2/2 [==============================] - 0s 12ms/step - loss: 4.6159 - mae: 4.6159\n",
            "Epoch 94/150\n",
            "2/2 [==============================] - 0s 13ms/step - loss: 4.4988 - mae: 4.4988\n",
            "Epoch 95/150\n",
            "2/2 [==============================] - 0s 7ms/step - loss: 4.4067 - mae: 4.4067\n",
            "Epoch 96/150\n",
            "2/2 [==============================] - 0s 7ms/step - loss: 4.3123 - mae: 4.3123\n",
            "Epoch 97/150\n",
            "2/2 [==============================] - 0s 7ms/step - loss: 4.2434 - mae: 4.2434\n",
            "Epoch 98/150\n",
            "2/2 [==============================] - 0s 8ms/step - loss: 4.1195 - mae: 4.1195\n",
            "Epoch 99/150\n",
            "2/2 [==============================] - 0s 8ms/step - loss: 4.0219 - mae: 4.0219\n",
            "Epoch 100/150\n",
            "2/2 [==============================] - 0s 7ms/step - loss: 3.9449 - mae: 3.9449\n",
            "Epoch 101/150\n",
            "2/2 [==============================] - 0s 7ms/step - loss: 3.8933 - mae: 3.8933\n",
            "Epoch 102/150\n",
            "2/2 [==============================] - 0s 19ms/step - loss: 3.7768 - mae: 3.7768\n",
            "Epoch 103/150\n",
            "2/2 [==============================] - 0s 12ms/step - loss: 3.6660 - mae: 3.6660\n",
            "Epoch 104/150\n",
            "2/2 [==============================] - 0s 8ms/step - loss: 3.5801 - mae: 3.5801\n",
            "Epoch 105/150\n",
            "2/2 [==============================] - 0s 8ms/step - loss: 3.5112 - mae: 3.5112\n",
            "Epoch 106/150\n",
            "2/2 [==============================] - 0s 8ms/step - loss: 3.4309 - mae: 3.4309\n",
            "Epoch 107/150\n",
            "2/2 [==============================] - 0s 12ms/step - loss: 3.2936 - mae: 3.2936\n",
            "Epoch 108/150\n",
            "2/2 [==============================] - 0s 14ms/step - loss: 3.2054 - mae: 3.2054\n",
            "Epoch 109/150\n",
            "2/2 [==============================] - 0s 10ms/step - loss: 3.0939 - mae: 3.0939\n",
            "Epoch 110/150\n",
            "2/2 [==============================] - 0s 13ms/step - loss: 3.0126 - mae: 3.0126\n",
            "Epoch 111/150\n",
            "2/2 [==============================] - 0s 15ms/step - loss: 2.9055 - mae: 2.9055\n",
            "Epoch 112/150\n",
            "2/2 [==============================] - 0s 5ms/step - loss: 2.7936 - mae: 2.7936\n",
            "Epoch 113/150\n",
            "2/2 [==============================] - 0s 7ms/step - loss: 2.7139 - mae: 2.7139\n",
            "Epoch 114/150\n",
            "2/2 [==============================] - 0s 4ms/step - loss: 2.5981 - mae: 2.5981\n",
            "Epoch 115/150\n",
            "2/2 [==============================] - 0s 4ms/step - loss: 2.4759 - mae: 2.4759\n",
            "Epoch 116/150\n",
            "2/2 [==============================] - 0s 10ms/step - loss: 2.3616 - mae: 2.3616\n",
            "Epoch 117/150\n",
            "2/2 [==============================] - 0s 8ms/step - loss: 2.2412 - mae: 2.2412\n",
            "Epoch 118/150\n",
            "2/2 [==============================] - 0s 8ms/step - loss: 2.1330 - mae: 2.1330\n",
            "Epoch 119/150\n",
            "2/2 [==============================] - 0s 7ms/step - loss: 2.0286 - mae: 2.0286\n",
            "Epoch 120/150\n",
            "2/2 [==============================] - 0s 11ms/step - loss: 1.9210 - mae: 1.9210\n",
            "Epoch 121/150\n",
            "2/2 [==============================] - 0s 15ms/step - loss: 1.8204 - mae: 1.8204\n",
            "Epoch 122/150\n",
            "2/2 [==============================] - 0s 9ms/step - loss: 1.6818 - mae: 1.6818\n",
            "Epoch 123/150\n",
            "2/2 [==============================] - 0s 8ms/step - loss: 1.6600 - mae: 1.6600\n",
            "Epoch 124/150\n",
            "2/2 [==============================] - 0s 7ms/step - loss: 1.4522 - mae: 1.4522\n",
            "Epoch 125/150\n",
            "2/2 [==============================] - 0s 8ms/step - loss: 1.3575 - mae: 1.3575\n",
            "Epoch 126/150\n",
            "2/2 [==============================] - 0s 7ms/step - loss: 1.3171 - mae: 1.3171\n",
            "Epoch 127/150\n",
            "2/2 [==============================] - 0s 8ms/step - loss: 1.0885 - mae: 1.0885\n",
            "Epoch 128/150\n",
            "2/2 [==============================] - 0s 7ms/step - loss: 1.3043 - mae: 1.3043\n",
            "Epoch 129/150\n",
            "2/2 [==============================] - 0s 11ms/step - loss: 0.8965 - mae: 0.8965\n",
            "Epoch 130/150\n",
            "2/2 [==============================] - 0s 8ms/step - loss: 0.9771 - mae: 0.9771\n",
            "Epoch 131/150\n",
            "2/2 [==============================] - 0s 9ms/step - loss: 0.6971 - mae: 0.6971\n",
            "Epoch 132/150\n",
            "2/2 [==============================] - 0s 7ms/step - loss: 0.6155 - mae: 0.6155\n",
            "Epoch 133/150\n",
            "2/2 [==============================] - 0s 7ms/step - loss: 0.4650 - mae: 0.4650\n",
            "Epoch 134/150\n",
            "2/2 [==============================] - 0s 7ms/step - loss: 0.3709 - mae: 0.3709\n",
            "Epoch 135/150\n",
            "2/2 [==============================] - 0s 7ms/step - loss: 0.2275 - mae: 0.2275\n",
            "Epoch 136/150\n",
            "2/2 [==============================] - 0s 7ms/step - loss: 0.1465 - mae: 0.1465\n",
            "Epoch 137/150\n",
            "2/2 [==============================] - 0s 7ms/step - loss: 0.4994 - mae: 0.4994\n",
            "Epoch 138/150\n",
            "2/2 [==============================] - 0s 7ms/step - loss: 0.5847 - mae: 0.5847\n",
            "Epoch 139/150\n",
            "2/2 [==============================] - 0s 7ms/step - loss: 0.2860 - mae: 0.2860\n",
            "Epoch 140/150\n",
            "2/2 [==============================] - 0s 10ms/step - loss: 0.4237 - mae: 0.4237\n",
            "Epoch 141/150\n",
            "2/2 [==============================] - 0s 12ms/step - loss: 0.3867 - mae: 0.3867\n",
            "Epoch 142/150\n",
            "2/2 [==============================] - 0s 14ms/step - loss: 0.3142 - mae: 0.3142\n",
            "Epoch 143/150\n",
            "2/2 [==============================] - 0s 15ms/step - loss: 0.3144 - mae: 0.3144\n",
            "Epoch 144/150\n",
            "2/2 [==============================] - 0s 13ms/step - loss: 0.4722 - mae: 0.4722\n",
            "Epoch 145/150\n",
            "2/2 [==============================] - 0s 7ms/step - loss: 0.5243 - mae: 0.5243\n",
            "Epoch 146/150\n",
            "2/2 [==============================] - 0s 8ms/step - loss: 0.3852 - mae: 0.3852\n",
            "Epoch 147/150\n",
            "2/2 [==============================] - 0s 5ms/step - loss: 0.6737 - mae: 0.6737\n",
            "Epoch 148/150\n",
            "2/2 [==============================] - 0s 6ms/step - loss: 0.8405 - mae: 0.8405\n",
            "Epoch 149/150\n",
            "2/2 [==============================] - 0s 6ms/step - loss: 0.4759 - mae: 0.4759\n",
            "Epoch 150/150\n",
            "2/2 [==============================] - 0s 6ms/step - loss: 0.2138 - mae: 0.2138\n"
          ]
        },
        {
          "output_type": "execute_result",
          "data": {
            "text/plain": [
              "<keras.callbacks.History at 0x7fa0ae1eed10>"
            ]
          },
          "metadata": {},
          "execution_count": 31
        }
      ]
    },
    {
      "cell_type": "code",
      "source": [
        "y_pred = model.predict(X_test)\n",
        "y_pred"
      ],
      "metadata": {
        "id": "7LlyZlAdI_BE",
        "outputId": "c1ddf60e-9c21-4f4d-e10d-75c36ce8ccaa",
        "colab": {
          "base_uri": "https://localhost:8080/"
        }
      },
      "execution_count": 32,
      "outputs": [
        {
          "output_type": "stream",
          "name": "stdout",
          "text": [
            "WARNING:tensorflow:5 out of the last 5 calls to <function Model.make_predict_function.<locals>.predict_function at 0x7fa12011d050> triggered tf.function retracing. Tracing is expensive and the excessive number of tracings could be due to (1) creating @tf.function repeatedly in a loop, (2) passing tensors with different shapes, (3) passing Python objects instead of tensors. For (1), please define your @tf.function outside of the loop. For (2), @tf.function has experimental_relax_shapes=True option that relaxes argument shapes that can avoid unnecessary retracing. For (3), please refer to https://www.tensorflow.org/guide/function#controlling_retracing and https://www.tensorflow.org/api_docs/python/tf/function for  more details.\n"
          ]
        },
        {
          "output_type": "execute_result",
          "data": {
            "text/plain": [
              "array([[ 69.80542 ],\n",
              "       [ 73.79359 ],\n",
              "       [ 77.781746],\n",
              "       [ 81.769905],\n",
              "       [ 85.75807 ],\n",
              "       [ 89.74623 ],\n",
              "       [ 93.7344  ],\n",
              "       [ 97.72256 ],\n",
              "       [101.71073 ],\n",
              "       [105.69888 ]], dtype=float32)"
            ]
          },
          "metadata": {},
          "execution_count": 32
        }
      ]
    },
    {
      "cell_type": "code",
      "source": [
        "def plot_predictions(train_data = X_train, train_labels = y_train, test_data= X_test, test_label = y_test, predictions = y_pred):\n",
        "  plt.figure(figsize=(10,7))\n",
        "  plt.scatter(train_data, train_labels, c=\"b\", label=\"Training data\")\n",
        "  plt.scatter(test_data, test_label, c=\"g\", label=\"Test Data\")\n",
        "  plt.scatter(test_data, predictions, c=\"r\", label=\"Predictions\")\n",
        "  plt.legend();\n"
      ],
      "metadata": {
        "id": "E3sOukYfbNTA"
      },
      "execution_count": 33,
      "outputs": []
    },
    {
      "cell_type": "code",
      "source": [
        "#added no. of epochs, changed optimizer and added learning rate as 0.005\n",
        "plot_predictions(train_data = X_train, train_labels = y_train, test_data= X_test, test_label = y_test, predictions = y_pred)"
      ],
      "metadata": {
        "id": "bqwZ_rD-J2IX",
        "outputId": "43338ca6-d6a3-4d03-baa2-ae8e2e31c87f",
        "colab": {
          "base_uri": "https://localhost:8080/",
          "height": 428
        }
      },
      "execution_count": 34,
      "outputs": [
        {
          "output_type": "display_data",
          "data": {
            "text/plain": [
              "<Figure size 720x504 with 1 Axes>"
            ],
            "image/png": "[encoded data removed]"
          },
          "metadata": {
            "needs_background": "light"
          }
        }
      ]
    },
    {
      "cell_type": "markdown",
      "source": [
        "## Evaluating predictions\n",
        "\n",
        "Alongisde visualizations, evaulation metrics are your alternative best option for evaluating your model.\n",
        "\n",
        "Depending on the problem you're working on, different models have different evaluation metrics. \n",
        "\n",
        "Two of the main metrics used for regression problems are:\n",
        "* **Mean absolute error (MAE)** - the mean difference between each of the predictions.\n",
        "* **Mean squared error (MSE)** - the squared mean difference between of the predictions (use if larger errors are more detrimental than smaller errors).\n",
        "* **Huber** : combination of MSE and MAE, less sensitive towards outlier data than MSE\n",
        "\n",
        "The lower each of these values, the better.\n",
        "\n",
        "You can also use [`model.evaluate()`](https://www.tensorflow.org/api_docs/python/tf/keras/Model#evaluate) which will return the loss of the model as well as any metrics setup during the compile step."
      ],
      "metadata": {
        "id": "a1XgAvHYM08A"
      }
    },
    {
      "cell_type": "code",
      "source": [
        "# Evaluate the model on the test set\n",
        "model.evaluate(X_test, y_test)"
      ],
      "metadata": {
        "id": "WEFYwjbxM0MP",
        "outputId": "f57b14f5-b6eb-46ba-8237-b6ff7515cb4a",
        "colab": {
          "base_uri": "https://localhost:8080/"
        }
      },
      "execution_count": 35,
      "outputs": [
        {
          "output_type": "stream",
          "name": "stdout",
          "text": [
            "1/1 [==============================] - 0s 185ms/step - loss: 0.2478 - mae: 0.2478\n"
          ]
        },
        {
          "output_type": "execute_result",
          "data": {
            "text/plain": [
              "[0.24784699082374573, 0.24784699082374573]"
            ]
          },
          "metadata": {},
          "execution_count": 35
        }
      ]
    },
    {
      "cell_type": "code",
      "source": [
        ""
      ],
      "metadata": {
        "id": "LpeWo1G8N7yY"
      },
      "execution_count": 35,
      "outputs": []
    },
    {
      "cell_type": "code",
      "source": [
        "# Calculate the mean absolute error\n",
        "mae = tf.metrics.mean_absolute_error(y_true=y_test, \n",
        "                                     y_pred=y_pred)\n",
        "mae"
      ],
      "metadata": {
        "id": "G3Smz5ZxJ4-k",
        "outputId": "5937868e-844a-4fc0-baf6-1ab0faeee6d8",
        "colab": {
          "base_uri": "https://localhost:8080/"
        }
      },
      "execution_count": 36,
      "outputs": [
        {
          "output_type": "execute_result",
          "data": {
            "text/plain": [
              "<tf.Tensor: shape=(10,), dtype=float32, numpy=\n",
              "array([18.19458 , 14.965131, 12.530952, 10.892038, 10.048386, 10.      ,\n",
              "       10.74688 , 12.289022, 14.626439, 17.759106], dtype=float32)>"
            ]
          },
          "metadata": {},
          "execution_count": 36
        }
      ]
    },
    {
      "cell_type": "code",
      "source": [
        "y_test, y_pred\n",
        "# both are in different dimensions so changed to same dimention and converted to tensor to get correct mae"
      ],
      "metadata": {
        "id": "F8FKLuFgPtKI",
        "outputId": "a82eee8e-2cbf-409b-ca05-808008bcace3",
        "colab": {
          "base_uri": "https://localhost:8080/"
        }
      },
      "execution_count": 37,
      "outputs": [
        {
          "output_type": "execute_result",
          "data": {
            "text/plain": [
              "(array([ 70,  74,  78,  82,  86,  90,  94,  98, 102, 106]),\n",
              " array([[ 69.80542 ],\n",
              "        [ 73.79359 ],\n",
              "        [ 77.781746],\n",
              "        [ 81.769905],\n",
              "        [ 85.75807 ],\n",
              "        [ 89.74623 ],\n",
              "        [ 93.7344  ],\n",
              "        [ 97.72256 ],\n",
              "        [101.71073 ],\n",
              "        [105.69888 ]], dtype=float32))"
            ]
          },
          "metadata": {},
          "execution_count": 37
        }
      ]
    },
    {
      "cell_type": "code",
      "source": [
        "y_test = tf.constant(y_test)"
      ],
      "metadata": {
        "id": "cfCPYMn0Nogt"
      },
      "execution_count": 38,
      "outputs": []
    },
    {
      "cell_type": "code",
      "source": [
        "y_pred = tf.squeeze(y_pred)"
      ],
      "metadata": {
        "id": "3uwI_nmxO10S"
      },
      "execution_count": 39,
      "outputs": []
    },
    {
      "cell_type": "code",
      "source": [
        "y_test, y_pred"
      ],
      "metadata": {
        "id": "f_5kxoG-O3pA",
        "outputId": "c3e6735e-92af-471f-b582-9abc4f003e04",
        "colab": {
          "base_uri": "https://localhost:8080/"
        }
      },
      "execution_count": 40,
      "outputs": [
        {
          "output_type": "execute_result",
          "data": {
            "text/plain": [
              "(<tf.Tensor: shape=(10,), dtype=int64, numpy=array([ 70,  74,  78,  82,  86,  90,  94,  98, 102, 106])>,\n",
              " <tf.Tensor: shape=(10,), dtype=float32, numpy=\n",
              " array([ 69.80542 ,  73.79359 ,  77.781746,  81.769905,  85.75807 ,\n",
              "         89.74623 ,  93.7344  ,  97.72256 , 101.71073 , 105.69888 ],\n",
              "       dtype=float32)>)"
            ]
          },
          "metadata": {},
          "execution_count": 40
        }
      ]
    },
    {
      "cell_type": "code",
      "source": [
        "mae = tf.metrics.mean_absolute_error(y_test, y_pred)\n",
        "mae"
      ],
      "metadata": {
        "id": "b09bSjYGPYHh",
        "outputId": "7a7c95db-802f-4f9f-c066-570d1ff89bdb",
        "colab": {
          "base_uri": "https://localhost:8080/"
        }
      },
      "execution_count": 41,
      "outputs": [
        {
          "output_type": "execute_result",
          "data": {
            "text/plain": [
              "<tf.Tensor: shape=(), dtype=float32, numpy=0.24784699>"
            ]
          },
          "metadata": {},
          "execution_count": 41
        }
      ]
    },
    {
      "cell_type": "code",
      "source": [
        "mse = tf.metrics.mean_squared_error(y_test, y_pred)\n",
        "mse"
      ],
      "metadata": {
        "id": "ToAfKCofPjjG",
        "outputId": "1d1aeba2-efce-4679-f2e5-45dd87d31644",
        "colab": {
          "base_uri": "https://localhost:8080/"
        }
      },
      "execution_count": 42,
      "outputs": [
        {
          "output_type": "execute_result",
          "data": {
            "text/plain": [
              "<tf.Tensor: shape=(), dtype=float32, numpy=0.062584095>"
            ]
          },
          "metadata": {},
          "execution_count": 42
        }
      ]
    },
    {
      "cell_type": "code",
      "source": [
        "h = tf.keras.losses.Huber()\n",
        "h(y_test, y_pred).numpy()"
      ],
      "metadata": {
        "id": "RevkSMVqPoD9",
        "outputId": "bcd02e1b-cdfc-4ef0-e8f7-9816b13c3c62",
        "colab": {
          "base_uri": "https://localhost:8080/"
        }
      },
      "execution_count": 43,
      "outputs": [
        {
          "output_type": "execute_result",
          "data": {
            "text/plain": [
              "0.031292047"
            ]
          },
          "metadata": {},
          "execution_count": 43
        }
      ]
    },
    {
      "cell_type": "code",
      "source": [
        "def mae(y_true, y_pred):\n",
        "  mae = tf.metrics.mean_absolute_error(y_true = y_test, y_pred = y_pred)\n",
        "  return mae.numpy()\n",
        "\n",
        "def mse(y_true, y_pred):\n",
        "  mse = tf.metrics.mean_squared_error(y_true = y_test, y_pred = y_pred)\n",
        "  return mse.numpy()\n",
        "\n",
        "def huber_metric(y_true, y_pred):\n",
        "  h = tf.keras.losses.Huber()\n",
        "  return h(y_true, y_pred).numpy()\n",
        "  \n",
        "\n"
      ],
      "metadata": {
        "id": "O6t844UTQeQM"
      },
      "execution_count": 44,
      "outputs": []
    },
    {
      "cell_type": "markdown",
      "source": [
        "## Running experiments to improve a model\n",
        "\n",
        "After seeing the evaluation metrics and the predictions your model makes, it's likely you'll want to improve it.\n",
        "\n",
        "Again, there are many different ways you can do this, but 3 of the main ones are:\n",
        "1. **Get more data** - get more examples for your model to train on (more opportunities to learn patterns).\n",
        "2. **Make your model larger (use a more complex model)** - this might come in the form of more layers or more hidden units in each layer.\n",
        "3. **Train for longer** - give your model more of a chance to find the patterns in the data.\n",
        "\n",
        "Since we created our dataset, we could easily make more data but this isn't always the case when you're working with real-world datasets.\n",
        "\n",
        "So let's take a look at how we can improve our model using 2 and 3.\n",
        "\n",
        "To do so, we'll build 3 models and compare their results:\n",
        "1. `model_1` - same as original model, 1 layer, trained for 100 epochs.\n",
        "2. `model_2` - 2 layers, trained for 100 epochs.\n",
        "3. `model_3` - 2 layers, trained for 500 epochs.\n",
        "\n",
        "**Build `model_1`**"
      ],
      "metadata": {
        "id": "fzKmqOp0RzVw"
      }
    },
    {
      "cell_type": "code",
      "source": [
        "X_train = X[:40]  #(80% of data)\n",
        "y_train = y[:40]\n",
        "X_test = X[40:]  #(20% of data)\n",
        "y_test = y[40:]"
      ],
      "metadata": {
        "id": "dE8d649wTbLt"
      },
      "execution_count": 45,
      "outputs": []
    },
    {
      "cell_type": "code",
      "source": [
        "tf.random.set_seed=42\n",
        "model_1 = tf.keras.Sequential([\n",
        "                             tf.keras.layers.Dense(1)\n",
        "])\n",
        "model_1.compile(loss = tf.keras.losses.mae,\n",
        "              optimizer = tf.keras.optimizers.SGD(),\n",
        "              metrics=[\"mae\"])\n",
        "#model_1.fit(X_train, y_train)\n",
        "model_1.fit(tf.expand_dims(X_train, axis=-1), y_train, epochs=100)"
      ],
      "metadata": {
        "id": "2zcEo9ToRwY6",
        "outputId": "51fbbe07-41d1-4bca-95fe-44abe0c0c89c",
        "colab": {
          "base_uri": "https://localhost:8080/"
        }
      },
      "execution_count": 46,
      "outputs": [
        {
          "output_type": "stream",
          "name": "stdout",
          "text": [
            "Epoch 1/100\n",
            "2/2 [==============================] - 0s 11ms/step - loss: 8.6049 - mae: 8.6049\n",
            "Epoch 2/100\n",
            "2/2 [==============================] - 0s 10ms/step - loss: 10.4695 - mae: 10.4695\n",
            "Epoch 3/100\n",
            "2/2 [==============================] - 0s 8ms/step - loss: 10.9015 - mae: 10.9015\n",
            "Epoch 4/100\n",
            "2/2 [==============================] - 0s 13ms/step - loss: 9.4167 - mae: 9.4167\n",
            "Epoch 5/100\n",
            "2/2 [==============================] - 0s 6ms/step - loss: 10.3042 - mae: 10.3042\n",
            "Epoch 6/100\n",
            "2/2 [==============================] - 0s 20ms/step - loss: 9.5497 - mae: 9.5497\n",
            "Epoch 7/100\n",
            "2/2 [==============================] - 0s 14ms/step - loss: 8.6695 - mae: 8.6695\n",
            "Epoch 8/100\n",
            "2/2 [==============================] - 0s 11ms/step - loss: 9.0480 - mae: 9.0480\n",
            "Epoch 9/100\n",
            "2/2 [==============================] - 0s 7ms/step - loss: 19.0087 - mae: 19.0087\n",
            "Epoch 10/100\n",
            "2/2 [==============================] - 0s 6ms/step - loss: 10.2539 - mae: 10.2539\n",
            "Epoch 11/100\n",
            "2/2 [==============================] - 0s 7ms/step - loss: 8.4495 - mae: 8.4495\n",
            "Epoch 12/100\n",
            "2/2 [==============================] - 0s 6ms/step - loss: 10.7747 - mae: 10.7747\n",
            "Epoch 13/100\n",
            "2/2 [==============================] - 0s 11ms/step - loss: 9.8437 - mae: 9.8437\n",
            "Epoch 14/100\n",
            "2/2 [==============================] - 0s 8ms/step - loss: 11.9966 - mae: 11.9966\n",
            "Epoch 15/100\n",
            "2/2 [==============================] - 0s 12ms/step - loss: 12.4943 - mae: 12.4943\n",
            "Epoch 16/100\n",
            "2/2 [==============================] - 0s 8ms/step - loss: 7.9004 - mae: 7.9004\n",
            "Epoch 17/100\n",
            "2/2 [==============================] - 0s 13ms/step - loss: 12.8050 - mae: 12.8050\n",
            "Epoch 18/100\n",
            "2/2 [==============================] - 0s 13ms/step - loss: 10.4282 - mae: 10.4282\n",
            "Epoch 19/100\n",
            "2/2 [==============================] - 0s 8ms/step - loss: 19.2804 - mae: 19.2804\n",
            "Epoch 20/100\n",
            "2/2 [==============================] - 0s 6ms/step - loss: 15.9429 - mae: 15.9429\n",
            "Epoch 21/100\n",
            "2/2 [==============================] - 0s 8ms/step - loss: 11.8639 - mae: 11.8639\n",
            "Epoch 22/100\n",
            "2/2 [==============================] - 0s 12ms/step - loss: 8.4705 - mae: 8.4705\n",
            "Epoch 23/100\n",
            "2/2 [==============================] - 0s 4ms/step - loss: 9.7952 - mae: 9.7952\n",
            "Epoch 24/100\n",
            "2/2 [==============================] - 0s 7ms/step - loss: 10.8314 - mae: 10.8314\n",
            "Epoch 25/100\n",
            "2/2 [==============================] - 0s 6ms/step - loss: 9.1031 - mae: 9.1031\n",
            "Epoch 26/100\n",
            "2/2 [==============================] - 0s 9ms/step - loss: 13.0605 - mae: 13.0605\n",
            "Epoch 27/100\n",
            "2/2 [==============================] - 0s 7ms/step - loss: 10.3931 - mae: 10.3931\n",
            "Epoch 28/100\n",
            "2/2 [==============================] - 0s 7ms/step - loss: 13.3990 - mae: 13.3990\n",
            "Epoch 29/100\n",
            "2/2 [==============================] - 0s 4ms/step - loss: 9.6034 - mae: 9.6034\n",
            "Epoch 30/100\n",
            "2/2 [==============================] - 0s 17ms/step - loss: 17.2207 - mae: 17.2207\n",
            "Epoch 31/100\n",
            "2/2 [==============================] - 0s 8ms/step - loss: 22.8368 - mae: 22.8368\n",
            "Epoch 32/100\n",
            "2/2 [==============================] - 0s 7ms/step - loss: 7.9057 - mae: 7.9057\n",
            "Epoch 33/100\n",
            "2/2 [==============================] - 0s 7ms/step - loss: 14.1503 - mae: 14.1503\n",
            "Epoch 34/100\n",
            "2/2 [==============================] - 0s 9ms/step - loss: 12.3998 - mae: 12.3998\n",
            "Epoch 35/100\n",
            "2/2 [==============================] - 0s 12ms/step - loss: 8.2432 - mae: 8.2432\n",
            "Epoch 36/100\n",
            "2/2 [==============================] - 0s 14ms/step - loss: 10.4565 - mae: 10.4565\n",
            "Epoch 37/100\n",
            "2/2 [==============================] - 0s 7ms/step - loss: 10.1052 - mae: 10.1052\n",
            "Epoch 38/100\n",
            "2/2 [==============================] - 0s 8ms/step - loss: 11.2882 - mae: 11.2882\n",
            "Epoch 39/100\n",
            "2/2 [==============================] - 0s 8ms/step - loss: 14.7719 - mae: 14.7719\n",
            "Epoch 40/100\n",
            "2/2 [==============================] - 0s 6ms/step - loss: 12.9020 - mae: 12.9020\n",
            "Epoch 41/100\n",
            "2/2 [==============================] - 0s 6ms/step - loss: 9.2944 - mae: 9.2944\n",
            "Epoch 42/100\n",
            "2/2 [==============================] - 0s 7ms/step - loss: 10.9741 - mae: 10.9741\n",
            "Epoch 43/100\n",
            "2/2 [==============================] - 0s 6ms/step - loss: 8.3201 - mae: 8.3201\n",
            "Epoch 44/100\n",
            "2/2 [==============================] - 0s 7ms/step - loss: 13.0091 - mae: 13.0091\n",
            "Epoch 45/100\n",
            "2/2 [==============================] - 0s 11ms/step - loss: 13.6962 - mae: 13.6962\n",
            "Epoch 46/100\n",
            "2/2 [==============================] - 0s 7ms/step - loss: 8.3955 - mae: 8.3955\n",
            "Epoch 47/100\n",
            "2/2 [==============================] - 0s 7ms/step - loss: 9.1666 - mae: 9.1666\n",
            "Epoch 48/100\n",
            "2/2 [==============================] - 0s 7ms/step - loss: 10.6734 - mae: 10.6734\n",
            "Epoch 49/100\n",
            "2/2 [==============================] - 0s 9ms/step - loss: 7.7788 - mae: 7.7788\n",
            "Epoch 50/100\n",
            "2/2 [==============================] - 0s 5ms/step - loss: 9.5900 - mae: 9.5900\n",
            "Epoch 51/100\n",
            "2/2 [==============================] - 0s 7ms/step - loss: 9.1619 - mae: 9.1619\n",
            "Epoch 52/100\n",
            "2/2 [==============================] - 0s 6ms/step - loss: 16.4882 - mae: 16.4882\n",
            "Epoch 53/100\n",
            "2/2 [==============================] - 0s 7ms/step - loss: 14.0664 - mae: 14.0664\n",
            "Epoch 54/100\n",
            "2/2 [==============================] - 0s 6ms/step - loss: 20.9770 - mae: 20.9770\n",
            "Epoch 55/100\n",
            "2/2 [==============================] - 0s 6ms/step - loss: 16.5072 - mae: 16.5072\n",
            "Epoch 56/100\n",
            "2/2 [==============================] - 0s 6ms/step - loss: 9.8426 - mae: 9.8426\n",
            "Epoch 57/100\n",
            "2/2 [==============================] - 0s 6ms/step - loss: 9.6572 - mae: 9.6572\n",
            "Epoch 58/100\n",
            "2/2 [==============================] - 0s 6ms/step - loss: 8.9740 - mae: 8.9740\n",
            "Epoch 59/100\n",
            "2/2 [==============================] - 0s 6ms/step - loss: 10.1882 - mae: 10.1882\n",
            "Epoch 60/100\n",
            "2/2 [==============================] - 0s 6ms/step - loss: 8.4012 - mae: 8.4012\n",
            "Epoch 61/100\n",
            "2/2 [==============================] - 0s 6ms/step - loss: 9.2350 - mae: 9.2350\n",
            "Epoch 62/100\n",
            "2/2 [==============================] - 0s 6ms/step - loss: 7.2649 - mae: 7.2649\n",
            "Epoch 63/100\n",
            "2/2 [==============================] - 0s 6ms/step - loss: 8.1708 - mae: 8.1708\n",
            "Epoch 64/100\n",
            "2/2 [==============================] - 0s 6ms/step - loss: 12.5349 - mae: 12.5349\n",
            "Epoch 65/100\n",
            "2/2 [==============================] - 0s 5ms/step - loss: 10.6128 - mae: 10.6128\n",
            "Epoch 66/100\n",
            "2/2 [==============================] - 0s 6ms/step - loss: 15.4632 - mae: 15.4632\n",
            "Epoch 67/100\n",
            "2/2 [==============================] - 0s 6ms/step - loss: 9.9029 - mae: 9.9029\n",
            "Epoch 68/100\n",
            "2/2 [==============================] - 0s 6ms/step - loss: 8.6719 - mae: 8.6719\n",
            "Epoch 69/100\n",
            "2/2 [==============================] - 0s 11ms/step - loss: 13.3368 - mae: 13.3368\n",
            "Epoch 70/100\n",
            "2/2 [==============================] - 0s 6ms/step - loss: 7.4624 - mae: 7.4624\n",
            "Epoch 71/100\n",
            "2/2 [==============================] - 0s 6ms/step - loss: 12.3397 - mae: 12.3397\n",
            "Epoch 72/100\n",
            "2/2 [==============================] - 0s 5ms/step - loss: 8.4475 - mae: 8.4475\n",
            "Epoch 73/100\n",
            "2/2 [==============================] - 0s 5ms/step - loss: 6.8676 - mae: 6.8676\n",
            "Epoch 74/100\n",
            "2/2 [==============================] - 0s 7ms/step - loss: 11.0517 - mae: 11.0517\n",
            "Epoch 75/100\n",
            "2/2 [==============================] - 0s 7ms/step - loss: 9.4064 - mae: 9.4064\n",
            "Epoch 76/100\n",
            "2/2 [==============================] - 0s 6ms/step - loss: 10.8619 - mae: 10.8619\n",
            "Epoch 77/100\n",
            "2/2 [==============================] - 0s 6ms/step - loss: 14.8049 - mae: 14.8049\n",
            "Epoch 78/100\n",
            "2/2 [==============================] - 0s 7ms/step - loss: 10.8764 - mae: 10.8764\n",
            "Epoch 79/100\n",
            "2/2 [==============================] - 0s 6ms/step - loss: 15.3280 - mae: 15.3280\n",
            "Epoch 80/100\n",
            "2/2 [==============================] - 0s 6ms/step - loss: 11.7601 - mae: 11.7601\n",
            "Epoch 81/100\n",
            "2/2 [==============================] - 0s 5ms/step - loss: 9.2041 - mae: 9.2041\n",
            "Epoch 82/100\n",
            "2/2 [==============================] - 0s 6ms/step - loss: 12.8529 - mae: 12.8529\n",
            "Epoch 83/100\n",
            "2/2 [==============================] - 0s 5ms/step - loss: 10.3077 - mae: 10.3077\n",
            "Epoch 84/100\n",
            "2/2 [==============================] - 0s 6ms/step - loss: 10.5865 - mae: 10.5865\n",
            "Epoch 85/100\n",
            "2/2 [==============================] - 0s 6ms/step - loss: 9.3008 - mae: 9.3008\n",
            "Epoch 86/100\n",
            "2/2 [==============================] - 0s 6ms/step - loss: 9.1542 - mae: 9.1542\n",
            "Epoch 87/100\n",
            "2/2 [==============================] - 0s 6ms/step - loss: 11.8775 - mae: 11.8775\n",
            "Epoch 88/100\n",
            "2/2 [==============================] - 0s 6ms/step - loss: 10.4872 - mae: 10.4872\n",
            "Epoch 89/100\n",
            "2/2 [==============================] - 0s 7ms/step - loss: 6.9689 - mae: 6.9689\n",
            "Epoch 90/100\n",
            "2/2 [==============================] - 0s 6ms/step - loss: 13.8167 - mae: 13.8167\n",
            "Epoch 91/100\n",
            "2/2 [==============================] - 0s 6ms/step - loss: 7.8833 - mae: 7.8833\n",
            "Epoch 92/100\n",
            "2/2 [==============================] - 0s 6ms/step - loss: 7.4496 - mae: 7.4496\n",
            "Epoch 93/100\n",
            "2/2 [==============================] - 0s 6ms/step - loss: 9.1536 - mae: 9.1536\n",
            "Epoch 94/100\n",
            "2/2 [==============================] - 0s 6ms/step - loss: 8.5577 - mae: 8.5577\n",
            "Epoch 95/100\n",
            "2/2 [==============================] - 0s 3ms/step - loss: 11.4997 - mae: 11.4997\n",
            "Epoch 96/100\n",
            "2/2 [==============================] - 0s 6ms/step - loss: 10.2886 - mae: 10.2886\n",
            "Epoch 97/100\n",
            "2/2 [==============================] - 0s 4ms/step - loss: 7.6817 - mae: 7.6817\n",
            "Epoch 98/100\n",
            "2/2 [==============================] - 0s 7ms/step - loss: 8.6165 - mae: 8.6165\n",
            "Epoch 99/100\n",
            "2/2 [==============================] - 0s 6ms/step - loss: 9.3955 - mae: 9.3955\n",
            "Epoch 100/100\n",
            "2/2 [==============================] - 0s 7ms/step - loss: 8.8401 - mae: 8.8401\n"
          ]
        },
        {
          "output_type": "execute_result",
          "data": {
            "text/plain": [
              "<keras.callbacks.History at 0x7fa099fca390>"
            ]
          },
          "metadata": {},
          "execution_count": 46
        }
      ]
    },
    {
      "cell_type": "code",
      "source": [
        "pred_1 = model_1.predict(X_test)"
      ],
      "metadata": {
        "id": "3R2DyNL9RlvV",
        "outputId": "71c663e0-73b9-4799-d1b1-de7839f68a69",
        "colab": {
          "base_uri": "https://localhost:8080/"
        }
      },
      "execution_count": 47,
      "outputs": [
        {
          "output_type": "stream",
          "name": "stdout",
          "text": [
            "WARNING:tensorflow:6 out of the last 6 calls to <function Model.make_predict_function.<locals>.predict_function at 0x7fa0ae2d6440> triggered tf.function retracing. Tracing is expensive and the excessive number of tracings could be due to (1) creating @tf.function repeatedly in a loop, (2) passing tensors with different shapes, (3) passing Python objects instead of tensors. For (1), please define your @tf.function outside of the loop. For (2), @tf.function has experimental_relax_shapes=True option that relaxes argument shapes that can avoid unnecessary retracing. For (3), please refer to https://www.tensorflow.org/guide/function#controlling_retracing and https://www.tensorflow.org/api_docs/python/tf/function for  more details.\n"
          ]
        }
      ]
    },
    {
      "cell_type": "code",
      "source": [
        "plot_predictions(predictions = pred_1)"
      ],
      "metadata": {
        "id": "gUYuECCkUJJ1",
        "outputId": "c1503f54-c97e-4ff7-866e-05ea0167f612",
        "colab": {
          "base_uri": "https://localhost:8080/",
          "height": 428
        }
      },
      "execution_count": 48,
      "outputs": [
        {
          "output_type": "display_data",
          "data": {
            "text/plain": [
              "<Figure size 720x504 with 1 Axes>"
            ],
            "image/png": "[encoded data removed]"
          },
          "metadata": {
            "needs_background": "light"
          }
        }
      ]
    },
    {
      "cell_type": "code",
      "source": [
        "mae_1 = mae(y_test,tf.squeeze(pred_1))\n",
        "mse_1 = mse(y_test, tf.squeeze(pred_1))\n",
        "huber_1 = huber_metric(y_test, pred_1)\n",
        "print(mae_1,mse_1,huber_1)"
      ],
      "metadata": {
        "id": "RdhyYhXQU9oI",
        "outputId": "9ef83037-af57-4982-b2da-3c81dc0748df",
        "colab": {
          "base_uri": "https://localhost:8080/"
        }
      },
      "execution_count": 51,
      "outputs": [
        {
          "output_type": "stream",
          "name": "stdout",
          "text": [
            "8.647593 81.30821 15.916199\n"
          ]
        }
      ]
    },
    {
      "cell_type": "markdown",
      "source": [
        "#### Model 2: 2 dense layer, 100 epochs, sgd optimizer"
      ],
      "metadata": {
        "id": "ete3Mje3WTAO"
      }
    },
    {
      "cell_type": "code",
      "source": [
        "tf.random.set_seed=42\n",
        "model_2 = tf.keras.Sequential([\n",
        "                             tf.keras.layers.Dense(10),\n",
        "                             tf.keras.layers.Dense(1)\n",
        "])\n",
        "model_2.compile(loss = tf.keras.losses.mae,\n",
        "              optimizer = tf.keras.optimizers.SGD(),\n",
        "              metrics=[\"mae\"])\n",
        "#model_1.fit(X_train, y_train)\n",
        "model_2.fit(tf.expand_dims(X_train, axis=-1), y_train, epochs=100)"
      ],
      "metadata": {
        "id": "H-u-dVvdVokk",
        "outputId": "67c90693-c6ca-4d83-a36a-3c1e15edec8f",
        "colab": {
          "base_uri": "https://localhost:8080/"
        }
      },
      "execution_count": 52,
      "outputs": [
        {
          "output_type": "stream",
          "name": "stdout",
          "text": [
            "Epoch 1/100\n",
            "2/2 [==============================] - 0s 8ms/step - loss: 21.9353 - mae: 21.9353\n",
            "Epoch 2/100\n",
            "2/2 [==============================] - 0s 5ms/step - loss: 22.0862 - mae: 22.0862\n",
            "Epoch 3/100\n",
            "2/2 [==============================] - 0s 5ms/step - loss: 28.3525 - mae: 28.3525\n",
            "Epoch 4/100\n",
            "2/2 [==============================] - 0s 5ms/step - loss: 23.1307 - mae: 23.1307\n",
            "Epoch 5/100\n",
            "2/2 [==============================] - 0s 6ms/step - loss: 13.8184 - mae: 13.8184\n",
            "Epoch 6/100\n",
            "2/2 [==============================] - 0s 7ms/step - loss: 11.0722 - mae: 11.0722\n",
            "Epoch 7/100\n",
            "2/2 [==============================] - 0s 5ms/step - loss: 12.0519 - mae: 12.0519\n",
            "Epoch 8/100\n",
            "2/2 [==============================] - 0s 6ms/step - loss: 10.8345 - mae: 10.8345\n",
            "Epoch 9/100\n",
            "2/2 [==============================] - 0s 5ms/step - loss: 37.3929 - mae: 37.3929\n",
            "Epoch 10/100\n",
            "2/2 [==============================] - 0s 5ms/step - loss: 25.0762 - mae: 25.0762\n",
            "Epoch 11/100\n",
            "2/2 [==============================] - 0s 7ms/step - loss: 10.2397 - mae: 10.2397\n",
            "Epoch 12/100\n",
            "2/2 [==============================] - 0s 6ms/step - loss: 25.4130 - mae: 25.4130\n",
            "Epoch 13/100\n",
            "2/2 [==============================] - 0s 5ms/step - loss: 16.7518 - mae: 16.7518\n",
            "Epoch 14/100\n",
            "2/2 [==============================] - 0s 6ms/step - loss: 25.4925 - mae: 25.4925\n",
            "Epoch 15/100\n",
            "2/2 [==============================] - 0s 6ms/step - loss: 17.4063 - mae: 17.4063\n",
            "Epoch 16/100\n",
            "2/2 [==============================] - 0s 6ms/step - loss: 9.9920 - mae: 9.9920\n",
            "Epoch 17/100\n",
            "2/2 [==============================] - 0s 6ms/step - loss: 18.4421 - mae: 18.4421\n",
            "Epoch 18/100\n",
            "2/2 [==============================] - 0s 7ms/step - loss: 11.3144 - mae: 11.3144\n",
            "Epoch 19/100\n",
            "2/2 [==============================] - 0s 6ms/step - loss: 13.8716 - mae: 13.8716\n",
            "Epoch 20/100\n",
            "2/2 [==============================] - 0s 6ms/step - loss: 11.1646 - mae: 11.1646\n",
            "Epoch 21/100\n",
            "2/2 [==============================] - 0s 6ms/step - loss: 17.1884 - mae: 17.1884\n",
            "Epoch 22/100\n",
            "2/2 [==============================] - 0s 6ms/step - loss: 15.4261 - mae: 15.4261\n",
            "Epoch 23/100\n",
            "2/2 [==============================] - 0s 6ms/step - loss: 9.2387 - mae: 9.2387\n",
            "Epoch 24/100\n",
            "2/2 [==============================] - 0s 6ms/step - loss: 17.2938 - mae: 17.2938\n",
            "Epoch 25/100\n",
            "2/2 [==============================] - 0s 6ms/step - loss: 15.9566 - mae: 15.9566\n",
            "Epoch 26/100\n",
            "2/2 [==============================] - 0s 7ms/step - loss: 20.9786 - mae: 20.9786\n",
            "Epoch 27/100\n",
            "2/2 [==============================] - 0s 6ms/step - loss: 25.8546 - mae: 25.8546\n",
            "Epoch 28/100\n",
            "2/2 [==============================] - 0s 6ms/step - loss: 18.3662 - mae: 18.3662\n",
            "Epoch 29/100\n",
            "2/2 [==============================] - 0s 6ms/step - loss: 9.2329 - mae: 9.2329\n",
            "Epoch 30/100\n",
            "2/2 [==============================] - 0s 7ms/step - loss: 28.9805 - mae: 28.9805\n",
            "Epoch 31/100\n",
            "2/2 [==============================] - 0s 6ms/step - loss: 52.4765 - mae: 52.4765\n",
            "Epoch 32/100\n",
            "2/2 [==============================] - 0s 7ms/step - loss: 11.8777 - mae: 11.8777\n",
            "Epoch 33/100\n",
            "2/2 [==============================] - 0s 6ms/step - loss: 15.4465 - mae: 15.4465\n",
            "Epoch 34/100\n",
            "2/2 [==============================] - 0s 8ms/step - loss: 12.5576 - mae: 12.5576\n",
            "Epoch 35/100\n",
            "2/2 [==============================] - 0s 9ms/step - loss: 9.1757 - mae: 9.1757\n",
            "Epoch 36/100\n",
            "2/2 [==============================] - 0s 10ms/step - loss: 16.4221 - mae: 16.4221\n",
            "Epoch 37/100\n",
            "2/2 [==============================] - 0s 6ms/step - loss: 11.0940 - mae: 11.0940\n",
            "Epoch 38/100\n",
            "2/2 [==============================] - 0s 7ms/step - loss: 18.2250 - mae: 18.2250\n",
            "Epoch 39/100\n",
            "2/2 [==============================] - 0s 6ms/step - loss: 19.1549 - mae: 19.1549\n",
            "Epoch 40/100\n",
            "2/2 [==============================] - 0s 6ms/step - loss: 20.5317 - mae: 20.5317\n",
            "Epoch 41/100\n",
            "2/2 [==============================] - 0s 6ms/step - loss: 14.7742 - mae: 14.7742\n",
            "Epoch 42/100\n",
            "2/2 [==============================] - 0s 7ms/step - loss: 12.1779 - mae: 12.1779\n",
            "Epoch 43/100\n",
            "2/2 [==============================] - 0s 6ms/step - loss: 10.6799 - mae: 10.6799\n",
            "Epoch 44/100\n",
            "2/2 [==============================] - 0s 10ms/step - loss: 32.2250 - mae: 32.2250\n",
            "Epoch 45/100\n",
            "2/2 [==============================] - 0s 5ms/step - loss: 12.4480 - mae: 12.4480\n",
            "Epoch 46/100\n",
            "2/2 [==============================] - 0s 6ms/step - loss: 17.4835 - mae: 17.4835\n",
            "Epoch 47/100\n",
            "2/2 [==============================] - 0s 6ms/step - loss: 15.7628 - mae: 15.7628\n",
            "Epoch 48/100\n",
            "2/2 [==============================] - 0s 6ms/step - loss: 8.3758 - mae: 8.3758\n",
            "Epoch 49/100\n",
            "2/2 [==============================] - 0s 6ms/step - loss: 13.9879 - mae: 13.9879\n",
            "Epoch 50/100\n",
            "2/2 [==============================] - 0s 5ms/step - loss: 12.8303 - mae: 12.8303\n",
            "Epoch 51/100\n",
            "2/2 [==============================] - 0s 6ms/step - loss: 14.8378 - mae: 14.8378\n",
            "Epoch 52/100\n",
            "2/2 [==============================] - 0s 6ms/step - loss: 18.7218 - mae: 18.7218\n",
            "Epoch 53/100\n",
            "2/2 [==============================] - 0s 6ms/step - loss: 24.1752 - mae: 24.1752\n",
            "Epoch 54/100\n",
            "2/2 [==============================] - 0s 6ms/step - loss: 23.1613 - mae: 23.1613\n",
            "Epoch 55/100\n",
            "2/2 [==============================] - 0s 6ms/step - loss: 24.0097 - mae: 24.0097\n",
            "Epoch 56/100\n",
            "2/2 [==============================] - 0s 6ms/step - loss: 11.1460 - mae: 11.1460\n",
            "Epoch 57/100\n",
            "2/2 [==============================] - 0s 6ms/step - loss: 13.0999 - mae: 13.0999\n",
            "Epoch 58/100\n",
            "2/2 [==============================] - 0s 7ms/step - loss: 9.7993 - mae: 9.7993\n",
            "Epoch 59/100\n",
            "2/2 [==============================] - 0s 6ms/step - loss: 13.2909 - mae: 13.2909\n",
            "Epoch 60/100\n",
            "2/2 [==============================] - 0s 7ms/step - loss: 10.8583 - mae: 10.8583\n",
            "Epoch 61/100\n",
            "2/2 [==============================] - 0s 7ms/step - loss: 13.4608 - mae: 13.4608\n",
            "Epoch 62/100\n",
            "2/2 [==============================] - 0s 7ms/step - loss: 17.4913 - mae: 17.4913\n",
            "Epoch 63/100\n",
            "2/2 [==============================] - 0s 7ms/step - loss: 9.1507 - mae: 9.1507\n",
            "Epoch 64/100\n",
            "2/2 [==============================] - 0s 6ms/step - loss: 18.3653 - mae: 18.3653\n",
            "Epoch 65/100\n",
            "2/2 [==============================] - 0s 7ms/step - loss: 10.1067 - mae: 10.1067\n",
            "Epoch 66/100\n",
            "2/2 [==============================] - 0s 6ms/step - loss: 24.2312 - mae: 24.2312\n",
            "Epoch 67/100\n",
            "2/2 [==============================] - 0s 7ms/step - loss: 10.8745 - mae: 10.8745\n",
            "Epoch 68/100\n",
            "2/2 [==============================] - 0s 7ms/step - loss: 10.7588 - mae: 10.7588\n",
            "Epoch 69/100\n",
            "2/2 [==============================] - 0s 7ms/step - loss: 23.2247 - mae: 23.2247\n",
            "Epoch 70/100\n",
            "2/2 [==============================] - 0s 6ms/step - loss: 8.8148 - mae: 8.8148\n",
            "Epoch 71/100\n",
            "2/2 [==============================] - 0s 6ms/step - loss: 15.9842 - mae: 15.9842\n",
            "Epoch 72/100\n",
            "2/2 [==============================] - 0s 7ms/step - loss: 8.1389 - mae: 8.1389\n",
            "Epoch 73/100\n",
            "2/2 [==============================] - 0s 7ms/step - loss: 9.4628 - mae: 9.4628\n",
            "Epoch 74/100\n",
            "2/2 [==============================] - 0s 6ms/step - loss: 28.1605 - mae: 28.1605\n",
            "Epoch 75/100\n",
            "2/2 [==============================] - 0s 7ms/step - loss: 10.1856 - mae: 10.1856\n",
            "Epoch 76/100\n",
            "2/2 [==============================] - 0s 6ms/step - loss: 13.1352 - mae: 13.1352\n",
            "Epoch 77/100\n",
            "2/2 [==============================] - 0s 7ms/step - loss: 18.3781 - mae: 18.3781\n",
            "Epoch 78/100\n",
            "2/2 [==============================] - 0s 7ms/step - loss: 9.0070 - mae: 9.0070\n",
            "Epoch 79/100\n",
            "2/2 [==============================] - 0s 6ms/step - loss: 23.4318 - mae: 23.4318\n",
            "Epoch 80/100\n",
            "2/2 [==============================] - 0s 12ms/step - loss: 26.1007 - mae: 26.1007\n",
            "Epoch 81/100\n",
            "2/2 [==============================] - 0s 7ms/step - loss: 11.3774 - mae: 11.3774\n",
            "Epoch 82/100\n",
            "2/2 [==============================] - 0s 7ms/step - loss: 12.4943 - mae: 12.4943\n",
            "Epoch 83/100\n",
            "2/2 [==============================] - 0s 6ms/step - loss: 17.1806 - mae: 17.1806\n",
            "Epoch 84/100\n",
            "2/2 [==============================] - 0s 6ms/step - loss: 6.5867 - mae: 6.5867\n",
            "Epoch 85/100\n",
            "2/2 [==============================] - 0s 6ms/step - loss: 20.2937 - mae: 20.2937\n",
            "Epoch 86/100\n",
            "2/2 [==============================] - 0s 7ms/step - loss: 10.1603 - mae: 10.1603\n",
            "Epoch 87/100\n",
            "2/2 [==============================] - 0s 7ms/step - loss: 24.3412 - mae: 24.3412\n",
            "Epoch 88/100\n",
            "2/2 [==============================] - 0s 6ms/step - loss: 19.0062 - mae: 19.0062\n",
            "Epoch 89/100\n",
            "2/2 [==============================] - 0s 6ms/step - loss: 7.1568 - mae: 7.1568\n",
            "Epoch 90/100\n",
            "2/2 [==============================] - 0s 7ms/step - loss: 18.2525 - mae: 18.2525\n",
            "Epoch 91/100\n",
            "2/2 [==============================] - 0s 8ms/step - loss: 13.3016 - mae: 13.3016\n",
            "Epoch 92/100\n",
            "2/2 [==============================] - 0s 5ms/step - loss: 14.8493 - mae: 14.8493\n",
            "Epoch 93/100\n",
            "2/2 [==============================] - 0s 6ms/step - loss: 11.6420 - mae: 11.6420\n",
            "Epoch 94/100\n",
            "2/2 [==============================] - 0s 8ms/step - loss: 16.1989 - mae: 16.1989\n",
            "Epoch 95/100\n",
            "2/2 [==============================] - 0s 7ms/step - loss: 15.5408 - mae: 15.5408\n",
            "Epoch 96/100\n",
            "2/2 [==============================] - 0s 6ms/step - loss: 15.0745 - mae: 15.0745\n",
            "Epoch 97/100\n",
            "2/2 [==============================] - 0s 7ms/step - loss: 10.9028 - mae: 10.9028\n",
            "Epoch 98/100\n",
            "2/2 [==============================] - 0s 6ms/step - loss: 14.3632 - mae: 14.3632\n",
            "Epoch 99/100\n",
            "2/2 [==============================] - 0s 6ms/step - loss: 13.3803 - mae: 13.3803\n",
            "Epoch 100/100\n",
            "2/2 [==============================] - 0s 6ms/step - loss: 20.0006 - mae: 20.0006\n"
          ]
        },
        {
          "output_type": "execute_result",
          "data": {
            "text/plain": [
              "<keras.callbacks.History at 0x7fa099f34050>"
            ]
          },
          "metadata": {},
          "execution_count": 52
        }
      ]
    },
    {
      "cell_type": "code",
      "source": [
        "pred_2 = model_2.predict(X_test)"
      ],
      "metadata": {
        "id": "_UboyAz9Wjej"
      },
      "execution_count": 53,
      "outputs": []
    },
    {
      "cell_type": "code",
      "source": [
        "mae_2 = mae(y_test, tf.squeeze(pred_2))\n",
        "mse_2 = mse(y_test, tf.squeeze(pred_2))\n",
        "huber_2 = huber_metric(y_test, tf.squeeze(pred_2))\n",
        "print(mae_1,mse_1,huber_1)\n",
        "print(mae_2,mse_2,huber_2)"
      ],
      "metadata": {
        "id": "0PzTWzWtWsMb",
        "outputId": "b7a0a3b5-a384-4d5c-d19f-95b74618d9f1",
        "colab": {
          "base_uri": "https://localhost:8080/"
        }
      },
      "execution_count": 54,
      "outputs": [
        {
          "output_type": "stream",
          "name": "stdout",
          "text": [
            "8.647593 81.30821 15.916199\n",
            "29.653305 910.3262 29.153305\n"
          ]
        }
      ]
    },
    {
      "cell_type": "code",
      "source": [
        "plot_predictions(predictions = pred_2)"
      ],
      "metadata": {
        "id": "vHTHaFRLW0WO",
        "outputId": "7b77a41b-0c52-42cc-9bc4-2065d6d8ddba",
        "colab": {
          "base_uri": "https://localhost:8080/",
          "height": 428
        }
      },
      "execution_count": 55,
      "outputs": [
        {
          "output_type": "display_data",
          "data": {
            "text/plain": [
              "<Figure size 720x504 with 1 Axes>"
            ],
            "image/png": "[encoded data removed]"
          },
          "metadata": {
            "needs_background": "light"
          }
        }
      ]
    },
    {
      "cell_type": "markdown",
      "source": [
        "#### Model 3: Change 100 to 500 echo"
      ],
      "metadata": {
        "id": "LL3iiERPXO4k"
      }
    },
    {
      "cell_type": "code",
      "source": [
        "model_3 = tf.keras.Sequential([\n",
        "                               tf.keras.layers.Dense(10),\n",
        "                               tf.keras.layers.Dense(1)\n",
        "])\n",
        "model_3.compile(loss= tf.keras.losses.mae,\n",
        "                           optimizer = tf.keras.optimizers.SGD(),\n",
        "                           metrics = [\"mae\"])\n",
        "model_3.fit(tf.expand_dims(X_train, axis=-1),y_train, epochs=500)"
      ],
      "metadata": {
        "id": "mvmVOf9mXACP",
        "outputId": "74aff023-30cd-41b3-fd81-20a05ef1aa84",
        "colab": {
          "base_uri": "https://localhost:8080/"
        }
      },
      "execution_count": 56,
      "outputs": [
        {
          "output_type": "stream",
          "name": "stdout",
          "text": [
            "Epoch 1/500\n",
            "2/2 [==============================] - 0s 11ms/step - loss: 35.0726 - mae: 35.0726\n",
            "Epoch 2/500\n",
            "2/2 [==============================] - 0s 6ms/step - loss: 28.2167 - mae: 28.2167\n",
            "Epoch 3/500\n",
            "2/2 [==============================] - 0s 6ms/step - loss: 32.8998 - mae: 32.8998\n",
            "Epoch 4/500\n",
            "2/2 [==============================] - 0s 5ms/step - loss: 29.4375 - mae: 29.4375\n",
            "Epoch 5/500\n",
            "2/2 [==============================] - 0s 6ms/step - loss: 16.3481 - mae: 16.3481\n",
            "Epoch 6/500\n",
            "2/2 [==============================] - 0s 6ms/step - loss: 11.1287 - mae: 11.1287\n",
            "Epoch 7/500\n",
            "2/2 [==============================] - 0s 5ms/step - loss: 12.1421 - mae: 12.1421\n",
            "Epoch 8/500\n",
            "2/2 [==============================] - 0s 5ms/step - loss: 10.9064 - mae: 10.9064\n",
            "Epoch 9/500\n",
            "2/2 [==============================] - 0s 5ms/step - loss: 37.9402 - mae: 37.9402\n",
            "Epoch 10/500\n",
            "2/2 [==============================] - 0s 5ms/step - loss: 25.5372 - mae: 25.5372\n",
            "Epoch 11/500\n",
            "2/2 [==============================] - 0s 5ms/step - loss: 10.2536 - mae: 10.2536\n",
            "Epoch 12/500\n",
            "2/2 [==============================] - 0s 5ms/step - loss: 25.3073 - mae: 25.3073\n",
            "Epoch 13/500\n",
            "2/2 [==============================] - 0s 6ms/step - loss: 16.9925 - mae: 16.9925\n",
            "Epoch 14/500\n",
            "2/2 [==============================] - 0s 6ms/step - loss: 25.9225 - mae: 25.9225\n",
            "Epoch 15/500\n",
            "2/2 [==============================] - 0s 6ms/step - loss: 17.9958 - mae: 17.9958\n",
            "Epoch 16/500\n",
            "2/2 [==============================] - 0s 6ms/step - loss: 7.3541 - mae: 7.3541\n",
            "Epoch 17/500\n",
            "2/2 [==============================] - 0s 6ms/step - loss: 10.8655 - mae: 10.8655\n",
            "Epoch 18/500\n",
            "2/2 [==============================] - 0s 8ms/step - loss: 19.5335 - mae: 19.5335\n",
            "Epoch 19/500\n",
            "2/2 [==============================] - 0s 6ms/step - loss: 10.3504 - mae: 10.3504\n",
            "Epoch 20/500\n",
            "2/2 [==============================] - 0s 6ms/step - loss: 17.7021 - mae: 17.7021\n",
            "Epoch 21/500\n",
            "2/2 [==============================] - 0s 7ms/step - loss: 15.9031 - mae: 15.9031\n",
            "Epoch 22/500\n",
            "2/2 [==============================] - 0s 6ms/step - loss: 14.2058 - mae: 14.2058\n",
            "Epoch 23/500\n",
            "2/2 [==============================] - 0s 6ms/step - loss: 8.7714 - mae: 8.7714\n",
            "Epoch 24/500\n",
            "2/2 [==============================] - 0s 6ms/step - loss: 11.0558 - mae: 11.0558\n",
            "Epoch 25/500\n",
            "2/2 [==============================] - 0s 5ms/step - loss: 12.6794 - mae: 12.6794\n",
            "Epoch 26/500\n",
            "2/2 [==============================] - 0s 6ms/step - loss: 26.1666 - mae: 26.1666\n",
            "Epoch 27/500\n",
            "2/2 [==============================] - 0s 7ms/step - loss: 11.7419 - mae: 11.7419\n",
            "Epoch 28/500\n",
            "2/2 [==============================] - 0s 6ms/step - loss: 30.7591 - mae: 30.7591\n",
            "Epoch 29/500\n",
            "2/2 [==============================] - 0s 6ms/step - loss: 9.2852 - mae: 9.2852\n",
            "Epoch 30/500\n",
            "2/2 [==============================] - 0s 6ms/step - loss: 31.1570 - mae: 31.1570\n",
            "Epoch 31/500\n",
            "2/2 [==============================] - 0s 6ms/step - loss: 29.6141 - mae: 29.6141\n",
            "Epoch 32/500\n",
            "2/2 [==============================] - 0s 6ms/step - loss: 10.4513 - mae: 10.4513\n",
            "Epoch 33/500\n",
            "2/2 [==============================] - 0s 6ms/step - loss: 15.4861 - mae: 15.4861\n",
            "Epoch 34/500\n",
            "2/2 [==============================] - 0s 5ms/step - loss: 12.5890 - mae: 12.5890\n",
            "Epoch 35/500\n",
            "2/2 [==============================] - 0s 6ms/step - loss: 9.1937 - mae: 9.1937\n",
            "Epoch 36/500\n",
            "2/2 [==============================] - 0s 6ms/step - loss: 16.4584 - mae: 16.4584\n",
            "Epoch 37/500\n",
            "2/2 [==============================] - 0s 6ms/step - loss: 11.0920 - mae: 11.0920\n",
            "Epoch 38/500\n",
            "2/2 [==============================] - 0s 6ms/step - loss: 18.2224 - mae: 18.2224\n",
            "Epoch 39/500\n",
            "2/2 [==============================] - 0s 6ms/step - loss: 19.1542 - mae: 19.1542\n",
            "Epoch 40/500\n",
            "2/2 [==============================] - 0s 6ms/step - loss: 20.5290 - mae: 20.5290\n",
            "Epoch 41/500\n",
            "2/2 [==============================] - 0s 6ms/step - loss: 14.7905 - mae: 14.7905\n",
            "Epoch 42/500\n",
            "2/2 [==============================] - 0s 6ms/step - loss: 12.1899 - mae: 12.1899\n",
            "Epoch 43/500\n",
            "2/2 [==============================] - 0s 6ms/step - loss: 10.6903 - mae: 10.6903\n",
            "Epoch 44/500\n",
            "2/2 [==============================] - 0s 6ms/step - loss: 32.2157 - mae: 32.2157\n",
            "Epoch 45/500\n",
            "2/2 [==============================] - 0s 5ms/step - loss: 12.4555 - mae: 12.4555\n",
            "Epoch 46/500\n",
            "2/2 [==============================] - 0s 6ms/step - loss: 17.4735 - mae: 17.4735\n",
            "Epoch 47/500\n",
            "2/2 [==============================] - 0s 5ms/step - loss: 15.7733 - mae: 15.7733\n",
            "Epoch 48/500\n",
            "2/2 [==============================] - 0s 5ms/step - loss: 8.3867 - mae: 8.3867\n",
            "Epoch 49/500\n",
            "2/2 [==============================] - 0s 6ms/step - loss: 14.0023 - mae: 14.0023\n",
            "Epoch 50/500\n",
            "2/2 [==============================] - 0s 7ms/step - loss: 12.8417 - mae: 12.8417\n",
            "Epoch 51/500\n",
            "2/2 [==============================] - 0s 6ms/step - loss: 14.8489 - mae: 14.8489\n",
            "Epoch 52/500\n",
            "2/2 [==============================] - 0s 6ms/step - loss: 18.7328 - mae: 18.7328\n",
            "Epoch 53/500\n",
            "2/2 [==============================] - 0s 4ms/step - loss: 24.1943 - mae: 24.1943\n",
            "Epoch 54/500\n",
            "2/2 [==============================] - 0s 7ms/step - loss: 23.1202 - mae: 23.1202\n",
            "Epoch 55/500\n",
            "2/2 [==============================] - 0s 6ms/step - loss: 23.9619 - mae: 23.9619\n",
            "Epoch 56/500\n",
            "2/2 [==============================] - 0s 5ms/step - loss: 11.1391 - mae: 11.1391\n",
            "Epoch 57/500\n",
            "2/2 [==============================] - 0s 5ms/step - loss: 13.0842 - mae: 13.0842\n",
            "Epoch 58/500\n",
            "2/2 [==============================] - 0s 7ms/step - loss: 9.7926 - mae: 9.7926\n",
            "Epoch 59/500\n",
            "2/2 [==============================] - 0s 5ms/step - loss: 13.2641 - mae: 13.2641\n",
            "Epoch 60/500\n",
            "2/2 [==============================] - 0s 6ms/step - loss: 10.8465 - mae: 10.8465\n",
            "Epoch 61/500\n",
            "2/2 [==============================] - 0s 6ms/step - loss: 13.4351 - mae: 13.4351\n",
            "Epoch 62/500\n",
            "2/2 [==============================] - 0s 6ms/step - loss: 17.4243 - mae: 17.4243\n",
            "Epoch 63/500\n",
            "2/2 [==============================] - 0s 11ms/step - loss: 9.1439 - mae: 9.1439\n",
            "Epoch 64/500\n",
            "2/2 [==============================] - 0s 5ms/step - loss: 18.2946 - mae: 18.2946\n",
            "Epoch 65/500\n",
            "2/2 [==============================] - 0s 5ms/step - loss: 10.0984 - mae: 10.0984\n",
            "Epoch 66/500\n",
            "2/2 [==============================] - 0s 9ms/step - loss: 24.1334 - mae: 24.1334\n",
            "Epoch 67/500\n",
            "2/2 [==============================] - 0s 15ms/step - loss: 10.8524 - mae: 10.8524\n",
            "Epoch 68/500\n",
            "2/2 [==============================] - 0s 6ms/step - loss: 10.7441 - mae: 10.7441\n",
            "Epoch 69/500\n",
            "2/2 [==============================] - 0s 4ms/step - loss: 23.1011 - mae: 23.1011\n",
            "Epoch 70/500\n",
            "2/2 [==============================] - 0s 7ms/step - loss: 8.8409 - mae: 8.8409\n",
            "Epoch 71/500\n",
            "2/2 [==============================] - 0s 8ms/step - loss: 16.0697 - mae: 16.0697\n",
            "Epoch 72/500\n",
            "2/2 [==============================] - 0s 19ms/step - loss: 7.7570 - mae: 7.7570\n",
            "Epoch 73/500\n",
            "2/2 [==============================] - 0s 7ms/step - loss: 10.1602 - mae: 10.1602\n",
            "Epoch 74/500\n",
            "2/2 [==============================] - 0s 13ms/step - loss: 28.3441 - mae: 28.3441\n",
            "Epoch 75/500\n",
            "2/2 [==============================] - 0s 6ms/step - loss: 9.9980 - mae: 9.9980\n",
            "Epoch 76/500\n",
            "2/2 [==============================] - 0s 6ms/step - loss: 12.9108 - mae: 12.9108\n",
            "Epoch 77/500\n",
            "2/2 [==============================] - 0s 6ms/step - loss: 17.8530 - mae: 17.8530\n",
            "Epoch 78/500\n",
            "2/2 [==============================] - 0s 7ms/step - loss: 8.9603 - mae: 8.9603\n",
            "Epoch 79/500\n",
            "2/2 [==============================] - 0s 8ms/step - loss: 28.6666 - mae: 28.6666\n",
            "Epoch 80/500\n",
            "2/2 [==============================] - 0s 13ms/step - loss: 30.9952 - mae: 30.9952\n",
            "Epoch 81/500\n",
            "2/2 [==============================] - 0s 7ms/step - loss: 13.3807 - mae: 13.3807\n",
            "Epoch 82/500\n",
            "2/2 [==============================] - 0s 11ms/step - loss: 14.5301 - mae: 14.5301\n",
            "Epoch 83/500\n",
            "2/2 [==============================] - 0s 5ms/step - loss: 18.5536 - mae: 18.5536\n",
            "Epoch 84/500\n",
            "2/2 [==============================] - 0s 8ms/step - loss: 8.8185 - mae: 8.8185\n",
            "Epoch 85/500\n",
            "2/2 [==============================] - 0s 11ms/step - loss: 18.4334 - mae: 18.4334\n",
            "Epoch 86/500\n",
            "2/2 [==============================] - 0s 18ms/step - loss: 22.5153 - mae: 22.5153\n",
            "Epoch 87/500\n",
            "2/2 [==============================] - 0s 14ms/step - loss: 11.3613 - mae: 11.3613\n",
            "Epoch 88/500\n",
            "2/2 [==============================] - 0s 4ms/step - loss: 26.5291 - mae: 26.5291\n",
            "Epoch 89/500\n",
            "2/2 [==============================] - 0s 8ms/step - loss: 9.6472 - mae: 9.6472\n",
            "Epoch 90/500\n",
            "2/2 [==============================] - 0s 7ms/step - loss: 18.6883 - mae: 18.6883\n",
            "Epoch 91/500\n",
            "2/2 [==============================] - 0s 9ms/step - loss: 10.4768 - mae: 10.4768\n",
            "Epoch 92/500\n",
            "2/2 [==============================] - 0s 11ms/step - loss: 17.9121 - mae: 17.9121\n",
            "Epoch 93/500\n",
            "2/2 [==============================] - 0s 8ms/step - loss: 6.5904 - mae: 6.5904\n",
            "Epoch 94/500\n",
            "2/2 [==============================] - 0s 7ms/step - loss: 11.1223 - mae: 11.1223\n",
            "Epoch 95/500\n",
            "2/2 [==============================] - 0s 12ms/step - loss: 24.2296 - mae: 24.2296\n",
            "Epoch 96/500\n",
            "2/2 [==============================] - 0s 8ms/step - loss: 10.7243 - mae: 10.7243\n",
            "Epoch 97/500\n",
            "2/2 [==============================] - 0s 9ms/step - loss: 15.2674 - mae: 15.2674\n",
            "Epoch 98/500\n",
            "2/2 [==============================] - 0s 8ms/step - loss: 8.2497 - mae: 8.2497\n",
            "Epoch 99/500\n",
            "2/2 [==============================] - 0s 19ms/step - loss: 16.4248 - mae: 16.4248\n",
            "Epoch 100/500\n",
            "2/2 [==============================] - 0s 6ms/step - loss: 13.8477 - mae: 13.8477\n",
            "Epoch 101/500\n",
            "2/2 [==============================] - 0s 4ms/step - loss: 17.7714 - mae: 17.7714\n",
            "Epoch 102/500\n",
            "2/2 [==============================] - 0s 6ms/step - loss: 10.9956 - mae: 10.9956\n",
            "Epoch 103/500\n",
            "2/2 [==============================] - 0s 6ms/step - loss: 9.2775 - mae: 9.2775\n",
            "Epoch 104/500\n",
            "2/2 [==============================] - 0s 8ms/step - loss: 24.3032 - mae: 24.3032\n",
            "Epoch 105/500\n",
            "2/2 [==============================] - 0s 10ms/step - loss: 11.3776 - mae: 11.3776\n",
            "Epoch 106/500\n",
            "2/2 [==============================] - 0s 5ms/step - loss: 9.9688 - mae: 9.9688\n",
            "Epoch 107/500\n",
            "2/2 [==============================] - 0s 6ms/step - loss: 21.7154 - mae: 21.7154\n",
            "Epoch 108/500\n",
            "2/2 [==============================] - 0s 7ms/step - loss: 8.0032 - mae: 8.0032\n",
            "Epoch 109/500\n",
            "2/2 [==============================] - 0s 6ms/step - loss: 12.3165 - mae: 12.3165\n",
            "Epoch 110/500\n",
            "2/2 [==============================] - 0s 4ms/step - loss: 10.2738 - mae: 10.2738\n",
            "Epoch 111/500\n",
            "2/2 [==============================] - 0s 6ms/step - loss: 16.0578 - mae: 16.0578\n",
            "Epoch 112/500\n",
            "2/2 [==============================] - 0s 6ms/step - loss: 9.3338 - mae: 9.3338\n",
            "Epoch 113/500\n",
            "2/2 [==============================] - 0s 6ms/step - loss: 16.5893 - mae: 16.5893\n",
            "Epoch 114/500\n",
            "2/2 [==============================] - 0s 8ms/step - loss: 18.0563 - mae: 18.0563\n",
            "Epoch 115/500\n",
            "2/2 [==============================] - 0s 7ms/step - loss: 10.8018 - mae: 10.8018\n",
            "Epoch 116/500\n",
            "2/2 [==============================] - 0s 4ms/step - loss: 21.9547 - mae: 21.9547\n",
            "Epoch 117/500\n",
            "2/2 [==============================] - 0s 6ms/step - loss: 9.2209 - mae: 9.2209\n",
            "Epoch 118/500\n",
            "2/2 [==============================] - 0s 5ms/step - loss: 10.2189 - mae: 10.2189\n",
            "Epoch 119/500\n",
            "2/2 [==============================] - 0s 9ms/step - loss: 8.0434 - mae: 8.0434\n",
            "Epoch 120/500\n",
            "2/2 [==============================] - 0s 6ms/step - loss: 46.3558 - mae: 46.3558\n",
            "Epoch 121/500\n",
            "2/2 [==============================] - 0s 6ms/step - loss: 12.1181 - mae: 12.1181\n",
            "Epoch 122/500\n",
            "2/2 [==============================] - 0s 4ms/step - loss: 23.0972 - mae: 23.0972\n",
            "Epoch 123/500\n",
            "2/2 [==============================] - 0s 7ms/step - loss: 27.8333 - mae: 27.8333\n",
            "Epoch 124/500\n",
            "2/2 [==============================] - 0s 6ms/step - loss: 15.5962 - mae: 15.5962\n",
            "Epoch 125/500\n",
            "2/2 [==============================] - 0s 4ms/step - loss: 8.3970 - mae: 8.3970\n",
            "Epoch 126/500\n",
            "2/2 [==============================] - 0s 6ms/step - loss: 11.2437 - mae: 11.2437\n",
            "Epoch 127/500\n",
            "2/2 [==============================] - 0s 6ms/step - loss: 17.4681 - mae: 17.4681\n",
            "Epoch 128/500\n",
            "2/2 [==============================] - 0s 6ms/step - loss: 11.0276 - mae: 11.0276\n",
            "Epoch 129/500\n",
            "2/2 [==============================] - 0s 6ms/step - loss: 19.6114 - mae: 19.6114\n",
            "Epoch 130/500\n",
            "2/2 [==============================] - 0s 4ms/step - loss: 10.1838 - mae: 10.1838\n",
            "Epoch 131/500\n",
            "2/2 [==============================] - 0s 16ms/step - loss: 21.2488 - mae: 21.2488\n",
            "Epoch 132/500\n",
            "2/2 [==============================] - 0s 15ms/step - loss: 8.2160 - mae: 8.2160\n",
            "Epoch 133/500\n",
            "2/2 [==============================] - 0s 8ms/step - loss: 9.0013 - mae: 9.0013\n",
            "Epoch 134/500\n",
            "2/2 [==============================] - 0s 11ms/step - loss: 16.3281 - mae: 16.3281\n",
            "Epoch 135/500\n",
            "2/2 [==============================] - 0s 13ms/step - loss: 11.2934 - mae: 11.2934\n",
            "Epoch 136/500\n",
            "2/2 [==============================] - 0s 18ms/step - loss: 20.2475 - mae: 20.2475\n",
            "Epoch 137/500\n",
            "2/2 [==============================] - 0s 7ms/step - loss: 23.6905 - mae: 23.6905\n",
            "Epoch 138/500\n",
            "2/2 [==============================] - 0s 11ms/step - loss: 9.3814 - mae: 9.3814\n",
            "Epoch 139/500\n",
            "2/2 [==============================] - 0s 10ms/step - loss: 9.0845 - mae: 9.0845\n",
            "Epoch 140/500\n",
            "2/2 [==============================] - 0s 12ms/step - loss: 17.0654 - mae: 17.0654\n",
            "Epoch 141/500\n",
            "2/2 [==============================] - 0s 16ms/step - loss: 8.3701 - mae: 8.3701\n",
            "Epoch 142/500\n",
            "2/2 [==============================] - 0s 10ms/step - loss: 34.1218 - mae: 34.1218\n",
            "Epoch 143/500\n",
            "2/2 [==============================] - 0s 8ms/step - loss: 23.1962 - mae: 23.1962\n",
            "Epoch 144/500\n",
            "2/2 [==============================] - 0s 12ms/step - loss: 10.5093 - mae: 10.5093\n",
            "Epoch 145/500\n",
            "2/2 [==============================] - 0s 6ms/step - loss: 25.8961 - mae: 25.8961\n",
            "Epoch 146/500\n",
            "2/2 [==============================] - 0s 8ms/step - loss: 9.8866 - mae: 9.8866\n",
            "Epoch 147/500\n",
            "2/2 [==============================] - 0s 18ms/step - loss: 15.0690 - mae: 15.0690\n",
            "Epoch 148/500\n",
            "2/2 [==============================] - 0s 7ms/step - loss: 17.5191 - mae: 17.5191\n",
            "Epoch 149/500\n",
            "2/2 [==============================] - 0s 16ms/step - loss: 8.7727 - mae: 8.7727\n",
            "Epoch 150/500\n",
            "2/2 [==============================] - 0s 7ms/step - loss: 7.7619 - mae: 7.7619\n",
            "Epoch 151/500\n",
            "2/2 [==============================] - 0s 15ms/step - loss: 19.7726 - mae: 19.7726\n",
            "Epoch 152/500\n",
            "2/2 [==============================] - 0s 13ms/step - loss: 10.2529 - mae: 10.2529\n",
            "Epoch 153/500\n",
            "2/2 [==============================] - 0s 6ms/step - loss: 29.0654 - mae: 29.0654\n",
            "Epoch 154/500\n",
            "2/2 [==============================] - 0s 6ms/step - loss: 10.6998 - mae: 10.6998\n",
            "Epoch 155/500\n",
            "2/2 [==============================] - 0s 10ms/step - loss: 15.5848 - mae: 15.5848\n",
            "Epoch 156/500\n",
            "2/2 [==============================] - 0s 5ms/step - loss: 17.2906 - mae: 17.2906\n",
            "Epoch 157/500\n",
            "2/2 [==============================] - 0s 6ms/step - loss: 32.1222 - mae: 32.1222\n",
            "Epoch 158/500\n",
            "2/2 [==============================] - 0s 9ms/step - loss: 10.5550 - mae: 10.5550\n",
            "Epoch 159/500\n",
            "2/2 [==============================] - 0s 9ms/step - loss: 8.8601 - mae: 8.8601\n",
            "Epoch 160/500\n",
            "2/2 [==============================] - 0s 15ms/step - loss: 21.4229 - mae: 21.4229\n",
            "Epoch 161/500\n",
            "2/2 [==============================] - 0s 8ms/step - loss: 12.6485 - mae: 12.6485\n",
            "Epoch 162/500\n",
            "2/2 [==============================] - 0s 4ms/step - loss: 19.3118 - mae: 19.3118\n",
            "Epoch 163/500\n",
            "2/2 [==============================] - 0s 5ms/step - loss: 18.2561 - mae: 18.2561\n",
            "Epoch 164/500\n",
            "2/2 [==============================] - 0s 5ms/step - loss: 11.9653 - mae: 11.9653\n",
            "Epoch 165/500\n",
            "2/2 [==============================] - 0s 16ms/step - loss: 11.7732 - mae: 11.7732\n",
            "Epoch 166/500\n",
            "2/2 [==============================] - 0s 7ms/step - loss: 21.7118 - mae: 21.7118\n",
            "Epoch 167/500\n",
            "2/2 [==============================] - 0s 8ms/step - loss: 25.9827 - mae: 25.9827\n",
            "Epoch 168/500\n",
            "2/2 [==============================] - 0s 8ms/step - loss: 9.8625 - mae: 9.8625\n",
            "Epoch 169/500\n",
            "2/2 [==============================] - 0s 8ms/step - loss: 22.2101 - mae: 22.2101\n",
            "Epoch 170/500\n",
            "2/2 [==============================] - 0s 13ms/step - loss: 10.2420 - mae: 10.2420\n",
            "Epoch 171/500\n",
            "2/2 [==============================] - 0s 10ms/step - loss: 18.2170 - mae: 18.2170\n",
            "Epoch 172/500\n",
            "2/2 [==============================] - 0s 5ms/step - loss: 28.4323 - mae: 28.4323\n",
            "Epoch 173/500\n",
            "2/2 [==============================] - 0s 6ms/step - loss: 16.0753 - mae: 16.0753\n",
            "Epoch 174/500\n",
            "2/2 [==============================] - 0s 28ms/step - loss: 10.5105 - mae: 10.5105\n",
            "Epoch 175/500\n",
            "2/2 [==============================] - 0s 8ms/step - loss: 27.5138 - mae: 27.5138\n",
            "Epoch 176/500\n",
            "2/2 [==============================] - 0s 42ms/step - loss: 8.4152 - mae: 8.4152\n",
            "Epoch 177/500\n",
            "2/2 [==============================] - 0s 17ms/step - loss: 9.3876 - mae: 9.3876\n",
            "Epoch 178/500\n",
            "2/2 [==============================] - 0s 13ms/step - loss: 18.3526 - mae: 18.3526\n",
            "Epoch 179/500\n",
            "2/2 [==============================] - 0s 18ms/step - loss: 10.5279 - mae: 10.5279\n",
            "Epoch 180/500\n",
            "2/2 [==============================] - 0s 16ms/step - loss: 7.9982 - mae: 7.9982\n",
            "Epoch 181/500\n",
            "2/2 [==============================] - 0s 18ms/step - loss: 17.5403 - mae: 17.5403\n",
            "Epoch 182/500\n",
            "2/2 [==============================] - 0s 8ms/step - loss: 11.1353 - mae: 11.1353\n",
            "Epoch 183/500\n",
            "2/2 [==============================] - 0s 7ms/step - loss: 11.7782 - mae: 11.7782\n",
            "Epoch 184/500\n",
            "2/2 [==============================] - 0s 9ms/step - loss: 30.5355 - mae: 30.5355\n",
            "Epoch 185/500\n",
            "2/2 [==============================] - 0s 12ms/step - loss: 7.6092 - mae: 7.6092\n",
            "Epoch 186/500\n",
            "2/2 [==============================] - 0s 16ms/step - loss: 15.9919 - mae: 15.9919\n",
            "Epoch 187/500\n",
            "2/2 [==============================] - 0s 20ms/step - loss: 8.6324 - mae: 8.6324\n",
            "Epoch 188/500\n",
            "2/2 [==============================] - 0s 8ms/step - loss: 28.7509 - mae: 28.7509\n",
            "Epoch 189/500\n",
            "2/2 [==============================] - 0s 7ms/step - loss: 13.1928 - mae: 13.1928\n",
            "Epoch 190/500\n",
            "2/2 [==============================] - 0s 18ms/step - loss: 18.3402 - mae: 18.3402\n",
            "Epoch 191/500\n",
            "2/2 [==============================] - 0s 7ms/step - loss: 13.7747 - mae: 13.7747\n",
            "Epoch 192/500\n",
            "2/2 [==============================] - 0s 7ms/step - loss: 13.7504 - mae: 13.7504\n",
            "Epoch 193/500\n",
            "2/2 [==============================] - 0s 10ms/step - loss: 28.6116 - mae: 28.6116\n",
            "Epoch 194/500\n",
            "2/2 [==============================] - 0s 9ms/step - loss: 7.0997 - mae: 7.0997\n",
            "Epoch 195/500\n",
            "2/2 [==============================] - 0s 8ms/step - loss: 7.8243 - mae: 7.8243\n",
            "Epoch 196/500\n",
            "2/2 [==============================] - 0s 7ms/step - loss: 26.0494 - mae: 26.0494\n",
            "Epoch 197/500\n",
            "2/2 [==============================] - 0s 13ms/step - loss: 11.6058 - mae: 11.6058\n",
            "Epoch 198/500\n",
            "2/2 [==============================] - 0s 12ms/step - loss: 18.8752 - mae: 18.8752\n",
            "Epoch 199/500\n",
            "2/2 [==============================] - 0s 9ms/step - loss: 16.6811 - mae: 16.6811\n",
            "Epoch 200/500\n",
            "2/2 [==============================] - 0s 16ms/step - loss: 12.3789 - mae: 12.3789\n",
            "Epoch 201/500\n",
            "2/2 [==============================] - 0s 4ms/step - loss: 7.1467 - mae: 7.1467\n",
            "Epoch 202/500\n",
            "2/2 [==============================] - 0s 9ms/step - loss: 22.8680 - mae: 22.8680\n",
            "Epoch 203/500\n",
            "2/2 [==============================] - 0s 9ms/step - loss: 9.0237 - mae: 9.0237\n",
            "Epoch 204/500\n",
            "2/2 [==============================] - 0s 7ms/step - loss: 18.8130 - mae: 18.8130\n",
            "Epoch 205/500\n",
            "2/2 [==============================] - 0s 19ms/step - loss: 9.4119 - mae: 9.4119\n",
            "Epoch 206/500\n",
            "2/2 [==============================] - 0s 5ms/step - loss: 10.4740 - mae: 10.4740\n",
            "Epoch 207/500\n",
            "2/2 [==============================] - 0s 12ms/step - loss: 21.0033 - mae: 21.0033\n",
            "Epoch 208/500\n",
            "2/2 [==============================] - 0s 9ms/step - loss: 16.4332 - mae: 16.4332\n",
            "Epoch 209/500\n",
            "2/2 [==============================] - 0s 9ms/step - loss: 14.3022 - mae: 14.3022\n",
            "Epoch 210/500\n",
            "2/2 [==============================] - 0s 11ms/step - loss: 17.2523 - mae: 17.2523\n",
            "Epoch 211/500\n",
            "2/2 [==============================] - 0s 15ms/step - loss: 10.2815 - mae: 10.2815\n",
            "Epoch 212/500\n",
            "2/2 [==============================] - 0s 10ms/step - loss: 19.7020 - mae: 19.7020\n",
            "Epoch 213/500\n",
            "2/2 [==============================] - 0s 9ms/step - loss: 14.7035 - mae: 14.7035\n",
            "Epoch 214/500\n",
            "2/2 [==============================] - 0s 8ms/step - loss: 14.3791 - mae: 14.3791\n",
            "Epoch 215/500\n",
            "2/2 [==============================] - 0s 13ms/step - loss: 22.8529 - mae: 22.8529\n",
            "Epoch 216/500\n",
            "2/2 [==============================] - 0s 14ms/step - loss: 14.4392 - mae: 14.4392\n",
            "Epoch 217/500\n",
            "2/2 [==============================] - 0s 4ms/step - loss: 9.2178 - mae: 9.2178\n",
            "Epoch 218/500\n",
            "2/2 [==============================] - 0s 7ms/step - loss: 11.9152 - mae: 11.9152\n",
            "Epoch 219/500\n",
            "2/2 [==============================] - 0s 5ms/step - loss: 6.8145 - mae: 6.8145\n",
            "Epoch 220/500\n",
            "2/2 [==============================] - 0s 9ms/step - loss: 7.1592 - mae: 7.1592\n",
            "Epoch 221/500\n",
            "2/2 [==============================] - 0s 5ms/step - loss: 38.4243 - mae: 38.4243\n",
            "Epoch 222/500\n",
            "2/2 [==============================] - 0s 18ms/step - loss: 38.4271 - mae: 38.4271\n",
            "Epoch 223/500\n",
            "2/2 [==============================] - 0s 14ms/step - loss: 5.1176 - mae: 5.1176\n",
            "Epoch 224/500\n",
            "2/2 [==============================] - 0s 6ms/step - loss: 11.2713 - mae: 11.2713\n",
            "Epoch 225/500\n",
            "2/2 [==============================] - 0s 5ms/step - loss: 31.1331 - mae: 31.1331\n",
            "Epoch 226/500\n",
            "2/2 [==============================] - 0s 12ms/step - loss: 12.3244 - mae: 12.3244\n",
            "Epoch 227/500\n",
            "2/2 [==============================] - 0s 6ms/step - loss: 19.3124 - mae: 19.3124\n",
            "Epoch 228/500\n",
            "2/2 [==============================] - 0s 11ms/step - loss: 11.2539 - mae: 11.2539\n",
            "Epoch 229/500\n",
            "2/2 [==============================] - 0s 6ms/step - loss: 13.6084 - mae: 13.6084\n",
            "Epoch 230/500\n",
            "2/2 [==============================] - 0s 5ms/step - loss: 9.6519 - mae: 9.6519\n",
            "Epoch 231/500\n",
            "2/2 [==============================] - 0s 8ms/step - loss: 19.3349 - mae: 19.3349\n",
            "Epoch 232/500\n",
            "2/2 [==============================] - 0s 9ms/step - loss: 15.4135 - mae: 15.4135\n",
            "Epoch 233/500\n",
            "2/2 [==============================] - 0s 8ms/step - loss: 13.1796 - mae: 13.1796\n",
            "Epoch 234/500\n",
            "2/2 [==============================] - 0s 7ms/step - loss: 7.7339 - mae: 7.7339\n",
            "Epoch 235/500\n",
            "2/2 [==============================] - 0s 11ms/step - loss: 15.3738 - mae: 15.3738\n",
            "Epoch 236/500\n",
            "2/2 [==============================] - 0s 6ms/step - loss: 6.6034 - mae: 6.6034\n",
            "Epoch 237/500\n",
            "2/2 [==============================] - 0s 14ms/step - loss: 8.4538 - mae: 8.4538\n",
            "Epoch 238/500\n",
            "2/2 [==============================] - 0s 9ms/step - loss: 7.7071 - mae: 7.7071\n",
            "Epoch 239/500\n",
            "2/2 [==============================] - 0s 15ms/step - loss: 15.2193 - mae: 15.2193\n",
            "Epoch 240/500\n",
            "2/2 [==============================] - 0s 20ms/step - loss: 8.8698 - mae: 8.8698\n",
            "Epoch 241/500\n",
            "2/2 [==============================] - 0s 22ms/step - loss: 12.7195 - mae: 12.7195\n",
            "Epoch 242/500\n",
            "2/2 [==============================] - 0s 14ms/step - loss: 10.8657 - mae: 10.8657\n",
            "Epoch 243/500\n",
            "2/2 [==============================] - 0s 19ms/step - loss: 17.1826 - mae: 17.1826\n",
            "Epoch 244/500\n",
            "2/2 [==============================] - 0s 16ms/step - loss: 14.5665 - mae: 14.5665\n",
            "Epoch 245/500\n",
            "2/2 [==============================] - 0s 13ms/step - loss: 15.1310 - mae: 15.1310\n",
            "Epoch 246/500\n",
            "2/2 [==============================] - 0s 12ms/step - loss: 16.2325 - mae: 16.2325\n",
            "Epoch 247/500\n",
            "2/2 [==============================] - 0s 8ms/step - loss: 18.2464 - mae: 18.2464\n",
            "Epoch 248/500\n",
            "2/2 [==============================] - 0s 6ms/step - loss: 13.7738 - mae: 13.7738\n",
            "Epoch 249/500\n",
            "2/2 [==============================] - 0s 10ms/step - loss: 14.8573 - mae: 14.8573\n",
            "Epoch 250/500\n",
            "2/2 [==============================] - 0s 8ms/step - loss: 18.5725 - mae: 18.5725\n",
            "Epoch 251/500\n",
            "2/2 [==============================] - 0s 11ms/step - loss: 13.8627 - mae: 13.8627\n",
            "Epoch 252/500\n",
            "2/2 [==============================] - 0s 8ms/step - loss: 29.4552 - mae: 29.4552\n",
            "Epoch 253/500\n",
            "2/2 [==============================] - 0s 9ms/step - loss: 8.2894 - mae: 8.2894\n",
            "Epoch 254/500\n",
            "2/2 [==============================] - 0s 10ms/step - loss: 11.7772 - mae: 11.7772\n",
            "Epoch 255/500\n",
            "2/2 [==============================] - 0s 15ms/step - loss: 15.7094 - mae: 15.7094\n",
            "Epoch 256/500\n",
            "2/2 [==============================] - 0s 16ms/step - loss: 9.8325 - mae: 9.8325\n",
            "Epoch 257/500\n",
            "2/2 [==============================] - 0s 22ms/step - loss: 14.4053 - mae: 14.4053\n",
            "Epoch 258/500\n",
            "2/2 [==============================] - 0s 9ms/step - loss: 5.8459 - mae: 5.8459\n",
            "Epoch 259/500\n",
            "2/2 [==============================] - 0s 9ms/step - loss: 14.8811 - mae: 14.8811\n",
            "Epoch 260/500\n",
            "2/2 [==============================] - 0s 9ms/step - loss: 7.1558 - mae: 7.1558\n",
            "Epoch 261/500\n",
            "2/2 [==============================] - 0s 9ms/step - loss: 19.9762 - mae: 19.9762\n",
            "Epoch 262/500\n",
            "2/2 [==============================] - 0s 16ms/step - loss: 7.3400 - mae: 7.3400\n",
            "Epoch 263/500\n",
            "2/2 [==============================] - 0s 4ms/step - loss: 13.3209 - mae: 13.3209\n",
            "Epoch 264/500\n",
            "2/2 [==============================] - 0s 11ms/step - loss: 20.2586 - mae: 20.2586\n",
            "Epoch 265/500\n",
            "2/2 [==============================] - 0s 6ms/step - loss: 9.7117 - mae: 9.7117\n",
            "Epoch 266/500\n",
            "2/2 [==============================] - 0s 26ms/step - loss: 7.8124 - mae: 7.8124\n",
            "Epoch 267/500\n",
            "2/2 [==============================] - 0s 14ms/step - loss: 7.5998 - mae: 7.5998\n",
            "Epoch 268/500\n",
            "2/2 [==============================] - 0s 9ms/step - loss: 18.2553 - mae: 18.2553\n",
            "Epoch 269/500\n",
            "2/2 [==============================] - 0s 10ms/step - loss: 21.5507 - mae: 21.5507\n",
            "Epoch 270/500\n",
            "2/2 [==============================] - 0s 18ms/step - loss: 5.8656 - mae: 5.8656\n",
            "Epoch 271/500\n",
            "2/2 [==============================] - 0s 10ms/step - loss: 10.0584 - mae: 10.0584\n",
            "Epoch 272/500\n",
            "2/2 [==============================] - 0s 10ms/step - loss: 27.0083 - mae: 27.0083\n",
            "Epoch 273/500\n",
            "2/2 [==============================] - 0s 6ms/step - loss: 9.1298 - mae: 9.1298\n",
            "Epoch 274/500\n",
            "2/2 [==============================] - 0s 10ms/step - loss: 7.9403 - mae: 7.9403\n",
            "Epoch 275/500\n",
            "2/2 [==============================] - 0s 13ms/step - loss: 33.6690 - mae: 33.6690\n",
            "Epoch 276/500\n",
            "2/2 [==============================] - 0s 30ms/step - loss: 7.9253 - mae: 7.9253\n",
            "Epoch 277/500\n",
            "2/2 [==============================] - 0s 12ms/step - loss: 25.0465 - mae: 25.0465\n",
            "Epoch 278/500\n",
            "2/2 [==============================] - 0s 6ms/step - loss: 11.5586 - mae: 11.5586\n",
            "Epoch 279/500\n",
            "2/2 [==============================] - 0s 11ms/step - loss: 16.2873 - mae: 16.2873\n",
            "Epoch 280/500\n",
            "2/2 [==============================] - 0s 17ms/step - loss: 21.6345 - mae: 21.6345\n",
            "Epoch 281/500\n",
            "2/2 [==============================] - 0s 9ms/step - loss: 22.8386 - mae: 22.8386\n",
            "Epoch 282/500\n",
            "2/2 [==============================] - 0s 15ms/step - loss: 7.9608 - mae: 7.9608\n",
            "Epoch 283/500\n",
            "2/2 [==============================] - 0s 18ms/step - loss: 8.2693 - mae: 8.2693\n",
            "Epoch 284/500\n",
            "2/2 [==============================] - 0s 13ms/step - loss: 25.6025 - mae: 25.6025\n",
            "Epoch 285/500\n",
            "2/2 [==============================] - 0s 9ms/step - loss: 14.2014 - mae: 14.2014\n",
            "Epoch 286/500\n",
            "2/2 [==============================] - 0s 7ms/step - loss: 5.9975 - mae: 5.9975\n",
            "Epoch 287/500\n",
            "2/2 [==============================] - 0s 13ms/step - loss: 18.9636 - mae: 18.9636\n",
            "Epoch 288/500\n",
            "2/2 [==============================] - 0s 12ms/step - loss: 32.9759 - mae: 32.9759\n",
            "Epoch 289/500\n",
            "2/2 [==============================] - 0s 9ms/step - loss: 8.3578 - mae: 8.3578\n",
            "Epoch 290/500\n",
            "2/2 [==============================] - 0s 19ms/step - loss: 16.8510 - mae: 16.8510\n",
            "Epoch 291/500\n",
            "2/2 [==============================] - 0s 8ms/step - loss: 17.2143 - mae: 17.2143\n",
            "Epoch 292/500\n",
            "2/2 [==============================] - 0s 5ms/step - loss: 10.8467 - mae: 10.8467\n",
            "Epoch 293/500\n",
            "2/2 [==============================] - 0s 9ms/step - loss: 14.5486 - mae: 14.5486\n",
            "Epoch 294/500\n",
            "2/2 [==============================] - 0s 8ms/step - loss: 21.7676 - mae: 21.7676\n",
            "Epoch 295/500\n",
            "2/2 [==============================] - 0s 8ms/step - loss: 20.0562 - mae: 20.0562\n",
            "Epoch 296/500\n",
            "2/2 [==============================] - 0s 20ms/step - loss: 7.0247 - mae: 7.0247\n",
            "Epoch 297/500\n",
            "2/2 [==============================] - 0s 5ms/step - loss: 8.9922 - mae: 8.9922\n",
            "Epoch 298/500\n",
            "2/2 [==============================] - 0s 10ms/step - loss: 24.2224 - mae: 24.2224\n",
            "Epoch 299/500\n",
            "2/2 [==============================] - 0s 8ms/step - loss: 17.9586 - mae: 17.9586\n",
            "Epoch 300/500\n",
            "2/2 [==============================] - 0s 20ms/step - loss: 7.0211 - mae: 7.0211\n",
            "Epoch 301/500\n",
            "2/2 [==============================] - 0s 11ms/step - loss: 25.4523 - mae: 25.4523\n",
            "Epoch 302/500\n",
            "2/2 [==============================] - 0s 11ms/step - loss: 9.4937 - mae: 9.4937\n",
            "Epoch 303/500\n",
            "2/2 [==============================] - 0s 19ms/step - loss: 14.5026 - mae: 14.5026\n",
            "Epoch 304/500\n",
            "2/2 [==============================] - 0s 21ms/step - loss: 10.8701 - mae: 10.8701\n",
            "Epoch 305/500\n",
            "2/2 [==============================] - 0s 14ms/step - loss: 12.7326 - mae: 12.7326\n",
            "Epoch 306/500\n",
            "2/2 [==============================] - 0s 6ms/step - loss: 8.3053 - mae: 8.3053\n",
            "Epoch 307/500\n",
            "2/2 [==============================] - 0s 7ms/step - loss: 13.1713 - mae: 13.1713\n",
            "Epoch 308/500\n",
            "2/2 [==============================] - 0s 5ms/step - loss: 8.1709 - mae: 8.1709\n",
            "Epoch 309/500\n",
            "2/2 [==============================] - 0s 7ms/step - loss: 11.8285 - mae: 11.8285\n",
            "Epoch 310/500\n",
            "2/2 [==============================] - 0s 6ms/step - loss: 6.3805 - mae: 6.3805\n",
            "Epoch 311/500\n",
            "2/2 [==============================] - 0s 18ms/step - loss: 4.9887 - mae: 4.9887\n",
            "Epoch 312/500\n",
            "2/2 [==============================] - 0s 12ms/step - loss: 29.2452 - mae: 29.2452\n",
            "Epoch 313/500\n",
            "2/2 [==============================] - 0s 12ms/step - loss: 9.0145 - mae: 9.0145\n",
            "Epoch 314/500\n",
            "2/2 [==============================] - 0s 11ms/step - loss: 5.7801 - mae: 5.7801\n",
            "Epoch 315/500\n",
            "2/2 [==============================] - 0s 13ms/step - loss: 24.9026 - mae: 24.9026\n",
            "Epoch 316/500\n",
            "2/2 [==============================] - 0s 13ms/step - loss: 14.2285 - mae: 14.2285\n",
            "Epoch 317/500\n",
            "2/2 [==============================] - 0s 15ms/step - loss: 19.6917 - mae: 19.6917\n",
            "Epoch 318/500\n",
            "2/2 [==============================] - 0s 11ms/step - loss: 7.8721 - mae: 7.8721\n",
            "Epoch 319/500\n",
            "2/2 [==============================] - 0s 10ms/step - loss: 17.8788 - mae: 17.8788\n",
            "Epoch 320/500\n",
            "2/2 [==============================] - 0s 9ms/step - loss: 10.1608 - mae: 10.1608\n",
            "Epoch 321/500\n",
            "2/2 [==============================] - 0s 10ms/step - loss: 8.2602 - mae: 8.2602\n",
            "Epoch 322/500\n",
            "2/2 [==============================] - 0s 11ms/step - loss: 4.3109 - mae: 4.3109\n",
            "Epoch 323/500\n",
            "2/2 [==============================] - 0s 10ms/step - loss: 23.8106 - mae: 23.8106\n",
            "Epoch 324/500\n",
            "2/2 [==============================] - 0s 10ms/step - loss: 6.8596 - mae: 6.8596\n",
            "Epoch 325/500\n",
            "2/2 [==============================] - 0s 9ms/step - loss: 16.6031 - mae: 16.6031\n",
            "Epoch 326/500\n",
            "2/2 [==============================] - 0s 5ms/step - loss: 7.5369 - mae: 7.5369\n",
            "Epoch 327/500\n",
            "2/2 [==============================] - 0s 9ms/step - loss: 20.3861 - mae: 20.3861\n",
            "Epoch 328/500\n",
            "2/2 [==============================] - 0s 6ms/step - loss: 13.6818 - mae: 13.6818\n",
            "Epoch 329/500\n",
            "2/2 [==============================] - 0s 8ms/step - loss: 16.6996 - mae: 16.6996\n",
            "Epoch 330/500\n",
            "2/2 [==============================] - 0s 9ms/step - loss: 7.0688 - mae: 7.0688\n",
            "Epoch 331/500\n",
            "2/2 [==============================] - 0s 8ms/step - loss: 21.8082 - mae: 21.8082\n",
            "Epoch 332/500\n",
            "2/2 [==============================] - 0s 12ms/step - loss: 12.7883 - mae: 12.7883\n",
            "Epoch 333/500\n",
            "2/2 [==============================] - 0s 7ms/step - loss: 9.3764 - mae: 9.3764\n",
            "Epoch 334/500\n",
            "2/2 [==============================] - 0s 6ms/step - loss: 7.5398 - mae: 7.5398\n",
            "Epoch 335/500\n",
            "2/2 [==============================] - 0s 10ms/step - loss: 6.1340 - mae: 6.1340\n",
            "Epoch 336/500\n",
            "2/2 [==============================] - 0s 8ms/step - loss: 38.3746 - mae: 38.3746\n",
            "Epoch 337/500\n",
            "2/2 [==============================] - 0s 8ms/step - loss: 29.6825 - mae: 29.6825\n",
            "Epoch 338/500\n",
            "2/2 [==============================] - 0s 8ms/step - loss: 16.1449 - mae: 16.1449\n",
            "Epoch 339/500\n",
            "2/2 [==============================] - 0s 8ms/step - loss: 9.5954 - mae: 9.5954\n",
            "Epoch 340/500\n",
            "2/2 [==============================] - 0s 8ms/step - loss: 8.5233 - mae: 8.5233\n",
            "Epoch 341/500\n",
            "2/2 [==============================] - 0s 5ms/step - loss: 21.7710 - mae: 21.7710\n",
            "Epoch 342/500\n",
            "2/2 [==============================] - 0s 7ms/step - loss: 14.0100 - mae: 14.0100\n",
            "Epoch 343/500\n",
            "2/2 [==============================] - 0s 5ms/step - loss: 11.5005 - mae: 11.5005\n",
            "Epoch 344/500\n",
            "2/2 [==============================] - 0s 7ms/step - loss: 10.5819 - mae: 10.5819\n",
            "Epoch 345/500\n",
            "2/2 [==============================] - 0s 7ms/step - loss: 30.8093 - mae: 30.8093\n",
            "Epoch 346/500\n",
            "2/2 [==============================] - 0s 5ms/step - loss: 10.5341 - mae: 10.5341\n",
            "Epoch 347/500\n",
            "2/2 [==============================] - 0s 6ms/step - loss: 25.3828 - mae: 25.3828\n",
            "Epoch 348/500\n",
            "2/2 [==============================] - 0s 5ms/step - loss: 13.8031 - mae: 13.8031\n",
            "Epoch 349/500\n",
            "2/2 [==============================] - 0s 6ms/step - loss: 13.6034 - mae: 13.6034\n",
            "Epoch 350/500\n",
            "2/2 [==============================] - 0s 5ms/step - loss: 15.4268 - mae: 15.4268\n",
            "Epoch 351/500\n",
            "2/2 [==============================] - 0s 6ms/step - loss: 33.0064 - mae: 33.0064\n",
            "Epoch 352/500\n",
            "2/2 [==============================] - 0s 8ms/step - loss: 14.2403 - mae: 14.2403\n",
            "Epoch 353/500\n",
            "2/2 [==============================] - 0s 8ms/step - loss: 15.9483 - mae: 15.9483\n",
            "Epoch 354/500\n",
            "2/2 [==============================] - 0s 7ms/step - loss: 19.1559 - mae: 19.1559\n",
            "Epoch 355/500\n",
            "2/2 [==============================] - 0s 8ms/step - loss: 33.9133 - mae: 33.9133\n",
            "Epoch 356/500\n",
            "2/2 [==============================] - 0s 6ms/step - loss: 7.5805 - mae: 7.5805\n",
            "Epoch 357/500\n",
            "2/2 [==============================] - 0s 8ms/step - loss: 25.1200 - mae: 25.1200\n",
            "Epoch 358/500\n",
            "2/2 [==============================] - 0s 11ms/step - loss: 22.5249 - mae: 22.5249\n",
            "Epoch 359/500\n",
            "2/2 [==============================] - 0s 4ms/step - loss: 9.4494 - mae: 9.4494\n",
            "Epoch 360/500\n",
            "2/2 [==============================] - 0s 8ms/step - loss: 20.6585 - mae: 20.6585\n",
            "Epoch 361/500\n",
            "2/2 [==============================] - 0s 6ms/step - loss: 10.0465 - mae: 10.0465\n",
            "Epoch 362/500\n",
            "2/2 [==============================] - 0s 8ms/step - loss: 6.9777 - mae: 6.9777\n",
            "Epoch 363/500\n",
            "2/2 [==============================] - 0s 10ms/step - loss: 26.0474 - mae: 26.0474\n",
            "Epoch 364/500\n",
            "2/2 [==============================] - 0s 6ms/step - loss: 32.5298 - mae: 32.5298\n",
            "Epoch 365/500\n",
            "2/2 [==============================] - 0s 9ms/step - loss: 10.4074 - mae: 10.4074\n",
            "Epoch 366/500\n",
            "2/2 [==============================] - 0s 6ms/step - loss: 11.7903 - mae: 11.7903\n",
            "Epoch 367/500\n",
            "2/2 [==============================] - 0s 6ms/step - loss: 30.0874 - mae: 30.0874\n",
            "Epoch 368/500\n",
            "2/2 [==============================] - 0s 6ms/step - loss: 9.7040 - mae: 9.7040\n",
            "Epoch 369/500\n",
            "2/2 [==============================] - 0s 4ms/step - loss: 14.9117 - mae: 14.9117\n",
            "Epoch 370/500\n",
            "2/2 [==============================] - 0s 10ms/step - loss: 16.8334 - mae: 16.8334\n",
            "Epoch 371/500\n",
            "2/2 [==============================] - 0s 4ms/step - loss: 15.1117 - mae: 15.1117\n",
            "Epoch 372/500\n",
            "2/2 [==============================] - 0s 6ms/step - loss: 14.4337 - mae: 14.4337\n",
            "Epoch 373/500\n",
            "2/2 [==============================] - 0s 8ms/step - loss: 26.8273 - mae: 26.8273\n",
            "Epoch 374/500\n",
            "2/2 [==============================] - 0s 8ms/step - loss: 8.0099 - mae: 8.0099\n",
            "Epoch 375/500\n",
            "2/2 [==============================] - 0s 6ms/step - loss: 8.5812 - mae: 8.5812\n",
            "Epoch 376/500\n",
            "2/2 [==============================] - 0s 8ms/step - loss: 7.4974 - mae: 7.4974\n",
            "Epoch 377/500\n",
            "2/2 [==============================] - 0s 7ms/step - loss: 3.6759 - mae: 3.6759\n",
            "Epoch 378/500\n",
            "2/2 [==============================] - 0s 10ms/step - loss: 23.3620 - mae: 23.3620\n",
            "Epoch 379/500\n",
            "2/2 [==============================] - 0s 7ms/step - loss: 23.1549 - mae: 23.1549\n",
            "Epoch 380/500\n",
            "2/2 [==============================] - 0s 8ms/step - loss: 18.7659 - mae: 18.7659\n",
            "Epoch 381/500\n",
            "2/2 [==============================] - 0s 6ms/step - loss: 10.1868 - mae: 10.1868\n",
            "Epoch 382/500\n",
            "2/2 [==============================] - 0s 8ms/step - loss: 15.8295 - mae: 15.8295\n",
            "Epoch 383/500\n",
            "2/2 [==============================] - 0s 6ms/step - loss: 21.3334 - mae: 21.3334\n",
            "Epoch 384/500\n",
            "2/2 [==============================] - 0s 7ms/step - loss: 6.0503 - mae: 6.0503\n",
            "Epoch 385/500\n",
            "2/2 [==============================] - 0s 7ms/step - loss: 9.3083 - mae: 9.3083\n",
            "Epoch 386/500\n",
            "2/2 [==============================] - 0s 6ms/step - loss: 19.8964 - mae: 19.8964\n",
            "Epoch 387/500\n",
            "2/2 [==============================] - 0s 7ms/step - loss: 24.5563 - mae: 24.5563\n",
            "Epoch 388/500\n",
            "2/2 [==============================] - 0s 6ms/step - loss: 8.5189 - mae: 8.5189\n",
            "Epoch 389/500\n",
            "2/2 [==============================] - 0s 6ms/step - loss: 5.8037 - mae: 5.8037\n",
            "Epoch 390/500\n",
            "2/2 [==============================] - 0s 9ms/step - loss: 24.1946 - mae: 24.1946\n",
            "Epoch 391/500\n",
            "2/2 [==============================] - 0s 6ms/step - loss: 5.8156 - mae: 5.8156\n",
            "Epoch 392/500\n",
            "2/2 [==============================] - 0s 5ms/step - loss: 16.1219 - mae: 16.1219\n",
            "Epoch 393/500\n",
            "2/2 [==============================] - 0s 4ms/step - loss: 5.1915 - mae: 5.1915\n",
            "Epoch 394/500\n",
            "2/2 [==============================] - 0s 6ms/step - loss: 16.5993 - mae: 16.5993\n",
            "Epoch 395/500\n",
            "2/2 [==============================] - 0s 4ms/step - loss: 13.7873 - mae: 13.7873\n",
            "Epoch 396/500\n",
            "2/2 [==============================] - 0s 6ms/step - loss: 7.0172 - mae: 7.0172\n",
            "Epoch 397/500\n",
            "2/2 [==============================] - 0s 4ms/step - loss: 6.8023 - mae: 6.8023\n",
            "Epoch 398/500\n",
            "2/2 [==============================] - 0s 4ms/step - loss: 23.9696 - mae: 23.9696\n",
            "Epoch 399/500\n",
            "2/2 [==============================] - 0s 8ms/step - loss: 6.2865 - mae: 6.2865\n",
            "Epoch 400/500\n",
            "2/2 [==============================] - 0s 5ms/step - loss: 24.4282 - mae: 24.4282\n",
            "Epoch 401/500\n",
            "2/2 [==============================] - 0s 4ms/step - loss: 12.8999 - mae: 12.8999\n",
            "Epoch 402/500\n",
            "2/2 [==============================] - 0s 5ms/step - loss: 21.6875 - mae: 21.6875\n",
            "Epoch 403/500\n",
            "2/2 [==============================] - 0s 5ms/step - loss: 22.2827 - mae: 22.2827\n",
            "Epoch 404/500\n",
            "2/2 [==============================] - 0s 5ms/step - loss: 14.2526 - mae: 14.2526\n",
            "Epoch 405/500\n",
            "2/2 [==============================] - 0s 8ms/step - loss: 4.6733 - mae: 4.6733\n",
            "Epoch 406/500\n",
            "2/2 [==============================] - 0s 7ms/step - loss: 26.0928 - mae: 26.0928\n",
            "Epoch 407/500\n",
            "2/2 [==============================] - 0s 6ms/step - loss: 12.3134 - mae: 12.3134\n",
            "Epoch 408/500\n",
            "2/2 [==============================] - 0s 5ms/step - loss: 5.5444 - mae: 5.5444\n",
            "Epoch 409/500\n",
            "2/2 [==============================] - 0s 14ms/step - loss: 30.6971 - mae: 30.6971\n",
            "Epoch 410/500\n",
            "2/2 [==============================] - 0s 4ms/step - loss: 9.6895 - mae: 9.6895\n",
            "Epoch 411/500\n",
            "2/2 [==============================] - 0s 5ms/step - loss: 14.6104 - mae: 14.6104\n",
            "Epoch 412/500\n",
            "2/2 [==============================] - 0s 5ms/step - loss: 21.3205 - mae: 21.3205\n",
            "Epoch 413/500\n",
            "2/2 [==============================] - 0s 10ms/step - loss: 13.5455 - mae: 13.5455\n",
            "Epoch 414/500\n",
            "2/2 [==============================] - 0s 7ms/step - loss: 7.6358 - mae: 7.6358\n",
            "Epoch 415/500\n",
            "2/2 [==============================] - 0s 6ms/step - loss: 12.1351 - mae: 12.1351\n",
            "Epoch 416/500\n",
            "2/2 [==============================] - 0s 8ms/step - loss: 25.7641 - mae: 25.7641\n",
            "Epoch 417/500\n",
            "2/2 [==============================] - 0s 8ms/step - loss: 15.3539 - mae: 15.3539\n",
            "Epoch 418/500\n",
            "2/2 [==============================] - 0s 6ms/step - loss: 12.6768 - mae: 12.6768\n",
            "Epoch 419/500\n",
            "2/2 [==============================] - 0s 8ms/step - loss: 15.7643 - mae: 15.7643\n",
            "Epoch 420/500\n",
            "2/2 [==============================] - 0s 5ms/step - loss: 24.5558 - mae: 24.5558\n",
            "Epoch 421/500\n",
            "2/2 [==============================] - 0s 5ms/step - loss: 17.9456 - mae: 17.9456\n",
            "Epoch 422/500\n",
            "2/2 [==============================] - 0s 10ms/step - loss: 8.6039 - mae: 8.6039\n",
            "Epoch 423/500\n",
            "2/2 [==============================] - 0s 9ms/step - loss: 24.7362 - mae: 24.7362\n",
            "Epoch 424/500\n",
            "2/2 [==============================] - 0s 9ms/step - loss: 16.6576 - mae: 16.6576\n",
            "Epoch 425/500\n",
            "2/2 [==============================] - 0s 8ms/step - loss: 7.1736 - mae: 7.1736\n",
            "Epoch 426/500\n",
            "2/2 [==============================] - 0s 5ms/step - loss: 20.8217 - mae: 20.8217\n",
            "Epoch 427/500\n",
            "2/2 [==============================] - 0s 7ms/step - loss: 6.3670 - mae: 6.3670\n",
            "Epoch 428/500\n",
            "2/2 [==============================] - 0s 7ms/step - loss: 13.3707 - mae: 13.3707\n",
            "Epoch 429/500\n",
            "2/2 [==============================] - 0s 5ms/step - loss: 11.3664 - mae: 11.3664\n",
            "Epoch 430/500\n",
            "2/2 [==============================] - 0s 6ms/step - loss: 10.1354 - mae: 10.1354\n",
            "Epoch 431/500\n",
            "2/2 [==============================] - 0s 5ms/step - loss: 11.4090 - mae: 11.4090\n",
            "Epoch 432/500\n",
            "2/2 [==============================] - 0s 11ms/step - loss: 9.8201 - mae: 9.8201\n",
            "Epoch 433/500\n",
            "2/2 [==============================] - 0s 7ms/step - loss: 4.7590 - mae: 4.7590\n",
            "Epoch 434/500\n",
            "2/2 [==============================] - 0s 5ms/step - loss: 33.2654 - mae: 33.2654\n",
            "Epoch 435/500\n",
            "2/2 [==============================] - 0s 6ms/step - loss: 14.0610 - mae: 14.0610\n",
            "Epoch 436/500\n",
            "2/2 [==============================] - 0s 8ms/step - loss: 29.7189 - mae: 29.7189\n",
            "Epoch 437/500\n",
            "2/2 [==============================] - 0s 6ms/step - loss: 10.7066 - mae: 10.7066\n",
            "Epoch 438/500\n",
            "2/2 [==============================] - 0s 6ms/step - loss: 12.6227 - mae: 12.6227\n",
            "Epoch 439/500\n",
            "2/2 [==============================] - 0s 6ms/step - loss: 33.4766 - mae: 33.4766\n",
            "Epoch 440/500\n",
            "2/2 [==============================] - 0s 6ms/step - loss: 14.7477 - mae: 14.7477\n",
            "Epoch 441/500\n",
            "2/2 [==============================] - 0s 6ms/step - loss: 17.2135 - mae: 17.2135\n",
            "Epoch 442/500\n",
            "2/2 [==============================] - 0s 6ms/step - loss: 21.7889 - mae: 21.7889\n",
            "Epoch 443/500\n",
            "2/2 [==============================] - 0s 5ms/step - loss: 24.8049 - mae: 24.8049\n",
            "Epoch 444/500\n",
            "2/2 [==============================] - 0s 7ms/step - loss: 12.0540 - mae: 12.0540\n",
            "Epoch 445/500\n",
            "2/2 [==============================] - 0s 5ms/step - loss: 15.1942 - mae: 15.1942\n",
            "Epoch 446/500\n",
            "2/2 [==============================] - 0s 5ms/step - loss: 18.1380 - mae: 18.1380\n",
            "Epoch 447/500\n",
            "2/2 [==============================] - 0s 5ms/step - loss: 5.1661 - mae: 5.1661\n",
            "Epoch 448/500\n",
            "2/2 [==============================] - 0s 5ms/step - loss: 10.1435 - mae: 10.1435\n",
            "Epoch 449/500\n",
            "2/2 [==============================] - 0s 5ms/step - loss: 14.0773 - mae: 14.0773\n",
            "Epoch 450/500\n",
            "2/2 [==============================] - 0s 5ms/step - loss: 16.8331 - mae: 16.8331\n",
            "Epoch 451/500\n",
            "2/2 [==============================] - 0s 10ms/step - loss: 14.2859 - mae: 14.2859\n",
            "Epoch 452/500\n",
            "2/2 [==============================] - 0s 4ms/step - loss: 30.6870 - mae: 30.6870\n",
            "Epoch 453/500\n",
            "2/2 [==============================] - 0s 5ms/step - loss: 8.3336 - mae: 8.3336\n",
            "Epoch 454/500\n",
            "2/2 [==============================] - 0s 5ms/step - loss: 27.5720 - mae: 27.5720\n",
            "Epoch 455/500\n",
            "2/2 [==============================] - 0s 5ms/step - loss: 10.2448 - mae: 10.2448\n",
            "Epoch 456/500\n",
            "2/2 [==============================] - 0s 5ms/step - loss: 15.1995 - mae: 15.1995\n",
            "Epoch 457/500\n",
            "2/2 [==============================] - 0s 5ms/step - loss: 18.8173 - mae: 18.8173\n",
            "Epoch 458/500\n",
            "2/2 [==============================] - 0s 5ms/step - loss: 24.0276 - mae: 24.0276\n",
            "Epoch 459/500\n",
            "2/2 [==============================] - 0s 8ms/step - loss: 17.3215 - mae: 17.3215\n",
            "Epoch 460/500\n",
            "2/2 [==============================] - 0s 5ms/step - loss: 4.6219 - mae: 4.6219\n",
            "Epoch 461/500\n",
            "2/2 [==============================] - 0s 5ms/step - loss: 17.0483 - mae: 17.0483\n",
            "Epoch 462/500\n",
            "2/2 [==============================] - 0s 6ms/step - loss: 17.2185 - mae: 17.2185\n",
            "Epoch 463/500\n",
            "2/2 [==============================] - 0s 5ms/step - loss: 41.5310 - mae: 41.5310\n",
            "Epoch 464/500\n",
            "2/2 [==============================] - 0s 5ms/step - loss: 16.1200 - mae: 16.1200\n",
            "Epoch 465/500\n",
            "2/2 [==============================] - 0s 18ms/step - loss: 7.7051 - mae: 7.7051\n",
            "Epoch 466/500\n",
            "2/2 [==============================] - 0s 6ms/step - loss: 13.2276 - mae: 13.2276\n",
            "Epoch 467/500\n",
            "2/2 [==============================] - 0s 6ms/step - loss: 6.1974 - mae: 6.1974\n",
            "Epoch 468/500\n",
            "2/2 [==============================] - 0s 5ms/step - loss: 14.6654 - mae: 14.6654\n",
            "Epoch 469/500\n",
            "2/2 [==============================] - 0s 6ms/step - loss: 13.5459 - mae: 13.5459\n",
            "Epoch 470/500\n",
            "2/2 [==============================] - 0s 8ms/step - loss: 6.0926 - mae: 6.0926\n",
            "Epoch 471/500\n",
            "2/2 [==============================] - 0s 7ms/step - loss: 29.5414 - mae: 29.5414\n",
            "Epoch 472/500\n",
            "2/2 [==============================] - 0s 7ms/step - loss: 10.4079 - mae: 10.4079\n",
            "Epoch 473/500\n",
            "2/2 [==============================] - 0s 10ms/step - loss: 13.9389 - mae: 13.9389\n",
            "Epoch 474/500\n",
            "2/2 [==============================] - 0s 4ms/step - loss: 32.6139 - mae: 32.6139\n",
            "Epoch 475/500\n",
            "2/2 [==============================] - 0s 4ms/step - loss: 12.6997 - mae: 12.6997\n",
            "Epoch 476/500\n",
            "2/2 [==============================] - 0s 6ms/step - loss: 12.9983 - mae: 12.9983\n",
            "Epoch 477/500\n",
            "2/2 [==============================] - 0s 5ms/step - loss: 28.8791 - mae: 28.8791\n",
            "Epoch 478/500\n",
            "2/2 [==============================] - 0s 4ms/step - loss: 6.2131 - mae: 6.2131\n",
            "Epoch 479/500\n",
            "2/2 [==============================] - 0s 5ms/step - loss: 2.9051 - mae: 2.9051\n",
            "Epoch 480/500\n",
            "2/2 [==============================] - 0s 5ms/step - loss: 23.5503 - mae: 23.5503\n",
            "Epoch 481/500\n",
            "2/2 [==============================] - 0s 9ms/step - loss: 6.3738 - mae: 6.3738\n",
            "Epoch 482/500\n",
            "2/2 [==============================] - 0s 4ms/step - loss: 22.1254 - mae: 22.1254\n",
            "Epoch 483/500\n",
            "2/2 [==============================] - 0s 6ms/step - loss: 23.8162 - mae: 23.8162\n",
            "Epoch 484/500\n",
            "2/2 [==============================] - 0s 6ms/step - loss: 22.2521 - mae: 22.2521\n",
            "Epoch 485/500\n",
            "2/2 [==============================] - 0s 6ms/step - loss: 5.3645 - mae: 5.3645\n",
            "Epoch 486/500\n",
            "2/2 [==============================] - 0s 5ms/step - loss: 18.2611 - mae: 18.2611\n",
            "Epoch 487/500\n",
            "2/2 [==============================] - 0s 9ms/step - loss: 13.9602 - mae: 13.9602\n",
            "Epoch 488/500\n",
            "2/2 [==============================] - 0s 8ms/step - loss: 30.4777 - mae: 30.4777\n",
            "Epoch 489/500\n",
            "2/2 [==============================] - 0s 7ms/step - loss: 11.7203 - mae: 11.7203\n",
            "Epoch 490/500\n",
            "2/2 [==============================] - 0s 6ms/step - loss: 12.6121 - mae: 12.6121\n",
            "Epoch 491/500\n",
            "2/2 [==============================] - 0s 7ms/step - loss: 23.3911 - mae: 23.3911\n",
            "Epoch 492/500\n",
            "2/2 [==============================] - 0s 6ms/step - loss: 21.0901 - mae: 21.0901\n",
            "Epoch 493/500\n",
            "2/2 [==============================] - 0s 6ms/step - loss: 5.0034 - mae: 5.0034\n",
            "Epoch 494/500\n",
            "2/2 [==============================] - 0s 5ms/step - loss: 13.3604 - mae: 13.3604\n",
            "Epoch 495/500\n",
            "2/2 [==============================] - 0s 5ms/step - loss: 13.4218 - mae: 13.4218\n",
            "Epoch 496/500\n",
            "2/2 [==============================] - 0s 6ms/step - loss: 12.7029 - mae: 12.7029\n",
            "Epoch 497/500\n",
            "2/2 [==============================] - 0s 13ms/step - loss: 17.6644 - mae: 17.6644\n",
            "Epoch 498/500\n",
            "2/2 [==============================] - 0s 5ms/step - loss: 23.4098 - mae: 23.4098\n",
            "Epoch 499/500\n",
            "2/2 [==============================] - 0s 6ms/step - loss: 9.2515 - mae: 9.2515\n",
            "Epoch 500/500\n",
            "2/2 [==============================] - 0s 5ms/step - loss: 14.6101 - mae: 14.6101\n"
          ]
        },
        {
          "output_type": "execute_result",
          "data": {
            "text/plain": [
              "<keras.callbacks.History at 0x7fa12c036e90>"
            ]
          },
          "metadata": {},
          "execution_count": 56
        }
      ]
    },
    {
      "cell_type": "code",
      "source": [
        "# Make and plot predictions for model_3\n",
        "y_preds_3 = model_3.predict(X_test)\n",
        "plot_predictions(predictions=y_preds_3)"
      ],
      "metadata": {
        "id": "AjnQG56HX_Pl",
        "outputId": "433b0c24-dea7-49b3-e723-edd1cd2d3820",
        "colab": {
          "base_uri": "https://localhost:8080/",
          "height": 428
        }
      },
      "execution_count": 57,
      "outputs": [
        {
          "output_type": "display_data",
          "data": {
            "text/plain": [
              "<Figure size 720x504 with 1 Axes>"
            ],
            "image/png": "[encoded data removed]"
          },
          "metadata": {
            "needs_background": "light"
          }
        }
      ]
    },
    {
      "cell_type": "code",
      "source": [
        "mae_3 = mae(y_test, tf.squeeze(y_preds_3))\n",
        "mse_3 = mse(y_test, tf.squeeze(y_preds_3))\n",
        "huber_3 = huber_metric(y_test, tf.squeeze(y_preds_3))\n",
        "print(mae_1,mse_1,huber_1)\n",
        "print(mae_2,mse_2,huber_2)\n",
        "print(mae_3,mse_3,huber_3)"
      ],
      "metadata": {
        "id": "b2BgcyZvYtkB",
        "outputId": "45a8619d-7608-45c8-929d-3e947f61f509",
        "colab": {
          "base_uri": "https://localhost:8080/"
        }
      },
      "execution_count": 58,
      "outputs": [
        {
          "output_type": "stream",
          "name": "stdout",
          "text": [
            "8.647593 81.30821 15.916199\n",
            "29.653305 910.3262 29.153305\n",
            "68.60391 4792.971 68.10391\n"
          ]
        }
      ]
    },
    {
      "cell_type": "code",
      "source": [
        "model_results = [[\"model_1\", mae_1, mse_1, huber_1],\n",
        "                 [\"model_2\", mae_2, mse_2, huber_2],\n",
        "                 [\"model_3\", mae_3, mae_3, huber_3]]"
      ],
      "metadata": {
        "id": "O9VCfxsoZPwl"
      },
      "execution_count": 60,
      "outputs": []
    },
    {
      "cell_type": "code",
      "source": [
        "import pandas as pd\n",
        "all_results = pd.DataFrame(model_results, columns=[\"model\", \"mae\", \"mse\",\"huber\"])\n",
        "all_results"
      ],
      "metadata": {
        "id": "AwBUZufQZbCI",
        "outputId": "394f7f28-cdab-4a85-c34f-ef9178790e38",
        "colab": {
          "base_uri": "https://localhost:8080/",
          "height": 143
        }
      },
      "execution_count": 61,
      "outputs": [
        {
          "output_type": "execute_result",
          "data": {
            "text/plain": [
              "     model        mae         mse      huber\n",
              "0  model_1   8.647593   81.308212  15.916199\n",
              "1  model_2  29.653305  910.326172  29.153305\n",
              "2  model_3  68.603912   68.603912  68.103912"
            ],
            "text/html": [
              "\n",
              "  <div id=\"df-a11f7e2c-c3e9-46a6-83b3-a7d52e78eae3\">\n",
              "    <div class=\"colab-df-container\">\n",
              "      <div>\n",
              "<style scoped>\n",
              "    .dataframe tbody tr th:only-of-type {\n",
              "        vertical-align: middle;\n",
              "    }\n",
              "\n",
              "    .dataframe tbody tr th {\n",
              "        vertical-align: top;\n",
              "    }\n",
              "\n",
              "    .dataframe thead th {\n",
              "        text-align: right;\n",
              "    }\n",
              "</style>\n",
              "<table border=\"1\" class=\"dataframe\">\n",
              "  <thead>\n",
              "    <tr style=\"text-align: right;\">\n",
              "      <th></th>\n",
              "      <th>model</th>\n",
              "      <th>mae</th>\n",
              "      <th>mse</th>\n",
              "      <th>huber</th>\n",
              "    </tr>\n",
              "  </thead>\n",
              "  <tbody>\n",
              "    <tr>\n",
              "      <th>0</th>\n",
              "      <td>model_1</td>\n",
              "      <td>8.647593</td>\n",
              "      <td>81.308212</td>\n",
              "      <td>15.916199</td>\n",
              "    </tr>\n",
              "    <tr>\n",
              "      <th>1</th>\n",
              "      <td>model_2</td>\n",
              "      <td>29.653305</td>\n",
              "      <td>910.326172</td>\n",
              "      <td>29.153305</td>\n",
              "    </tr>\n",
              "    <tr>\n",
              "      <th>2</th>\n",
              "      <td>model_3</td>\n",
              "      <td>68.603912</td>\n",
              "      <td>68.603912</td>\n",
              "      <td>68.103912</td>\n",
              "    </tr>\n",
              "  </tbody>\n",
              "</table>\n",
              "</div>\n",
              "      <button class=\"colab-df-convert\" onclick=\"convertToInteractive('df-a11f7e2c-c3e9-46a6-83b3-a7d52e78eae3')\"\n",
              "              title=\"Convert this dataframe to an interactive table.\"\n",
              "              style=\"display:none;\">\n",
              "        \n",
              "  <svg xmlns=\"http://www.w3.org/2000/svg\" height=\"24px\"viewBox=\"0 0 24 24\"\n",
              "       width=\"24px\">\n",
              "    <path d=\"M0 0h24v24H0V0z\" fill=\"none\"/>\n",
              "    <path d=\"M18.56 5.44l.94 2.06.94-2.06 2.06-.94-2.06-.94-.94-2.06-.94 2.06-2.06.94zm-11 1L8.5 8.5l.94-2.06 2.06-.94-2.06-.94L8.5 2.5l-.94 2.06-2.06.94zm10 10l.94 2.06.94-2.06 2.06-.94-2.06-.94-.94-2.06-.94 2.06-2.06.94z\"/><path d=\"M17.41 7.96l-1.37-1.37c-.4-.4-.92-.59-1.43-.59-.52 0-1.04.2-1.43.59L10.3 9.45l-7.72 7.72c-.78.78-.78 2.05 0 2.83L4 21.41c.39.39.9.59 1.41.59.51 0 1.02-.2 1.41-.59l7.78-7.78 2.81-2.81c.8-.78.8-2.07 0-2.86zM5.41 20L4 18.59l7.72-7.72 1.47 1.35L5.41 20z\"/>\n",
              "  </svg>\n",
              "      </button>\n",
              "      \n",
              "  <style>\n",
              "    .colab-df-container {\n",
              "      display:flex;\n",
              "      flex-wrap:wrap;\n",
              "      gap: 12px;\n",
              "    }\n",
              "\n",
              "    .colab-df-convert {\n",
              "      background-color: #E8F0FE;\n",
              "      border: none;\n",
              "      border-radius: 50%;\n",
              "      cursor: pointer;\n",
              "      display: none;\n",
              "      fill: #1967D2;\n",
              "      height: 32px;\n",
              "      padding: 0 0 0 0;\n",
              "      width: 32px;\n",
              "    }\n",
              "\n",
              "    .colab-df-convert:hover {\n",
              "      background-color: #E2EBFA;\n",
              "      box-shadow: 0px 1px 2px rgba(60, 64, 67, 0.3), 0px 1px 3px 1px rgba(60, 64, 67, 0.15);\n",
              "      fill: #174EA6;\n",
              "    }\n",
              "\n",
              "    [theme=dark] .colab-df-convert {\n",
              "      background-color: #3B4455;\n",
              "      fill: #D2E3FC;\n",
              "    }\n",
              "\n",
              "    [theme=dark] .colab-df-convert:hover {\n",
              "      background-color: #434B5C;\n",
              "      box-shadow: 0px 1px 3px 1px rgba(0, 0, 0, 0.15);\n",
              "      filter: drop-shadow(0px 1px 2px rgba(0, 0, 0, 0.3));\n",
              "      fill: #FFFFFF;\n",
              "    }\n",
              "  </style>\n",
              "\n",
              "      <script>\n",
              "        const buttonEl =\n",
              "          document.querySelector('#df-a11f7e2c-c3e9-46a6-83b3-a7d52e78eae3 button.colab-df-convert');\n",
              "        buttonEl.style.display =\n",
              "          google.colab.kernel.accessAllowed ? 'block' : 'none';\n",
              "\n",
              "        async function convertToInteractive(key) {\n",
              "          const element = document.querySelector('#df-a11f7e2c-c3e9-46a6-83b3-a7d52e78eae3');\n",
              "          const dataTable =\n",
              "            await google.colab.kernel.invokeFunction('convertToInteractive',\n",
              "                                                     [key], {});\n",
              "          if (!dataTable) return;\n",
              "\n",
              "          const docLinkHtml = 'Like what you see? Visit the ' +\n",
              "            '<a target=\"_blank\" href=https://colab.research.google.com/notebooks/data_table.ipynb>data table notebook</a>'\n",
              "            + ' to learn more about interactive tables.';\n",
              "          element.innerHTML = '';\n",
              "          dataTable['output_type'] = 'display_data';\n",
              "          await google.colab.output.renderOutput(dataTable, element);\n",
              "          const docLink = document.createElement('div');\n",
              "          docLink.innerHTML = docLinkHtml;\n",
              "          element.appendChild(docLink);\n",
              "        }\n",
              "      </script>\n",
              "    </div>\n",
              "  </div>\n",
              "  "
            ]
          },
          "metadata": {},
          "execution_count": 61
        }
      ]
    },
    {
      "cell_type": "markdown",
      "source": [
        "## Saving Model \n",
        "\n",
        "There are two ways to save a model in TensorFlow:\n",
        "\n",
        "* The SavedModel format (default).\n",
        "* The HDF5 format."
      ],
      "metadata": {
        "id": "RUHrGOcvo6t8"
      }
    },
    {
      "cell_type": "code",
      "source": [
        "# Save a model using the SavedModel format\n",
        "model_2.save('best_model_SavedModel_format')"
      ],
      "metadata": {
        "id": "-ESSvRZXZfvi",
        "outputId": "ae89c745-b654-42ad-f9eb-799bbfff662b",
        "colab": {
          "base_uri": "https://localhost:8080/"
        }
      },
      "execution_count": 62,
      "outputs": [
        {
          "output_type": "stream",
          "name": "stdout",
          "text": [
            "INFO:tensorflow:Assets written to: best_model_SavedModel_format/assets\n"
          ]
        }
      ]
    },
    {
      "cell_type": "code",
      "source": [
        "# Check it out - outputs a protobuf binary file (.pb) as well as other files\n",
        "!ls best_model_SavedModel_format"
      ],
      "metadata": {
        "id": "cjqs6C3zpHzU",
        "outputId": "ec5f1864-87cb-4fd7-a13d-a77ae8e09b0c",
        "colab": {
          "base_uri": "https://localhost:8080/"
        }
      },
      "execution_count": 63,
      "outputs": [
        {
          "output_type": "stream",
          "name": "stdout",
          "text": [
            "assets\tkeras_metadata.pb  saved_model.pb  variables\n"
          ]
        }
      ]
    },
    {
      "cell_type": "code",
      "source": [
        "# Save a model using the HDF5 format\n",
        "model_2.save(\"best_model_HDF5_format.h5\") # note the addition of '.h5' on the end"
      ],
      "metadata": {
        "id": "bqcJ3yQmpKAl"
      },
      "execution_count": 64,
      "outputs": []
    },
    {
      "cell_type": "code",
      "source": [
        "# Check it out\n",
        "!ls best_model_HDF5_format.h5"
      ],
      "metadata": {
        "id": "if-GSdeOpNGm",
        "outputId": "59b6671e-da38-402b-9008-408bab1eea94",
        "colab": {
          "base_uri": "https://localhost:8080/"
        }
      },
      "execution_count": 65,
      "outputs": [
        {
          "output_type": "stream",
          "name": "stdout",
          "text": [
            "best_model_HDF5_format.h5\n"
          ]
        }
      ]
    },
    {
      "cell_type": "code",
      "source": [
        "# Load a model from the SavedModel format\n",
        "loaded_saved_model = tf.keras.models.load_model(\"best_model_SavedModel_format\")\n",
        "loaded_saved_model.summary()"
      ],
      "metadata": {
        "id": "71sWiNTapO-X",
        "outputId": "2e993dd7-373e-4242-bdb2-e6a6b1f13780",
        "colab": {
          "base_uri": "https://localhost:8080/"
        }
      },
      "execution_count": 66,
      "outputs": [
        {
          "output_type": "stream",
          "name": "stdout",
          "text": [
            "Model: \"sequential_8\"\n",
            "_________________________________________________________________\n",
            " Layer (type)                Output Shape              Param #   \n",
            "=================================================================\n",
            " dense_12 (Dense)            (None, 10)                20        \n",
            "                                                                 \n",
            " dense_13 (Dense)            (None, 1)                 11        \n",
            "                                                                 \n",
            "=================================================================\n",
            "Total params: 31\n",
            "Trainable params: 31\n",
            "Non-trainable params: 0\n",
            "_________________________________________________________________\n"
          ]
        }
      ]
    },
    {
      "cell_type": "code",
      "source": [
        "# Compare model_2 with the SavedModel version (should return True)\n",
        "model_2_preds = model_2.predict(X_test)\n",
        "saved_model_preds = loaded_saved_model.predict(X_test)\n",
        "mae(y_test, saved_model_preds.squeeze())== mae(y_test, model_2_preds.squeeze())"
      ],
      "metadata": {
        "id": "kvCwONRSpVdU",
        "outputId": "c0511030-e93e-4490-dfec-35679e8c46f2",
        "colab": {
          "base_uri": "https://localhost:8080/"
        }
      },
      "execution_count": 69,
      "outputs": [
        {
          "output_type": "execute_result",
          "data": {
            "text/plain": [
              "True"
            ]
          },
          "metadata": {},
          "execution_count": 69
        }
      ]
    },
    {
      "cell_type": "code",
      "source": [
        "# Load a model from the HDF5 format\n",
        "loaded_h5_model = tf.keras.models.load_model(\"best_model_HDF5_format.h5\")\n",
        "loaded_h5_model.summary()"
      ],
      "metadata": {
        "id": "qNGb4DQJpbB8",
        "outputId": "4db65825-c5cc-482a-efc0-88ac9ab4b16e",
        "colab": {
          "base_uri": "https://localhost:8080/"
        }
      },
      "execution_count": 70,
      "outputs": [
        {
          "output_type": "stream",
          "name": "stdout",
          "text": [
            "Model: \"sequential_8\"\n",
            "_________________________________________________________________\n",
            " Layer (type)                Output Shape              Param #   \n",
            "=================================================================\n",
            " dense_12 (Dense)            (None, 10)                20        \n",
            "                                                                 \n",
            " dense_13 (Dense)            (None, 1)                 11        \n",
            "                                                                 \n",
            "=================================================================\n",
            "Total params: 31\n",
            "Trainable params: 31\n",
            "Non-trainable params: 0\n",
            "_________________________________________________________________\n"
          ]
        }
      ]
    },
    {
      "cell_type": "code",
      "source": [
        "# Compare model_2 with the loaded HDF5 version (should return True)\n",
        "h5_model_preds = loaded_h5_model.predict(X_test)\n",
        "mae(y_test, h5_model_preds.squeeze()) == mae(y_test, model_2_preds.squeeze())"
      ],
      "metadata": {
        "id": "G18HWUBFpj4W",
        "outputId": "3b56ec08-7d07-4000-e1d9-9c3751ee58db",
        "colab": {
          "base_uri": "https://localhost:8080/"
        }
      },
      "execution_count": 71,
      "outputs": [
        {
          "output_type": "execute_result",
          "data": {
            "text/plain": [
              "True"
            ]
          },
          "metadata": {},
          "execution_count": 71
        }
      ]
    },
    {
      "cell_type": "markdown",
      "source": [
        "## Downloading a model (from Google Colab)\n",
        "Say you wanted to get your model from Google Colab to your local machine, you can do one of the following things:\n",
        "\n",
        "* Right click on the file in the files pane and click 'download'.\n",
        "* Use the code below"
      ],
      "metadata": {
        "id": "xeDydgY0p0my"
      }
    },
    {
      "cell_type": "code",
      "source": [
        "# Download the model (or any file) from Google Colab\n",
        "from google.colab import files\n",
        "files.download(\"best_model_HDF5_format.h5\")"
      ],
      "metadata": {
        "id": "y5xB5ggyps5F",
        "outputId": "9c8ef313-2586-4faa-f751-f44f629d3cf3",
        "colab": {
          "base_uri": "https://localhost:8080/",
          "height": 17
        }
      },
      "execution_count": 72,
      "outputs": [
        {
          "output_type": "display_data",
          "data": {
            "text/plain": [
              "<IPython.core.display.Javascript object>"
            ],
            "application/javascript": [
              "\n",
              "    async function download(id, filename, size) {\n",
              "      if (!google.colab.kernel.accessAllowed) {\n",
              "        return;\n",
              "      }\n",
              "      const div = document.createElement('div');\n",
              "      const label = document.createElement('label');\n",
              "      label.textContent = `Downloading \"${filename}\": `;\n",
              "      div.appendChild(label);\n",
              "      const progress = document.createElement('progress');\n",
              "      progress.max = size;\n",
              "      div.appendChild(progress);\n",
              "      document.body.appendChild(div);\n",
              "\n",
              "      const buffers = [];\n",
              "      let downloaded = 0;\n",
              "\n",
              "      const channel = await google.colab.kernel.comms.open(id);\n",
              "      // Send a message to notify the kernel that we're ready.\n",
              "      channel.send({})\n",
              "\n",
              "      for await (const message of channel.messages) {\n",
              "        // Send a message to notify the kernel that we're ready.\n",
              "        channel.send({})\n",
              "        if (message.buffers) {\n",
              "          for (const buffer of message.buffers) {\n",
              "            buffers.push(buffer);\n",
              "            downloaded += buffer.byteLength;\n",
              "            progress.value = downloaded;\n",
              "          }\n",
              "        }\n",
              "      }\n",
              "      const blob = new Blob(buffers, {type: 'application/binary'});\n",
              "      const a = document.createElement('a');\n",
              "      a.href = window.URL.createObjectURL(blob);\n",
              "      a.download = filename;\n",
              "      div.appendChild(a);\n",
              "      a.click();\n",
              "      div.remove();\n",
              "    }\n",
              "  "
            ]
          },
          "metadata": {}
        },
        {
          "output_type": "display_data",
          "data": {
            "text/plain": [
              "<IPython.core.display.Javascript object>"
            ],
            "application/javascript": [
              "download(\"download_421b8d64-e1ca-4e63-970d-0f97ff95d6b8\", \"best_model_HDF5_format.h5\", 17872)"
            ]
          },
          "metadata": {}
        }
      ]
    },
    {
      "cell_type": "code",
      "source": [
        ""
      ],
      "metadata": {
        "id": "ynNh-FpBp68B"
      },
      "execution_count": null,
      "outputs": []
    }
  ]
}