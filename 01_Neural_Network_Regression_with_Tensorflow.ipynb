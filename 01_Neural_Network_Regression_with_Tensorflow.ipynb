{
  "nbformat": 4,
  "nbformat_minor": 0,
  "metadata": {
    "colab": {
      "name": "01_Neural_Network_Regression_with_Tensorflow.ipynb",
      "provenance": [],
      "authorship_tag": "ABX9TyOvt2mOIsgBt+b5PlkwYFlL",
      "include_colab_link": true
    },
    "kernelspec": {
      "name": "python3",
      "display_name": "Python 3"
    },
    "language_info": {
      "name": "python"
    },
    "accelerator": "GPU",
    "gpuClass": "standard"
  },
  "cells": [
    {
      "cell_type": "markdown",
      "metadata": {
        "id": "view-in-github",
        "colab_type": "text"
      },
      "source": [
        "<a href=\"https://colab.research.google.com/github/Jyoti1706/tensorflow-certification/blob/main/01_Neural_Network_Regression_with_Tensorflow.ipynb\" target=\"_parent\"><img src=\"https://colab.research.google.com/assets/colab-badge.svg\" alt=\"Open In Colab\"/></a>"
      ]
    },
    {
      "cell_type": "markdown",
      "source": [
        "# 01. Neural Network Regression with TensorFlow\n",
        "\n",
        "Regression is: predicting a number(dependent variable) with the help of independen variables\n",
        "\n",
        "For example, you might want to:\n",
        "- Predict the selling price of houses given information about them (such as number of rooms, size, number of bathrooms).\n",
        "- Predict the coordinates of a bounding box of an item in an image.\n",
        "- Predict the cost of medical insurance for an individual given their demographics (age, sex, gender, race)."
      ],
      "metadata": {
        "id": "jmN4U11RCHm2"
      }
    },
    {
      "cell_type": "markdown",
      "source": [
        "### Input and Output for (NNR) Neural Network Regression with TF\n",
        "\n",
        "![example of input and output shapes for a housing price prediction problem](https://raw.githubusercontent.com/mrdbourke/tensorflow-deep-learning/main/images/01-input-and-output-shapes-housing-prices.png)\n",
        "*If you were working on building a machine learning algorithm for predicting housing prices, your inputs may be number of bedrooms, number of bathrooms and number of garages, giving you an input shape of 3 (3 different features). And since you're trying to predict the price of the house, your output shape would be 1.*\n",
        "\n",
        "## Typical architecture of a regresison neural network\n",
        "\n",
        "The word *typical* is on purpose.\n",
        "\n",
        "Because there are many different ways (actually, there's almost an infinite number of ways) to write neural networks.\n",
        "\n",
        "But the following is a generic setup for ingesting a collection of numbers, finding patterns in them and then outputing some kind of target number.\n",
        "\n",
        "\n",
        "| **Hyperparameter** | **Typical value** |\n",
        "| --- | --- |\n",
        "| Input layer shape | Same shape as number of features (e.g. 3 for # bedrooms, # bathrooms, # car spaces in housing price prediction) |\n",
        "| Hidden layer(s) | Problem specific, minimum = 1, maximum = unlimited |\n",
        "| Neurons per hidden layer | Problem specific, generally 10 to 100 |\n",
        "| Output layer shape | Same shape as desired prediction shape (e.g. 1 for house price) |\n",
        "| Hidden activation | Usually [ReLU](https://www.kaggle.com/dansbecker/rectified-linear-units-relu-in-deep-learning) (rectified linear unit) |\n",
        "| Output activation | None, ReLU, logistic/tanh |\n",
        "| Loss function | [MSE](https://en.wikipedia.org/wiki/Mean_squared_error) (mean square error) or [MAE](https://en.wikipedia.org/wiki/Mean_absolute_error) (mean absolute error)/Huber (combination of MAE/MSE) if outliers |\n",
        "| Optimizer | [SGD](https://www.tensorflow.org/api_docs/python/tf/keras/optimizers/SGD) (stochastic gradient descent), [Adam](https://www.tensorflow.org/api_docs/python/tf/keras/optimizers/Adam) |\n",
        "\n",
        "***Table 1:*** *Typical architecture of a regression network.* ***Source:*** *Adapted from page 293 of [Hands-On Machine Learning with Scikit-Learn, Keras & TensorFlow Book by Aurélien Géron](https://www.oreilly.com/library/view/hands-on-machine-learning/9781492032632/)*\n",
        "\n",
        "Again, if you're new to neural networks and deep learning in general, much of the above table won't make sense. But don't worry, we'll be getting hands-on with all of it soon.\n",
        "\n",
        "> 🔑 **Note:** A **hyperparameter** in machine learning is something a data analyst or developer can set themselves, where as a **parameter** usually describes something a model learns on its own (a value not explicitly set by an analyst).\n",
        "\n"
      ],
      "metadata": {
        "id": "WqrQyKgSEPnA"
      }
    },
    {
      "cell_type": "code",
      "source": [
        "import tensorflow as tf\n",
        "import numpy as np\n",
        "import matplotlib.pyplot as plt\n",
        "print(tf.__version__)"
      ],
      "metadata": {
        "colab": {
          "base_uri": "https://localhost:8080/"
        },
        "id": "QVcS3AGLD994",
        "outputId": "8716a679-10ce-4648-fd3f-1b2bf189ea50"
      },
      "execution_count": 1,
      "outputs": [
        {
          "output_type": "stream",
          "name": "stdout",
          "text": [
            "2.8.2\n"
          ]
        }
      ]
    },
    {
      "cell_type": "code",
      "source": [
        ""
      ],
      "metadata": {
        "id": "Heck9bFFJCMo"
      },
      "execution_count": 1,
      "outputs": []
    },
    {
      "cell_type": "code",
      "source": [
        "## Create the input feature\n",
        "X = np.array([-7.0, -4.0, -1.0, 2.0, 5.0, 8.0, 11.0, 14.0])\n",
        "\n",
        "# Create labels\n",
        "y = np.array([3.0, 6.0, 9.0, 12.0, 15.0, 18.0, 21.0, 24.0])\n",
        "\n",
        "# Visualize it\n",
        "plt.scatter(X, y);"
      ],
      "metadata": {
        "colab": {
          "base_uri": "https://localhost:8080/",
          "height": 269
        },
        "id": "EtyHXMCuJPav",
        "outputId": "bcc150e4-5b8e-439b-84ea-79e2cd110e6d"
      },
      "execution_count": 2,
      "outputs": [
        {
          "output_type": "display_data",
          "data": {
            "text/plain": [
              "<Figure size 432x288 with 1 Axes>"
            ],
            "image/png": "[encoded data removed]"
          },
          "metadata": {
            "needs_background": "light"
          }
        }
      ]
    },
    {
      "cell_type": "code",
      "source": [
        "y == X+10"
      ],
      "metadata": {
        "colab": {
          "base_uri": "https://localhost:8080/"
        },
        "id": "bRxmga7fJbdM",
        "outputId": "3efec766-e21c-4226-acf8-7de433cabf16"
      },
      "execution_count": 3,
      "outputs": [
        {
          "output_type": "execute_result",
          "data": {
            "text/plain": [
              "array([ True,  True,  True,  True,  True,  True,  True,  True])"
            ]
          },
          "metadata": {},
          "execution_count": 3
        }
      ]
    },
    {
      "cell_type": "code",
      "source": [
        "## Converting numpy arrays to tensors\n",
        "X = tf.constant(X)\n",
        "y = tf.constant(y)\n",
        "X,y"
      ],
      "metadata": {
        "id": "UHV9gVrpJrWa",
        "outputId": "bb17f10e-672a-4306-85b0-507bce7e70c1",
        "colab": {
          "base_uri": "https://localhost:8080/"
        }
      },
      "execution_count": 4,
      "outputs": [
        {
          "output_type": "execute_result",
          "data": {
            "text/plain": [
              "(<tf.Tensor: shape=(8,), dtype=float64, numpy=array([-7., -4., -1.,  2.,  5.,  8., 11., 14.])>,\n",
              " <tf.Tensor: shape=(8,), dtype=float64, numpy=array([ 3.,  6.,  9., 12., 15., 18., 21., 24.])>)"
            ]
          },
          "metadata": {},
          "execution_count": 4
        }
      ]
    },
    {
      "cell_type": "code",
      "source": [
        "input_shape = X[0].shape\n",
        "output_shape = y[0].shape\n",
        "print(input_shape, output_shape)"
      ],
      "metadata": {
        "id": "UtMwQ6YpfYnh",
        "outputId": "645beea9-d605-4b9e-9265-4d80b6883fe4",
        "colab": {
          "base_uri": "https://localhost:8080/"
        }
      },
      "execution_count": 5,
      "outputs": [
        {
          "output_type": "stream",
          "name": "stdout",
          "text": [
            "() ()\n"
          ]
        }
      ]
    },
    {
      "cell_type": "code",
      "source": [
        "plt.scatter(X,y)"
      ],
      "metadata": {
        "id": "QDXyu-A1fm0i",
        "outputId": "ff7f17cb-1766-4d0b-e344-9dcd54425f03",
        "colab": {
          "base_uri": "https://localhost:8080/",
          "height": 287
        }
      },
      "execution_count": 6,
      "outputs": [
        {
          "output_type": "execute_result",
          "data": {
            "text/plain": [
              "<matplotlib.collections.PathCollection at 0x7f53c04fcfd0>"
            ]
          },
          "metadata": {},
          "execution_count": 6
        },
        {
          "output_type": "display_data",
          "data": {
            "text/plain": [
              "<Figure size 432x288 with 1 Axes>"
            ],
            "image/png": "[encoded data removed]"
          },
          "metadata": {
            "needs_background": "light"
          }
        }
      ]
    },
    {
      "cell_type": "markdown",
      "source": [
        "### Steps in modelling with tensorflow\n",
        "\n",
        "1. **Creating a model** - Define  the input and output layers, as well as the hidden layer of deep learning.\n",
        "2. **Compiling a model** - define loss function ( functions which tells model how wrong it is) and optimizer(tells model how to improve the pattern learning).\n",
        "3. **Fitting a model** - letting the modeltry to find pattern between X & y (features and labels\n",
        "4. **Evaluate model** - on testing data"
      ],
      "metadata": {
        "id": "4uvkM9ymg3yo"
      }
    },
    {
      "cell_type": "markdown",
      "source": [
        "### params defination\n",
        "\n",
        "1. **Compiling a model**\n",
        "\n",
        "- Loss function --> our model use to improve its performance.\n",
        "\n",
        "- Metrics --> it's for humans to check our performance of your model.\n",
        "\n",
        "2. **fit a model**\n",
        "\n",
        "- Epocs -->how many time model will go through the training example\n"
      ],
      "metadata": {
        "id": "ILW38syxlHCG"
      }
    },
    {
      "cell_type": "code",
      "source": [
        "tf.random.set_seed(42)\n",
        "\n",
        "# 1. Create model\n",
        "model = tf.keras.Sequential([\n",
        "  tf.keras.layers.Dense(1)\n",
        "])\n",
        "# Compile the model\n",
        "model.compile(loss=tf.keras.losses.mae, # mae is short for mean absolute error\n",
        "              optimizer=tf.keras.optimizers.SGD(), # SGD is short for stochastic gradient descent\n",
        "              metrics=[\"mae\"])\n",
        "\n",
        "# Fit the model\n",
        "# model.fit(X, y, epochs=5) # this will break with TensorFlow 2.7.0+\n",
        "model.fit(tf.expand_dims(X, axis=-1), y, epochs=5)"
      ],
      "metadata": {
        "id": "gTxqYoo0f9A8",
        "outputId": "74e60394-788b-47f7-e82d-7cc178f6dcf9",
        "colab": {
          "base_uri": "https://localhost:8080/"
        }
      },
      "execution_count": 7,
      "outputs": [
        {
          "output_type": "stream",
          "name": "stdout",
          "text": [
            "Epoch 1/5\n",
            "1/1 [==============================] - 3s 3s/step - loss: 11.5048 - mae: 11.5048\n",
            "Epoch 2/5\n",
            "1/1 [==============================] - 0s 10ms/step - loss: 11.3723 - mae: 11.3723\n",
            "Epoch 3/5\n",
            "1/1 [==============================] - 0s 8ms/step - loss: 11.2398 - mae: 11.2398\n",
            "Epoch 4/5\n",
            "1/1 [==============================] - 0s 7ms/step - loss: 11.1073 - mae: 11.1073\n",
            "Epoch 5/5\n",
            "1/1 [==============================] - 0s 8ms/step - loss: 10.9748 - mae: 10.9748\n"
          ]
        },
        {
          "output_type": "execute_result",
          "data": {
            "text/plain": [
              "<keras.callbacks.History at 0x7f53c03d0090>"
            ]
          },
          "metadata": {},
          "execution_count": 7
        }
      ]
    },
    {
      "cell_type": "code",
      "source": [
        "# Check out X and y\n",
        "print(X, y)\n",
        "# Make a prediction with the model\n",
        "model.predict([17.0])"
      ],
      "metadata": {
        "id": "pDj_qSGcmA51",
        "outputId": "d6a29785-efff-4d8d-bd86-2f3f3fe4521c",
        "colab": {
          "base_uri": "https://localhost:8080/"
        }
      },
      "execution_count": 8,
      "outputs": [
        {
          "output_type": "stream",
          "name": "stdout",
          "text": [
            "tf.Tensor([-7. -4. -1.  2.  5.  8. 11. 14.], shape=(8,), dtype=float64) tf.Tensor([ 3.  6.  9. 12. 15. 18. 21. 24.], shape=(8,), dtype=float64)\n"
          ]
        },
        {
          "output_type": "execute_result",
          "data": {
            "text/plain": [
              "array([[12.716021]], dtype=float32)"
            ]
          },
          "metadata": {},
          "execution_count": 8
        }
      ]
    },
    {
      "cell_type": "markdown",
      "source": [
        "## Imporving Model\n",
        "\n",
        "we can improve model at various stages\n",
        "\n",
        "1. while **creating a models**: \n",
        "  - we can add more layers, hidden layers, we can increase number of neurons in each layer.   \n",
        "  - within each layer change activation function.\n",
        "\n",
        "\n",
        "2. while **Compiling a model** - \n",
        "  - change optimization function \n",
        "  - change learmning rate of optimization function\n",
        "\n",
        "3. while **fitting the model**\n",
        "  - fit a model for more epochs (leave it training for longer) or on more data (give the model more examples to learn from).\n"
      ],
      "metadata": {
        "id": "nzKJVZU-nkEE"
      }
    },
    {
      "cell_type": "markdown",
      "source": [
        "![various options you can use to improve a neural network model](https://raw.githubusercontent.com/mrdbourke/tensorflow-deep-learning/main/images/02-improving-a-model-from-model-perspective.png)\n",
        "*There are many different ways to potentially improve a neural network. Some of the most common include: increasing the number of layers (making the network deeper), increasing the number of hidden units (making the network wider) and changing the learning rate. Because these values are all human-changeable, they're referred to as [hyperparameters](https://en.wikipedia.org/wiki/Hyperparameter_(machine_learning)) and the practice of trying to find the best hyperparameters is referred to as [hyperparameter tuning](https://en.wikipedia.org/wiki/Hyperparameter_optimization).*"
      ],
      "metadata": {
        "id": "AvQ3MjvKpg1U"
      }
    },
    {
      "cell_type": "code",
      "source": [
        "tf.random.set_seed(42)\n",
        "\n",
        "# 1. Create model\n",
        "model = tf.keras.Sequential([\n",
        "  tf.keras.layers.Dense(1)\n",
        "])\n",
        "# Compile the model\n",
        "model.compile(loss=tf.keras.losses.mae, # mae is short for mean absolute error\n",
        "              optimizer=tf.keras.optimizers.SGD(), # SGD is short for stochastic gradient descent\n",
        "              metrics=[\"mae\"])\n",
        "\n",
        "# Fit the model\n",
        "# model.fit(X, y, epochs=5) # this will break with TensorFlow 2.7.0+\n",
        "model.fit(tf.expand_dims(X, axis=-1), y, epochs=100)"
      ],
      "metadata": {
        "id": "JE9p61tDmFp8",
        "outputId": "8703d858-4e9e-40c9-95d1-ce7b9256ec51",
        "colab": {
          "base_uri": "https://localhost:8080/"
        }
      },
      "execution_count": 9,
      "outputs": [
        {
          "output_type": "stream",
          "name": "stdout",
          "text": [
            "Epoch 1/100\n",
            "1/1 [==============================] - 0s 235ms/step - loss: 11.5048 - mae: 11.5048\n",
            "Epoch 2/100\n",
            "1/1 [==============================] - 0s 8ms/step - loss: 11.3723 - mae: 11.3723\n",
            "Epoch 3/100\n",
            "1/1 [==============================] - 0s 11ms/step - loss: 11.2398 - mae: 11.2398\n",
            "Epoch 4/100\n",
            "1/1 [==============================] - 0s 8ms/step - loss: 11.1073 - mae: 11.1073\n",
            "Epoch 5/100\n",
            "1/1 [==============================] - 0s 10ms/step - loss: 10.9748 - mae: 10.9748\n",
            "Epoch 6/100\n",
            "1/1 [==============================] - 0s 7ms/step - loss: 10.8423 - mae: 10.8423\n",
            "Epoch 7/100\n",
            "1/1 [==============================] - 0s 9ms/step - loss: 10.7098 - mae: 10.7098\n",
            "Epoch 8/100\n",
            "1/1 [==============================] - 0s 9ms/step - loss: 10.5773 - mae: 10.5773\n",
            "Epoch 9/100\n",
            "1/1 [==============================] - 0s 7ms/step - loss: 10.4448 - mae: 10.4448\n",
            "Epoch 10/100\n",
            "1/1 [==============================] - 0s 7ms/step - loss: 10.3123 - mae: 10.3123\n",
            "Epoch 11/100\n",
            "1/1 [==============================] - 0s 7ms/step - loss: 10.1798 - mae: 10.1798\n",
            "Epoch 12/100\n",
            "1/1 [==============================] - 0s 9ms/step - loss: 10.0473 - mae: 10.0473\n",
            "Epoch 13/100\n",
            "1/1 [==============================] - 0s 7ms/step - loss: 9.9148 - mae: 9.9148\n",
            "Epoch 14/100\n",
            "1/1 [==============================] - 0s 8ms/step - loss: 9.7823 - mae: 9.7823\n",
            "Epoch 15/100\n",
            "1/1 [==============================] - 0s 7ms/step - loss: 9.6498 - mae: 9.6498\n",
            "Epoch 16/100\n",
            "1/1 [==============================] - 0s 8ms/step - loss: 9.5173 - mae: 9.5173\n",
            "Epoch 17/100\n",
            "1/1 [==============================] - 0s 8ms/step - loss: 9.3848 - mae: 9.3848\n",
            "Epoch 18/100\n",
            "1/1 [==============================] - 0s 8ms/step - loss: 9.2523 - mae: 9.2523\n",
            "Epoch 19/100\n",
            "1/1 [==============================] - 0s 8ms/step - loss: 9.1198 - mae: 9.1198\n",
            "Epoch 20/100\n",
            "1/1 [==============================] - 0s 8ms/step - loss: 8.9873 - mae: 8.9873\n",
            "Epoch 21/100\n",
            "1/1 [==============================] - 0s 10ms/step - loss: 8.8548 - mae: 8.8548\n",
            "Epoch 22/100\n",
            "1/1 [==============================] - 0s 7ms/step - loss: 8.7223 - mae: 8.7223\n",
            "Epoch 23/100\n",
            "1/1 [==============================] - 0s 7ms/step - loss: 8.5898 - mae: 8.5898\n",
            "Epoch 24/100\n",
            "1/1 [==============================] - 0s 10ms/step - loss: 8.4573 - mae: 8.4573\n",
            "Epoch 25/100\n",
            "1/1 [==============================] - 0s 10ms/step - loss: 8.3248 - mae: 8.3248\n",
            "Epoch 26/100\n",
            "1/1 [==============================] - 0s 7ms/step - loss: 8.1923 - mae: 8.1923\n",
            "Epoch 27/100\n",
            "1/1 [==============================] - 0s 9ms/step - loss: 8.0598 - mae: 8.0598\n",
            "Epoch 28/100\n",
            "1/1 [==============================] - 0s 10ms/step - loss: 7.9273 - mae: 7.9273\n",
            "Epoch 29/100\n",
            "1/1 [==============================] - 0s 10ms/step - loss: 7.7948 - mae: 7.7948\n",
            "Epoch 30/100\n",
            "1/1 [==============================] - 0s 7ms/step - loss: 7.6623 - mae: 7.6623\n",
            "Epoch 31/100\n",
            "1/1 [==============================] - 0s 6ms/step - loss: 7.5298 - mae: 7.5298\n",
            "Epoch 32/100\n",
            "1/1 [==============================] - 0s 9ms/step - loss: 7.3973 - mae: 7.3973\n",
            "Epoch 33/100\n",
            "1/1 [==============================] - 0s 10ms/step - loss: 7.2648 - mae: 7.2648\n",
            "Epoch 34/100\n",
            "1/1 [==============================] - 0s 7ms/step - loss: 7.2525 - mae: 7.2525\n",
            "Epoch 35/100\n",
            "1/1 [==============================] - 0s 7ms/step - loss: 7.2469 - mae: 7.2469\n",
            "Epoch 36/100\n",
            "1/1 [==============================] - 0s 10ms/step - loss: 7.2413 - mae: 7.2413\n",
            "Epoch 37/100\n",
            "1/1 [==============================] - 0s 9ms/step - loss: 7.2356 - mae: 7.2356\n",
            "Epoch 38/100\n",
            "1/1 [==============================] - 0s 9ms/step - loss: 7.2300 - mae: 7.2300\n",
            "Epoch 39/100\n",
            "1/1 [==============================] - 0s 11ms/step - loss: 7.2244 - mae: 7.2244\n",
            "Epoch 40/100\n",
            "1/1 [==============================] - 0s 10ms/step - loss: 7.2188 - mae: 7.2188\n",
            "Epoch 41/100\n",
            "1/1 [==============================] - 0s 7ms/step - loss: 7.2131 - mae: 7.2131\n",
            "Epoch 42/100\n",
            "1/1 [==============================] - 0s 8ms/step - loss: 7.2075 - mae: 7.2075\n",
            "Epoch 43/100\n",
            "1/1 [==============================] - 0s 9ms/step - loss: 7.2019 - mae: 7.2019\n",
            "Epoch 44/100\n",
            "1/1 [==============================] - 0s 7ms/step - loss: 7.1962 - mae: 7.1962\n",
            "Epoch 45/100\n",
            "1/1 [==============================] - 0s 8ms/step - loss: 7.1906 - mae: 7.1906\n",
            "Epoch 46/100\n",
            "1/1 [==============================] - 0s 8ms/step - loss: 7.1850 - mae: 7.1850\n",
            "Epoch 47/100\n",
            "1/1 [==============================] - 0s 9ms/step - loss: 7.1794 - mae: 7.1794\n",
            "Epoch 48/100\n",
            "1/1 [==============================] - 0s 12ms/step - loss: 7.1738 - mae: 7.1738\n",
            "Epoch 49/100\n",
            "1/1 [==============================] - 0s 8ms/step - loss: 7.1681 - mae: 7.1681\n",
            "Epoch 50/100\n",
            "1/1 [==============================] - 0s 9ms/step - loss: 7.1625 - mae: 7.1625\n",
            "Epoch 51/100\n",
            "1/1 [==============================] - 0s 6ms/step - loss: 7.1569 - mae: 7.1569\n",
            "Epoch 52/100\n",
            "1/1 [==============================] - 0s 7ms/step - loss: 7.1512 - mae: 7.1512\n",
            "Epoch 53/100\n",
            "1/1 [==============================] - 0s 11ms/step - loss: 7.1456 - mae: 7.1456\n",
            "Epoch 54/100\n",
            "1/1 [==============================] - 0s 6ms/step - loss: 7.1400 - mae: 7.1400\n",
            "Epoch 55/100\n",
            "1/1 [==============================] - 0s 9ms/step - loss: 7.1344 - mae: 7.1344\n",
            "Epoch 56/100\n",
            "1/1 [==============================] - 0s 8ms/step - loss: 7.1287 - mae: 7.1287\n",
            "Epoch 57/100\n",
            "1/1 [==============================] - 0s 7ms/step - loss: 7.1231 - mae: 7.1231\n",
            "Epoch 58/100\n",
            "1/1 [==============================] - 0s 6ms/step - loss: 7.1175 - mae: 7.1175\n",
            "Epoch 59/100\n",
            "1/1 [==============================] - 0s 15ms/step - loss: 7.1119 - mae: 7.1119\n",
            "Epoch 60/100\n",
            "1/1 [==============================] - 0s 6ms/step - loss: 7.1063 - mae: 7.1063\n",
            "Epoch 61/100\n",
            "1/1 [==============================] - 0s 7ms/step - loss: 7.1006 - mae: 7.1006\n",
            "Epoch 62/100\n",
            "1/1 [==============================] - 0s 7ms/step - loss: 7.0950 - mae: 7.0950\n",
            "Epoch 63/100\n",
            "1/1 [==============================] - 0s 7ms/step - loss: 7.0894 - mae: 7.0894\n",
            "Epoch 64/100\n",
            "1/1 [==============================] - 0s 6ms/step - loss: 7.0838 - mae: 7.0838\n",
            "Epoch 65/100\n",
            "1/1 [==============================] - 0s 6ms/step - loss: 7.0781 - mae: 7.0781\n",
            "Epoch 66/100\n",
            "1/1 [==============================] - 0s 6ms/step - loss: 7.0725 - mae: 7.0725\n",
            "Epoch 67/100\n",
            "1/1 [==============================] - 0s 6ms/step - loss: 7.0669 - mae: 7.0669\n",
            "Epoch 68/100\n",
            "1/1 [==============================] - 0s 7ms/step - loss: 7.0613 - mae: 7.0613\n",
            "Epoch 69/100\n",
            "1/1 [==============================] - 0s 7ms/step - loss: 7.0556 - mae: 7.0556\n",
            "Epoch 70/100\n",
            "1/1 [==============================] - 0s 6ms/step - loss: 7.0500 - mae: 7.0500\n",
            "Epoch 71/100\n",
            "1/1 [==============================] - 0s 7ms/step - loss: 7.0444 - mae: 7.0444\n",
            "Epoch 72/100\n",
            "1/1 [==============================] - 0s 7ms/step - loss: 7.0388 - mae: 7.0388\n",
            "Epoch 73/100\n",
            "1/1 [==============================] - 0s 6ms/step - loss: 7.0331 - mae: 7.0331\n",
            "Epoch 74/100\n",
            "1/1 [==============================] - 0s 7ms/step - loss: 7.0275 - mae: 7.0275\n",
            "Epoch 75/100\n",
            "1/1 [==============================] - 0s 7ms/step - loss: 7.0219 - mae: 7.0219\n",
            "Epoch 76/100\n",
            "1/1 [==============================] - 0s 15ms/step - loss: 7.0163 - mae: 7.0163\n",
            "Epoch 77/100\n",
            "1/1 [==============================] - 0s 11ms/step - loss: 7.0106 - mae: 7.0106\n",
            "Epoch 78/100\n",
            "1/1 [==============================] - 0s 13ms/step - loss: 7.0050 - mae: 7.0050\n",
            "Epoch 79/100\n",
            "1/1 [==============================] - 0s 9ms/step - loss: 6.9994 - mae: 6.9994\n",
            "Epoch 80/100\n",
            "1/1 [==============================] - 0s 7ms/step - loss: 6.9938 - mae: 6.9938\n",
            "Epoch 81/100\n",
            "1/1 [==============================] - 0s 7ms/step - loss: 6.9881 - mae: 6.9881\n",
            "Epoch 82/100\n",
            "1/1 [==============================] - 0s 7ms/step - loss: 6.9825 - mae: 6.9825\n",
            "Epoch 83/100\n",
            "1/1 [==============================] - 0s 7ms/step - loss: 6.9769 - mae: 6.9769\n",
            "Epoch 84/100\n",
            "1/1 [==============================] - 0s 7ms/step - loss: 6.9713 - mae: 6.9713\n",
            "Epoch 85/100\n",
            "1/1 [==============================] - 0s 7ms/step - loss: 6.9656 - mae: 6.9656\n",
            "Epoch 86/100\n",
            "1/1 [==============================] - 0s 8ms/step - loss: 6.9600 - mae: 6.9600\n",
            "Epoch 87/100\n",
            "1/1 [==============================] - 0s 8ms/step - loss: 6.9544 - mae: 6.9544\n",
            "Epoch 88/100\n",
            "1/1 [==============================] - 0s 7ms/step - loss: 6.9488 - mae: 6.9488\n",
            "Epoch 89/100\n",
            "1/1 [==============================] - 0s 7ms/step - loss: 6.9431 - mae: 6.9431\n",
            "Epoch 90/100\n",
            "1/1 [==============================] - 0s 7ms/step - loss: 6.9375 - mae: 6.9375\n",
            "Epoch 91/100\n",
            "1/1 [==============================] - 0s 8ms/step - loss: 6.9319 - mae: 6.9319\n",
            "Epoch 92/100\n",
            "1/1 [==============================] - 0s 5ms/step - loss: 6.9263 - mae: 6.9263\n",
            "Epoch 93/100\n",
            "1/1 [==============================] - 0s 5ms/step - loss: 6.9206 - mae: 6.9206\n",
            "Epoch 94/100\n",
            "1/1 [==============================] - 0s 8ms/step - loss: 6.9150 - mae: 6.9150\n",
            "Epoch 95/100\n",
            "1/1 [==============================] - 0s 5ms/step - loss: 6.9094 - mae: 6.9094\n",
            "Epoch 96/100\n",
            "1/1 [==============================] - 0s 7ms/step - loss: 6.9038 - mae: 6.9038\n",
            "Epoch 97/100\n",
            "1/1 [==============================] - 0s 6ms/step - loss: 6.8981 - mae: 6.8981\n",
            "Epoch 98/100\n",
            "1/1 [==============================] - 0s 7ms/step - loss: 6.8925 - mae: 6.8925\n",
            "Epoch 99/100\n",
            "1/1 [==============================] - 0s 6ms/step - loss: 6.8869 - mae: 6.8869\n",
            "Epoch 100/100\n",
            "1/1 [==============================] - 0s 6ms/step - loss: 6.8813 - mae: 6.8813\n"
          ]
        },
        {
          "output_type": "execute_result",
          "data": {
            "text/plain": [
              "<keras.callbacks.History at 0x7f53c0102d50>"
            ]
          },
          "metadata": {},
          "execution_count": 9
        }
      ]
    },
    {
      "cell_type": "code",
      "source": [
        "X,y"
      ],
      "metadata": {
        "id": "umzOd6rIq7Q_",
        "outputId": "70a6aa22-7f2f-4c96-9c63-cdcec9e776dd",
        "colab": {
          "base_uri": "https://localhost:8080/"
        }
      },
      "execution_count": 10,
      "outputs": [
        {
          "output_type": "execute_result",
          "data": {
            "text/plain": [
              "(<tf.Tensor: shape=(8,), dtype=float64, numpy=array([-7., -4., -1.,  2.,  5.,  8., 11., 14.])>,\n",
              " <tf.Tensor: shape=(8,), dtype=float64, numpy=array([ 3.,  6.,  9., 12., 15., 18., 21., 24.])>)"
            ]
          },
          "metadata": {},
          "execution_count": 10
        }
      ]
    },
    {
      "cell_type": "code",
      "source": [
        "model.predict([17.0])"
      ],
      "metadata": {
        "id": "DyxeyCHcrgUJ",
        "outputId": "6b95218a-1e79-4327-c707-be8b8c7dae2f",
        "colab": {
          "base_uri": "https://localhost:8080/"
        }
      },
      "execution_count": 11,
      "outputs": [
        {
          "output_type": "execute_result",
          "data": {
            "text/plain": [
              "array([[30.158512]], dtype=float32)"
            ]
          },
          "metadata": {},
          "execution_count": 11
        }
      ]
    },
    {
      "cell_type": "code",
      "source": [
        "# 1. Create model\n",
        "model = tf.keras.Sequential([\n",
        "  tf.keras.layers.Dense(100, activation=None),\n",
        "  #tf.keras.layers.Dense(100, activation=\"relu\"),\n",
        "  #tf.keras.layers.Dense(100, activation=\"relu\"),\n",
        "  tf.keras.layers.Dense(1)\n",
        "])\n",
        "# Compile the model\n",
        "model.compile(loss=tf.keras.losses.mae, # mae is short for mean absolute error\n",
        "              optimizer=tf.keras.optimizers.SGD(), # SGD is short for stochastic gradient descent\n",
        "              metrics=[\"mae\"])\n",
        "\n",
        "# Fit the model\n",
        "# model.fit(X, y, epochs=5) # this will break with TensorFlow 2.7.0+\n",
        "model.fit(tf.expand_dims(X, axis=-1), y, epochs=100)"
      ],
      "metadata": {
        "id": "eg3bkKUSrizF",
        "outputId": "89492ec3-ccfa-47dd-cd29-6471e42ff2d0",
        "colab": {
          "base_uri": "https://localhost:8080/"
        }
      },
      "execution_count": 12,
      "outputs": [
        {
          "output_type": "stream",
          "name": "stdout",
          "text": [
            "Epoch 1/100\n",
            "1/1 [==============================] - 0s 372ms/step - loss: 14.6302 - mae: 14.6302\n",
            "Epoch 2/100\n",
            "1/1 [==============================] - 0s 11ms/step - loss: 14.1254 - mae: 14.1254\n",
            "Epoch 3/100\n",
            "1/1 [==============================] - 0s 7ms/step - loss: 13.6253 - mae: 13.6253\n",
            "Epoch 4/100\n",
            "1/1 [==============================] - 0s 10ms/step - loss: 13.1272 - mae: 13.1272\n",
            "Epoch 5/100\n",
            "1/1 [==============================] - 0s 10ms/step - loss: 12.6286 - mae: 12.6286\n",
            "Epoch 6/100\n",
            "1/1 [==============================] - 0s 7ms/step - loss: 12.1269 - mae: 12.1269\n",
            "Epoch 7/100\n",
            "1/1 [==============================] - 0s 9ms/step - loss: 11.6195 - mae: 11.6195\n",
            "Epoch 8/100\n",
            "1/1 [==============================] - 0s 7ms/step - loss: 11.1037 - mae: 11.1037\n",
            "Epoch 9/100\n",
            "1/1 [==============================] - 0s 9ms/step - loss: 10.5770 - mae: 10.5770\n",
            "Epoch 10/100\n",
            "1/1 [==============================] - 0s 10ms/step - loss: 10.0366 - mae: 10.0366\n",
            "Epoch 11/100\n",
            "1/1 [==============================] - 0s 7ms/step - loss: 9.4797 - mae: 9.4797\n",
            "Epoch 12/100\n",
            "1/1 [==============================] - 0s 7ms/step - loss: 8.9035 - mae: 8.9035\n",
            "Epoch 13/100\n",
            "1/1 [==============================] - 0s 10ms/step - loss: 8.3050 - mae: 8.3050\n",
            "Epoch 14/100\n",
            "1/1 [==============================] - 0s 8ms/step - loss: 7.6812 - mae: 7.6812\n",
            "Epoch 15/100\n",
            "1/1 [==============================] - 0s 8ms/step - loss: 7.1677 - mae: 7.1677\n",
            "Epoch 16/100\n",
            "1/1 [==============================] - 0s 7ms/step - loss: 7.1476 - mae: 7.1476\n",
            "Epoch 17/100\n",
            "1/1 [==============================] - 0s 10ms/step - loss: 7.1276 - mae: 7.1276\n",
            "Epoch 18/100\n",
            "1/1 [==============================] - 0s 11ms/step - loss: 7.1074 - mae: 7.1074\n",
            "Epoch 19/100\n",
            "1/1 [==============================] - 0s 7ms/step - loss: 7.0873 - mae: 7.0873\n",
            "Epoch 20/100\n",
            "1/1 [==============================] - 0s 7ms/step - loss: 7.0670 - mae: 7.0670\n",
            "Epoch 21/100\n",
            "1/1 [==============================] - 0s 7ms/step - loss: 7.0467 - mae: 7.0467\n",
            "Epoch 22/100\n",
            "1/1 [==============================] - 0s 9ms/step - loss: 7.0263 - mae: 7.0263\n",
            "Epoch 23/100\n",
            "1/1 [==============================] - 0s 7ms/step - loss: 7.0059 - mae: 7.0059\n",
            "Epoch 24/100\n",
            "1/1 [==============================] - 0s 8ms/step - loss: 6.9853 - mae: 6.9853\n",
            "Epoch 25/100\n",
            "1/1 [==============================] - 0s 9ms/step - loss: 6.9647 - mae: 6.9647\n",
            "Epoch 26/100\n",
            "1/1 [==============================] - 0s 8ms/step - loss: 6.9440 - mae: 6.9440\n",
            "Epoch 27/100\n",
            "1/1 [==============================] - 0s 7ms/step - loss: 6.9232 - mae: 6.9232\n",
            "Epoch 28/100\n",
            "1/1 [==============================] - 0s 10ms/step - loss: 6.9024 - mae: 6.9024\n",
            "Epoch 29/100\n",
            "1/1 [==============================] - 0s 10ms/step - loss: 6.8814 - mae: 6.8814\n",
            "Epoch 30/100\n",
            "1/1 [==============================] - 0s 7ms/step - loss: 6.8603 - mae: 6.8603\n",
            "Epoch 31/100\n",
            "1/1 [==============================] - 0s 9ms/step - loss: 6.8392 - mae: 6.8392\n",
            "Epoch 32/100\n",
            "1/1 [==============================] - 0s 10ms/step - loss: 6.8179 - mae: 6.8179\n",
            "Epoch 33/100\n",
            "1/1 [==============================] - 0s 7ms/step - loss: 6.7966 - mae: 6.7966\n",
            "Epoch 34/100\n",
            "1/1 [==============================] - 0s 10ms/step - loss: 6.7751 - mae: 6.7751\n",
            "Epoch 35/100\n",
            "1/1 [==============================] - 0s 9ms/step - loss: 6.7535 - mae: 6.7535\n",
            "Epoch 36/100\n",
            "1/1 [==============================] - 0s 7ms/step - loss: 6.7318 - mae: 6.7318\n",
            "Epoch 37/100\n",
            "1/1 [==============================] - 0s 10ms/step - loss: 6.7099 - mae: 6.7099\n",
            "Epoch 38/100\n",
            "1/1 [==============================] - 0s 7ms/step - loss: 6.6880 - mae: 6.6880\n",
            "Epoch 39/100\n",
            "1/1 [==============================] - 0s 8ms/step - loss: 6.6659 - mae: 6.6659\n",
            "Epoch 40/100\n",
            "1/1 [==============================] - 0s 11ms/step - loss: 6.6437 - mae: 6.6437\n",
            "Epoch 41/100\n",
            "1/1 [==============================] - 0s 7ms/step - loss: 6.6213 - mae: 6.6213\n",
            "Epoch 42/100\n",
            "1/1 [==============================] - 0s 11ms/step - loss: 6.5989 - mae: 6.5989\n",
            "Epoch 43/100\n",
            "1/1 [==============================] - 0s 8ms/step - loss: 6.5762 - mae: 6.5762\n",
            "Epoch 44/100\n",
            "1/1 [==============================] - 0s 8ms/step - loss: 6.5561 - mae: 6.5561\n",
            "Epoch 45/100\n",
            "1/1 [==============================] - 0s 6ms/step - loss: 6.5494 - mae: 6.5494\n",
            "Epoch 46/100\n",
            "1/1 [==============================] - 0s 8ms/step - loss: 6.5269 - mae: 6.5269\n",
            "Epoch 47/100\n",
            "1/1 [==============================] - 0s 8ms/step - loss: 6.5042 - mae: 6.5042\n",
            "Epoch 48/100\n",
            "1/1 [==============================] - 0s 8ms/step - loss: 6.4814 - mae: 6.4814\n",
            "Epoch 49/100\n",
            "1/1 [==============================] - 0s 7ms/step - loss: 6.4585 - mae: 6.4585\n",
            "Epoch 50/100\n",
            "1/1 [==============================] - 0s 8ms/step - loss: 6.4354 - mae: 6.4354\n",
            "Epoch 51/100\n",
            "1/1 [==============================] - 0s 14ms/step - loss: 6.4121 - mae: 6.4121\n",
            "Epoch 52/100\n",
            "1/1 [==============================] - 0s 9ms/step - loss: 6.3886 - mae: 6.3886\n",
            "Epoch 53/100\n",
            "1/1 [==============================] - 0s 7ms/step - loss: 6.3649 - mae: 6.3649\n",
            "Epoch 54/100\n",
            "1/1 [==============================] - 0s 7ms/step - loss: 6.3411 - mae: 6.3411\n",
            "Epoch 55/100\n",
            "1/1 [==============================] - 0s 7ms/step - loss: 6.3171 - mae: 6.3171\n",
            "Epoch 56/100\n",
            "1/1 [==============================] - 0s 8ms/step - loss: 6.2929 - mae: 6.2929\n",
            "Epoch 57/100\n",
            "1/1 [==============================] - 0s 8ms/step - loss: 6.2685 - mae: 6.2685\n",
            "Epoch 58/100\n",
            "1/1 [==============================] - 0s 9ms/step - loss: 6.2439 - mae: 6.2439\n",
            "Epoch 59/100\n",
            "1/1 [==============================] - 0s 8ms/step - loss: 6.2191 - mae: 6.2191\n",
            "Epoch 60/100\n",
            "1/1 [==============================] - 0s 9ms/step - loss: 6.1940 - mae: 6.1940\n",
            "Epoch 61/100\n",
            "1/1 [==============================] - 0s 9ms/step - loss: 6.1688 - mae: 6.1688\n",
            "Epoch 62/100\n",
            "1/1 [==============================] - 0s 7ms/step - loss: 6.1434 - mae: 6.1434\n",
            "Epoch 63/100\n",
            "1/1 [==============================] - 0s 11ms/step - loss: 6.1177 - mae: 6.1177\n",
            "Epoch 64/100\n",
            "1/1 [==============================] - 0s 10ms/step - loss: 6.0985 - mae: 6.0985\n",
            "Epoch 65/100\n",
            "1/1 [==============================] - 0s 7ms/step - loss: 6.0903 - mae: 6.0903\n",
            "Epoch 66/100\n",
            "1/1 [==============================] - 0s 8ms/step - loss: 6.0645 - mae: 6.0645\n",
            "Epoch 67/100\n",
            "1/1 [==============================] - 0s 11ms/step - loss: 6.0386 - mae: 6.0386\n",
            "Epoch 68/100\n",
            "1/1 [==============================] - 0s 9ms/step - loss: 6.0124 - mae: 6.0124\n",
            "Epoch 69/100\n",
            "1/1 [==============================] - 0s 11ms/step - loss: 5.9859 - mae: 5.9859\n",
            "Epoch 70/100\n",
            "1/1 [==============================] - 0s 10ms/step - loss: 5.9592 - mae: 5.9592\n",
            "Epoch 71/100\n",
            "1/1 [==============================] - 0s 10ms/step - loss: 5.9322 - mae: 5.9322\n",
            "Epoch 72/100\n",
            "1/1 [==============================] - 0s 7ms/step - loss: 5.9050 - mae: 5.9050\n",
            "Epoch 73/100\n",
            "1/1 [==============================] - 0s 9ms/step - loss: 5.8776 - mae: 5.8776\n",
            "Epoch 74/100\n",
            "1/1 [==============================] - 0s 7ms/step - loss: 5.8498 - mae: 5.8498\n",
            "Epoch 75/100\n",
            "1/1 [==============================] - 0s 8ms/step - loss: 5.8218 - mae: 5.8218\n",
            "Epoch 76/100\n",
            "1/1 [==============================] - 0s 6ms/step - loss: 5.7935 - mae: 5.7935\n",
            "Epoch 77/100\n",
            "1/1 [==============================] - 0s 7ms/step - loss: 5.7650 - mae: 5.7650\n",
            "Epoch 78/100\n",
            "1/1 [==============================] - 0s 11ms/step - loss: 5.7361 - mae: 5.7361\n",
            "Epoch 79/100\n",
            "1/1 [==============================] - 0s 9ms/step - loss: 5.7070 - mae: 5.7070\n",
            "Epoch 80/100\n",
            "1/1 [==============================] - 0s 10ms/step - loss: 5.6775 - mae: 5.6775\n",
            "Epoch 81/100\n",
            "1/1 [==============================] - 0s 7ms/step - loss: 5.6686 - mae: 5.6686\n",
            "Epoch 82/100\n",
            "1/1 [==============================] - 0s 10ms/step - loss: 5.6470 - mae: 5.6470\n",
            "Epoch 83/100\n",
            "1/1 [==============================] - 0s 7ms/step - loss: 5.6173 - mae: 5.6173\n",
            "Epoch 84/100\n",
            "1/1 [==============================] - 0s 10ms/step - loss: 5.5872 - mae: 5.5872\n",
            "Epoch 85/100\n",
            "1/1 [==============================] - 0s 10ms/step - loss: 5.5569 - mae: 5.5569\n",
            "Epoch 86/100\n",
            "1/1 [==============================] - 0s 11ms/step - loss: 5.5262 - mae: 5.5262\n",
            "Epoch 87/100\n",
            "1/1 [==============================] - 0s 9ms/step - loss: 5.4951 - mae: 5.4951\n",
            "Epoch 88/100\n",
            "1/1 [==============================] - 0s 7ms/step - loss: 5.4638 - mae: 5.4638\n",
            "Epoch 89/100\n",
            "1/1 [==============================] - 0s 7ms/step - loss: 5.4321 - mae: 5.4321\n",
            "Epoch 90/100\n",
            "1/1 [==============================] - 0s 10ms/step - loss: 5.4000 - mae: 5.4000\n",
            "Epoch 91/100\n",
            "1/1 [==============================] - 0s 7ms/step - loss: 5.3676 - mae: 5.3676\n",
            "Epoch 92/100\n",
            "1/1 [==============================] - 0s 7ms/step - loss: 5.3349 - mae: 5.3349\n",
            "Epoch 93/100\n",
            "1/1 [==============================] - 0s 10ms/step - loss: 5.3017 - mae: 5.3017\n",
            "Epoch 94/100\n",
            "1/1 [==============================] - 0s 7ms/step - loss: 5.2683 - mae: 5.2683\n",
            "Epoch 95/100\n",
            "1/1 [==============================] - 0s 9ms/step - loss: 5.2344 - mae: 5.2344\n",
            "Epoch 96/100\n",
            "1/1 [==============================] - 0s 7ms/step - loss: 5.2291 - mae: 5.2291\n",
            "Epoch 97/100\n",
            "1/1 [==============================] - 0s 7ms/step - loss: 5.2451 - mae: 5.2451\n",
            "Epoch 98/100\n",
            "1/1 [==============================] - 0s 10ms/step - loss: 5.3407 - mae: 5.3407\n",
            "Epoch 99/100\n",
            "1/1 [==============================] - 0s 7ms/step - loss: 5.1255 - mae: 5.1255\n",
            "Epoch 100/100\n",
            "1/1 [==============================] - 0s 9ms/step - loss: 5.0902 - mae: 5.0902\n"
          ]
        },
        {
          "output_type": "execute_result",
          "data": {
            "text/plain": [
              "<keras.callbacks.History at 0x7f53c0058dd0>"
            ]
          },
          "metadata": {},
          "execution_count": 12
        }
      ]
    },
    {
      "cell_type": "code",
      "source": [
        "model.predict([17.0])"
      ],
      "metadata": {
        "id": "AAERdMblsJwF",
        "outputId": "457cb6c3-e685-476d-b36a-9c6c20064815",
        "colab": {
          "base_uri": "https://localhost:8080/"
        }
      },
      "execution_count": 13,
      "outputs": [
        {
          "output_type": "execute_result",
          "data": {
            "text/plain": [
              "array([[29.664333]], dtype=float32)"
            ]
          },
          "metadata": {},
          "execution_count": 13
        }
      ]
    },
    {
      "cell_type": "code",
      "source": [
        "# 1. Create model\n",
        "model = tf.keras.Sequential([\n",
        "  tf.keras.layers.Dense(100, activation=\"relu\"),\n",
        "  tf.keras.layers.Dense(100, activation=\"relu\"),\n",
        "  tf.keras.layers.Dense(100, activation=\"relu\"),\n",
        "  tf.keras.layers.Dense(1)\n",
        "])\n",
        "# Compile the model\n",
        "model.compile(loss=tf.keras.losses.mae, # mae is short for mean absolute error\n",
        "              optimizer=tf.keras.optimizers.Adam(lr=0.0001), # SGD is short for stochastic gradient descent\n",
        "              metrics=[\"mae\"])\n",
        "\n",
        "# Fit the model\n",
        "# model.fit(X, y, epochs=5) # this will break with TensorFlow 2.7.0+\n",
        "model.fit(tf.expand_dims(X, axis=-1), y, epochs=100)"
      ],
      "metadata": {
        "id": "vRmTfwQvsShu",
        "outputId": "8761a1de-627f-4643-bfed-5a842e927102",
        "colab": {
          "base_uri": "https://localhost:8080/"
        }
      },
      "execution_count": 14,
      "outputs": [
        {
          "output_type": "stream",
          "name": "stdout",
          "text": [
            "Epoch 1/100\n"
          ]
        },
        {
          "output_type": "stream",
          "name": "stderr",
          "text": [
            "/usr/local/lib/python3.7/dist-packages/keras/optimizer_v2/adam.py:105: UserWarning: The `lr` argument is deprecated, use `learning_rate` instead.\n",
            "  super(Adam, self).__init__(name, **kwargs)\n"
          ]
        },
        {
          "output_type": "stream",
          "name": "stdout",
          "text": [
            "1/1 [==============================] - 1s 1s/step - loss: 13.0060 - mae: 13.0060\n",
            "Epoch 2/100\n",
            "1/1 [==============================] - 0s 25ms/step - loss: 12.9709 - mae: 12.9709\n",
            "Epoch 3/100\n",
            "1/1 [==============================] - 0s 10ms/step - loss: 12.9357 - mae: 12.9357\n",
            "Epoch 4/100\n",
            "1/1 [==============================] - 0s 7ms/step - loss: 12.9006 - mae: 12.9006\n",
            "Epoch 5/100\n",
            "1/1 [==============================] - 0s 9ms/step - loss: 12.8674 - mae: 12.8674\n",
            "Epoch 6/100\n",
            "1/1 [==============================] - 0s 7ms/step - loss: 12.8345 - mae: 12.8345\n",
            "Epoch 7/100\n",
            "1/1 [==============================] - 0s 9ms/step - loss: 12.8017 - mae: 12.8017\n",
            "Epoch 8/100\n",
            "1/1 [==============================] - 0s 9ms/step - loss: 12.7690 - mae: 12.7690\n",
            "Epoch 9/100\n",
            "1/1 [==============================] - 0s 8ms/step - loss: 12.7366 - mae: 12.7366\n",
            "Epoch 10/100\n",
            "1/1 [==============================] - 0s 9ms/step - loss: 12.7044 - mae: 12.7044\n",
            "Epoch 11/100\n",
            "1/1 [==============================] - 0s 7ms/step - loss: 12.6722 - mae: 12.6722\n",
            "Epoch 12/100\n",
            "1/1 [==============================] - 0s 8ms/step - loss: 12.6401 - mae: 12.6401\n",
            "Epoch 13/100\n",
            "1/1 [==============================] - 0s 12ms/step - loss: 12.6080 - mae: 12.6080\n",
            "Epoch 14/100\n",
            "1/1 [==============================] - 0s 16ms/step - loss: 12.5758 - mae: 12.5758\n",
            "Epoch 15/100\n",
            "1/1 [==============================] - 0s 9ms/step - loss: 12.5434 - mae: 12.5434\n",
            "Epoch 16/100\n",
            "1/1 [==============================] - 0s 9ms/step - loss: 12.5111 - mae: 12.5111\n",
            "Epoch 17/100\n",
            "1/1 [==============================] - 0s 17ms/step - loss: 12.4787 - mae: 12.4787\n",
            "Epoch 18/100\n",
            "1/1 [==============================] - 0s 10ms/step - loss: 12.4460 - mae: 12.4460\n",
            "Epoch 19/100\n",
            "1/1 [==============================] - 0s 10ms/step - loss: 12.4132 - mae: 12.4132\n",
            "Epoch 20/100\n",
            "1/1 [==============================] - 0s 10ms/step - loss: 12.3804 - mae: 12.3804\n",
            "Epoch 21/100\n",
            "1/1 [==============================] - 0s 10ms/step - loss: 12.3475 - mae: 12.3475\n",
            "Epoch 22/100\n",
            "1/1 [==============================] - 0s 9ms/step - loss: 12.3143 - mae: 12.3143\n",
            "Epoch 23/100\n",
            "1/1 [==============================] - 0s 12ms/step - loss: 12.2811 - mae: 12.2811\n",
            "Epoch 24/100\n",
            "1/1 [==============================] - 0s 13ms/step - loss: 12.2478 - mae: 12.2478\n",
            "Epoch 25/100\n",
            "1/1 [==============================] - 0s 23ms/step - loss: 12.2144 - mae: 12.2144\n",
            "Epoch 26/100\n",
            "1/1 [==============================] - 0s 9ms/step - loss: 12.1809 - mae: 12.1809\n",
            "Epoch 27/100\n",
            "1/1 [==============================] - 0s 10ms/step - loss: 12.1473 - mae: 12.1473\n",
            "Epoch 28/100\n",
            "1/1 [==============================] - 0s 10ms/step - loss: 12.1136 - mae: 12.1136\n",
            "Epoch 29/100\n",
            "1/1 [==============================] - 0s 12ms/step - loss: 12.0796 - mae: 12.0796\n",
            "Epoch 30/100\n",
            "1/1 [==============================] - 0s 10ms/step - loss: 12.0455 - mae: 12.0455\n",
            "Epoch 31/100\n",
            "1/1 [==============================] - 0s 12ms/step - loss: 12.0113 - mae: 12.0113\n",
            "Epoch 32/100\n",
            "1/1 [==============================] - 0s 10ms/step - loss: 11.9766 - mae: 11.9766\n",
            "Epoch 33/100\n",
            "1/1 [==============================] - 0s 9ms/step - loss: 11.9421 - mae: 11.9421\n",
            "Epoch 34/100\n",
            "1/1 [==============================] - 0s 9ms/step - loss: 11.9080 - mae: 11.9080\n",
            "Epoch 35/100\n",
            "1/1 [==============================] - 0s 9ms/step - loss: 11.8736 - mae: 11.8736\n",
            "Epoch 36/100\n",
            "1/1 [==============================] - 0s 10ms/step - loss: 11.8390 - mae: 11.8390\n",
            "Epoch 37/100\n",
            "1/1 [==============================] - 0s 12ms/step - loss: 11.8042 - mae: 11.8042\n",
            "Epoch 38/100\n",
            "1/1 [==============================] - 0s 10ms/step - loss: 11.7690 - mae: 11.7690\n",
            "Epoch 39/100\n",
            "1/1 [==============================] - 0s 10ms/step - loss: 11.7335 - mae: 11.7335\n",
            "Epoch 40/100\n",
            "1/1 [==============================] - 0s 11ms/step - loss: 11.6977 - mae: 11.6977\n",
            "Epoch 41/100\n",
            "1/1 [==============================] - 0s 11ms/step - loss: 11.6617 - mae: 11.6617\n",
            "Epoch 42/100\n",
            "1/1 [==============================] - 0s 11ms/step - loss: 11.6255 - mae: 11.6255\n",
            "Epoch 43/100\n",
            "1/1 [==============================] - 0s 10ms/step - loss: 11.5890 - mae: 11.5890\n",
            "Epoch 44/100\n",
            "1/1 [==============================] - 0s 16ms/step - loss: 11.5523 - mae: 11.5523\n",
            "Epoch 45/100\n",
            "1/1 [==============================] - 0s 14ms/step - loss: 11.5156 - mae: 11.5156\n",
            "Epoch 46/100\n",
            "1/1 [==============================] - 0s 14ms/step - loss: 11.4786 - mae: 11.4786\n",
            "Epoch 47/100\n",
            "1/1 [==============================] - 0s 14ms/step - loss: 11.4412 - mae: 11.4412\n",
            "Epoch 48/100\n",
            "1/1 [==============================] - 0s 14ms/step - loss: 11.4035 - mae: 11.4035\n",
            "Epoch 49/100\n",
            "1/1 [==============================] - 0s 13ms/step - loss: 11.3657 - mae: 11.3657\n",
            "Epoch 50/100\n",
            "1/1 [==============================] - 0s 15ms/step - loss: 11.3278 - mae: 11.3278\n",
            "Epoch 51/100\n",
            "1/1 [==============================] - 0s 15ms/step - loss: 11.2899 - mae: 11.2899\n",
            "Epoch 52/100\n",
            "1/1 [==============================] - 0s 16ms/step - loss: 11.2516 - mae: 11.2516\n",
            "Epoch 53/100\n",
            "1/1 [==============================] - 0s 12ms/step - loss: 11.2128 - mae: 11.2128\n",
            "Epoch 54/100\n",
            "1/1 [==============================] - 0s 18ms/step - loss: 11.1741 - mae: 11.1741\n",
            "Epoch 55/100\n",
            "1/1 [==============================] - 0s 11ms/step - loss: 11.1352 - mae: 11.1352\n",
            "Epoch 56/100\n",
            "1/1 [==============================] - 0s 11ms/step - loss: 11.0960 - mae: 11.0960\n",
            "Epoch 57/100\n",
            "1/1 [==============================] - 0s 16ms/step - loss: 11.0565 - mae: 11.0565\n",
            "Epoch 58/100\n",
            "1/1 [==============================] - 0s 18ms/step - loss: 11.0169 - mae: 11.0169\n",
            "Epoch 59/100\n",
            "1/1 [==============================] - 0s 11ms/step - loss: 10.9771 - mae: 10.9771\n",
            "Epoch 60/100\n",
            "1/1 [==============================] - 0s 12ms/step - loss: 10.9367 - mae: 10.9367\n",
            "Epoch 61/100\n",
            "1/1 [==============================] - 0s 12ms/step - loss: 10.8961 - mae: 10.8961\n",
            "Epoch 62/100\n",
            "1/1 [==============================] - 0s 10ms/step - loss: 10.8550 - mae: 10.8550\n",
            "Epoch 63/100\n",
            "1/1 [==============================] - 0s 10ms/step - loss: 10.8128 - mae: 10.8128\n",
            "Epoch 64/100\n",
            "1/1 [==============================] - 0s 12ms/step - loss: 10.7700 - mae: 10.7700\n",
            "Epoch 65/100\n",
            "1/1 [==============================] - 0s 12ms/step - loss: 10.7270 - mae: 10.7270\n",
            "Epoch 66/100\n",
            "1/1 [==============================] - 0s 13ms/step - loss: 10.6833 - mae: 10.6833\n",
            "Epoch 67/100\n",
            "1/1 [==============================] - 0s 10ms/step - loss: 10.6394 - mae: 10.6394\n",
            "Epoch 68/100\n",
            "1/1 [==============================] - 0s 10ms/step - loss: 10.5950 - mae: 10.5950\n",
            "Epoch 69/100\n",
            "1/1 [==============================] - 0s 15ms/step - loss: 10.5500 - mae: 10.5500\n",
            "Epoch 70/100\n",
            "1/1 [==============================] - 0s 18ms/step - loss: 10.5045 - mae: 10.5045\n",
            "Epoch 71/100\n",
            "1/1 [==============================] - 0s 12ms/step - loss: 10.4585 - mae: 10.4585\n",
            "Epoch 72/100\n",
            "1/1 [==============================] - 0s 11ms/step - loss: 10.4119 - mae: 10.4119\n",
            "Epoch 73/100\n",
            "1/1 [==============================] - 0s 26ms/step - loss: 10.3651 - mae: 10.3651\n",
            "Epoch 74/100\n",
            "1/1 [==============================] - 0s 15ms/step - loss: 10.3178 - mae: 10.3178\n",
            "Epoch 75/100\n",
            "1/1 [==============================] - 0s 14ms/step - loss: 10.2700 - mae: 10.2700\n",
            "Epoch 76/100\n",
            "1/1 [==============================] - 0s 11ms/step - loss: 10.2219 - mae: 10.2219\n",
            "Epoch 77/100\n",
            "1/1 [==============================] - 0s 9ms/step - loss: 10.1733 - mae: 10.1733\n",
            "Epoch 78/100\n",
            "1/1 [==============================] - 0s 11ms/step - loss: 10.1241 - mae: 10.1241\n",
            "Epoch 79/100\n",
            "1/1 [==============================] - 0s 11ms/step - loss: 10.0744 - mae: 10.0744\n",
            "Epoch 80/100\n",
            "1/1 [==============================] - 0s 11ms/step - loss: 10.0242 - mae: 10.0242\n",
            "Epoch 81/100\n",
            "1/1 [==============================] - 0s 11ms/step - loss: 9.9792 - mae: 9.9792\n",
            "Epoch 82/100\n",
            "1/1 [==============================] - 0s 11ms/step - loss: 9.9382 - mae: 9.9382\n",
            "Epoch 83/100\n",
            "1/1 [==============================] - 0s 18ms/step - loss: 9.8966 - mae: 9.8966\n",
            "Epoch 84/100\n",
            "1/1 [==============================] - 0s 11ms/step - loss: 9.8545 - mae: 9.8545\n",
            "Epoch 85/100\n",
            "1/1 [==============================] - 0s 15ms/step - loss: 9.8120 - mae: 9.8120\n",
            "Epoch 86/100\n",
            "1/1 [==============================] - 0s 7ms/step - loss: 9.7691 - mae: 9.7691\n",
            "Epoch 87/100\n",
            "1/1 [==============================] - 0s 15ms/step - loss: 9.7263 - mae: 9.7263\n",
            "Epoch 88/100\n",
            "1/1 [==============================] - 0s 13ms/step - loss: 9.6834 - mae: 9.6834\n",
            "Epoch 89/100\n",
            "1/1 [==============================] - 0s 11ms/step - loss: 9.6403 - mae: 9.6403\n",
            "Epoch 90/100\n",
            "1/1 [==============================] - 0s 11ms/step - loss: 9.5970 - mae: 9.5970\n",
            "Epoch 91/100\n",
            "1/1 [==============================] - 0s 11ms/step - loss: 9.5536 - mae: 9.5536\n",
            "Epoch 92/100\n",
            "1/1 [==============================] - 0s 11ms/step - loss: 9.5102 - mae: 9.5102\n",
            "Epoch 93/100\n",
            "1/1 [==============================] - 0s 15ms/step - loss: 9.4664 - mae: 9.4664\n",
            "Epoch 94/100\n",
            "1/1 [==============================] - 0s 7ms/step - loss: 9.4222 - mae: 9.4222\n",
            "Epoch 95/100\n",
            "1/1 [==============================] - 0s 13ms/step - loss: 9.3780 - mae: 9.3780\n",
            "Epoch 96/100\n",
            "1/1 [==============================] - 0s 13ms/step - loss: 9.3334 - mae: 9.3334\n",
            "Epoch 97/100\n",
            "1/1 [==============================] - 0s 14ms/step - loss: 9.2883 - mae: 9.2883\n",
            "Epoch 98/100\n",
            "1/1 [==============================] - 0s 19ms/step - loss: 9.2429 - mae: 9.2429\n",
            "Epoch 99/100\n",
            "1/1 [==============================] - 0s 20ms/step - loss: 9.1973 - mae: 9.1973\n",
            "Epoch 100/100\n",
            "1/1 [==============================] - 0s 14ms/step - loss: 9.1512 - mae: 9.1512\n"
          ]
        },
        {
          "output_type": "execute_result",
          "data": {
            "text/plain": [
              "<keras.callbacks.History at 0x7f53566b4fd0>"
            ]
          },
          "metadata": {},
          "execution_count": 14
        }
      ]
    },
    {
      "cell_type": "code",
      "source": [
        "model.predict([17.0])"
      ],
      "metadata": {
        "id": "-Dot4mfcuq77",
        "outputId": "54c5bc0b-a4df-4f2a-fe19-b82553c16c42",
        "colab": {
          "base_uri": "https://localhost:8080/"
        }
      },
      "execution_count": 15,
      "outputs": [
        {
          "output_type": "execute_result",
          "data": {
            "text/plain": [
              "array([[12.539059]], dtype=float32)"
            ]
          },
          "metadata": {},
          "execution_count": 15
        }
      ]
    },
    {
      "cell_type": "markdown",
      "source": [
        "## Evaluating a model \n",
        "\n",
        "A typical workflow you'll go through when building neural networks is:\n",
        "\n",
        "```\n",
        "Build a model -> evaluate it -> build (tweak) a model -> evaulate it -> build (tweak) a model -> evaluate it...\n",
        "```\n",
        "\n",
        "The tweaking comes from maybe not building a model from scratch but adjusting an existing one.\n",
        "\n",
        "### Visualize, visualize, visualize\n",
        "\n",
        "When it comes to evaluation, you'll want to remember the words: \"visualize, visualize, visualize.\" \n",
        "\n",
        "This is because you're probably better looking at something (doing) than you are thinking about something.\n",
        "\n",
        "It's a good idea to visualize:\n",
        "* **The data** - what data are you working with? What does it look like?\n",
        "* **The model itself** - what does the architecture look like? What are the different shapes?\n",
        "* **The training of a model** - how does a model perform while it learns?\n",
        "* **The predictions of a model** - how do the predictions of a model line up against the ground truth (the original labels)?\n",
        "\n",
        "Let's start by visualizing the model.\n",
        "\n",
        "\n"
      ],
      "metadata": {
        "id": "KqLMf7JuLpem"
      }
    },
    {
      "cell_type": "code",
      "source": [
        "# Make a bigger dataset\n",
        "X = np.arange(-100, 100, 4)\n",
        "\n",
        "y = X + 10\n",
        "X, y"
      ],
      "metadata": {
        "id": "xQxbcUqFuunD",
        "outputId": "ebc1eec7-e72b-4f0d-ab07-aceaf6fb8028",
        "colab": {
          "base_uri": "https://localhost:8080/"
        }
      },
      "execution_count": 16,
      "outputs": [
        {
          "output_type": "execute_result",
          "data": {
            "text/plain": [
              "(array([-100,  -96,  -92,  -88,  -84,  -80,  -76,  -72,  -68,  -64,  -60,\n",
              "         -56,  -52,  -48,  -44,  -40,  -36,  -32,  -28,  -24,  -20,  -16,\n",
              "         -12,   -8,   -4,    0,    4,    8,   12,   16,   20,   24,   28,\n",
              "          32,   36,   40,   44,   48,   52,   56,   60,   64,   68,   72,\n",
              "          76,   80,   84,   88,   92,   96]),\n",
              " array([-90, -86, -82, -78, -74, -70, -66, -62, -58, -54, -50, -46, -42,\n",
              "        -38, -34, -30, -26, -22, -18, -14, -10,  -6,  -2,   2,   6,  10,\n",
              "         14,  18,  22,  26,  30,  34,  38,  42,  46,  50,  54,  58,  62,\n",
              "         66,  70,  74,  78,  82,  86,  90,  94,  98, 102, 106]))"
            ]
          },
          "metadata": {},
          "execution_count": 16
        }
      ]
    },
    {
      "cell_type": "code",
      "source": [
        "plt.figure(figsize=(10, 7))\n",
        "# Plot training data in blue\n",
        "plt.scatter(X, y, c='b', label='full data')\n",
        "\n",
        "plt.legend();"
      ],
      "metadata": {
        "id": "Gui6BcwiMsnu",
        "outputId": "8eff214a-c680-4f8f-f19a-439743969c6c",
        "colab": {
          "base_uri": "https://localhost:8080/",
          "height": 428
        }
      },
      "execution_count": 17,
      "outputs": [
        {
          "output_type": "display_data",
          "data": {
            "text/plain": [
              "<Figure size 720x504 with 1 Axes>"
            ],
            "image/png": "[encoded data removed]"
          },
          "metadata": {
            "needs_background": "light"
          }
        }
      ]
    },
    {
      "cell_type": "markdown",
      "source": [
        "## Split data into training/test set\n",
        "\n",
        "One of the other most common and important steps in a machine learning project is creating a training and test set (and when required, a validation set).\n",
        "\n",
        "Each set serves a specific purpose:\n",
        "* **Training set** - the model learns from this data, which is typically 70-80% of the total data available (like the course materials you study during the semester).\n",
        "* **Validation set** - the model gets tuned on this data, which is typically 10-15% of the total data available (like the practice exam you take before the final exam).\n",
        "* **Test set** - the model gets evaluated on this data to test what it has learned, it's typically 10-15% of the total data available (like the final exam you take at the end of the semester).\n",
        "\n",
        "For now, we'll just use a training and test set, this means we'll have a dataset for our model to learn on as well as be evaluated on.\n",
        "\n",
        "We can create them by splitting our `X` and `y` arrays.\n",
        "\n",
        "> 🔑 **Note:** When dealing with real-world data, this step is typically done right at the start of a project (the test set should always be kept separate from all other data). We want our model to learn on training data and then evaluate it on test data to get an indication of how well it **generalizes** to unseen examples."
      ],
      "metadata": {
        "id": "qNX_i3yOMC4e"
      }
    },
    {
      "cell_type": "code",
      "source": [
        "# Check how many samples we have\n",
        "len(X)"
      ],
      "metadata": {
        "id": "gJ0wooUZL2jh",
        "outputId": "fdb50917-a374-49c6-e774-bb74113b4174",
        "colab": {
          "base_uri": "https://localhost:8080/"
        }
      },
      "execution_count": 18,
      "outputs": [
        {
          "output_type": "execute_result",
          "data": {
            "text/plain": [
              "50"
            ]
          },
          "metadata": {},
          "execution_count": 18
        }
      ]
    },
    {
      "cell_type": "code",
      "source": [
        "X_train = X[:40]  #(80% of data)\n",
        "y_train = y[:40]\n",
        "X_test = X[40:]  #(20% of data)\n",
        "y_test = y[40:]"
      ],
      "metadata": {
        "id": "3Pb2C_MYMHZp"
      },
      "execution_count": 19,
      "outputs": []
    },
    {
      "cell_type": "markdown",
      "source": [
        "## Visualizing the data"
      ],
      "metadata": {
        "id": "UMXrZpavM7zm"
      }
    },
    {
      "cell_type": "code",
      "source": [
        "plt.figure(figsize=(10, 7))\n",
        "# Plot training data in blue\n",
        "plt.scatter(X_train, y_train, c='b', label='Training data')\n",
        "# Plot test data in green\n",
        "plt.scatter(X_test, y_test, c='g', label='Testing data')\n",
        "# Show the legend\n",
        "plt.legend();\n",
        "\n",
        "#; after legend helps to remove <matplotlib.legend.Legend at 0x7f8d619d7f50>"
      ],
      "metadata": {
        "id": "LhpF2ldUMn17",
        "outputId": "2b457478-a9f3-4611-f108-77585ddae131",
        "colab": {
          "base_uri": "https://localhost:8080/",
          "height": 428
        }
      },
      "execution_count": 20,
      "outputs": [
        {
          "output_type": "display_data",
          "data": {
            "text/plain": [
              "<Figure size 720x504 with 1 Axes>"
            ],
            "image/png": "[encoded data removed]"
          },
          "metadata": {
            "needs_background": "light"
          }
        }
      ]
    },
    {
      "cell_type": "code",
      "source": [
        "# Create\n",
        "model= tf.keras.Sequential(\n",
        "    [tf.keras.layers.Dense(1)]\n",
        ")\n",
        "# Compile\n",
        "model.compile(loss = tf.keras.losses.mae, \n",
        "              optimizer=tf.keras.optimizers.SGD(),\n",
        "              metrics=[\"mae\"])\n",
        "# # Fit\n",
        "# model.fit(X_train, y_train, epochs = 100)"
      ],
      "metadata": {
        "id": "sC38jfljM1R_"
      },
      "execution_count": 21,
      "outputs": []
    },
    {
      "cell_type": "code",
      "source": [
        "model.build(input_shape=(1,1))"
      ],
      "metadata": {
        "id": "hwEsNtX8Ovzl"
      },
      "execution_count": 22,
      "outputs": []
    },
    {
      "cell_type": "code",
      "source": [
        "model.summary()"
      ],
      "metadata": {
        "id": "-qYE-qqKO1bg",
        "outputId": "8e76cda2-3197-4fd1-eaad-b5d9a4c95fa4",
        "colab": {
          "base_uri": "https://localhost:8080/"
        }
      },
      "execution_count": 23,
      "outputs": [
        {
          "output_type": "stream",
          "name": "stdout",
          "text": [
            "Model: \"sequential_4\"\n",
            "_________________________________________________________________\n",
            " Layer (type)                Output Shape              Param #   \n",
            "=================================================================\n",
            " dense_8 (Dense)             (1, 1)                    2         \n",
            "                                                                 \n",
            "=================================================================\n",
            "Total params: 2\n",
            "Trainable params: 2\n",
            "Non-trainable params: 0\n",
            "_________________________________________________________________\n"
          ]
        }
      ]
    },
    {
      "cell_type": "markdown",
      "source": [
        "Create Model with input_shape , Input_shape is a tuple with input and output\n",
        "\n",
        "Dense = fully Connected layer"
      ],
      "metadata": {
        "id": "P4IbLPD8SA3m"
      }
    },
    {
      "cell_type": "code",
      "source": [
        "# Set random seed\n",
        "tf.random.set_seed(42)\n",
        "\n",
        "# Create a model (same as above)\n",
        "model = tf.keras.Sequential(\n",
        "    [tf.keras.layers.Dense(1, input_shape=[1])]\n",
        ")\n",
        "# Compile model (same as above)\n",
        "model.compile(loss=tf.keras.losses.mae,\n",
        "              optimizer=tf.keras.optimizers.SGD(),\n",
        "              metrics=[\"mae\"])"
      ],
      "metadata": {
        "id": "mtypMjusSAWX"
      },
      "execution_count": 24,
      "outputs": []
    },
    {
      "cell_type": "code",
      "source": [
        "model.summary()"
      ],
      "metadata": {
        "id": "9cmzKDWtQHGW",
        "outputId": "23c1cdcf-6774-4960-a899-54d0371359a3",
        "colab": {
          "base_uri": "https://localhost:8080/"
        }
      },
      "execution_count": 25,
      "outputs": [
        {
          "output_type": "stream",
          "name": "stdout",
          "text": [
            "Model: \"sequential_5\"\n",
            "_________________________________________________________________\n",
            " Layer (type)                Output Shape              Param #   \n",
            "=================================================================\n",
            " dense_9 (Dense)             (None, 1)                 2         \n",
            "                                                                 \n",
            "=================================================================\n",
            "Total params: 2\n",
            "Trainable params: 2\n",
            "Non-trainable params: 0\n",
            "_________________________________________________________________\n"
          ]
        }
      ]
    },
    {
      "cell_type": "markdown",
      "source": [
        "Calling `summary()` on our model shows us the layers it contains, the output shape and the number of parameters.\n",
        "* **Total params** - total number of parameters in the model.\n",
        "* **Trainable parameters** - these are the parameters (patterns) the model can update as it trains.\n",
        "* **Non-trainable parameters** - these parameters aren't updated during training (this is typical when you bring in the already learned patterns from other models during transfer learning).\n",
        "\n",
        "> 📖 **Resource:** For a more in-depth overview of the trainable parameters within a layer, check out [MIT's introduction to deep learning video](https://youtu.be/njKP3FqW3Sk).\n",
        "\n",
        "> 🛠 **Exercise:** Try playing around with the number of hidden units in the `Dense` layer (e.g. `Dense(2)`, `Dense(3)`). How does this change the Total/Trainable params? Investigate what's causing the change.\n",
        "\n"
      ],
      "metadata": {
        "id": "zlQ3ZBnyTiUv"
      }
    },
    {
      "cell_type": "code",
      "source": [
        "# Create a model (same as above)\n",
        "model = tf.keras.Sequential(\n",
        "    [tf.keras.layers.Dense(3, input_shape=[1])]\n",
        ")\n",
        "# Compile model (same as above)\n",
        "model.compile(loss=tf.keras.losses.mae,\n",
        "              optimizer=tf.keras.optimizers.SGD(lr=0.001),\n",
        "              metrics=[\"mae\"])\n",
        "model.summary()"
      ],
      "metadata": {
        "id": "7nmwXxQmSuyN",
        "outputId": "ec90674a-5117-4df9-f364-beda3a8df979",
        "colab": {
          "base_uri": "https://localhost:8080/"
        }
      },
      "execution_count": 45,
      "outputs": [
        {
          "output_type": "stream",
          "name": "stdout",
          "text": [
            "Model: \"sequential_7\"\n",
            "_________________________________________________________________\n",
            " Layer (type)                Output Shape              Param #   \n",
            "=================================================================\n",
            " dense_11 (Dense)            (None, 3)                 6         \n",
            "                                                                 \n",
            "=================================================================\n",
            "Total params: 6\n",
            "Trainable params: 6\n",
            "Non-trainable params: 0\n",
            "_________________________________________________________________\n"
          ]
        },
        {
          "output_type": "stream",
          "name": "stderr",
          "text": [
            "/usr/local/lib/python3.7/dist-packages/keras/optimizer_v2/gradient_descent.py:102: UserWarning: The `lr` argument is deprecated, use `learning_rate` instead.\n",
            "  super(SGD, self).__init__(name, **kwargs)\n"
          ]
        }
      ]
    },
    {
      "cell_type": "code",
      "source": [
        "model.fit(X_train, y_train, epochs = 100, verbose=1)"
      ],
      "metadata": {
        "id": "FUzDvWUSYTbJ",
        "outputId": "1c0bd911-400b-464e-e094-368b38b243e7",
        "colab": {
          "base_uri": "https://localhost:8080/"
        }
      },
      "execution_count": 46,
      "outputs": [
        {
          "output_type": "stream",
          "name": "stdout",
          "text": [
            "Epoch 1/100\n",
            "2/2 [==============================] - 0s 7ms/step - loss: 42.2749 - mae: 42.2749\n",
            "Epoch 2/100\n",
            "2/2 [==============================] - 0s 5ms/step - loss: 41.1113 - mae: 41.1113\n",
            "Epoch 3/100\n",
            "2/2 [==============================] - 0s 6ms/step - loss: 39.8732 - mae: 39.8732\n",
            "Epoch 4/100\n",
            "2/2 [==============================] - 0s 5ms/step - loss: 38.6884 - mae: 38.6884\n",
            "Epoch 5/100\n",
            "2/2 [==============================] - 0s 5ms/step - loss: 37.4957 - mae: 37.4957\n",
            "Epoch 6/100\n",
            "2/2 [==============================] - 0s 5ms/step - loss: 36.3756 - mae: 36.3756\n",
            "Epoch 7/100\n",
            "2/2 [==============================] - 0s 4ms/step - loss: 35.2662 - mae: 35.2662\n",
            "Epoch 8/100\n",
            "2/2 [==============================] - 0s 7ms/step - loss: 34.0741 - mae: 34.0741\n",
            "Epoch 9/100\n",
            "2/2 [==============================] - 0s 5ms/step - loss: 32.7285 - mae: 32.7285\n",
            "Epoch 10/100\n",
            "2/2 [==============================] - 0s 5ms/step - loss: 31.5174 - mae: 31.5174\n",
            "Epoch 11/100\n",
            "2/2 [==============================] - 0s 5ms/step - loss: 30.3954 - mae: 30.3954\n",
            "Epoch 12/100\n",
            "2/2 [==============================] - 0s 6ms/step - loss: 29.1212 - mae: 29.1212\n",
            "Epoch 13/100\n",
            "2/2 [==============================] - 0s 5ms/step - loss: 27.8921 - mae: 27.8921\n",
            "Epoch 14/100\n",
            "2/2 [==============================] - 0s 5ms/step - loss: 26.5761 - mae: 26.5761\n",
            "Epoch 15/100\n",
            "2/2 [==============================] - 0s 6ms/step - loss: 25.4097 - mae: 25.4097\n",
            "Epoch 16/100\n",
            "2/2 [==============================] - 0s 6ms/step - loss: 24.3118 - mae: 24.3118\n",
            "Epoch 17/100\n",
            "2/2 [==============================] - 0s 5ms/step - loss: 23.1468 - mae: 23.1468\n",
            "Epoch 18/100\n",
            "2/2 [==============================] - 0s 5ms/step - loss: 21.9657 - mae: 21.9657\n",
            "Epoch 19/100\n",
            "2/2 [==============================] - 0s 6ms/step - loss: 20.8519 - mae: 20.8519\n",
            "Epoch 20/100\n",
            "2/2 [==============================] - 0s 5ms/step - loss: 19.8310 - mae: 19.8310\n",
            "Epoch 21/100\n",
            "2/2 [==============================] - 0s 5ms/step - loss: 18.7179 - mae: 18.7179\n",
            "Epoch 22/100\n",
            "2/2 [==============================] - 0s 5ms/step - loss: 17.6518 - mae: 17.6518\n",
            "Epoch 23/100\n",
            "2/2 [==============================] - 0s 5ms/step - loss: 16.7520 - mae: 16.7520\n",
            "Epoch 24/100\n",
            "2/2 [==============================] - 0s 5ms/step - loss: 15.8308 - mae: 15.8308\n",
            "Epoch 25/100\n",
            "2/2 [==============================] - 0s 5ms/step - loss: 14.8207 - mae: 14.8207\n",
            "Epoch 26/100\n",
            "2/2 [==============================] - 0s 6ms/step - loss: 13.7877 - mae: 13.7877\n",
            "Epoch 27/100\n",
            "2/2 [==============================] - 0s 6ms/step - loss: 12.8313 - mae: 12.8313\n",
            "Epoch 28/100\n",
            "2/2 [==============================] - 0s 6ms/step - loss: 11.9563 - mae: 11.9563\n",
            "Epoch 29/100\n",
            "2/2 [==============================] - 0s 7ms/step - loss: 11.2181 - mae: 11.2181\n",
            "Epoch 30/100\n",
            "2/2 [==============================] - 0s 6ms/step - loss: 10.3554 - mae: 10.3554\n",
            "Epoch 31/100\n",
            "2/2 [==============================] - 0s 6ms/step - loss: 9.5716 - mae: 9.5716\n",
            "Epoch 32/100\n",
            "2/2 [==============================] - 0s 6ms/step - loss: 9.2267 - mae: 9.2267\n",
            "Epoch 33/100\n",
            "2/2 [==============================] - 0s 6ms/step - loss: 8.8549 - mae: 8.8549\n",
            "Epoch 34/100\n",
            "2/2 [==============================] - 0s 5ms/step - loss: 8.5162 - mae: 8.5162\n",
            "Epoch 35/100\n",
            "2/2 [==============================] - 0s 6ms/step - loss: 8.3308 - mae: 8.3308\n",
            "Epoch 36/100\n",
            "2/2 [==============================] - 0s 5ms/step - loss: 8.1499 - mae: 8.1499\n",
            "Epoch 37/100\n",
            "2/2 [==============================] - 0s 5ms/step - loss: 7.9683 - mae: 7.9683\n",
            "Epoch 38/100\n",
            "2/2 [==============================] - 0s 6ms/step - loss: 7.8267 - mae: 7.8267\n",
            "Epoch 39/100\n",
            "2/2 [==============================] - 0s 6ms/step - loss: 7.7432 - mae: 7.7432\n",
            "Epoch 40/100\n",
            "2/2 [==============================] - 0s 6ms/step - loss: 7.6876 - mae: 7.6876\n",
            "Epoch 41/100\n",
            "2/2 [==============================] - 0s 6ms/step - loss: 7.6439 - mae: 7.6439\n",
            "Epoch 42/100\n",
            "2/2 [==============================] - 0s 6ms/step - loss: 7.6238 - mae: 7.6238\n",
            "Epoch 43/100\n",
            "2/2 [==============================] - 0s 6ms/step - loss: 7.6210 - mae: 7.6210\n",
            "Epoch 44/100\n",
            "2/2 [==============================] - 0s 7ms/step - loss: 7.6300 - mae: 7.6300\n",
            "Epoch 45/100\n",
            "2/2 [==============================] - 0s 7ms/step - loss: 7.6483 - mae: 7.6483\n",
            "Epoch 46/100\n",
            "2/2 [==============================] - 0s 5ms/step - loss: 7.6580 - mae: 7.6580\n",
            "Epoch 47/100\n",
            "2/2 [==============================] - 0s 6ms/step - loss: 7.6620 - mae: 7.6620\n",
            "Epoch 48/100\n",
            "2/2 [==============================] - 0s 5ms/step - loss: 7.6692 - mae: 7.6692\n",
            "Epoch 49/100\n",
            "2/2 [==============================] - 0s 8ms/step - loss: 7.6515 - mae: 7.6515\n",
            "Epoch 50/100\n",
            "2/2 [==============================] - 0s 4ms/step - loss: 7.6473 - mae: 7.6473\n",
            "Epoch 51/100\n",
            "2/2 [==============================] - 0s 5ms/step - loss: 7.6432 - mae: 7.6432\n",
            "Epoch 52/100\n",
            "2/2 [==============================] - 0s 6ms/step - loss: 7.6172 - mae: 7.6172\n",
            "Epoch 53/100\n",
            "2/2 [==============================] - 0s 5ms/step - loss: 7.6397 - mae: 7.6397\n",
            "Epoch 54/100\n",
            "2/2 [==============================] - 0s 6ms/step - loss: 7.6545 - mae: 7.6545\n",
            "Epoch 55/100\n",
            "2/2 [==============================] - 0s 6ms/step - loss: 7.6444 - mae: 7.6444\n",
            "Epoch 56/100\n",
            "2/2 [==============================] - 0s 6ms/step - loss: 7.6391 - mae: 7.6391\n",
            "Epoch 57/100\n",
            "2/2 [==============================] - 0s 7ms/step - loss: 7.6272 - mae: 7.6272\n",
            "Epoch 58/100\n",
            "2/2 [==============================] - 0s 5ms/step - loss: 7.6258 - mae: 7.6258\n",
            "Epoch 59/100\n",
            "2/2 [==============================] - 0s 6ms/step - loss: 7.6128 - mae: 7.6128\n",
            "Epoch 60/100\n",
            "2/2 [==============================] - 0s 6ms/step - loss: 7.6134 - mae: 7.6134\n",
            "Epoch 61/100\n",
            "2/2 [==============================] - 0s 5ms/step - loss: 7.6206 - mae: 7.6206\n",
            "Epoch 62/100\n",
            "2/2 [==============================] - 0s 5ms/step - loss: 7.6239 - mae: 7.6239\n",
            "Epoch 63/100\n",
            "2/2 [==============================] - 0s 6ms/step - loss: 7.6434 - mae: 7.6434\n",
            "Epoch 64/100\n",
            "2/2 [==============================] - 0s 6ms/step - loss: 7.6597 - mae: 7.6597\n",
            "Epoch 65/100\n",
            "2/2 [==============================] - 0s 6ms/step - loss: 7.6138 - mae: 7.6138\n",
            "Epoch 66/100\n",
            "2/2 [==============================] - 0s 6ms/step - loss: 7.6101 - mae: 7.6101\n",
            "Epoch 67/100\n",
            "2/2 [==============================] - 0s 6ms/step - loss: 7.6116 - mae: 7.6116\n",
            "Epoch 68/100\n",
            "2/2 [==============================] - 0s 6ms/step - loss: 7.6165 - mae: 7.6165\n",
            "Epoch 69/100\n",
            "2/2 [==============================] - 0s 11ms/step - loss: 7.6086 - mae: 7.6086\n",
            "Epoch 70/100\n",
            "2/2 [==============================] - 0s 11ms/step - loss: 7.6244 - mae: 7.6244\n",
            "Epoch 71/100\n",
            "2/2 [==============================] - 0s 6ms/step - loss: 7.6585 - mae: 7.6585\n",
            "Epoch 72/100\n",
            "2/2 [==============================] - 0s 6ms/step - loss: 7.6525 - mae: 7.6525\n",
            "Epoch 73/100\n",
            "2/2 [==============================] - 0s 6ms/step - loss: 7.6654 - mae: 7.6654\n",
            "Epoch 74/100\n",
            "2/2 [==============================] - 0s 7ms/step - loss: 7.6575 - mae: 7.6575\n",
            "Epoch 75/100\n",
            "2/2 [==============================] - 0s 6ms/step - loss: 7.6141 - mae: 7.6141\n",
            "Epoch 76/100\n",
            "2/2 [==============================] - 0s 6ms/step - loss: 7.6055 - mae: 7.6055\n",
            "Epoch 77/100\n",
            "2/2 [==============================] - 0s 6ms/step - loss: 7.6070 - mae: 7.6070\n",
            "Epoch 78/100\n",
            "2/2 [==============================] - 0s 5ms/step - loss: 7.6090 - mae: 7.6090\n",
            "Epoch 79/100\n",
            "2/2 [==============================] - 0s 6ms/step - loss: 7.6133 - mae: 7.6133\n",
            "Epoch 80/100\n",
            "2/2 [==============================] - 0s 6ms/step - loss: 7.6087 - mae: 7.6087\n",
            "Epoch 81/100\n",
            "2/2 [==============================] - 0s 6ms/step - loss: 7.6043 - mae: 7.6043\n",
            "Epoch 82/100\n",
            "2/2 [==============================] - 0s 7ms/step - loss: 7.6050 - mae: 7.6050\n",
            "Epoch 83/100\n",
            "2/2 [==============================] - 0s 5ms/step - loss: 7.6094 - mae: 7.6094\n",
            "Epoch 84/100\n",
            "2/2 [==============================] - 0s 7ms/step - loss: 7.6103 - mae: 7.6103\n",
            "Epoch 85/100\n",
            "2/2 [==============================] - 0s 7ms/step - loss: 7.6093 - mae: 7.6093\n",
            "Epoch 86/100\n",
            "2/2 [==============================] - 0s 7ms/step - loss: 7.6096 - mae: 7.6096\n",
            "Epoch 87/100\n",
            "2/2 [==============================] - 0s 6ms/step - loss: 7.6459 - mae: 7.6459\n",
            "Epoch 88/100\n",
            "2/2 [==============================] - 0s 5ms/step - loss: 7.6609 - mae: 7.6609\n",
            "Epoch 89/100\n",
            "2/2 [==============================] - 0s 5ms/step - loss: 7.6285 - mae: 7.6285\n",
            "Epoch 90/100\n",
            "2/2 [==============================] - 0s 6ms/step - loss: 7.6392 - mae: 7.6392\n",
            "Epoch 91/100\n",
            "2/2 [==============================] - 0s 6ms/step - loss: 7.6055 - mae: 7.6055\n",
            "Epoch 92/100\n",
            "2/2 [==============================] - 0s 6ms/step - loss: 7.6046 - mae: 7.6046\n",
            "Epoch 93/100\n",
            "2/2 [==============================] - 0s 6ms/step - loss: 7.6025 - mae: 7.6025\n",
            "Epoch 94/100\n",
            "2/2 [==============================] - 0s 6ms/step - loss: 7.6025 - mae: 7.6025\n",
            "Epoch 95/100\n",
            "2/2 [==============================] - 0s 6ms/step - loss: 7.6125 - mae: 7.6125\n",
            "Epoch 96/100\n",
            "2/2 [==============================] - 0s 6ms/step - loss: 7.6243 - mae: 7.6243\n",
            "Epoch 97/100\n",
            "2/2 [==============================] - 0s 5ms/step - loss: 7.5970 - mae: 7.5970\n",
            "Epoch 98/100\n",
            "2/2 [==============================] - 0s 8ms/step - loss: 7.6050 - mae: 7.6050\n",
            "Epoch 99/100\n",
            "2/2 [==============================] - 0s 7ms/step - loss: 7.6027 - mae: 7.6027\n",
            "Epoch 100/100\n",
            "2/2 [==============================] - 0s 7ms/step - loss: 7.6012 - mae: 7.6012\n"
          ]
        },
        {
          "output_type": "execute_result",
          "data": {
            "text/plain": [
              "<keras.callbacks.History at 0x7f5453a8b450>"
            ]
          },
          "metadata": {},
          "execution_count": 46
        }
      ]
    },
    {
      "cell_type": "code",
      "source": [
        "from tensorflow.keras.utils import plot_model\n",
        "\n",
        "plot_model(model, show_shapes=True)"
      ],
      "metadata": {
        "id": "B08SyUKPYVuW",
        "outputId": "773cfccb-59dc-45ec-f624-7a89174dc476",
        "colab": {
          "base_uri": "https://localhost:8080/",
          "height": 201
        }
      },
      "execution_count": 28,
      "outputs": [
        {
          "output_type": "execute_result",
          "data": {
            "text/plain": [
              "<IPython.core.display.Image object>"
            ],
            "image/png": "[encoded data removed]"
          },
          "metadata": {},
          "execution_count": 28
        }
      ]
    },
    {
      "cell_type": "code",
      "source": [
        "model = tf.keras.Sequential(\n",
        "    [tf.keras.layers.Dense(10, input_shape=[1], name = \"Input_Layer\"),\n",
        "     tf.keras.layers.Dense(1, name = \"Output_layer\")],\n",
        "     name = \"Base_Model\"\n",
        ")\n",
        "# Compile model (same as above)\n",
        "model.compile(loss=tf.keras.losses.mae,\n",
        "              optimizer=tf.keras.optimizers.SGD(),\n",
        "              metrics=[\"mae\"])\n",
        "model.summary()"
      ],
      "metadata": {
        "id": "f9l-wBFyajfD",
        "outputId": "6cb8cd0b-7c99-4bbb-8b26-6c7bea191fff",
        "colab": {
          "base_uri": "https://localhost:8080/"
        }
      },
      "execution_count": 40,
      "outputs": [
        {
          "output_type": "stream",
          "name": "stdout",
          "text": [
            "Model: \"Base_Model\"\n",
            "_________________________________________________________________\n",
            " Layer (type)                Output Shape              Param #   \n",
            "=================================================================\n",
            " Input_Layer (Dense)         (None, 10)                20        \n",
            "                                                                 \n",
            " Output_layer (Dense)        (None, 1)                 11        \n",
            "                                                                 \n",
            "=================================================================\n",
            "Total params: 31\n",
            "Trainable params: 31\n",
            "Non-trainable params: 0\n",
            "_________________________________________________________________\n"
          ]
        }
      ]
    },
    {
      "cell_type": "code",
      "source": [
        "from tensorflow.keras.utils import plot_model\n",
        "\n",
        "plot_model(model, show_shapes=True)"
      ],
      "metadata": {
        "id": "OfMgKymhbBrr",
        "outputId": "f03b6676-d1f9-4740-9ef3-6255c14a4b06",
        "colab": {
          "base_uri": "https://localhost:8080/",
          "height": 312
        }
      },
      "execution_count": 41,
      "outputs": [
        {
          "output_type": "execute_result",
          "data": {
            "text/plain": [
              "<IPython.core.display.Image object>"
            ],
            "image/png": "[encoded data removed]"
          },
          "metadata": {},
          "execution_count": 41
        }
      ]
    },
    {
      "cell_type": "code",
      "source": [
        "tf.random.set_seed(42)\n",
        "\n",
        "model = tf.keras.Sequential(\n",
        "    [tf.keras.layers.Dense(10, input_shape=[1], name = \"Input_Layer\"),\n",
        "     tf.keras.layers.Dense(1, name = \"Output_layer\")],\n",
        "     name = \"Base_Model\"\n",
        ")\n",
        "# Compile model (same as above)\n",
        "model.compile(loss=tf.keras.losses.mae,\n",
        "              optimizer=tf.keras.optimizers.Adam(learning_rate=0.005),\n",
        "              metrics=[\"mae\"])\n",
        "model.summary()\n",
        "\n",
        "# Fit model (this time we'll train for longer)\n",
        "model.fit(tf.expand_dims(X, axis=-1), y, epochs=150) # train for 100 epochs not 10"
      ],
      "metadata": {
        "id": "VXc3VJjRKKmR",
        "outputId": "c81eecef-373c-4518-dbba-3f7b5232f453",
        "colab": {
          "base_uri": "https://localhost:8080/"
        }
      },
      "execution_count": 65,
      "outputs": [
        {
          "output_type": "stream",
          "name": "stdout",
          "text": [
            "Model: \"Base_Model\"\n",
            "_________________________________________________________________\n",
            " Layer (type)                Output Shape              Param #   \n",
            "=================================================================\n",
            " Input_Layer (Dense)         (None, 10)                20        \n",
            "                                                                 \n",
            " Output_layer (Dense)        (None, 1)                 11        \n",
            "                                                                 \n",
            "=================================================================\n",
            "Total params: 31\n",
            "Trainable params: 31\n",
            "Non-trainable params: 0\n",
            "_________________________________________________________________\n",
            "Epoch 1/150\n",
            "2/2 [==============================] - 0s 8ms/step - loss: 31.4825 - mae: 31.4825\n",
            "Epoch 2/150\n",
            "2/2 [==============================] - 0s 6ms/step - loss: 27.9390 - mae: 27.9390\n",
            "Epoch 3/150\n",
            "2/2 [==============================] - 0s 5ms/step - loss: 24.8349 - mae: 24.8349\n",
            "Epoch 4/150\n",
            "2/2 [==============================] - 0s 6ms/step - loss: 21.5009 - mae: 21.5009\n",
            "Epoch 5/150\n",
            "2/2 [==============================] - 0s 6ms/step - loss: 18.1487 - mae: 18.1487\n",
            "Epoch 6/150\n",
            "2/2 [==============================] - 0s 5ms/step - loss: 15.0432 - mae: 15.0432\n",
            "Epoch 7/150\n",
            "2/2 [==============================] - 0s 6ms/step - loss: 12.0004 - mae: 12.0004\n",
            "Epoch 8/150\n",
            "2/2 [==============================] - 0s 6ms/step - loss: 9.8411 - mae: 9.8411\n",
            "Epoch 9/150\n",
            "2/2 [==============================] - 0s 5ms/step - loss: 9.6558 - mae: 9.6558\n",
            "Epoch 10/150\n",
            "2/2 [==============================] - 0s 5ms/step - loss: 9.6253 - mae: 9.6253\n",
            "Epoch 11/150\n",
            "2/2 [==============================] - 0s 5ms/step - loss: 9.6708 - mae: 9.6708\n",
            "Epoch 12/150\n",
            "2/2 [==============================] - 0s 5ms/step - loss: 9.7018 - mae: 9.7018\n",
            "Epoch 13/150\n",
            "2/2 [==============================] - 0s 5ms/step - loss: 9.7708 - mae: 9.7708\n",
            "Epoch 14/150\n",
            "2/2 [==============================] - 0s 5ms/step - loss: 10.0692 - mae: 10.0692\n",
            "Epoch 15/150\n",
            "2/2 [==============================] - 0s 5ms/step - loss: 10.1619 - mae: 10.1619\n",
            "Epoch 16/150\n",
            "2/2 [==============================] - 0s 6ms/step - loss: 10.0098 - mae: 10.0098\n",
            "Epoch 17/150\n",
            "2/2 [==============================] - 0s 6ms/step - loss: 9.5428 - mae: 9.5428\n",
            "Epoch 18/150\n",
            "2/2 [==============================] - 0s 6ms/step - loss: 9.4156 - mae: 9.4156\n",
            "Epoch 19/150\n",
            "2/2 [==============================] - 0s 5ms/step - loss: 9.3107 - mae: 9.3107\n",
            "Epoch 20/150\n",
            "2/2 [==============================] - 0s 5ms/step - loss: 9.1986 - mae: 9.1986\n",
            "Epoch 21/150\n",
            "2/2 [==============================] - 0s 7ms/step - loss: 9.2577 - mae: 9.2577\n",
            "Epoch 22/150\n",
            "2/2 [==============================] - 0s 5ms/step - loss: 9.0735 - mae: 9.0735\n",
            "Epoch 23/150\n",
            "2/2 [==============================] - 0s 5ms/step - loss: 9.0365 - mae: 9.0365\n",
            "Epoch 24/150\n",
            "2/2 [==============================] - 0s 5ms/step - loss: 8.9394 - mae: 8.9394\n",
            "Epoch 25/150\n",
            "2/2 [==============================] - 0s 6ms/step - loss: 8.8454 - mae: 8.8454\n",
            "Epoch 26/150\n",
            "2/2 [==============================] - 0s 6ms/step - loss: 8.8001 - mae: 8.8001\n",
            "Epoch 27/150\n",
            "2/2 [==============================] - 0s 6ms/step - loss: 8.7081 - mae: 8.7081\n",
            "Epoch 28/150\n",
            "2/2 [==============================] - 0s 6ms/step - loss: 8.6408 - mae: 8.6408\n",
            "Epoch 29/150\n",
            "2/2 [==============================] - 0s 6ms/step - loss: 8.5744 - mae: 8.5744\n",
            "Epoch 30/150\n",
            "2/2 [==============================] - 0s 6ms/step - loss: 8.5204 - mae: 8.5204\n",
            "Epoch 31/150\n",
            "2/2 [==============================] - 0s 5ms/step - loss: 8.4369 - mae: 8.4369\n",
            "Epoch 32/150\n",
            "2/2 [==============================] - 0s 6ms/step - loss: 8.3756 - mae: 8.3756\n",
            "Epoch 33/150\n",
            "2/2 [==============================] - 0s 6ms/step - loss: 8.2981 - mae: 8.2981\n",
            "Epoch 34/150\n",
            "2/2 [==============================] - 0s 6ms/step - loss: 8.2201 - mae: 8.2201\n",
            "Epoch 35/150\n",
            "2/2 [==============================] - 0s 6ms/step - loss: 8.1742 - mae: 8.1742\n",
            "Epoch 36/150\n",
            "2/2 [==============================] - 0s 5ms/step - loss: 8.1677 - mae: 8.1677\n",
            "Epoch 37/150\n",
            "2/2 [==============================] - 0s 6ms/step - loss: 8.1092 - mae: 8.1092\n",
            "Epoch 38/150\n",
            "2/2 [==============================] - 0s 6ms/step - loss: 8.0163 - mae: 8.0163\n",
            "Epoch 39/150\n",
            "2/2 [==============================] - 0s 6ms/step - loss: 8.0039 - mae: 8.0039\n",
            "Epoch 40/150\n",
            "2/2 [==============================] - 0s 6ms/step - loss: 7.9215 - mae: 7.9215\n",
            "Epoch 41/150\n",
            "2/2 [==============================] - 0s 6ms/step - loss: 7.8808 - mae: 7.8808\n",
            "Epoch 42/150\n",
            "2/2 [==============================] - 0s 6ms/step - loss: 7.8198 - mae: 7.8198\n",
            "Epoch 43/150\n",
            "2/2 [==============================] - 0s 6ms/step - loss: 7.7636 - mae: 7.7636\n",
            "Epoch 44/150\n",
            "2/2 [==============================] - 0s 6ms/step - loss: 7.7095 - mae: 7.7095\n",
            "Epoch 45/150\n",
            "2/2 [==============================] - 0s 6ms/step - loss: 7.6577 - mae: 7.6577\n",
            "Epoch 46/150\n",
            "2/2 [==============================] - 0s 6ms/step - loss: 7.5943 - mae: 7.5943\n",
            "Epoch 47/150\n",
            "2/2 [==============================] - 0s 6ms/step - loss: 7.5312 - mae: 7.5312\n",
            "Epoch 48/150\n",
            "2/2 [==============================] - 0s 6ms/step - loss: 7.4813 - mae: 7.4813\n",
            "Epoch 49/150\n",
            "2/2 [==============================] - 0s 7ms/step - loss: 7.4341 - mae: 7.4341\n",
            "Epoch 50/150\n",
            "2/2 [==============================] - 0s 7ms/step - loss: 7.3834 - mae: 7.3834\n",
            "Epoch 51/150\n",
            "2/2 [==============================] - 0s 6ms/step - loss: 7.3063 - mae: 7.3063\n",
            "Epoch 52/150\n",
            "2/2 [==============================] - 0s 7ms/step - loss: 7.2496 - mae: 7.2496\n",
            "Epoch 53/150\n",
            "2/2 [==============================] - 0s 6ms/step - loss: 7.1963 - mae: 7.1963\n",
            "Epoch 54/150\n",
            "2/2 [==============================] - 0s 6ms/step - loss: 7.1335 - mae: 7.1335\n",
            "Epoch 55/150\n",
            "2/2 [==============================] - 0s 8ms/step - loss: 7.0819 - mae: 7.0819\n",
            "Epoch 56/150\n",
            "2/2 [==============================] - 0s 6ms/step - loss: 7.0150 - mae: 7.0150\n",
            "Epoch 57/150\n",
            "2/2 [==============================] - 0s 6ms/step - loss: 6.9806 - mae: 6.9806\n",
            "Epoch 58/150\n",
            "2/2 [==============================] - 0s 7ms/step - loss: 6.9173 - mae: 6.9173\n",
            "Epoch 59/150\n",
            "2/2 [==============================] - 0s 6ms/step - loss: 6.8721 - mae: 6.8721\n",
            "Epoch 60/150\n",
            "2/2 [==============================] - 0s 6ms/step - loss: 6.8027 - mae: 6.8027\n",
            "Epoch 61/150\n",
            "2/2 [==============================] - 0s 7ms/step - loss: 6.7259 - mae: 6.7259\n",
            "Epoch 62/150\n",
            "2/2 [==============================] - 0s 7ms/step - loss: 6.6781 - mae: 6.6781\n",
            "Epoch 63/150\n",
            "2/2 [==============================] - 0s 6ms/step - loss: 6.6083 - mae: 6.6083\n",
            "Epoch 64/150\n",
            "2/2 [==============================] - 0s 6ms/step - loss: 6.5529 - mae: 6.5529\n",
            "Epoch 65/150\n",
            "2/2 [==============================] - 0s 7ms/step - loss: 6.5008 - mae: 6.5008\n",
            "Epoch 66/150\n",
            "2/2 [==============================] - 0s 6ms/step - loss: 6.4375 - mae: 6.4375\n",
            "Epoch 67/150\n",
            "2/2 [==============================] - 0s 6ms/step - loss: 6.3745 - mae: 6.3745\n",
            "Epoch 68/150\n",
            "2/2 [==============================] - 0s 7ms/step - loss: 6.3118 - mae: 6.3118\n",
            "Epoch 69/150\n",
            "2/2 [==============================] - 0s 6ms/step - loss: 6.2444 - mae: 6.2444\n",
            "Epoch 70/150\n",
            "2/2 [==============================] - 0s 7ms/step - loss: 6.1960 - mae: 6.1960\n",
            "Epoch 71/150\n",
            "2/2 [==============================] - 0s 6ms/step - loss: 6.1109 - mae: 6.1109\n",
            "Epoch 72/150\n",
            "2/2 [==============================] - 0s 6ms/step - loss: 6.0514 - mae: 6.0514\n",
            "Epoch 73/150\n",
            "2/2 [==============================] - 0s 6ms/step - loss: 5.9854 - mae: 5.9854\n",
            "Epoch 74/150\n",
            "2/2 [==============================] - 0s 6ms/step - loss: 5.9246 - mae: 5.9246\n",
            "Epoch 75/150\n",
            "2/2 [==============================] - 0s 8ms/step - loss: 5.8422 - mae: 5.8422\n",
            "Epoch 76/150\n",
            "2/2 [==============================] - 0s 6ms/step - loss: 5.8044 - mae: 5.8044\n",
            "Epoch 77/150\n",
            "2/2 [==============================] - 0s 7ms/step - loss: 5.7272 - mae: 5.7272\n",
            "Epoch 78/150\n",
            "2/2 [==============================] - 0s 6ms/step - loss: 5.6635 - mae: 5.6635\n",
            "Epoch 79/150\n",
            "2/2 [==============================] - 0s 7ms/step - loss: 5.6055 - mae: 5.6055\n",
            "Epoch 80/150\n",
            "2/2 [==============================] - 0s 7ms/step - loss: 5.5205 - mae: 5.5205\n",
            "Epoch 81/150\n",
            "2/2 [==============================] - 0s 6ms/step - loss: 5.4435 - mae: 5.4435\n",
            "Epoch 82/150\n",
            "2/2 [==============================] - 0s 7ms/step - loss: 5.3542 - mae: 5.3542\n",
            "Epoch 83/150\n",
            "2/2 [==============================] - 0s 7ms/step - loss: 5.2913 - mae: 5.2913\n",
            "Epoch 84/150\n",
            "2/2 [==============================] - 0s 7ms/step - loss: 5.2411 - mae: 5.2411\n",
            "Epoch 85/150\n",
            "2/2 [==============================] - 0s 6ms/step - loss: 5.1408 - mae: 5.1408\n",
            "Epoch 86/150\n",
            "2/2 [==============================] - 0s 6ms/step - loss: 5.0670 - mae: 5.0670\n",
            "Epoch 87/150\n",
            "2/2 [==============================] - 0s 6ms/step - loss: 5.0011 - mae: 5.0011\n",
            "Epoch 88/150\n",
            "2/2 [==============================] - 0s 6ms/step - loss: 4.9406 - mae: 4.9406\n",
            "Epoch 89/150\n",
            "2/2 [==============================] - 0s 6ms/step - loss: 4.8705 - mae: 4.8705\n",
            "Epoch 90/150\n",
            "2/2 [==============================] - 0s 6ms/step - loss: 4.8013 - mae: 4.8013\n",
            "Epoch 91/150\n",
            "2/2 [==============================] - 0s 6ms/step - loss: 4.7287 - mae: 4.7287\n",
            "Epoch 92/150\n",
            "2/2 [==============================] - 0s 6ms/step - loss: 4.6539 - mae: 4.6539\n",
            "Epoch 93/150\n",
            "2/2 [==============================] - 0s 6ms/step - loss: 4.6159 - mae: 4.6159\n",
            "Epoch 94/150\n",
            "2/2 [==============================] - 0s 6ms/step - loss: 4.4988 - mae: 4.4988\n",
            "Epoch 95/150\n",
            "2/2 [==============================] - 0s 6ms/step - loss: 4.4067 - mae: 4.4067\n",
            "Epoch 96/150\n",
            "2/2 [==============================] - 0s 6ms/step - loss: 4.3123 - mae: 4.3123\n",
            "Epoch 97/150\n",
            "2/2 [==============================] - 0s 6ms/step - loss: 4.2434 - mae: 4.2434\n",
            "Epoch 98/150\n",
            "2/2 [==============================] - 0s 6ms/step - loss: 4.1195 - mae: 4.1195\n",
            "Epoch 99/150\n",
            "2/2 [==============================] - 0s 7ms/step - loss: 4.0219 - mae: 4.0219\n",
            "Epoch 100/150\n",
            "2/2 [==============================] - 0s 6ms/step - loss: 3.9449 - mae: 3.9449\n",
            "Epoch 101/150\n",
            "2/2 [==============================] - 0s 6ms/step - loss: 3.8933 - mae: 3.8933\n",
            "Epoch 102/150\n",
            "2/2 [==============================] - 0s 6ms/step - loss: 3.7768 - mae: 3.7768\n",
            "Epoch 103/150\n",
            "2/2 [==============================] - 0s 6ms/step - loss: 3.6660 - mae: 3.6660\n",
            "Epoch 104/150\n",
            "2/2 [==============================] - 0s 6ms/step - loss: 3.5801 - mae: 3.5801\n",
            "Epoch 105/150\n",
            "2/2 [==============================] - 0s 6ms/step - loss: 3.5112 - mae: 3.5112\n",
            "Epoch 106/150\n",
            "2/2 [==============================] - 0s 6ms/step - loss: 3.4309 - mae: 3.4309\n",
            "Epoch 107/150\n",
            "2/2 [==============================] - 0s 8ms/step - loss: 3.2936 - mae: 3.2936\n",
            "Epoch 108/150\n",
            "2/2 [==============================] - 0s 7ms/step - loss: 3.2054 - mae: 3.2054\n",
            "Epoch 109/150\n",
            "2/2 [==============================] - 0s 8ms/step - loss: 3.0939 - mae: 3.0939\n",
            "Epoch 110/150\n",
            "2/2 [==============================] - 0s 7ms/step - loss: 3.0126 - mae: 3.0126\n",
            "Epoch 111/150\n",
            "2/2 [==============================] - 0s 6ms/step - loss: 2.9055 - mae: 2.9055\n",
            "Epoch 112/150\n",
            "2/2 [==============================] - 0s 6ms/step - loss: 2.7936 - mae: 2.7936\n",
            "Epoch 113/150\n",
            "2/2 [==============================] - 0s 6ms/step - loss: 2.7139 - mae: 2.7139\n",
            "Epoch 114/150\n",
            "2/2 [==============================] - 0s 10ms/step - loss: 2.5981 - mae: 2.5981\n",
            "Epoch 115/150\n",
            "2/2 [==============================] - 0s 5ms/step - loss: 2.4759 - mae: 2.4759\n",
            "Epoch 116/150\n",
            "2/2 [==============================] - 0s 4ms/step - loss: 2.3616 - mae: 2.3616\n",
            "Epoch 117/150\n",
            "2/2 [==============================] - 0s 7ms/step - loss: 2.2412 - mae: 2.2412\n",
            "Epoch 118/150\n",
            "2/2 [==============================] - 0s 11ms/step - loss: 2.1330 - mae: 2.1330\n",
            "Epoch 119/150\n",
            "2/2 [==============================] - 0s 6ms/step - loss: 2.0286 - mae: 2.0286\n",
            "Epoch 120/150\n",
            "2/2 [==============================] - 0s 6ms/step - loss: 1.9210 - mae: 1.9210\n",
            "Epoch 121/150\n",
            "2/2 [==============================] - 0s 6ms/step - loss: 1.8204 - mae: 1.8204\n",
            "Epoch 122/150\n",
            "2/2 [==============================] - 0s 6ms/step - loss: 1.6818 - mae: 1.6818\n",
            "Epoch 123/150\n",
            "2/2 [==============================] - 0s 6ms/step - loss: 1.6600 - mae: 1.6600\n",
            "Epoch 124/150\n",
            "2/2 [==============================] - 0s 6ms/step - loss: 1.4522 - mae: 1.4522\n",
            "Epoch 125/150\n",
            "2/2 [==============================] - 0s 6ms/step - loss: 1.3575 - mae: 1.3575\n",
            "Epoch 126/150\n",
            "2/2 [==============================] - 0s 6ms/step - loss: 1.3171 - mae: 1.3171\n",
            "Epoch 127/150\n",
            "2/2 [==============================] - 0s 6ms/step - loss: 1.0885 - mae: 1.0885\n",
            "Epoch 128/150\n",
            "2/2 [==============================] - 0s 6ms/step - loss: 1.3043 - mae: 1.3043\n",
            "Epoch 129/150\n",
            "2/2 [==============================] - 0s 7ms/step - loss: 0.8965 - mae: 0.8965\n",
            "Epoch 130/150\n",
            "2/2 [==============================] - 0s 6ms/step - loss: 0.9771 - mae: 0.9771\n",
            "Epoch 131/150\n",
            "2/2 [==============================] - 0s 7ms/step - loss: 0.6971 - mae: 0.6971\n",
            "Epoch 132/150\n",
            "2/2 [==============================] - 0s 6ms/step - loss: 0.6155 - mae: 0.6155\n",
            "Epoch 133/150\n",
            "2/2 [==============================] - 0s 6ms/step - loss: 0.4650 - mae: 0.4650\n",
            "Epoch 134/150\n",
            "2/2 [==============================] - 0s 7ms/step - loss: 0.3709 - mae: 0.3709\n",
            "Epoch 135/150\n",
            "2/2 [==============================] - 0s 6ms/step - loss: 0.2275 - mae: 0.2275\n",
            "Epoch 136/150\n",
            "2/2 [==============================] - 0s 7ms/step - loss: 0.1465 - mae: 0.1465\n",
            "Epoch 137/150\n",
            "2/2 [==============================] - 0s 6ms/step - loss: 0.4994 - mae: 0.4994\n",
            "Epoch 138/150\n",
            "2/2 [==============================] - 0s 7ms/step - loss: 0.5847 - mae: 0.5847\n",
            "Epoch 139/150\n",
            "2/2 [==============================] - 0s 6ms/step - loss: 0.2860 - mae: 0.2860\n",
            "Epoch 140/150\n",
            "2/2 [==============================] - 0s 6ms/step - loss: 0.4237 - mae: 0.4237\n",
            "Epoch 141/150\n",
            "2/2 [==============================] - 0s 7ms/step - loss: 0.3867 - mae: 0.3867\n",
            "Epoch 142/150\n",
            "2/2 [==============================] - 0s 6ms/step - loss: 0.3142 - mae: 0.3142\n",
            "Epoch 143/150\n",
            "2/2 [==============================] - 0s 7ms/step - loss: 0.3144 - mae: 0.3144\n",
            "Epoch 144/150\n",
            "2/2 [==============================] - 0s 7ms/step - loss: 0.4722 - mae: 0.4722\n",
            "Epoch 145/150\n",
            "2/2 [==============================] - 0s 7ms/step - loss: 0.5243 - mae: 0.5243\n",
            "Epoch 146/150\n",
            "2/2 [==============================] - 0s 7ms/step - loss: 0.3852 - mae: 0.3852\n",
            "Epoch 147/150\n",
            "2/2 [==============================] - 0s 7ms/step - loss: 0.6737 - mae: 0.6737\n",
            "Epoch 148/150\n",
            "2/2 [==============================] - 0s 7ms/step - loss: 0.8405 - mae: 0.8405\n",
            "Epoch 149/150\n",
            "2/2 [==============================] - 0s 7ms/step - loss: 0.4759 - mae: 0.4759\n",
            "Epoch 150/150\n",
            "2/2 [==============================] - 0s 6ms/step - loss: 0.2138 - mae: 0.2138\n"
          ]
        },
        {
          "output_type": "execute_result",
          "data": {
            "text/plain": [
              "<keras.callbacks.History at 0x7f54537521d0>"
            ]
          },
          "metadata": {},
          "execution_count": 65
        }
      ]
    },
    {
      "cell_type": "code",
      "source": [
        "y_pred = model.predict(X_test)\n",
        "y_pred"
      ],
      "metadata": {
        "id": "7LlyZlAdI_BE",
        "outputId": "af2dae16-0707-428f-c099-4c22bb8021ca",
        "colab": {
          "base_uri": "https://localhost:8080/"
        }
      },
      "execution_count": 89,
      "outputs": [
        {
          "output_type": "execute_result",
          "data": {
            "text/plain": [
              "array([[ 69.80542 ],\n",
              "       [ 73.79359 ],\n",
              "       [ 77.781746],\n",
              "       [ 81.769905],\n",
              "       [ 85.75807 ],\n",
              "       [ 89.74623 ],\n",
              "       [ 93.7344  ],\n",
              "       [ 97.72256 ],\n",
              "       [101.71073 ],\n",
              "       [105.69888 ]], dtype=float32)"
            ]
          },
          "metadata": {},
          "execution_count": 89
        }
      ]
    },
    {
      "cell_type": "code",
      "source": [
        "def plot_predictions(train_data = X_train, train_labels = y_train, test_data= X_test, test_label = y_test, predictions = y_pred):\n",
        "  plt.figure(figsize=(10,7))\n",
        "  plt.scatter(train_data, train_labels, c=\"b\", label=\"Training data\")\n",
        "  plt.scatter(test_data, test_label, c=\"g\", label=\"Test Data\")\n",
        "  plt.scatter(test_data, predictions, c=\"r\", label=\"Predictions\")\n",
        "  plt.legend();\n"
      ],
      "metadata": {
        "id": "E3sOukYfbNTA"
      },
      "execution_count": 63,
      "outputs": []
    },
    {
      "cell_type": "code",
      "source": [
        "#added no. of epochs, changed optimizer and added learning rate as 0.005\n",
        "plot_predictions(train_data = X_train, train_labels = y_train, test_data= X_test, test_label = y_test, predictions = y_pred)"
      ],
      "metadata": {
        "id": "bqwZ_rD-J2IX",
        "outputId": "c49e92bc-c4cd-4b2c-ab87-b6bb94d1a3c0",
        "colab": {
          "base_uri": "https://localhost:8080/",
          "height": 428
        }
      },
      "execution_count": 80,
      "outputs": [
        {
          "output_type": "display_data",
          "data": {
            "text/plain": [
              "<Figure size 720x504 with 1 Axes>"
            ],
            "image/png": "[encoded data removed]"
          },
          "metadata": {
            "needs_background": "light"
          }
        }
      ]
    },
    {
      "cell_type": "markdown",
      "source": [
        "## Evaluating predictions\n",
        "\n",
        "Alongisde visualizations, evaulation metrics are your alternative best option for evaluating your model.\n",
        "\n",
        "Depending on the problem you're working on, different models have different evaluation metrics. \n",
        "\n",
        "Two of the main metrics used for regression problems are:\n",
        "* **Mean absolute error (MAE)** - the mean difference between each of the predictions.\n",
        "* **Mean squared error (MSE)** - the squared mean difference between of the predictions (use if larger errors are more detrimental than smaller errors).\n",
        "* **Huber** : combination of MSE and MAE, less sensitive towards outlier data than MSE\n",
        "\n",
        "The lower each of these values, the better.\n",
        "\n",
        "You can also use [`model.evaluate()`](https://www.tensorflow.org/api_docs/python/tf/keras/Model#evaluate) which will return the loss of the model as well as any metrics setup during the compile step."
      ],
      "metadata": {
        "id": "a1XgAvHYM08A"
      }
    },
    {
      "cell_type": "code",
      "source": [
        "# Evaluate the model on the test set\n",
        "model.evaluate(X_test, y_test)"
      ],
      "metadata": {
        "id": "WEFYwjbxM0MP",
        "outputId": "f1263b50-d44f-4de7-93b6-28368a092210",
        "colab": {
          "base_uri": "https://localhost:8080/"
        }
      },
      "execution_count": 69,
      "outputs": [
        {
          "output_type": "stream",
          "name": "stdout",
          "text": [
            "1/1 [==============================] - 0s 110ms/step - loss: 0.2478 - mae: 0.2478\n"
          ]
        },
        {
          "output_type": "execute_result",
          "data": {
            "text/plain": [
              "[0.24784699082374573, 0.24784699082374573]"
            ]
          },
          "metadata": {},
          "execution_count": 69
        }
      ]
    },
    {
      "cell_type": "code",
      "source": [
        ""
      ],
      "metadata": {
        "id": "LpeWo1G8N7yY"
      },
      "execution_count": null,
      "outputs": []
    },
    {
      "cell_type": "code",
      "source": [
        "# Calculate the mean absolute error\n",
        "mae = tf.metrics.mean_absolute_error(y_true=y_test, \n",
        "                                     y_pred=y_pred)\n",
        "mae"
      ],
      "metadata": {
        "id": "G3Smz5ZxJ4-k",
        "outputId": "23deb7f0-a800-49a5-a303-d0ec47007205",
        "colab": {
          "base_uri": "https://localhost:8080/"
        }
      },
      "execution_count": 71,
      "outputs": [
        {
          "output_type": "execute_result",
          "data": {
            "text/plain": [
              "<tf.Tensor: shape=(10,), dtype=float32, numpy=\n",
              "array([18.19458 , 14.965131, 12.530952, 10.892038, 10.048386, 10.      ,\n",
              "       10.74688 , 12.289022, 14.626439, 17.759106], dtype=float32)>"
            ]
          },
          "metadata": {},
          "execution_count": 71
        }
      ]
    },
    {
      "cell_type": "code",
      "source": [
        "y_test, y_pred\n",
        "# both are in different dimensions so changed to same dimention and converted to tensor to get correct mae"
      ],
      "metadata": {
        "id": "F8FKLuFgPtKI",
        "outputId": "d3abd6c5-4cd2-4191-c278-5b0f1f9dcf45",
        "colab": {
          "base_uri": "https://localhost:8080/"
        }
      },
      "execution_count": 90,
      "outputs": [
        {
          "output_type": "execute_result",
          "data": {
            "text/plain": [
              "(<tf.Tensor: shape=(10,), dtype=int64, numpy=array([ 70,  74,  78,  82,  86,  90,  94,  98, 102, 106])>,\n",
              " array([[ 69.80542 ],\n",
              "        [ 73.79359 ],\n",
              "        [ 77.781746],\n",
              "        [ 81.769905],\n",
              "        [ 85.75807 ],\n",
              "        [ 89.74623 ],\n",
              "        [ 93.7344  ],\n",
              "        [ 97.72256 ],\n",
              "        [101.71073 ],\n",
              "        [105.69888 ]], dtype=float32))"
            ]
          },
          "metadata": {},
          "execution_count": 90
        }
      ]
    },
    {
      "cell_type": "code",
      "source": [
        "y_test = tf.constant(y_test)"
      ],
      "metadata": {
        "id": "cfCPYMn0Nogt"
      },
      "execution_count": 91,
      "outputs": []
    },
    {
      "cell_type": "code",
      "source": [
        "y_pred = tf.squeeze(y_pred)"
      ],
      "metadata": {
        "id": "3uwI_nmxO10S"
      },
      "execution_count": 92,
      "outputs": []
    },
    {
      "cell_type": "code",
      "source": [
        "y_test, y_pred"
      ],
      "metadata": {
        "id": "f_5kxoG-O3pA",
        "outputId": "6238b781-3ace-4e2e-8f92-559970e14a95",
        "colab": {
          "base_uri": "https://localhost:8080/"
        }
      },
      "execution_count": 93,
      "outputs": [
        {
          "output_type": "execute_result",
          "data": {
            "text/plain": [
              "(<tf.Tensor: shape=(10,), dtype=int64, numpy=array([ 70,  74,  78,  82,  86,  90,  94,  98, 102, 106])>,\n",
              " <tf.Tensor: shape=(10,), dtype=float32, numpy=\n",
              " array([ 69.80542 ,  73.79359 ,  77.781746,  81.769905,  85.75807 ,\n",
              "         89.74623 ,  93.7344  ,  97.72256 , 101.71073 , 105.69888 ],\n",
              "       dtype=float32)>)"
            ]
          },
          "metadata": {},
          "execution_count": 93
        }
      ]
    },
    {
      "cell_type": "code",
      "source": [
        "mae = tf.metrics.mean_absolute_error(y_test, y_pred)\n",
        "mae"
      ],
      "metadata": {
        "id": "b09bSjYGPYHh",
        "outputId": "d5559305-67dc-452e-9fb6-c94a4cc1df5a",
        "colab": {
          "base_uri": "https://localhost:8080/"
        }
      },
      "execution_count": 87,
      "outputs": [
        {
          "output_type": "execute_result",
          "data": {
            "text/plain": [
              "<tf.Tensor: shape=(), dtype=float32, numpy=0.24784699>"
            ]
          },
          "metadata": {},
          "execution_count": 87
        }
      ]
    },
    {
      "cell_type": "code",
      "source": [
        "mse = tf.metrics.mean_squared_error(y_test, y_pred)\n",
        "mse"
      ],
      "metadata": {
        "id": "ToAfKCofPjjG",
        "outputId": "f63bb661-03b3-440e-f6c4-5b425b097e51",
        "colab": {
          "base_uri": "https://localhost:8080/"
        }
      },
      "execution_count": 94,
      "outputs": [
        {
          "output_type": "execute_result",
          "data": {
            "text/plain": [
              "<tf.Tensor: shape=(), dtype=float32, numpy=0.062584095>"
            ]
          },
          "metadata": {},
          "execution_count": 94
        }
      ]
    },
    {
      "cell_type": "code",
      "source": [
        "h = tf.keras.losses.Huber()\n",
        "h(y_test, y_pred).numpy()"
      ],
      "metadata": {
        "id": "RevkSMVqPoD9",
        "outputId": "a1e6a6c6-e1a4-40e6-b6f5-c38ff1687698",
        "colab": {
          "base_uri": "https://localhost:8080/"
        }
      },
      "execution_count": 97,
      "outputs": [
        {
          "output_type": "execute_result",
          "data": {
            "text/plain": [
              "0.031292047"
            ]
          },
          "metadata": {},
          "execution_count": 97
        }
      ]
    },
    {
      "cell_type": "code",
      "source": [
        "def mae(y_true, y_pred):\n",
        "  mae = tf.metrics.mean_absolute_error(y_true = y_test, y_pred = y_pred)\n",
        "  return mae.numpy()\n",
        "\n",
        "def mse(y_true, y_pred):\n",
        "  mse = tf.metrics.mean_squared_error(y_true = y_test, y_pred = y_pred)\n",
        "  return mse.numpy()\n",
        "\n",
        "def huber_metric(y_true, y_pred):\n",
        "  h = tf.keras.losses.Huber()\n",
        "  return h(y_true, y_pred).numpy()\n",
        "  \n",
        "\n"
      ],
      "metadata": {
        "id": "O6t844UTQeQM"
      },
      "execution_count": 149,
      "outputs": []
    },
    {
      "cell_type": "markdown",
      "source": [
        "## Running experiments to improve a model\n",
        "\n",
        "After seeing the evaluation metrics and the predictions your model makes, it's likely you'll want to improve it.\n",
        "\n",
        "Again, there are many different ways you can do this, but 3 of the main ones are:\n",
        "1. **Get more data** - get more examples for your model to train on (more opportunities to learn patterns).\n",
        "2. **Make your model larger (use a more complex model)** - this might come in the form of more layers or more hidden units in each layer.\n",
        "3. **Train for longer** - give your model more of a chance to find the patterns in the data.\n",
        "\n",
        "Since we created our dataset, we could easily make more data but this isn't always the case when you're working with real-world datasets.\n",
        "\n",
        "So let's take a look at how we can improve our model using 2 and 3.\n",
        "\n",
        "To do so, we'll build 3 models and compare their results:\n",
        "1. `model_1` - same as original model, 1 layer, trained for 100 epochs.\n",
        "2. `model_2` - 2 layers, trained for 100 epochs.\n",
        "3. `model_3` - 2 layers, trained for 500 epochs.\n",
        "\n",
        "**Build `model_1`**"
      ],
      "metadata": {
        "id": "fzKmqOp0RzVw"
      }
    },
    {
      "cell_type": "code",
      "source": [
        "X_train = X[:40]  #(80% of data)\n",
        "y_train = y[:40]\n",
        "X_test = X[40:]  #(20% of data)\n",
        "y_test = y[40:]"
      ],
      "metadata": {
        "id": "dE8d649wTbLt"
      },
      "execution_count": 112,
      "outputs": []
    },
    {
      "cell_type": "code",
      "source": [
        "tf.random.set_seed=42\n",
        "model_1 = tf.keras.Sequential([\n",
        "                             tf.keras.layers.Dense(1)\n",
        "])\n",
        "model_1.compile(loss = tf.keras.losses.mae,\n",
        "              optimizer = tf.keras.optimizers.SGD(),\n",
        "              metrics=[\"mae\"])\n",
        "#model_1.fit(X_train, y_train)\n",
        "model_1.fit(tf.expand_dims(X_train, axis=-1), y_train, epochs=100)"
      ],
      "metadata": {
        "id": "2zcEo9ToRwY6",
        "outputId": "ff168194-e796-4466-c374-b349d6c5d55b",
        "colab": {
          "base_uri": "https://localhost:8080/"
        }
      },
      "execution_count": 115,
      "outputs": [
        {
          "output_type": "stream",
          "name": "stdout",
          "text": [
            "Epoch 1/100\n",
            "2/2 [==============================] - 0s 11ms/step - loss: 26.4821 - mae: 26.4821\n",
            "Epoch 2/100\n",
            "2/2 [==============================] - 0s 6ms/step - loss: 8.5605 - mae: 8.5605\n",
            "Epoch 3/100\n",
            "2/2 [==============================] - 0s 10ms/step - loss: 10.7800 - mae: 10.7800\n",
            "Epoch 4/100\n",
            "2/2 [==============================] - 0s 5ms/step - loss: 11.2395 - mae: 11.2395\n",
            "Epoch 5/100\n",
            "2/2 [==============================] - 0s 5ms/step - loss: 12.4704 - mae: 12.4704\n",
            "Epoch 6/100\n",
            "2/2 [==============================] - 0s 7ms/step - loss: 9.6435 - mae: 9.6435\n",
            "Epoch 7/100\n",
            "2/2 [==============================] - 0s 15ms/step - loss: 8.7477 - mae: 8.7477\n",
            "Epoch 8/100\n",
            "2/2 [==============================] - 0s 6ms/step - loss: 9.0532 - mae: 9.0532\n",
            "Epoch 9/100\n",
            "2/2 [==============================] - 0s 6ms/step - loss: 19.2073 - mae: 19.2073\n",
            "Epoch 10/100\n",
            "2/2 [==============================] - 0s 6ms/step - loss: 10.3632 - mae: 10.3632\n",
            "Epoch 11/100\n",
            "2/2 [==============================] - 0s 10ms/step - loss: 8.4912 - mae: 8.4912\n",
            "Epoch 12/100\n",
            "2/2 [==============================] - 0s 7ms/step - loss: 10.8619 - mae: 10.8619\n",
            "Epoch 13/100\n",
            "2/2 [==============================] - 0s 8ms/step - loss: 9.9034 - mae: 9.9034\n",
            "Epoch 14/100\n",
            "2/2 [==============================] - 0s 10ms/step - loss: 9.4662 - mae: 9.4662\n",
            "Epoch 15/100\n",
            "2/2 [==============================] - 0s 12ms/step - loss: 13.6706 - mae: 13.6706\n",
            "Epoch 16/100\n",
            "2/2 [==============================] - 0s 17ms/step - loss: 8.9293 - mae: 8.9293\n",
            "Epoch 17/100\n",
            "2/2 [==============================] - 0s 8ms/step - loss: 12.8321 - mae: 12.8321\n",
            "Epoch 18/100\n",
            "2/2 [==============================] - 0s 22ms/step - loss: 10.4621 - mae: 10.4621\n",
            "Epoch 19/100\n",
            "2/2 [==============================] - 0s 8ms/step - loss: 19.2379 - mae: 19.2379\n",
            "Epoch 20/100\n",
            "2/2 [==============================] - 0s 6ms/step - loss: 15.9022 - mae: 15.9022\n",
            "Epoch 21/100\n",
            "2/2 [==============================] - 0s 4ms/step - loss: 11.7299 - mae: 11.7299\n",
            "Epoch 22/100\n",
            "2/2 [==============================] - 0s 4ms/step - loss: 8.9326 - mae: 8.9326\n",
            "Epoch 23/100\n",
            "2/2 [==============================] - 0s 4ms/step - loss: 10.0439 - mae: 10.0439\n",
            "Epoch 24/100\n",
            "2/2 [==============================] - 0s 18ms/step - loss: 15.6300 - mae: 15.6300\n",
            "Epoch 25/100\n",
            "2/2 [==============================] - 0s 7ms/step - loss: 12.0953 - mae: 12.0953\n",
            "Epoch 26/100\n",
            "2/2 [==============================] - 0s 9ms/step - loss: 13.2088 - mae: 13.2088\n",
            "Epoch 27/100\n",
            "2/2 [==============================] - 0s 6ms/step - loss: 10.6721 - mae: 10.6721\n",
            "Epoch 28/100\n",
            "2/2 [==============================] - 0s 5ms/step - loss: 12.9010 - mae: 12.9010\n",
            "Epoch 29/100\n",
            "2/2 [==============================] - 0s 8ms/step - loss: 9.5060 - mae: 9.5060\n",
            "Epoch 30/100\n",
            "2/2 [==============================] - 0s 10ms/step - loss: 16.4400 - mae: 16.4400\n",
            "Epoch 31/100\n",
            "2/2 [==============================] - 0s 5ms/step - loss: 23.5465 - mae: 23.5465\n",
            "Epoch 32/100\n",
            "2/2 [==============================] - 0s 6ms/step - loss: 7.5966 - mae: 7.5966\n",
            "Epoch 33/100\n",
            "2/2 [==============================] - 0s 6ms/step - loss: 9.2924 - mae: 9.2924\n",
            "Epoch 34/100\n",
            "2/2 [==============================] - 0s 23ms/step - loss: 13.6531 - mae: 13.6531\n",
            "Epoch 35/100\n",
            "2/2 [==============================] - 0s 5ms/step - loss: 11.1598 - mae: 11.1598\n",
            "Epoch 36/100\n",
            "2/2 [==============================] - 0s 5ms/step - loss: 13.3968 - mae: 13.3968\n",
            "Epoch 37/100\n",
            "2/2 [==============================] - 0s 6ms/step - loss: 9.4353 - mae: 9.4353\n",
            "Epoch 38/100\n",
            "2/2 [==============================] - 0s 5ms/step - loss: 10.0849 - mae: 10.0849\n",
            "Epoch 39/100\n",
            "2/2 [==============================] - 0s 6ms/step - loss: 8.9622 - mae: 8.9622\n",
            "Epoch 40/100\n",
            "2/2 [==============================] - 0s 6ms/step - loss: 9.5897 - mae: 9.5897\n",
            "Epoch 41/100\n",
            "2/2 [==============================] - 0s 6ms/step - loss: 10.5507 - mae: 10.5507\n",
            "Epoch 42/100\n",
            "2/2 [==============================] - 0s 6ms/step - loss: 10.6034 - mae: 10.6034\n",
            "Epoch 43/100\n",
            "2/2 [==============================] - 0s 6ms/step - loss: 7.1988 - mae: 7.1988\n",
            "Epoch 44/100\n",
            "2/2 [==============================] - 0s 6ms/step - loss: 8.0047 - mae: 8.0047\n",
            "Epoch 45/100\n",
            "2/2 [==============================] - 0s 6ms/step - loss: 9.8053 - mae: 9.8053\n",
            "Epoch 46/100\n",
            "2/2 [==============================] - 0s 6ms/step - loss: 8.8854 - mae: 8.8854\n",
            "Epoch 47/100\n",
            "2/2 [==============================] - 0s 6ms/step - loss: 7.5548 - mae: 7.5548\n",
            "Epoch 48/100\n",
            "2/2 [==============================] - 0s 6ms/step - loss: 8.5254 - mae: 8.5254\n",
            "Epoch 49/100\n",
            "2/2 [==============================] - 0s 6ms/step - loss: 10.0161 - mae: 10.0161\n",
            "Epoch 50/100\n",
            "2/2 [==============================] - 0s 5ms/step - loss: 8.9724 - mae: 8.9724\n",
            "Epoch 51/100\n",
            "2/2 [==============================] - 0s 6ms/step - loss: 10.6922 - mae: 10.6922\n",
            "Epoch 52/100\n",
            "2/2 [==============================] - 0s 6ms/step - loss: 15.2532 - mae: 15.2532\n",
            "Epoch 53/100\n",
            "2/2 [==============================] - 0s 6ms/step - loss: 14.2839 - mae: 14.2839\n",
            "Epoch 54/100\n",
            "2/2 [==============================] - 0s 6ms/step - loss: 21.5414 - mae: 21.5414\n",
            "Epoch 55/100\n",
            "2/2 [==============================] - 0s 5ms/step - loss: 16.0395 - mae: 16.0395\n",
            "Epoch 56/100\n",
            "2/2 [==============================] - 0s 6ms/step - loss: 10.2385 - mae: 10.2385\n",
            "Epoch 57/100\n",
            "2/2 [==============================] - 0s 6ms/step - loss: 9.7817 - mae: 9.7817\n",
            "Epoch 58/100\n",
            "2/2 [==============================] - 0s 5ms/step - loss: 9.0638 - mae: 9.0638\n",
            "Epoch 59/100\n",
            "2/2 [==============================] - 0s 6ms/step - loss: 8.2698 - mae: 8.2698\n",
            "Epoch 60/100\n",
            "2/2 [==============================] - 0s 6ms/step - loss: 9.3610 - mae: 9.3610\n",
            "Epoch 61/100\n",
            "2/2 [==============================] - 0s 6ms/step - loss: 11.1883 - mae: 11.1883\n",
            "Epoch 62/100\n",
            "2/2 [==============================] - 0s 6ms/step - loss: 12.0252 - mae: 12.0252\n",
            "Epoch 63/100\n",
            "2/2 [==============================] - 0s 5ms/step - loss: 7.2612 - mae: 7.2612\n",
            "Epoch 64/100\n",
            "2/2 [==============================] - 0s 6ms/step - loss: 12.4549 - mae: 12.4549\n",
            "Epoch 65/100\n",
            "2/2 [==============================] - 0s 6ms/step - loss: 10.5242 - mae: 10.5242\n",
            "Epoch 66/100\n",
            "2/2 [==============================] - 0s 6ms/step - loss: 15.5583 - mae: 15.5583\n",
            "Epoch 67/100\n",
            "2/2 [==============================] - 0s 6ms/step - loss: 9.9699 - mae: 9.9699\n",
            "Epoch 68/100\n",
            "2/2 [==============================] - 0s 6ms/step - loss: 8.6970 - mae: 8.6970\n",
            "Epoch 69/100\n",
            "2/2 [==============================] - 0s 7ms/step - loss: 13.4334 - mae: 13.4334\n",
            "Epoch 70/100\n",
            "2/2 [==============================] - 0s 6ms/step - loss: 7.4565 - mae: 7.4565\n",
            "Epoch 71/100\n",
            "2/2 [==============================] - 0s 6ms/step - loss: 12.2511 - mae: 12.2511\n",
            "Epoch 72/100\n",
            "2/2 [==============================] - 0s 6ms/step - loss: 8.4973 - mae: 8.4973\n",
            "Epoch 73/100\n",
            "2/2 [==============================] - 0s 7ms/step - loss: 7.0241 - mae: 7.0241\n",
            "Epoch 74/100\n",
            "2/2 [==============================] - 0s 7ms/step - loss: 9.8767 - mae: 9.8767\n",
            "Epoch 75/100\n",
            "2/2 [==============================] - 0s 6ms/step - loss: 9.9501 - mae: 9.9501\n",
            "Epoch 76/100\n",
            "2/2 [==============================] - 0s 6ms/step - loss: 10.1103 - mae: 10.1103\n",
            "Epoch 77/100\n",
            "2/2 [==============================] - 0s 6ms/step - loss: 12.9864 - mae: 12.9864\n",
            "Epoch 78/100\n",
            "2/2 [==============================] - 0s 6ms/step - loss: 10.8809 - mae: 10.8809\n",
            "Epoch 79/100\n",
            "2/2 [==============================] - 0s 6ms/step - loss: 15.3595 - mae: 15.3595\n",
            "Epoch 80/100\n",
            "2/2 [==============================] - 0s 6ms/step - loss: 11.7227 - mae: 11.7227\n",
            "Epoch 81/100\n",
            "2/2 [==============================] - 0s 6ms/step - loss: 9.2308 - mae: 9.2308\n",
            "Epoch 82/100\n",
            "2/2 [==============================] - 0s 6ms/step - loss: 12.8186 - mae: 12.8186\n",
            "Epoch 83/100\n",
            "2/2 [==============================] - 0s 6ms/step - loss: 10.2703 - mae: 10.2703\n",
            "Epoch 84/100\n",
            "2/2 [==============================] - 0s 6ms/step - loss: 10.6022 - mae: 10.6022\n",
            "Epoch 85/100\n",
            "2/2 [==============================] - 0s 6ms/step - loss: 9.3104 - mae: 9.3104\n",
            "Epoch 86/100\n",
            "2/2 [==============================] - 0s 6ms/step - loss: 9.1586 - mae: 9.1586\n",
            "Epoch 87/100\n",
            "2/2 [==============================] - 0s 7ms/step - loss: 11.8953 - mae: 11.8953\n",
            "Epoch 88/100\n",
            "2/2 [==============================] - 0s 6ms/step - loss: 10.5054 - mae: 10.5054\n",
            "Epoch 89/100\n",
            "2/2 [==============================] - 0s 7ms/step - loss: 7.2276 - mae: 7.2276\n",
            "Epoch 90/100\n",
            "2/2 [==============================] - 0s 6ms/step - loss: 12.6327 - mae: 12.6327\n",
            "Epoch 91/100\n",
            "2/2 [==============================] - 0s 8ms/step - loss: 7.2740 - mae: 7.2740\n",
            "Epoch 92/100\n",
            "2/2 [==============================] - 0s 7ms/step - loss: 7.6332 - mae: 7.6332\n",
            "Epoch 93/100\n",
            "2/2 [==============================] - 0s 6ms/step - loss: 7.0966 - mae: 7.0966\n",
            "Epoch 94/100\n",
            "2/2 [==============================] - 0s 6ms/step - loss: 12.4845 - mae: 12.4845\n",
            "Epoch 95/100\n",
            "2/2 [==============================] - 0s 6ms/step - loss: 9.8591 - mae: 9.8591\n",
            "Epoch 96/100\n",
            "2/2 [==============================] - 0s 7ms/step - loss: 9.1368 - mae: 9.1368\n",
            "Epoch 97/100\n",
            "2/2 [==============================] - 0s 6ms/step - loss: 12.1120 - mae: 12.1120\n",
            "Epoch 98/100\n",
            "2/2 [==============================] - 0s 5ms/step - loss: 9.0066 - mae: 9.0066\n",
            "Epoch 99/100\n",
            "2/2 [==============================] - 0s 6ms/step - loss: 8.4890 - mae: 8.4890\n",
            "Epoch 100/100\n",
            "2/2 [==============================] - 0s 6ms/step - loss: 14.5100 - mae: 14.5100\n"
          ]
        },
        {
          "output_type": "execute_result",
          "data": {
            "text/plain": [
              "<keras.callbacks.History at 0x7f533ca0fa10>"
            ]
          },
          "metadata": {},
          "execution_count": 115
        }
      ]
    },
    {
      "cell_type": "code",
      "source": [
        "pred_1 = model_1.predict(X_test)"
      ],
      "metadata": {
        "id": "3R2DyNL9RlvV"
      },
      "execution_count": 116,
      "outputs": []
    },
    {
      "cell_type": "code",
      "source": [
        "plot_predictions(predictions = pred_1)"
      ],
      "metadata": {
        "id": "gUYuECCkUJJ1",
        "outputId": "81caab0a-1f81-4b4d-f6a7-a27b8f72eef7",
        "colab": {
          "base_uri": "https://localhost:8080/",
          "height": 428
        }
      },
      "execution_count": 118,
      "outputs": [
        {
          "output_type": "display_data",
          "data": {
            "text/plain": [
              "<Figure size 720x504 with 1 Axes>"
            ],
            "image/png": "[encoded data removed]"
          },
          "metadata": {
            "needs_background": "light"
          }
        }
      ]
    },
    {
      "cell_type": "code",
      "source": [
        "mae_1 = mae(y_test, tf.squeeze(pred_1)).numpy()\n",
        "mse_1 = mse(y_test, tf.squeeze(pred_1)).numpy()\n",
        "huber_1 = huber_metric(y_test, tf.squeeze(pred_1))\n",
        "print(mae_1,mse_1,huber_1)"
      ],
      "metadata": {
        "id": "RdhyYhXQU9oI",
        "outputId": "a8ce9298-093b-4f33-bcf6-2fcc99f8043d",
        "colab": {
          "base_uri": "https://localhost:8080/"
        }
      },
      "execution_count": 124,
      "outputs": [
        {
          "output_type": "stream",
          "name": "stdout",
          "text": [
            "tf.Tensor(30.403025, shape=(), dtype=float32) tf.Tensor(934.5885, shape=(), dtype=float32) 29.903025\n"
          ]
        }
      ]
    },
    {
      "cell_type": "markdown",
      "source": [
        "#### Model 2: 2 dense layer, 100 epochs, sgd optimizer"
      ],
      "metadata": {
        "id": "ete3Mje3WTAO"
      }
    },
    {
      "cell_type": "code",
      "source": [
        "tf.random.set_seed=42\n",
        "model_2 = tf.keras.Sequential([\n",
        "                             tf.keras.layers.Dense(10),\n",
        "                             tf.keras.layers.Dense(1)\n",
        "])\n",
        "model_2.compile(loss = tf.keras.losses.mae,\n",
        "              optimizer = tf.keras.optimizers.SGD(),\n",
        "              metrics=[\"mae\"])\n",
        "#model_1.fit(X_train, y_train)\n",
        "model_2.fit(tf.expand_dims(X_train, axis=-1), y_train, epochs=100)"
      ],
      "metadata": {
        "id": "H-u-dVvdVokk",
        "outputId": "9c2df5fc-3389-4b68-aa32-dacc66af2466",
        "colab": {
          "base_uri": "https://localhost:8080/"
        }
      },
      "execution_count": 125,
      "outputs": [
        {
          "output_type": "stream",
          "name": "stdout",
          "text": [
            "Epoch 1/100\n",
            "2/2 [==============================] - 0s 10ms/step - loss: 36.1963 - mae: 36.1963\n",
            "Epoch 2/100\n",
            "2/2 [==============================] - 0s 8ms/step - loss: 21.8390 - mae: 21.8390\n",
            "Epoch 3/100\n",
            "2/2 [==============================] - 0s 7ms/step - loss: 27.1286 - mae: 27.1286\n",
            "Epoch 4/100\n",
            "2/2 [==============================] - 0s 7ms/step - loss: 13.8314 - mae: 13.8314\n",
            "Epoch 5/100\n",
            "2/2 [==============================] - 0s 9ms/step - loss: 15.4095 - mae: 15.4095\n",
            "Epoch 6/100\n",
            "2/2 [==============================] - 0s 7ms/step - loss: 12.2389 - mae: 12.2389\n",
            "Epoch 7/100\n",
            "2/2 [==============================] - 0s 9ms/step - loss: 11.5485 - mae: 11.5485\n",
            "Epoch 8/100\n",
            "2/2 [==============================] - 0s 11ms/step - loss: 11.2387 - mae: 11.2387\n",
            "Epoch 9/100\n",
            "2/2 [==============================] - 0s 38ms/step - loss: 42.3816 - mae: 42.3816\n",
            "Epoch 10/100\n",
            "2/2 [==============================] - 0s 8ms/step - loss: 29.5347 - mae: 29.5347\n",
            "Epoch 11/100\n",
            "2/2 [==============================] - 0s 8ms/step - loss: 7.7033 - mae: 7.7033\n",
            "Epoch 12/100\n",
            "2/2 [==============================] - 0s 8ms/step - loss: 28.5646 - mae: 28.5646\n",
            "Epoch 13/100\n",
            "2/2 [==============================] - 0s 5ms/step - loss: 11.4982 - mae: 11.4982\n",
            "Epoch 14/100\n",
            "2/2 [==============================] - 0s 8ms/step - loss: 30.3644 - mae: 30.3644\n",
            "Epoch 15/100\n",
            "2/2 [==============================] - 0s 5ms/step - loss: 20.3034 - mae: 20.3034\n",
            "Epoch 16/100\n",
            "2/2 [==============================] - 0s 11ms/step - loss: 7.3234 - mae: 7.3234\n",
            "Epoch 17/100\n",
            "2/2 [==============================] - 0s 7ms/step - loss: 10.8590 - mae: 10.8590\n",
            "Epoch 18/100\n",
            "2/2 [==============================] - 0s 9ms/step - loss: 19.5201 - mae: 19.5201\n",
            "Epoch 19/100\n",
            "2/2 [==============================] - 0s 8ms/step - loss: 10.3234 - mae: 10.3234\n",
            "Epoch 20/100\n",
            "2/2 [==============================] - 0s 5ms/step - loss: 17.6838 - mae: 17.6838\n",
            "Epoch 21/100\n",
            "2/2 [==============================] - 0s 4ms/step - loss: 15.8784 - mae: 15.8784\n",
            "Epoch 22/100\n",
            "2/2 [==============================] - 0s 7ms/step - loss: 14.1734 - mae: 14.1734\n",
            "Epoch 23/100\n",
            "2/2 [==============================] - 0s 8ms/step - loss: 8.7577 - mae: 8.7577\n",
            "Epoch 24/100\n",
            "2/2 [==============================] - 0s 8ms/step - loss: 11.0443 - mae: 11.0443\n",
            "Epoch 25/100\n",
            "2/2 [==============================] - 0s 20ms/step - loss: 12.6884 - mae: 12.6884\n",
            "Epoch 26/100\n",
            "2/2 [==============================] - 0s 5ms/step - loss: 26.2591 - mae: 26.2591\n",
            "Epoch 27/100\n",
            "2/2 [==============================] - 0s 7ms/step - loss: 12.3776 - mae: 12.3776\n",
            "Epoch 28/100\n",
            "2/2 [==============================] - 0s 4ms/step - loss: 26.2173 - mae: 26.2173\n",
            "Epoch 29/100\n",
            "2/2 [==============================] - 0s 7ms/step - loss: 9.1916 - mae: 9.1916\n",
            "Epoch 30/100\n",
            "2/2 [==============================] - 0s 7ms/step - loss: 27.5880 - mae: 27.5880\n",
            "Epoch 31/100\n",
            "2/2 [==============================] - 0s 7ms/step - loss: 49.7988 - mae: 49.7988\n",
            "Epoch 32/100\n",
            "2/2 [==============================] - 0s 9ms/step - loss: 11.0321 - mae: 11.0321\n",
            "Epoch 33/100\n",
            "2/2 [==============================] - 0s 7ms/step - loss: 17.7951 - mae: 17.7951\n",
            "Epoch 34/100\n",
            "2/2 [==============================] - 0s 4ms/step - loss: 10.8636 - mae: 10.8636\n",
            "Epoch 35/100\n",
            "2/2 [==============================] - 0s 7ms/step - loss: 9.1607 - mae: 9.1607\n",
            "Epoch 36/100\n",
            "2/2 [==============================] - 0s 4ms/step - loss: 16.4015 - mae: 16.4015\n",
            "Epoch 37/100\n",
            "2/2 [==============================] - 0s 6ms/step - loss: 11.0911 - mae: 11.0911\n",
            "Epoch 38/100\n",
            "2/2 [==============================] - 0s 7ms/step - loss: 18.2233 - mae: 18.2233\n",
            "Epoch 39/100\n",
            "2/2 [==============================] - 0s 7ms/step - loss: 19.1526 - mae: 19.1526\n",
            "Epoch 40/100\n",
            "2/2 [==============================] - 0s 7ms/step - loss: 20.5313 - mae: 20.5313\n",
            "Epoch 41/100\n",
            "2/2 [==============================] - 0s 7ms/step - loss: 14.7590 - mae: 14.7590\n",
            "Epoch 42/100\n",
            "2/2 [==============================] - 0s 6ms/step - loss: 12.1648 - mae: 12.1648\n",
            "Epoch 43/100\n",
            "2/2 [==============================] - 0s 4ms/step - loss: 10.6680 - mae: 10.6680\n",
            "Epoch 44/100\n",
            "2/2 [==============================] - 0s 7ms/step - loss: 32.2295 - mae: 32.2295\n",
            "Epoch 45/100\n",
            "2/2 [==============================] - 0s 4ms/step - loss: 12.4373 - mae: 12.4373\n",
            "Epoch 46/100\n",
            "2/2 [==============================] - 0s 4ms/step - loss: 17.4850 - mae: 17.4850\n",
            "Epoch 47/100\n",
            "2/2 [==============================] - 0s 7ms/step - loss: 15.7558 - mae: 15.7558\n",
            "Epoch 48/100\n",
            "2/2 [==============================] - 0s 8ms/step - loss: 8.3664 - mae: 8.3664\n",
            "Epoch 49/100\n",
            "2/2 [==============================] - 0s 4ms/step - loss: 14.2144 - mae: 14.2144\n",
            "Epoch 50/100\n",
            "2/2 [==============================] - 0s 4ms/step - loss: 15.1488 - mae: 15.1488\n",
            "Epoch 51/100\n",
            "2/2 [==============================] - 0s 4ms/step - loss: 13.6641 - mae: 13.6641\n",
            "Epoch 52/100\n",
            "2/2 [==============================] - 0s 7ms/step - loss: 18.0813 - mae: 18.0813\n",
            "Epoch 53/100\n",
            "2/2 [==============================] - 0s 12ms/step - loss: 22.7270 - mae: 22.7270\n",
            "Epoch 54/100\n",
            "2/2 [==============================] - 0s 10ms/step - loss: 26.9067 - mae: 26.9067\n",
            "Epoch 55/100\n",
            "2/2 [==============================] - 0s 4ms/step - loss: 26.5506 - mae: 26.5506\n",
            "Epoch 56/100\n",
            "2/2 [==============================] - 0s 8ms/step - loss: 11.3737 - mae: 11.3737\n",
            "Epoch 57/100\n",
            "2/2 [==============================] - 0s 7ms/step - loss: 13.4116 - mae: 13.4116\n",
            "Epoch 58/100\n",
            "2/2 [==============================] - 0s 6ms/step - loss: 9.9715 - mae: 9.9715\n",
            "Epoch 59/100\n",
            "2/2 [==============================] - 0s 5ms/step - loss: 13.9940 - mae: 13.9940\n",
            "Epoch 60/100\n",
            "2/2 [==============================] - 0s 5ms/step - loss: 10.0152 - mae: 10.0152\n",
            "Epoch 61/100\n",
            "2/2 [==============================] - 0s 7ms/step - loss: 15.0557 - mae: 15.0557\n",
            "Epoch 62/100\n",
            "2/2 [==============================] - 0s 5ms/step - loss: 11.9707 - mae: 11.9707\n",
            "Epoch 63/100\n",
            "2/2 [==============================] - 0s 9ms/step - loss: 10.3066 - mae: 10.3066\n",
            "Epoch 64/100\n",
            "2/2 [==============================] - 0s 9ms/step - loss: 24.0556 - mae: 24.0556\n",
            "Epoch 65/100\n",
            "2/2 [==============================] - 0s 7ms/step - loss: 10.4852 - mae: 10.4852\n",
            "Epoch 66/100\n",
            "2/2 [==============================] - 0s 5ms/step - loss: 21.0839 - mae: 21.0839\n",
            "Epoch 67/100\n",
            "2/2 [==============================] - 0s 7ms/step - loss: 10.4756 - mae: 10.4756\n",
            "Epoch 68/100\n",
            "2/2 [==============================] - 0s 7ms/step - loss: 14.2834 - mae: 14.2834\n",
            "Epoch 69/100\n",
            "2/2 [==============================] - 0s 7ms/step - loss: 10.5601 - mae: 10.5601\n",
            "Epoch 70/100\n",
            "2/2 [==============================] - 0s 7ms/step - loss: 12.6389 - mae: 12.6389\n",
            "Epoch 71/100\n",
            "2/2 [==============================] - 0s 7ms/step - loss: 13.0714 - mae: 13.0714\n",
            "Epoch 72/100\n",
            "2/2 [==============================] - 0s 6ms/step - loss: 19.5238 - mae: 19.5238\n",
            "Epoch 73/100\n",
            "2/2 [==============================] - 0s 5ms/step - loss: 11.1575 - mae: 11.1575\n",
            "Epoch 74/100\n",
            "2/2 [==============================] - 0s 9ms/step - loss: 21.7994 - mae: 21.7994\n",
            "Epoch 75/100\n",
            "2/2 [==============================] - 0s 4ms/step - loss: 7.1929 - mae: 7.1929\n",
            "Epoch 76/100\n",
            "2/2 [==============================] - 0s 6ms/step - loss: 9.4261 - mae: 9.4261\n",
            "Epoch 77/100\n",
            "2/2 [==============================] - 0s 9ms/step - loss: 22.0883 - mae: 22.0883\n",
            "Epoch 78/100\n",
            "2/2 [==============================] - 0s 9ms/step - loss: 17.6199 - mae: 17.6199\n",
            "Epoch 79/100\n",
            "2/2 [==============================] - 0s 7ms/step - loss: 14.8039 - mae: 14.8039\n",
            "Epoch 80/100\n",
            "2/2 [==============================] - 0s 7ms/step - loss: 25.0771 - mae: 25.0771\n",
            "Epoch 81/100\n",
            "2/2 [==============================] - 0s 7ms/step - loss: 10.8682 - mae: 10.8682\n",
            "Epoch 82/100\n",
            "2/2 [==============================] - 0s 5ms/step - loss: 12.7662 - mae: 12.7662\n",
            "Epoch 83/100\n",
            "2/2 [==============================] - 0s 6ms/step - loss: 17.5424 - mae: 17.5424\n",
            "Epoch 84/100\n",
            "2/2 [==============================] - 0s 7ms/step - loss: 7.2781 - mae: 7.2781\n",
            "Epoch 85/100\n",
            "2/2 [==============================] - 0s 9ms/step - loss: 15.0539 - mae: 15.0539\n",
            "Epoch 86/100\n",
            "2/2 [==============================] - 0s 7ms/step - loss: 15.3563 - mae: 15.3563\n",
            "Epoch 87/100\n",
            "2/2 [==============================] - 0s 6ms/step - loss: 19.2541 - mae: 19.2541\n",
            "Epoch 88/100\n",
            "2/2 [==============================] - 0s 9ms/step - loss: 29.4380 - mae: 29.4380\n",
            "Epoch 89/100\n",
            "2/2 [==============================] - 0s 12ms/step - loss: 10.1100 - mae: 10.1100\n",
            "Epoch 90/100\n",
            "2/2 [==============================] - 0s 6ms/step - loss: 21.2105 - mae: 21.2105\n",
            "Epoch 91/100\n",
            "2/2 [==============================] - 0s 6ms/step - loss: 10.4889 - mae: 10.4889\n",
            "Epoch 92/100\n",
            "2/2 [==============================] - 0s 9ms/step - loss: 18.1171 - mae: 18.1171\n",
            "Epoch 93/100\n",
            "2/2 [==============================] - 0s 5ms/step - loss: 6.5322 - mae: 6.5322\n",
            "Epoch 94/100\n",
            "2/2 [==============================] - 0s 8ms/step - loss: 11.1501 - mae: 11.1501\n",
            "Epoch 95/100\n",
            "2/2 [==============================] - 0s 5ms/step - loss: 24.5651 - mae: 24.5651\n",
            "Epoch 96/100\n",
            "2/2 [==============================] - 0s 7ms/step - loss: 10.7588 - mae: 10.7588\n",
            "Epoch 97/100\n",
            "2/2 [==============================] - 0s 8ms/step - loss: 15.4822 - mae: 15.4822\n",
            "Epoch 98/100\n",
            "2/2 [==============================] - 0s 10ms/step - loss: 9.0307 - mae: 9.0307\n",
            "Epoch 99/100\n",
            "2/2 [==============================] - 0s 9ms/step - loss: 10.8499 - mae: 10.8499\n",
            "Epoch 100/100\n",
            "2/2 [==============================] - 0s 13ms/step - loss: 27.0963 - mae: 27.0963\n"
          ]
        },
        {
          "output_type": "execute_result",
          "data": {
            "text/plain": [
              "<keras.callbacks.History at 0x7f533cd1fe10>"
            ]
          },
          "metadata": {},
          "execution_count": 125
        }
      ]
    },
    {
      "cell_type": "code",
      "source": [
        "pred_2 = model_2.predict(X_test)"
      ],
      "metadata": {
        "id": "_UboyAz9Wjej"
      },
      "execution_count": 127,
      "outputs": []
    },
    {
      "cell_type": "code",
      "source": [
        "mae_2 = mae(y_test, tf.squeeze(pred_2)).numpy()\n",
        "mse_2 = mse(y_test, tf.squeeze(pred_2)).numpy()\n",
        "huber_2 = huber_metric(y_test, tf.squeeze(pred_2))\n",
        "print(mae_1,mse_1,huber_1)\n",
        "print(mae_2,mse_2,huber_2)"
      ],
      "metadata": {
        "id": "0PzTWzWtWsMb",
        "outputId": "6dd33df2-d502-4b0a-ea76-e06544ed57f4",
        "colab": {
          "base_uri": "https://localhost:8080/"
        }
      },
      "execution_count": 143,
      "outputs": [
        {
          "output_type": "stream",
          "name": "stdout",
          "text": [
            "tf.Tensor(30.403025, shape=(), dtype=float32) tf.Tensor(934.5885, shape=(), dtype=float32) 29.903025\n",
            "10.144222 110.23521 9.644222\n"
          ]
        }
      ]
    },
    {
      "cell_type": "code",
      "source": [
        "plot_predictions(predictions = pred_2)"
      ],
      "metadata": {
        "id": "vHTHaFRLW0WO",
        "outputId": "fc5ae08b-2790-41fc-80cf-defc1f1060d8",
        "colab": {
          "base_uri": "https://localhost:8080/",
          "height": 428
        }
      },
      "execution_count": 130,
      "outputs": [
        {
          "output_type": "display_data",
          "data": {
            "text/plain": [
              "<Figure size 720x504 with 1 Axes>"
            ],
            "image/png": "[encoded data removed]"
          },
          "metadata": {
            "needs_background": "light"
          }
        }
      ]
    },
    {
      "cell_type": "markdown",
      "source": [
        "#### Model 3: Change 100 to 500 echo"
      ],
      "metadata": {
        "id": "LL3iiERPXO4k"
      }
    },
    {
      "cell_type": "code",
      "source": [
        "model_3 = tf.keras.Sequential([\n",
        "                               tf.keras.layers.Dense(10),\n",
        "                               tf.keras.layers.Dense(1)\n",
        "])\n",
        "model_3.compile(loss= tf.keras.losses.mae,\n",
        "                           optimizer = tf.keras.optimizers.SGD(),\n",
        "                           metrics = [\"mae\"])\n",
        "model_3.fit(tf.expand_dims(X_train, axis=-1),y_train, epochs=500)"
      ],
      "metadata": {
        "id": "mvmVOf9mXACP",
        "outputId": "9932c9bc-da45-4617-a4ff-b8c1326f8789",
        "colab": {
          "base_uri": "https://localhost:8080/"
        }
      },
      "execution_count": 135,
      "outputs": [
        {
          "output_type": "stream",
          "name": "stdout",
          "text": [
            "Epoch 1/500\n",
            "2/2 [==============================] - 0s 6ms/step - loss: 22.7616 - mae: 22.7616\n",
            "Epoch 2/500\n",
            "2/2 [==============================] - 0s 6ms/step - loss: 23.4134 - mae: 23.4134\n",
            "Epoch 3/500\n",
            "2/2 [==============================] - 0s 5ms/step - loss: 28.4403 - mae: 28.4403\n",
            "Epoch 4/500\n",
            "2/2 [==============================] - 0s 6ms/step - loss: 16.2198 - mae: 16.2198\n",
            "Epoch 5/500\n",
            "2/2 [==============================] - 0s 5ms/step - loss: 18.7100 - mae: 18.7100\n",
            "Epoch 6/500\n",
            "2/2 [==============================] - 0s 6ms/step - loss: 14.7091 - mae: 14.7091\n",
            "Epoch 7/500\n",
            "2/2 [==============================] - 0s 6ms/step - loss: 10.3925 - mae: 10.3925\n",
            "Epoch 8/500\n",
            "2/2 [==============================] - 0s 6ms/step - loss: 12.0537 - mae: 12.0537\n",
            "Epoch 9/500\n",
            "2/2 [==============================] - 0s 5ms/step - loss: 37.6383 - mae: 37.6383\n",
            "Epoch 10/500\n",
            "2/2 [==============================] - 0s 5ms/step - loss: 25.2839 - mae: 25.2839\n",
            "Epoch 11/500\n",
            "2/2 [==============================] - 0s 6ms/step - loss: 10.2557 - mae: 10.2557\n",
            "Epoch 12/500\n",
            "2/2 [==============================] - 0s 6ms/step - loss: 25.4032 - mae: 25.4032\n",
            "Epoch 13/500\n",
            "2/2 [==============================] - 0s 6ms/step - loss: 16.8685 - mae: 16.8685\n",
            "Epoch 14/500\n",
            "2/2 [==============================] - 0s 6ms/step - loss: 25.6959 - mae: 25.6959\n",
            "Epoch 15/500\n",
            "2/2 [==============================] - 0s 6ms/step - loss: 17.5636 - mae: 17.5636\n",
            "Epoch 16/500\n",
            "2/2 [==============================] - 0s 6ms/step - loss: 10.0475 - mae: 10.0475\n",
            "Epoch 17/500\n",
            "2/2 [==============================] - 0s 5ms/step - loss: 18.5795 - mae: 18.5795\n",
            "Epoch 18/500\n",
            "2/2 [==============================] - 0s 6ms/step - loss: 11.7426 - mae: 11.7426\n",
            "Epoch 19/500\n",
            "2/2 [==============================] - 0s 6ms/step - loss: 16.3918 - mae: 16.3918\n",
            "Epoch 20/500\n",
            "2/2 [==============================] - 0s 6ms/step - loss: 8.2518 - mae: 8.2518\n",
            "Epoch 21/500\n",
            "2/2 [==============================] - 0s 5ms/step - loss: 14.4565 - mae: 14.4565\n",
            "Epoch 22/500\n",
            "2/2 [==============================] - 0s 6ms/step - loss: 12.8737 - mae: 12.8737\n",
            "Epoch 23/500\n",
            "2/2 [==============================] - 0s 6ms/step - loss: 15.5077 - mae: 15.5077\n",
            "Epoch 24/500\n",
            "2/2 [==============================] - 0s 6ms/step - loss: 15.2980 - mae: 15.2980\n",
            "Epoch 25/500\n",
            "2/2 [==============================] - 0s 5ms/step - loss: 14.3616 - mae: 14.3616\n",
            "Epoch 26/500\n",
            "2/2 [==============================] - 0s 10ms/step - loss: 19.3832 - mae: 19.3832\n",
            "Epoch 27/500\n",
            "2/2 [==============================] - 0s 6ms/step - loss: 11.4362 - mae: 11.4362\n",
            "Epoch 28/500\n",
            "2/2 [==============================] - 0s 6ms/step - loss: 28.9751 - mae: 28.9751\n",
            "Epoch 29/500\n",
            "2/2 [==============================] - 0s 6ms/step - loss: 9.2532 - mae: 9.2532\n",
            "Epoch 30/500\n",
            "2/2 [==============================] - 0s 5ms/step - loss: 29.7356 - mae: 29.7356\n",
            "Epoch 31/500\n",
            "2/2 [==============================] - 0s 6ms/step - loss: 53.9429 - mae: 53.9429\n",
            "Epoch 32/500\n",
            "2/2 [==============================] - 0s 6ms/step - loss: 9.5498 - mae: 9.5498\n",
            "Epoch 33/500\n",
            "2/2 [==============================] - 0s 6ms/step - loss: 12.1375 - mae: 12.1375\n",
            "Epoch 34/500\n",
            "2/2 [==============================] - 0s 6ms/step - loss: 23.7814 - mae: 23.7814\n",
            "Epoch 35/500\n",
            "2/2 [==============================] - 0s 6ms/step - loss: 12.6430 - mae: 12.6430\n",
            "Epoch 36/500\n",
            "2/2 [==============================] - 0s 6ms/step - loss: 21.5765 - mae: 21.5765\n",
            "Epoch 37/500\n",
            "2/2 [==============================] - 0s 6ms/step - loss: 11.3430 - mae: 11.3430\n",
            "Epoch 38/500\n",
            "2/2 [==============================] - 0s 5ms/step - loss: 13.3993 - mae: 13.3993\n",
            "Epoch 39/500\n",
            "2/2 [==============================] - 0s 6ms/step - loss: 10.7604 - mae: 10.7604\n",
            "Epoch 40/500\n",
            "2/2 [==============================] - 0s 6ms/step - loss: 16.5016 - mae: 16.5016\n",
            "Epoch 41/500\n",
            "2/2 [==============================] - 0s 5ms/step - loss: 10.9277 - mae: 10.9277\n",
            "Epoch 42/500\n",
            "2/2 [==============================] - 0s 6ms/step - loss: 9.2668 - mae: 9.2668\n",
            "Epoch 43/500\n",
            "2/2 [==============================] - 0s 6ms/step - loss: 9.5845 - mae: 9.5845\n",
            "Epoch 44/500\n",
            "2/2 [==============================] - 0s 6ms/step - loss: 27.8443 - mae: 27.8443\n",
            "Epoch 45/500\n",
            "2/2 [==============================] - 0s 6ms/step - loss: 11.2479 - mae: 11.2479\n",
            "Epoch 46/500\n",
            "2/2 [==============================] - 0s 6ms/step - loss: 13.8203 - mae: 13.8203\n",
            "Epoch 47/500\n",
            "2/2 [==============================] - 0s 6ms/step - loss: 11.9369 - mae: 11.9369\n",
            "Epoch 48/500\n",
            "2/2 [==============================] - 0s 6ms/step - loss: 16.9801 - mae: 16.9801\n",
            "Epoch 49/500\n",
            "2/2 [==============================] - 0s 5ms/step - loss: 9.7612 - mae: 9.7612\n",
            "Epoch 50/500\n",
            "2/2 [==============================] - 0s 5ms/step - loss: 14.1411 - mae: 14.1411\n",
            "Epoch 51/500\n",
            "2/2 [==============================] - 0s 6ms/step - loss: 11.7281 - mae: 11.7281\n",
            "Epoch 52/500\n",
            "2/2 [==============================] - 0s 6ms/step - loss: 31.3111 - mae: 31.3111\n",
            "Epoch 53/500\n",
            "2/2 [==============================] - 0s 7ms/step - loss: 14.6928 - mae: 14.6928\n",
            "Epoch 54/500\n",
            "2/2 [==============================] - 0s 6ms/step - loss: 24.5567 - mae: 24.5567\n",
            "Epoch 55/500\n",
            "2/2 [==============================] - 0s 6ms/step - loss: 23.8353 - mae: 23.8353\n",
            "Epoch 56/500\n",
            "2/2 [==============================] - 0s 6ms/step - loss: 11.1041 - mae: 11.1041\n",
            "Epoch 57/500\n",
            "2/2 [==============================] - 0s 6ms/step - loss: 13.0359 - mae: 13.0359\n",
            "Epoch 58/500\n",
            "2/2 [==============================] - 0s 5ms/step - loss: 9.7682 - mae: 9.7682\n",
            "Epoch 59/500\n",
            "2/2 [==============================] - 0s 8ms/step - loss: 13.2112 - mae: 13.2112\n",
            "Epoch 60/500\n",
            "2/2 [==============================] - 0s 6ms/step - loss: 10.8189 - mae: 10.8189\n",
            "Epoch 61/500\n",
            "2/2 [==============================] - 0s 6ms/step - loss: 13.3929 - mae: 13.3929\n",
            "Epoch 62/500\n",
            "2/2 [==============================] - 0s 7ms/step - loss: 17.3391 - mae: 17.3391\n",
            "Epoch 63/500\n",
            "2/2 [==============================] - 0s 6ms/step - loss: 9.1293 - mae: 9.1293\n",
            "Epoch 64/500\n",
            "2/2 [==============================] - 0s 6ms/step - loss: 17.9622 - mae: 17.9622\n",
            "Epoch 65/500\n",
            "2/2 [==============================] - 0s 6ms/step - loss: 10.6145 - mae: 10.6145\n",
            "Epoch 66/500\n",
            "2/2 [==============================] - 0s 6ms/step - loss: 21.4844 - mae: 21.4844\n",
            "Epoch 67/500\n",
            "2/2 [==============================] - 0s 6ms/step - loss: 10.6265 - mae: 10.6265\n",
            "Epoch 68/500\n",
            "2/2 [==============================] - 0s 6ms/step - loss: 14.8680 - mae: 14.8680\n",
            "Epoch 69/500\n",
            "2/2 [==============================] - 0s 6ms/step - loss: 10.7731 - mae: 10.7731\n",
            "Epoch 70/500\n",
            "2/2 [==============================] - 0s 6ms/step - loss: 12.8753 - mae: 12.8753\n",
            "Epoch 71/500\n",
            "2/2 [==============================] - 0s 6ms/step - loss: 13.2964 - mae: 13.2964\n",
            "Epoch 72/500\n",
            "2/2 [==============================] - 0s 6ms/step - loss: 20.1554 - mae: 20.1554\n",
            "Epoch 73/500\n",
            "2/2 [==============================] - 0s 6ms/step - loss: 9.7360 - mae: 9.7360\n",
            "Epoch 74/500\n",
            "2/2 [==============================] - 0s 7ms/step - loss: 27.4686 - mae: 27.4686\n",
            "Epoch 75/500\n",
            "2/2 [==============================] - 0s 10ms/step - loss: 10.0246 - mae: 10.0246\n",
            "Epoch 76/500\n",
            "2/2 [==============================] - 0s 6ms/step - loss: 12.9454 - mae: 12.9454\n",
            "Epoch 77/500\n",
            "2/2 [==============================] - 0s 6ms/step - loss: 17.9551 - mae: 17.9551\n",
            "Epoch 78/500\n",
            "2/2 [==============================] - 0s 7ms/step - loss: 8.9622 - mae: 8.9622\n",
            "Epoch 79/500\n",
            "2/2 [==============================] - 0s 7ms/step - loss: 28.8089 - mae: 28.8089\n",
            "Epoch 80/500\n",
            "2/2 [==============================] - 0s 6ms/step - loss: 31.1614 - mae: 31.1614\n",
            "Epoch 81/500\n",
            "2/2 [==============================] - 0s 6ms/step - loss: 13.5794 - mae: 13.5794\n",
            "Epoch 82/500\n",
            "2/2 [==============================] - 0s 6ms/step - loss: 15.8620 - mae: 15.8620\n",
            "Epoch 83/500\n",
            "2/2 [==============================] - 0s 6ms/step - loss: 9.1350 - mae: 9.1350\n",
            "Epoch 84/500\n",
            "2/2 [==============================] - 0s 6ms/step - loss: 8.2026 - mae: 8.2026\n",
            "Epoch 85/500\n",
            "2/2 [==============================] - 0s 6ms/step - loss: 18.8722 - mae: 18.8722\n",
            "Epoch 86/500\n",
            "2/2 [==============================] - 0s 8ms/step - loss: 21.9838 - mae: 21.9838\n",
            "Epoch 87/500\n",
            "2/2 [==============================] - 0s 6ms/step - loss: 11.2137 - mae: 11.2137\n",
            "Epoch 88/500\n",
            "2/2 [==============================] - 0s 6ms/step - loss: 25.9454 - mae: 25.9454\n",
            "Epoch 89/500\n",
            "2/2 [==============================] - 0s 6ms/step - loss: 9.5214 - mae: 9.5214\n",
            "Epoch 90/500\n",
            "2/2 [==============================] - 0s 6ms/step - loss: 18.2548 - mae: 18.2548\n",
            "Epoch 91/500\n",
            "2/2 [==============================] - 0s 6ms/step - loss: 10.3259 - mae: 10.3259\n",
            "Epoch 92/500\n",
            "2/2 [==============================] - 0s 6ms/step - loss: 17.5070 - mae: 17.5070\n",
            "Epoch 93/500\n",
            "2/2 [==============================] - 0s 6ms/step - loss: 6.8250 - mae: 6.8250\n",
            "Epoch 94/500\n",
            "2/2 [==============================] - 0s 6ms/step - loss: 17.6527 - mae: 17.6527\n",
            "Epoch 95/500\n",
            "2/2 [==============================] - 0s 7ms/step - loss: 17.3665 - mae: 17.3665\n",
            "Epoch 96/500\n",
            "2/2 [==============================] - 0s 7ms/step - loss: 11.5349 - mae: 11.5349\n",
            "Epoch 97/500\n",
            "2/2 [==============================] - 0s 6ms/step - loss: 18.3053 - mae: 18.3053\n",
            "Epoch 98/500\n",
            "2/2 [==============================] - 0s 6ms/step - loss: 9.7514 - mae: 9.7514\n",
            "Epoch 99/500\n",
            "2/2 [==============================] - 0s 6ms/step - loss: 16.9383 - mae: 16.9383\n",
            "Epoch 100/500\n",
            "2/2 [==============================] - 0s 6ms/step - loss: 17.8092 - mae: 17.8092\n",
            "Epoch 101/500\n",
            "2/2 [==============================] - 0s 7ms/step - loss: 16.4783 - mae: 16.4783\n",
            "Epoch 102/500\n",
            "2/2 [==============================] - 0s 6ms/step - loss: 12.9203 - mae: 12.9203\n",
            "Epoch 103/500\n",
            "2/2 [==============================] - 0s 6ms/step - loss: 16.0755 - mae: 16.0755\n",
            "Epoch 104/500\n",
            "2/2 [==============================] - 0s 6ms/step - loss: 22.2520 - mae: 22.2520\n",
            "Epoch 105/500\n",
            "2/2 [==============================] - 0s 6ms/step - loss: 20.3304 - mae: 20.3304\n",
            "Epoch 106/500\n",
            "2/2 [==============================] - 0s 6ms/step - loss: 10.1030 - mae: 10.1030\n",
            "Epoch 107/500\n",
            "2/2 [==============================] - 0s 6ms/step - loss: 24.7749 - mae: 24.7749\n",
            "Epoch 108/500\n",
            "2/2 [==============================] - 0s 11ms/step - loss: 15.1764 - mae: 15.1764\n",
            "Epoch 109/500\n",
            "2/2 [==============================] - 0s 6ms/step - loss: 7.0716 - mae: 7.0716\n",
            "Epoch 110/500\n",
            "2/2 [==============================] - 0s 7ms/step - loss: 10.9526 - mae: 10.9526\n",
            "Epoch 111/500\n",
            "2/2 [==============================] - 0s 6ms/step - loss: 17.5514 - mae: 17.5514\n",
            "Epoch 112/500\n",
            "2/2 [==============================] - 0s 6ms/step - loss: 9.8209 - mae: 9.8209\n",
            "Epoch 113/500\n",
            "2/2 [==============================] - 0s 7ms/step - loss: 18.4634 - mae: 18.4634\n",
            "Epoch 114/500\n",
            "2/2 [==============================] - 0s 6ms/step - loss: 18.0868 - mae: 18.0868\n",
            "Epoch 115/500\n",
            "2/2 [==============================] - 0s 7ms/step - loss: 10.8088 - mae: 10.8088\n",
            "Epoch 116/500\n",
            "2/2 [==============================] - 0s 9ms/step - loss: 21.9965 - mae: 21.9965\n",
            "Epoch 117/500\n",
            "2/2 [==============================] - 0s 8ms/step - loss: 9.2324 - mae: 9.2324\n",
            "Epoch 118/500\n",
            "2/2 [==============================] - 0s 6ms/step - loss: 10.2344 - mae: 10.2344\n",
            "Epoch 119/500\n",
            "2/2 [==============================] - 0s 6ms/step - loss: 8.0382 - mae: 8.0382\n",
            "Epoch 120/500\n",
            "2/2 [==============================] - 0s 6ms/step - loss: 46.4515 - mae: 46.4515\n",
            "Epoch 121/500\n",
            "2/2 [==============================] - 0s 7ms/step - loss: 12.1426 - mae: 12.1426\n",
            "Epoch 122/500\n",
            "2/2 [==============================] - 0s 6ms/step - loss: 23.1489 - mae: 23.1489\n",
            "Epoch 123/500\n",
            "2/2 [==============================] - 0s 6ms/step - loss: 27.9024 - mae: 27.9024\n",
            "Epoch 124/500\n",
            "2/2 [==============================] - 0s 6ms/step - loss: 15.6422 - mae: 15.6422\n",
            "Epoch 125/500\n",
            "2/2 [==============================] - 0s 6ms/step - loss: 8.4071 - mae: 8.4071\n",
            "Epoch 126/500\n",
            "2/2 [==============================] - 0s 7ms/step - loss: 11.2620 - mae: 11.2620\n",
            "Epoch 127/500\n",
            "2/2 [==============================] - 0s 6ms/step - loss: 17.5307 - mae: 17.5307\n",
            "Epoch 128/500\n",
            "2/2 [==============================] - 0s 6ms/step - loss: 11.0461 - mae: 11.0461\n",
            "Epoch 129/500\n",
            "2/2 [==============================] - 0s 6ms/step - loss: 19.6834 - mae: 19.6834\n",
            "Epoch 130/500\n",
            "2/2 [==============================] - 0s 6ms/step - loss: 10.1974 - mae: 10.1974\n",
            "Epoch 131/500\n",
            "2/2 [==============================] - 0s 6ms/step - loss: 21.3311 - mae: 21.3311\n",
            "Epoch 132/500\n",
            "2/2 [==============================] - 0s 7ms/step - loss: 8.2318 - mae: 8.2318\n",
            "Epoch 133/500\n",
            "2/2 [==============================] - 0s 7ms/step - loss: 9.0164 - mae: 9.0164\n",
            "Epoch 134/500\n",
            "2/2 [==============================] - 0s 7ms/step - loss: 16.3884 - mae: 16.3884\n",
            "Epoch 135/500\n",
            "2/2 [==============================] - 0s 6ms/step - loss: 11.3171 - mae: 11.3171\n",
            "Epoch 136/500\n",
            "2/2 [==============================] - 0s 6ms/step - loss: 20.3198 - mae: 20.3198\n",
            "Epoch 137/500\n",
            "2/2 [==============================] - 0s 6ms/step - loss: 23.7854 - mae: 23.7854\n",
            "Epoch 138/500\n",
            "2/2 [==============================] - 0s 7ms/step - loss: 9.4171 - mae: 9.4171\n",
            "Epoch 139/500\n",
            "2/2 [==============================] - 0s 6ms/step - loss: 9.1067 - mae: 9.1067\n",
            "Epoch 140/500\n",
            "2/2 [==============================] - 0s 8ms/step - loss: 17.1472 - mae: 17.1472\n",
            "Epoch 141/500\n",
            "2/2 [==============================] - 0s 6ms/step - loss: 8.3716 - mae: 8.3716\n",
            "Epoch 142/500\n",
            "2/2 [==============================] - 0s 6ms/step - loss: 34.2669 - mae: 34.2669\n",
            "Epoch 143/500\n",
            "2/2 [==============================] - 0s 7ms/step - loss: 23.3094 - mae: 23.3094\n",
            "Epoch 144/500\n",
            "2/2 [==============================] - 0s 6ms/step - loss: 10.4987 - mae: 10.4987\n",
            "Epoch 145/500\n",
            "2/2 [==============================] - 0s 7ms/step - loss: 25.8561 - mae: 25.8561\n",
            "Epoch 146/500\n",
            "2/2 [==============================] - 0s 6ms/step - loss: 9.9431 - mae: 9.9431\n",
            "Epoch 147/500\n",
            "2/2 [==============================] - 0s 6ms/step - loss: 14.7564 - mae: 14.7564\n",
            "Epoch 148/500\n",
            "2/2 [==============================] - 0s 7ms/step - loss: 17.8729 - mae: 17.8729\n",
            "Epoch 149/500\n",
            "2/2 [==============================] - 0s 7ms/step - loss: 8.4480 - mae: 8.4480\n",
            "Epoch 150/500\n",
            "2/2 [==============================] - 0s 7ms/step - loss: 7.6292 - mae: 7.6292\n",
            "Epoch 151/500\n",
            "2/2 [==============================] - 0s 6ms/step - loss: 18.7911 - mae: 18.7911\n",
            "Epoch 152/500\n",
            "2/2 [==============================] - 0s 7ms/step - loss: 10.4650 - mae: 10.4650\n",
            "Epoch 153/500\n",
            "2/2 [==============================] - 0s 6ms/step - loss: 30.2810 - mae: 30.2810\n",
            "Epoch 154/500\n",
            "2/2 [==============================] - 0s 4ms/step - loss: 10.0168 - mae: 10.0168\n",
            "Epoch 155/500\n",
            "2/2 [==============================] - 0s 6ms/step - loss: 15.7653 - mae: 15.7653\n",
            "Epoch 156/500\n",
            "2/2 [==============================] - 0s 7ms/step - loss: 17.7013 - mae: 17.7013\n",
            "Epoch 157/500\n",
            "2/2 [==============================] - 0s 7ms/step - loss: 31.0356 - mae: 31.0356\n",
            "Epoch 158/500\n",
            "2/2 [==============================] - 0s 7ms/step - loss: 10.2087 - mae: 10.2087\n",
            "Epoch 159/500\n",
            "2/2 [==============================] - 0s 6ms/step - loss: 8.6947 - mae: 8.6947\n",
            "Epoch 160/500\n",
            "2/2 [==============================] - 0s 6ms/step - loss: 20.6906 - mae: 20.6906\n",
            "Epoch 161/500\n",
            "2/2 [==============================] - 0s 7ms/step - loss: 11.8017 - mae: 11.8017\n",
            "Epoch 162/500\n",
            "2/2 [==============================] - 0s 9ms/step - loss: 21.6678 - mae: 21.6678\n",
            "Epoch 163/500\n",
            "2/2 [==============================] - 0s 4ms/step - loss: 19.3459 - mae: 19.3459\n",
            "Epoch 164/500\n",
            "2/2 [==============================] - 0s 5ms/step - loss: 11.1141 - mae: 11.1141\n",
            "Epoch 165/500\n",
            "2/2 [==============================] - 0s 6ms/step - loss: 9.6330 - mae: 9.6330\n",
            "Epoch 166/500\n",
            "2/2 [==============================] - 0s 4ms/step - loss: 21.5761 - mae: 21.5761\n",
            "Epoch 167/500\n",
            "2/2 [==============================] - 0s 4ms/step - loss: 26.3398 - mae: 26.3398\n",
            "Epoch 168/500\n",
            "2/2 [==============================] - 0s 4ms/step - loss: 9.9208 - mae: 9.9208\n",
            "Epoch 169/500\n",
            "2/2 [==============================] - 0s 7ms/step - loss: 22.5758 - mae: 22.5758\n",
            "Epoch 170/500\n",
            "2/2 [==============================] - 0s 13ms/step - loss: 10.1782 - mae: 10.1782\n",
            "Epoch 171/500\n",
            "2/2 [==============================] - 0s 5ms/step - loss: 18.0574 - mae: 18.0574\n",
            "Epoch 172/500\n",
            "2/2 [==============================] - 0s 7ms/step - loss: 28.8180 - mae: 28.8180\n",
            "Epoch 173/500\n",
            "2/2 [==============================] - 0s 7ms/step - loss: 16.5306 - mae: 16.5306\n",
            "Epoch 174/500\n",
            "2/2 [==============================] - 0s 6ms/step - loss: 11.2405 - mae: 11.2405\n",
            "Epoch 175/500\n",
            "2/2 [==============================] - 0s 6ms/step - loss: 27.5942 - mae: 27.5942\n",
            "Epoch 176/500\n",
            "2/2 [==============================] - 0s 9ms/step - loss: 8.3118 - mae: 8.3118\n",
            "Epoch 177/500\n",
            "2/2 [==============================] - 0s 8ms/step - loss: 9.3059 - mae: 9.3059\n",
            "Epoch 178/500\n",
            "2/2 [==============================] - 0s 6ms/step - loss: 18.0975 - mae: 18.0975\n",
            "Epoch 179/500\n",
            "2/2 [==============================] - 0s 7ms/step - loss: 10.6374 - mae: 10.6374\n",
            "Epoch 180/500\n",
            "2/2 [==============================] - 0s 7ms/step - loss: 7.9414 - mae: 7.9414\n",
            "Epoch 181/500\n",
            "2/2 [==============================] - 0s 6ms/step - loss: 17.3355 - mae: 17.3355\n",
            "Epoch 182/500\n",
            "2/2 [==============================] - 0s 7ms/step - loss: 11.0297 - mae: 11.0297\n",
            "Epoch 183/500\n",
            "2/2 [==============================] - 0s 6ms/step - loss: 11.6801 - mae: 11.6801\n",
            "Epoch 184/500\n",
            "2/2 [==============================] - 0s 7ms/step - loss: 30.2378 - mae: 30.2378\n",
            "Epoch 185/500\n",
            "2/2 [==============================] - 0s 7ms/step - loss: 8.2232 - mae: 8.2232\n",
            "Epoch 186/500\n",
            "2/2 [==============================] - 0s 7ms/step - loss: 18.7106 - mae: 18.7106\n",
            "Epoch 187/500\n",
            "2/2 [==============================] - 0s 7ms/step - loss: 8.8099 - mae: 8.8099\n",
            "Epoch 188/500\n",
            "2/2 [==============================] - 0s 7ms/step - loss: 23.6991 - mae: 23.6991\n",
            "Epoch 189/500\n",
            "2/2 [==============================] - 0s 6ms/step - loss: 9.4214 - mae: 9.4214\n",
            "Epoch 190/500\n",
            "2/2 [==============================] - 0s 7ms/step - loss: 17.0992 - mae: 17.0992\n",
            "Epoch 191/500\n",
            "2/2 [==============================] - 0s 7ms/step - loss: 8.6092 - mae: 8.6092\n",
            "Epoch 192/500\n",
            "2/2 [==============================] - 0s 7ms/step - loss: 15.1895 - mae: 15.1895\n",
            "Epoch 193/500\n",
            "2/2 [==============================] - 0s 7ms/step - loss: 30.0258 - mae: 30.0258\n",
            "Epoch 194/500\n",
            "2/2 [==============================] - 0s 7ms/step - loss: 9.6653 - mae: 9.6653\n",
            "Epoch 195/500\n",
            "2/2 [==============================] - 0s 7ms/step - loss: 12.0343 - mae: 12.0343\n",
            "Epoch 196/500\n",
            "2/2 [==============================] - 0s 7ms/step - loss: 23.3966 - mae: 23.3966\n",
            "Epoch 197/500\n",
            "2/2 [==============================] - 0s 6ms/step - loss: 17.8476 - mae: 17.8476\n",
            "Epoch 198/500\n",
            "2/2 [==============================] - 0s 7ms/step - loss: 12.6324 - mae: 12.6324\n",
            "Epoch 199/500\n",
            "2/2 [==============================] - 0s 10ms/step - loss: 18.1044 - mae: 18.1044\n",
            "Epoch 200/500\n",
            "2/2 [==============================] - 0s 5ms/step - loss: 13.9339 - mae: 13.9339\n",
            "Epoch 201/500\n",
            "2/2 [==============================] - 0s 7ms/step - loss: 6.1106 - mae: 6.1106\n",
            "Epoch 202/500\n",
            "2/2 [==============================] - 0s 6ms/step - loss: 22.9132 - mae: 22.9132\n",
            "Epoch 203/500\n",
            "2/2 [==============================] - 0s 8ms/step - loss: 9.0365 - mae: 9.0365\n",
            "Epoch 204/500\n",
            "2/2 [==============================] - 0s 8ms/step - loss: 18.8525 - mae: 18.8525\n",
            "Epoch 205/500\n",
            "2/2 [==============================] - 0s 7ms/step - loss: 9.4312 - mae: 9.4312\n",
            "Epoch 206/500\n",
            "2/2 [==============================] - 0s 7ms/step - loss: 10.4909 - mae: 10.4909\n",
            "Epoch 207/500\n",
            "2/2 [==============================] - 0s 7ms/step - loss: 21.0435 - mae: 21.0435\n",
            "Epoch 208/500\n",
            "2/2 [==============================] - 0s 7ms/step - loss: 16.4657 - mae: 16.4657\n",
            "Epoch 209/500\n",
            "2/2 [==============================] - 0s 7ms/step - loss: 14.3317 - mae: 14.3317\n",
            "Epoch 210/500\n",
            "2/2 [==============================] - 0s 6ms/step - loss: 17.2905 - mae: 17.2905\n",
            "Epoch 211/500\n",
            "2/2 [==============================] - 0s 7ms/step - loss: 10.2992 - mae: 10.2992\n",
            "Epoch 212/500\n",
            "2/2 [==============================] - 0s 7ms/step - loss: 19.7518 - mae: 19.7518\n",
            "Epoch 213/500\n",
            "2/2 [==============================] - 0s 7ms/step - loss: 14.6917 - mae: 14.6917\n",
            "Epoch 214/500\n",
            "2/2 [==============================] - 0s 6ms/step - loss: 14.3715 - mae: 14.3715\n",
            "Epoch 215/500\n",
            "2/2 [==============================] - 0s 7ms/step - loss: 22.8707 - mae: 22.8707\n",
            "Epoch 216/500\n",
            "2/2 [==============================] - 0s 7ms/step - loss: 13.9158 - mae: 13.9158\n",
            "Epoch 217/500\n",
            "2/2 [==============================] - 0s 6ms/step - loss: 10.3586 - mae: 10.3586\n",
            "Epoch 218/500\n",
            "2/2 [==============================] - 0s 6ms/step - loss: 12.2598 - mae: 12.2598\n",
            "Epoch 219/500\n",
            "2/2 [==============================] - 0s 7ms/step - loss: 6.6005 - mae: 6.6005\n",
            "Epoch 220/500\n",
            "2/2 [==============================] - 0s 8ms/step - loss: 7.1751 - mae: 7.1751\n",
            "Epoch 221/500\n",
            "2/2 [==============================] - 0s 7ms/step - loss: 37.4782 - mae: 37.4782\n",
            "Epoch 222/500\n",
            "2/2 [==============================] - 0s 7ms/step - loss: 37.2845 - mae: 37.2845\n",
            "Epoch 223/500\n",
            "2/2 [==============================] - 0s 7ms/step - loss: 6.1528 - mae: 6.1528\n",
            "Epoch 224/500\n",
            "2/2 [==============================] - 0s 7ms/step - loss: 14.5321 - mae: 14.5321\n",
            "Epoch 225/500\n",
            "2/2 [==============================] - 0s 7ms/step - loss: 16.5459 - mae: 16.5459\n",
            "Epoch 226/500\n",
            "2/2 [==============================] - 0s 7ms/step - loss: 15.6993 - mae: 15.6993\n",
            "Epoch 227/500\n",
            "2/2 [==============================] - 0s 6ms/step - loss: 16.1619 - mae: 16.1619\n",
            "Epoch 228/500\n",
            "2/2 [==============================] - 0s 10ms/step - loss: 9.3293 - mae: 9.3293\n",
            "Epoch 229/500\n",
            "2/2 [==============================] - 0s 6ms/step - loss: 17.9957 - mae: 17.9957\n",
            "Epoch 230/500\n",
            "2/2 [==============================] - 0s 7ms/step - loss: 15.5944 - mae: 15.5944\n",
            "Epoch 231/500\n",
            "2/2 [==============================] - 0s 8ms/step - loss: 21.1131 - mae: 21.1131\n",
            "Epoch 232/500\n",
            "2/2 [==============================] - 0s 9ms/step - loss: 25.5033 - mae: 25.5033\n",
            "Epoch 233/500\n",
            "2/2 [==============================] - 0s 7ms/step - loss: 16.5111 - mae: 16.5111\n",
            "Epoch 234/500\n",
            "2/2 [==============================] - 0s 7ms/step - loss: 7.3898 - mae: 7.3898\n",
            "Epoch 235/500\n",
            "2/2 [==============================] - 0s 6ms/step - loss: 17.1416 - mae: 17.1416\n",
            "Epoch 236/500\n",
            "2/2 [==============================] - 0s 9ms/step - loss: 7.2434 - mae: 7.2434\n",
            "Epoch 237/500\n",
            "2/2 [==============================] - 0s 7ms/step - loss: 9.3335 - mae: 9.3335\n",
            "Epoch 238/500\n",
            "2/2 [==============================] - 0s 8ms/step - loss: 8.1973 - mae: 8.1973\n",
            "Epoch 239/500\n",
            "2/2 [==============================] - 0s 7ms/step - loss: 17.1081 - mae: 17.1081\n",
            "Epoch 240/500\n",
            "2/2 [==============================] - 0s 7ms/step - loss: 8.9544 - mae: 8.9544\n",
            "Epoch 241/500\n",
            "2/2 [==============================] - 0s 7ms/step - loss: 12.8493 - mae: 12.8493\n",
            "Epoch 242/500\n",
            "2/2 [==============================] - 0s 7ms/step - loss: 10.9634 - mae: 10.9634\n",
            "Epoch 243/500\n",
            "2/2 [==============================] - 0s 7ms/step - loss: 17.4004 - mae: 17.4004\n",
            "Epoch 244/500\n",
            "2/2 [==============================] - 0s 8ms/step - loss: 14.5050 - mae: 14.5050\n",
            "Epoch 245/500\n",
            "2/2 [==============================] - 0s 7ms/step - loss: 15.0761 - mae: 15.0761\n",
            "Epoch 246/500\n",
            "2/2 [==============================] - 0s 7ms/step - loss: 16.1843 - mae: 16.1843\n",
            "Epoch 247/500\n",
            "2/2 [==============================] - 0s 6ms/step - loss: 18.1816 - mae: 18.1816\n",
            "Epoch 248/500\n",
            "2/2 [==============================] - 0s 7ms/step - loss: 13.7126 - mae: 13.7126\n",
            "Epoch 249/500\n",
            "2/2 [==============================] - 0s 5ms/step - loss: 14.8123 - mae: 14.8123\n",
            "Epoch 250/500\n",
            "2/2 [==============================] - 0s 10ms/step - loss: 23.7982 - mae: 23.7982\n",
            "Epoch 251/500\n",
            "2/2 [==============================] - 0s 7ms/step - loss: 13.5927 - mae: 13.5927\n",
            "Epoch 252/500\n",
            "2/2 [==============================] - 0s 6ms/step - loss: 22.5299 - mae: 22.5299\n",
            "Epoch 253/500\n",
            "2/2 [==============================] - 0s 8ms/step - loss: 9.8408 - mae: 9.8408\n",
            "Epoch 254/500\n",
            "2/2 [==============================] - 0s 5ms/step - loss: 15.8021 - mae: 15.8021\n",
            "Epoch 255/500\n",
            "2/2 [==============================] - 0s 5ms/step - loss: 13.5550 - mae: 13.5550\n",
            "Epoch 256/500\n",
            "2/2 [==============================] - 0s 5ms/step - loss: 9.9660 - mae: 9.9660\n",
            "Epoch 257/500\n",
            "2/2 [==============================] - 0s 7ms/step - loss: 14.6100 - mae: 14.6100\n",
            "Epoch 258/500\n",
            "2/2 [==============================] - 0s 6ms/step - loss: 5.2987 - mae: 5.2987\n",
            "Epoch 259/500\n",
            "2/2 [==============================] - 0s 5ms/step - loss: 16.6472 - mae: 16.6472\n",
            "Epoch 260/500\n",
            "2/2 [==============================] - 0s 6ms/step - loss: 49.5393 - mae: 49.5393\n",
            "Epoch 261/500\n",
            "2/2 [==============================] - 0s 5ms/step - loss: 22.5225 - mae: 22.5225\n",
            "Epoch 262/500\n",
            "2/2 [==============================] - 0s 12ms/step - loss: 4.7552 - mae: 4.7552\n",
            "Epoch 263/500\n",
            "2/2 [==============================] - 0s 7ms/step - loss: 9.3464 - mae: 9.3464\n",
            "Epoch 264/500\n",
            "2/2 [==============================] - 0s 5ms/step - loss: 22.8671 - mae: 22.8671\n",
            "Epoch 265/500\n",
            "2/2 [==============================] - 0s 6ms/step - loss: 10.7999 - mae: 10.7999\n",
            "Epoch 266/500\n",
            "2/2 [==============================] - 0s 6ms/step - loss: 13.2446 - mae: 13.2446\n",
            "Epoch 267/500\n",
            "2/2 [==============================] - 0s 7ms/step - loss: 11.0738 - mae: 11.0738\n",
            "Epoch 268/500\n",
            "2/2 [==============================] - 0s 8ms/step - loss: 19.0921 - mae: 19.0921\n",
            "Epoch 269/500\n",
            "2/2 [==============================] - 0s 8ms/step - loss: 40.9205 - mae: 40.9205\n",
            "Epoch 270/500\n",
            "2/2 [==============================] - 0s 7ms/step - loss: 13.0740 - mae: 13.0740\n",
            "Epoch 271/500\n",
            "2/2 [==============================] - 0s 7ms/step - loss: 14.7602 - mae: 14.7602\n",
            "Epoch 272/500\n",
            "2/2 [==============================] - 0s 7ms/step - loss: 28.4833 - mae: 28.4833\n",
            "Epoch 273/500\n",
            "2/2 [==============================] - 0s 7ms/step - loss: 7.4545 - mae: 7.4545\n",
            "Epoch 274/500\n",
            "2/2 [==============================] - 0s 7ms/step - loss: 6.4044 - mae: 6.4044\n",
            "Epoch 275/500\n",
            "2/2 [==============================] - 0s 7ms/step - loss: 37.0056 - mae: 37.0056\n",
            "Epoch 276/500\n",
            "2/2 [==============================] - 0s 7ms/step - loss: 8.3533 - mae: 8.3533\n",
            "Epoch 277/500\n",
            "2/2 [==============================] - 0s 7ms/step - loss: 27.7954 - mae: 27.7954\n",
            "Epoch 278/500\n",
            "2/2 [==============================] - 0s 7ms/step - loss: 10.6927 - mae: 10.6927\n",
            "Epoch 279/500\n",
            "2/2 [==============================] - 0s 7ms/step - loss: 16.1177 - mae: 16.1177\n",
            "Epoch 280/500\n",
            "2/2 [==============================] - 0s 6ms/step - loss: 21.2315 - mae: 21.2315\n",
            "Epoch 281/500\n",
            "2/2 [==============================] - 0s 7ms/step - loss: 23.8008 - mae: 23.8008\n",
            "Epoch 282/500\n",
            "2/2 [==============================] - 0s 7ms/step - loss: 8.3174 - mae: 8.3174\n",
            "Epoch 283/500\n",
            "2/2 [==============================] - 0s 7ms/step - loss: 8.4919 - mae: 8.4919\n",
            "Epoch 284/500\n",
            "2/2 [==============================] - 0s 7ms/step - loss: 26.6040 - mae: 26.6040\n",
            "Epoch 285/500\n",
            "2/2 [==============================] - 0s 7ms/step - loss: 14.2192 - mae: 14.2192\n",
            "Epoch 286/500\n",
            "2/2 [==============================] - 0s 6ms/step - loss: 5.3064 - mae: 5.3064\n",
            "Epoch 287/500\n",
            "2/2 [==============================] - 0s 7ms/step - loss: 20.8412 - mae: 20.8412\n",
            "Epoch 288/500\n",
            "2/2 [==============================] - 0s 7ms/step - loss: 27.5578 - mae: 27.5578\n",
            "Epoch 289/500\n",
            "2/2 [==============================] - 0s 7ms/step - loss: 10.4651 - mae: 10.4651\n",
            "Epoch 290/500\n",
            "2/2 [==============================] - 0s 8ms/step - loss: 16.3352 - mae: 16.3352\n",
            "Epoch 291/500\n",
            "2/2 [==============================] - 0s 7ms/step - loss: 16.5315 - mae: 16.5315\n",
            "Epoch 292/500\n",
            "2/2 [==============================] - 0s 7ms/step - loss: 7.4772 - mae: 7.4772\n",
            "Epoch 293/500\n",
            "2/2 [==============================] - 0s 8ms/step - loss: 16.5765 - mae: 16.5765\n",
            "Epoch 294/500\n",
            "2/2 [==============================] - 0s 7ms/step - loss: 25.3713 - mae: 25.3713\n",
            "Epoch 295/500\n",
            "2/2 [==============================] - 0s 7ms/step - loss: 14.5069 - mae: 14.5069\n",
            "Epoch 296/500\n",
            "2/2 [==============================] - 0s 8ms/step - loss: 4.7268 - mae: 4.7268\n",
            "Epoch 297/500\n",
            "2/2 [==============================] - 0s 8ms/step - loss: 6.3046 - mae: 6.3046\n",
            "Epoch 298/500\n",
            "2/2 [==============================] - 0s 8ms/step - loss: 26.6098 - mae: 26.6098\n",
            "Epoch 299/500\n",
            "2/2 [==============================] - 0s 6ms/step - loss: 7.2744 - mae: 7.2744\n",
            "Epoch 300/500\n",
            "2/2 [==============================] - 0s 5ms/step - loss: 26.7554 - mae: 26.7554\n",
            "Epoch 301/500\n",
            "2/2 [==============================] - 0s 6ms/step - loss: 11.7809 - mae: 11.7809\n",
            "Epoch 302/500\n",
            "2/2 [==============================] - 0s 6ms/step - loss: 7.9123 - mae: 7.9123\n",
            "Epoch 303/500\n",
            "2/2 [==============================] - 0s 8ms/step - loss: 19.7966 - mae: 19.7966\n",
            "Epoch 304/500\n",
            "2/2 [==============================] - 0s 10ms/step - loss: 13.6489 - mae: 13.6489\n",
            "Epoch 305/500\n",
            "2/2 [==============================] - 0s 6ms/step - loss: 7.0885 - mae: 7.0885\n",
            "Epoch 306/500\n",
            "2/2 [==============================] - 0s 5ms/step - loss: 19.1257 - mae: 19.1257\n",
            "Epoch 307/500\n",
            "2/2 [==============================] - 0s 5ms/step - loss: 9.5483 - mae: 9.5483\n",
            "Epoch 308/500\n",
            "2/2 [==============================] - 0s 5ms/step - loss: 20.0131 - mae: 20.0131\n",
            "Epoch 309/500\n",
            "2/2 [==============================] - 0s 8ms/step - loss: 14.7189 - mae: 14.7189\n",
            "Epoch 310/500\n",
            "2/2 [==============================] - 0s 8ms/step - loss: 4.3330 - mae: 4.3330\n",
            "Epoch 311/500\n",
            "2/2 [==============================] - 0s 13ms/step - loss: 10.3049 - mae: 10.3049\n",
            "Epoch 312/500\n",
            "2/2 [==============================] - 0s 7ms/step - loss: 21.2851 - mae: 21.2851\n",
            "Epoch 313/500\n",
            "2/2 [==============================] - 0s 5ms/step - loss: 14.5766 - mae: 14.5766\n",
            "Epoch 314/500\n",
            "2/2 [==============================] - 0s 7ms/step - loss: 13.1033 - mae: 13.1033\n",
            "Epoch 315/500\n",
            "2/2 [==============================] - 0s 7ms/step - loss: 22.5745 - mae: 22.5745\n",
            "Epoch 316/500\n",
            "2/2 [==============================] - 0s 8ms/step - loss: 16.3929 - mae: 16.3929\n",
            "Epoch 317/500\n",
            "2/2 [==============================] - 0s 8ms/step - loss: 20.9616 - mae: 20.9616\n",
            "Epoch 318/500\n",
            "2/2 [==============================] - 0s 6ms/step - loss: 9.3228 - mae: 9.3228\n",
            "Epoch 319/500\n",
            "2/2 [==============================] - 0s 7ms/step - loss: 11.9151 - mae: 11.9151\n",
            "Epoch 320/500\n",
            "2/2 [==============================] - 0s 7ms/step - loss: 12.5516 - mae: 12.5516\n",
            "Epoch 321/500\n",
            "2/2 [==============================] - 0s 7ms/step - loss: 4.9387 - mae: 4.9387\n",
            "Epoch 322/500\n",
            "2/2 [==============================] - 0s 7ms/step - loss: 13.5364 - mae: 13.5364\n",
            "Epoch 323/500\n",
            "2/2 [==============================] - 0s 8ms/step - loss: 17.8260 - mae: 17.8260\n",
            "Epoch 324/500\n",
            "2/2 [==============================] - 0s 8ms/step - loss: 15.9290 - mae: 15.9290\n",
            "Epoch 325/500\n",
            "2/2 [==============================] - 0s 7ms/step - loss: 17.5817 - mae: 17.5817\n",
            "Epoch 326/500\n",
            "2/2 [==============================] - 0s 8ms/step - loss: 11.0869 - mae: 11.0869\n",
            "Epoch 327/500\n",
            "2/2 [==============================] - 0s 7ms/step - loss: 7.6869 - mae: 7.6869\n",
            "Epoch 328/500\n",
            "2/2 [==============================] - 0s 7ms/step - loss: 5.4141 - mae: 5.4141\n",
            "Epoch 329/500\n",
            "2/2 [==============================] - 0s 8ms/step - loss: 17.6224 - mae: 17.6224\n",
            "Epoch 330/500\n",
            "2/2 [==============================] - 0s 8ms/step - loss: 5.8296 - mae: 5.8296\n",
            "Epoch 331/500\n",
            "2/2 [==============================] - 0s 8ms/step - loss: 26.0778 - mae: 26.0778\n",
            "Epoch 332/500\n",
            "2/2 [==============================] - 0s 7ms/step - loss: 15.2136 - mae: 15.2136\n",
            "Epoch 333/500\n",
            "2/2 [==============================] - 0s 7ms/step - loss: 10.2508 - mae: 10.2508\n",
            "Epoch 334/500\n",
            "2/2 [==============================] - 0s 7ms/step - loss: 6.6664 - mae: 6.6664\n",
            "Epoch 335/500\n",
            "2/2 [==============================] - 0s 6ms/step - loss: 6.2619 - mae: 6.2619\n",
            "Epoch 336/500\n",
            "2/2 [==============================] - 0s 10ms/step - loss: 34.7124 - mae: 34.7124\n",
            "Epoch 337/500\n",
            "2/2 [==============================] - 0s 8ms/step - loss: 27.1197 - mae: 27.1197\n",
            "Epoch 338/500\n",
            "2/2 [==============================] - 0s 9ms/step - loss: 14.0977 - mae: 14.0977\n",
            "Epoch 339/500\n",
            "2/2 [==============================] - 0s 9ms/step - loss: 11.6466 - mae: 11.6466\n",
            "Epoch 340/500\n",
            "2/2 [==============================] - 0s 8ms/step - loss: 8.8065 - mae: 8.8065\n",
            "Epoch 341/500\n",
            "2/2 [==============================] - 0s 5ms/step - loss: 23.4036 - mae: 23.4036\n",
            "Epoch 342/500\n",
            "2/2 [==============================] - 0s 4ms/step - loss: 14.0357 - mae: 14.0357\n",
            "Epoch 343/500\n",
            "2/2 [==============================] - 0s 5ms/step - loss: 14.7737 - mae: 14.7737\n",
            "Epoch 344/500\n",
            "2/2 [==============================] - 0s 8ms/step - loss: 13.3766 - mae: 13.3766\n",
            "Epoch 345/500\n",
            "2/2 [==============================] - 0s 5ms/step - loss: 30.9923 - mae: 30.9923\n",
            "Epoch 346/500\n",
            "2/2 [==============================] - 0s 5ms/step - loss: 10.6840 - mae: 10.6840\n",
            "Epoch 347/500\n",
            "2/2 [==============================] - 0s 5ms/step - loss: 25.6786 - mae: 25.6786\n",
            "Epoch 348/500\n",
            "2/2 [==============================] - 0s 5ms/step - loss: 13.0080 - mae: 13.0080\n",
            "Epoch 349/500\n",
            "2/2 [==============================] - 0s 6ms/step - loss: 13.1224 - mae: 13.1224\n",
            "Epoch 350/500\n",
            "2/2 [==============================] - 0s 5ms/step - loss: 15.4270 - mae: 15.4270\n",
            "Epoch 351/500\n",
            "2/2 [==============================] - 0s 5ms/step - loss: 32.9338 - mae: 32.9338\n",
            "Epoch 352/500\n",
            "2/2 [==============================] - 0s 5ms/step - loss: 14.1655 - mae: 14.1655\n",
            "Epoch 353/500\n",
            "2/2 [==============================] - 0s 4ms/step - loss: 15.8893 - mae: 15.8893\n",
            "Epoch 354/500\n",
            "2/2 [==============================] - 0s 5ms/step - loss: 19.0220 - mae: 19.0220\n",
            "Epoch 355/500\n",
            "2/2 [==============================] - 0s 5ms/step - loss: 34.3066 - mae: 34.3066\n",
            "Epoch 356/500\n",
            "2/2 [==============================] - 0s 5ms/step - loss: 8.2977 - mae: 8.2977\n",
            "Epoch 357/500\n",
            "2/2 [==============================] - 0s 5ms/step - loss: 21.8281 - mae: 21.8281\n",
            "Epoch 358/500\n",
            "2/2 [==============================] - 0s 10ms/step - loss: 19.9643 - mae: 19.9643\n",
            "Epoch 359/500\n",
            "2/2 [==============================] - 0s 7ms/step - loss: 11.0636 - mae: 11.0636\n",
            "Epoch 360/500\n",
            "2/2 [==============================] - 0s 8ms/step - loss: 20.2980 - mae: 20.2980\n",
            "Epoch 361/500\n",
            "2/2 [==============================] - 0s 17ms/step - loss: 10.9761 - mae: 10.9761\n",
            "Epoch 362/500\n",
            "2/2 [==============================] - 0s 5ms/step - loss: 6.8183 - mae: 6.8183\n",
            "Epoch 363/500\n",
            "2/2 [==============================] - 0s 11ms/step - loss: 23.9400 - mae: 23.9400\n",
            "Epoch 364/500\n",
            "2/2 [==============================] - 0s 4ms/step - loss: 29.6842 - mae: 29.6842\n",
            "Epoch 365/500\n",
            "2/2 [==============================] - 0s 5ms/step - loss: 8.3305 - mae: 8.3305\n",
            "Epoch 366/500\n",
            "2/2 [==============================] - 0s 5ms/step - loss: 6.0972 - mae: 6.0972\n",
            "Epoch 367/500\n",
            "2/2 [==============================] - 0s 5ms/step - loss: 34.8182 - mae: 34.8182\n",
            "Epoch 368/500\n",
            "2/2 [==============================] - 0s 6ms/step - loss: 7.3928 - mae: 7.3928\n",
            "Epoch 369/500\n",
            "2/2 [==============================] - 0s 8ms/step - loss: 9.2036 - mae: 9.2036\n",
            "Epoch 370/500\n",
            "2/2 [==============================] - 0s 7ms/step - loss: 10.9023 - mae: 10.9023\n",
            "Epoch 371/500\n",
            "2/2 [==============================] - 0s 4ms/step - loss: 8.9672 - mae: 8.9672\n",
            "Epoch 372/500\n",
            "2/2 [==============================] - 0s 4ms/step - loss: 7.7044 - mae: 7.7044\n",
            "Epoch 373/500\n",
            "2/2 [==============================] - 0s 5ms/step - loss: 25.0738 - mae: 25.0738\n",
            "Epoch 374/500\n",
            "2/2 [==============================] - 0s 6ms/step - loss: 13.1878 - mae: 13.1878\n",
            "Epoch 375/500\n",
            "2/2 [==============================] - 0s 5ms/step - loss: 11.8678 - mae: 11.8678\n",
            "Epoch 376/500\n",
            "2/2 [==============================] - 0s 4ms/step - loss: 14.1439 - mae: 14.1439\n",
            "Epoch 377/500\n",
            "2/2 [==============================] - 0s 4ms/step - loss: 15.7291 - mae: 15.7291\n",
            "Epoch 378/500\n",
            "2/2 [==============================] - 0s 5ms/step - loss: 17.0587 - mae: 17.0587\n",
            "Epoch 379/500\n",
            "2/2 [==============================] - 0s 8ms/step - loss: 19.3608 - mae: 19.3608\n",
            "Epoch 380/500\n",
            "2/2 [==============================] - 0s 6ms/step - loss: 15.7173 - mae: 15.7173\n",
            "Epoch 381/500\n",
            "2/2 [==============================] - 0s 5ms/step - loss: 11.4724 - mae: 11.4724\n",
            "Epoch 382/500\n",
            "2/2 [==============================] - 0s 9ms/step - loss: 16.3484 - mae: 16.3484\n",
            "Epoch 383/500\n",
            "2/2 [==============================] - 0s 6ms/step - loss: 22.1106 - mae: 22.1106\n",
            "Epoch 384/500\n",
            "2/2 [==============================] - 0s 6ms/step - loss: 7.7408 - mae: 7.7408\n",
            "Epoch 385/500\n",
            "2/2 [==============================] - 0s 7ms/step - loss: 10.6223 - mae: 10.6223\n",
            "Epoch 386/500\n",
            "2/2 [==============================] - 0s 8ms/step - loss: 19.1108 - mae: 19.1108\n",
            "Epoch 387/500\n",
            "2/2 [==============================] - 0s 5ms/step - loss: 26.4534 - mae: 26.4534\n",
            "Epoch 388/500\n",
            "2/2 [==============================] - 0s 6ms/step - loss: 10.0877 - mae: 10.0877\n",
            "Epoch 389/500\n",
            "2/2 [==============================] - 0s 6ms/step - loss: 5.1726 - mae: 5.1726\n",
            "Epoch 390/500\n",
            "2/2 [==============================] - 0s 7ms/step - loss: 18.7905 - mae: 18.7905\n",
            "Epoch 391/500\n",
            "2/2 [==============================] - 0s 6ms/step - loss: 9.3427 - mae: 9.3427\n",
            "Epoch 392/500\n",
            "2/2 [==============================] - 0s 8ms/step - loss: 14.4119 - mae: 14.4119\n",
            "Epoch 393/500\n",
            "2/2 [==============================] - 0s 6ms/step - loss: 15.4197 - mae: 15.4197\n",
            "Epoch 394/500\n",
            "2/2 [==============================] - 0s 10ms/step - loss: 14.7540 - mae: 14.7540\n",
            "Epoch 395/500\n",
            "2/2 [==============================] - 0s 10ms/step - loss: 24.9896 - mae: 24.9896\n",
            "Epoch 396/500\n",
            "2/2 [==============================] - 0s 8ms/step - loss: 19.1091 - mae: 19.1091\n",
            "Epoch 397/500\n",
            "2/2 [==============================] - 0s 8ms/step - loss: 11.5913 - mae: 11.5913\n",
            "Epoch 398/500\n",
            "2/2 [==============================] - 0s 7ms/step - loss: 19.2469 - mae: 19.2469\n",
            "Epoch 399/500\n",
            "2/2 [==============================] - 0s 7ms/step - loss: 25.8832 - mae: 25.8832\n",
            "Epoch 400/500\n",
            "2/2 [==============================] - 0s 8ms/step - loss: 15.5516 - mae: 15.5516\n",
            "Epoch 401/500\n",
            "2/2 [==============================] - 0s 8ms/step - loss: 14.6742 - mae: 14.6742\n",
            "Epoch 402/500\n",
            "2/2 [==============================] - 0s 10ms/step - loss: 24.2983 - mae: 24.2983\n",
            "Epoch 403/500\n",
            "2/2 [==============================] - 0s 5ms/step - loss: 16.2328 - mae: 16.2328\n",
            "Epoch 404/500\n",
            "2/2 [==============================] - 0s 11ms/step - loss: 10.4138 - mae: 10.4138\n",
            "Epoch 405/500\n",
            "2/2 [==============================] - 0s 10ms/step - loss: 6.3956 - mae: 6.3956\n",
            "Epoch 406/500\n",
            "2/2 [==============================] - 0s 5ms/step - loss: 17.7010 - mae: 17.7010\n",
            "Epoch 407/500\n",
            "2/2 [==============================] - 0s 6ms/step - loss: 11.0452 - mae: 11.0452\n",
            "Epoch 408/500\n",
            "2/2 [==============================] - 0s 6ms/step - loss: 21.1112 - mae: 21.1112\n",
            "Epoch 409/500\n",
            "2/2 [==============================] - 0s 4ms/step - loss: 30.1979 - mae: 30.1979\n",
            "Epoch 410/500\n",
            "2/2 [==============================] - 0s 11ms/step - loss: 9.8664 - mae: 9.8664\n",
            "Epoch 411/500\n",
            "2/2 [==============================] - 0s 6ms/step - loss: 14.7335 - mae: 14.7335\n",
            "Epoch 412/500\n",
            "2/2 [==============================] - 0s 9ms/step - loss: 21.4922 - mae: 21.4922\n",
            "Epoch 413/500\n",
            "2/2 [==============================] - 0s 4ms/step - loss: 13.2571 - mae: 13.2571\n",
            "Epoch 414/500\n",
            "2/2 [==============================] - 0s 7ms/step - loss: 8.2387 - mae: 8.2387\n",
            "Epoch 415/500\n",
            "2/2 [==============================] - 0s 6ms/step - loss: 11.6750 - mae: 11.6750\n",
            "Epoch 416/500\n",
            "2/2 [==============================] - 0s 6ms/step - loss: 25.5664 - mae: 25.5664\n",
            "Epoch 417/500\n",
            "2/2 [==============================] - 0s 4ms/step - loss: 15.8870 - mae: 15.8870\n",
            "Epoch 418/500\n",
            "2/2 [==============================] - 0s 6ms/step - loss: 12.5420 - mae: 12.5420\n",
            "Epoch 419/500\n",
            "2/2 [==============================] - 0s 8ms/step - loss: 15.7093 - mae: 15.7093\n",
            "Epoch 420/500\n",
            "2/2 [==============================] - 0s 8ms/step - loss: 24.3810 - mae: 24.3810\n",
            "Epoch 421/500\n",
            "2/2 [==============================] - 0s 4ms/step - loss: 18.3939 - mae: 18.3939\n",
            "Epoch 422/500\n",
            "2/2 [==============================] - 0s 6ms/step - loss: 8.6583 - mae: 8.6583\n",
            "Epoch 423/500\n",
            "2/2 [==============================] - 0s 4ms/step - loss: 24.5973 - mae: 24.5973\n",
            "Epoch 424/500\n",
            "2/2 [==============================] - 0s 8ms/step - loss: 16.9666 - mae: 16.9666\n",
            "Epoch 425/500\n",
            "2/2 [==============================] - 0s 6ms/step - loss: 7.3936 - mae: 7.3936\n",
            "Epoch 426/500\n",
            "2/2 [==============================] - 0s 6ms/step - loss: 21.1659 - mae: 21.1659\n",
            "Epoch 427/500\n",
            "2/2 [==============================] - 0s 7ms/step - loss: 6.5695 - mae: 6.5695\n",
            "Epoch 428/500\n",
            "2/2 [==============================] - 0s 7ms/step - loss: 13.5531 - mae: 13.5531\n",
            "Epoch 429/500\n",
            "2/2 [==============================] - 0s 9ms/step - loss: 11.5240 - mae: 11.5240\n",
            "Epoch 430/500\n",
            "2/2 [==============================] - 0s 14ms/step - loss: 10.3048 - mae: 10.3048\n",
            "Epoch 431/500\n",
            "2/2 [==============================] - 0s 12ms/step - loss: 11.5717 - mae: 11.5717\n",
            "Epoch 432/500\n",
            "2/2 [==============================] - 0s 9ms/step - loss: 10.0183 - mae: 10.0183\n",
            "Epoch 433/500\n",
            "2/2 [==============================] - 0s 8ms/step - loss: 3.6187 - mae: 3.6187\n",
            "Epoch 434/500\n",
            "2/2 [==============================] - 0s 7ms/step - loss: 37.1264 - mae: 37.1264\n",
            "Epoch 435/500\n",
            "2/2 [==============================] - 0s 7ms/step - loss: 14.0403 - mae: 14.0403\n",
            "Epoch 436/500\n",
            "2/2 [==============================] - 0s 5ms/step - loss: 12.2519 - mae: 12.2519\n",
            "Epoch 437/500\n",
            "2/2 [==============================] - 0s 4ms/step - loss: 16.3149 - mae: 16.3149\n",
            "Epoch 438/500\n",
            "2/2 [==============================] - 0s 6ms/step - loss: 13.9812 - mae: 13.9812\n",
            "Epoch 439/500\n",
            "2/2 [==============================] - 0s 5ms/step - loss: 32.0194 - mae: 32.0194\n",
            "Epoch 440/500\n",
            "2/2 [==============================] - 0s 6ms/step - loss: 12.5878 - mae: 12.5878\n",
            "Epoch 441/500\n",
            "2/2 [==============================] - 0s 7ms/step - loss: 15.8332 - mae: 15.8332\n",
            "Epoch 442/500\n",
            "2/2 [==============================] - 0s 9ms/step - loss: 23.7869 - mae: 23.7869\n",
            "Epoch 443/500\n",
            "2/2 [==============================] - 0s 5ms/step - loss: 19.9399 - mae: 19.9399\n",
            "Epoch 444/500\n",
            "2/2 [==============================] - 0s 8ms/step - loss: 8.4679 - mae: 8.4679\n",
            "Epoch 445/500\n",
            "2/2 [==============================] - 0s 7ms/step - loss: 12.8590 - mae: 12.8590\n",
            "Epoch 446/500\n",
            "2/2 [==============================] - 0s 7ms/step - loss: 15.5746 - mae: 15.5746\n",
            "Epoch 447/500\n",
            "2/2 [==============================] - 0s 8ms/step - loss: 14.7319 - mae: 14.7319\n",
            "Epoch 448/500\n",
            "2/2 [==============================] - 0s 7ms/step - loss: 11.6085 - mae: 11.6085\n",
            "Epoch 449/500\n",
            "2/2 [==============================] - 0s 6ms/step - loss: 14.8102 - mae: 14.8102\n",
            "Epoch 450/500\n",
            "2/2 [==============================] - 0s 7ms/step - loss: 17.5647 - mae: 17.5647\n",
            "Epoch 451/500\n",
            "2/2 [==============================] - 0s 8ms/step - loss: 14.6281 - mae: 14.6281\n",
            "Epoch 452/500\n",
            "2/2 [==============================] - 0s 6ms/step - loss: 31.2807 - mae: 31.2807\n",
            "Epoch 453/500\n",
            "2/2 [==============================] - 0s 6ms/step - loss: 10.5760 - mae: 10.5760\n",
            "Epoch 454/500\n",
            "2/2 [==============================] - 0s 12ms/step - loss: 26.8672 - mae: 26.8672\n",
            "Epoch 455/500\n",
            "2/2 [==============================] - 0s 7ms/step - loss: 12.2900 - mae: 12.2900\n",
            "Epoch 456/500\n",
            "2/2 [==============================] - 0s 13ms/step - loss: 15.3502 - mae: 15.3502\n",
            "Epoch 457/500\n",
            "2/2 [==============================] - 0s 5ms/step - loss: 19.0599 - mae: 19.0599\n",
            "Epoch 458/500\n",
            "2/2 [==============================] - 0s 4ms/step - loss: 23.4757 - mae: 23.4757\n",
            "Epoch 459/500\n",
            "2/2 [==============================] - 0s 7ms/step - loss: 16.9288 - mae: 16.9288\n",
            "Epoch 460/500\n",
            "2/2 [==============================] - 0s 6ms/step - loss: 6.1273 - mae: 6.1273\n",
            "Epoch 461/500\n",
            "2/2 [==============================] - 0s 7ms/step - loss: 16.8851 - mae: 16.8851\n",
            "Epoch 462/500\n",
            "2/2 [==============================] - 0s 6ms/step - loss: 16.8490 - mae: 16.8490\n",
            "Epoch 463/500\n",
            "2/2 [==============================] - 0s 8ms/step - loss: 42.5838 - mae: 42.5838\n",
            "Epoch 464/500\n",
            "2/2 [==============================] - 0s 7ms/step - loss: 16.7516 - mae: 16.7516\n",
            "Epoch 465/500\n",
            "2/2 [==============================] - 0s 6ms/step - loss: 8.1149 - mae: 8.1149\n",
            "Epoch 466/500\n",
            "2/2 [==============================] - 0s 6ms/step - loss: 13.6504 - mae: 13.6504\n",
            "Epoch 467/500\n",
            "2/2 [==============================] - 0s 5ms/step - loss: 6.5057 - mae: 6.5057\n",
            "Epoch 468/500\n",
            "2/2 [==============================] - 0s 7ms/step - loss: 15.0123 - mae: 15.0123\n",
            "Epoch 469/500\n",
            "2/2 [==============================] - 0s 5ms/step - loss: 13.7355 - mae: 13.7355\n",
            "Epoch 470/500\n",
            "2/2 [==============================] - 0s 4ms/step - loss: 6.7968 - mae: 6.7968\n",
            "Epoch 471/500\n",
            "2/2 [==============================] - 0s 5ms/step - loss: 23.0103 - mae: 23.0103\n",
            "Epoch 472/500\n",
            "2/2 [==============================] - 0s 4ms/step - loss: 13.3213 - mae: 13.3213\n",
            "Epoch 473/500\n",
            "2/2 [==============================] - 0s 5ms/step - loss: 15.2352 - mae: 15.2352\n",
            "Epoch 474/500\n",
            "2/2 [==============================] - 0s 6ms/step - loss: 11.7094 - mae: 11.7094\n",
            "Epoch 475/500\n",
            "2/2 [==============================] - 0s 5ms/step - loss: 16.3515 - mae: 16.3515\n",
            "Epoch 476/500\n",
            "2/2 [==============================] - 0s 5ms/step - loss: 13.8709 - mae: 13.8709\n",
            "Epoch 477/500\n",
            "2/2 [==============================] - 0s 5ms/step - loss: 30.6263 - mae: 30.6263\n",
            "Epoch 478/500\n",
            "2/2 [==============================] - 0s 5ms/step - loss: 8.2684 - mae: 8.2684\n",
            "Epoch 479/500\n",
            "2/2 [==============================] - 0s 5ms/step - loss: 11.3104 - mae: 11.3104\n",
            "Epoch 480/500\n",
            "2/2 [==============================] - 0s 5ms/step - loss: 17.9751 - mae: 17.9751\n",
            "Epoch 481/500\n",
            "2/2 [==============================] - 0s 5ms/step - loss: 15.8684 - mae: 15.8684\n",
            "Epoch 482/500\n",
            "2/2 [==============================] - 0s 6ms/step - loss: 21.4142 - mae: 21.4142\n",
            "Epoch 483/500\n",
            "2/2 [==============================] - 0s 4ms/step - loss: 25.1356 - mae: 25.1356\n",
            "Epoch 484/500\n",
            "2/2 [==============================] - 0s 8ms/step - loss: 23.7380 - mae: 23.7380\n",
            "Epoch 485/500\n",
            "2/2 [==============================] - 0s 9ms/step - loss: 5.7764 - mae: 5.7764\n",
            "Epoch 486/500\n",
            "2/2 [==============================] - 0s 5ms/step - loss: 19.6621 - mae: 19.6621\n",
            "Epoch 487/500\n",
            "2/2 [==============================] - 0s 6ms/step - loss: 13.9588 - mae: 13.9588\n",
            "Epoch 488/500\n",
            "2/2 [==============================] - 0s 6ms/step - loss: 30.4420 - mae: 30.4420\n",
            "Epoch 489/500\n",
            "2/2 [==============================] - 0s 9ms/step - loss: 11.6901 - mae: 11.6901\n",
            "Epoch 490/500\n",
            "2/2 [==============================] - 0s 5ms/step - loss: 12.4366 - mae: 12.4366\n",
            "Epoch 491/500\n",
            "2/2 [==============================] - 0s 4ms/step - loss: 23.6082 - mae: 23.6082\n",
            "Epoch 492/500\n",
            "2/2 [==============================] - 0s 4ms/step - loss: 20.4211 - mae: 20.4211\n",
            "Epoch 493/500\n",
            "2/2 [==============================] - 0s 6ms/step - loss: 5.0118 - mae: 5.0118\n",
            "Epoch 494/500\n",
            "2/2 [==============================] - 0s 5ms/step - loss: 12.7021 - mae: 12.7021\n",
            "Epoch 495/500\n",
            "2/2 [==============================] - 0s 5ms/step - loss: 13.4379 - mae: 13.4379\n",
            "Epoch 496/500\n",
            "2/2 [==============================] - 0s 5ms/step - loss: 12.7167 - mae: 12.7167\n",
            "Epoch 497/500\n",
            "2/2 [==============================] - 0s 6ms/step - loss: 17.7030 - mae: 17.7030\n",
            "Epoch 498/500\n",
            "2/2 [==============================] - 0s 5ms/step - loss: 23.3948 - mae: 23.3948\n",
            "Epoch 499/500\n",
            "2/2 [==============================] - 0s 7ms/step - loss: 9.1390 - mae: 9.1390\n",
            "Epoch 500/500\n",
            "2/2 [==============================] - 0s 6ms/step - loss: 14.3960 - mae: 14.3960\n"
          ]
        },
        {
          "output_type": "execute_result",
          "data": {
            "text/plain": [
              "<keras.callbacks.History at 0x7f533efdf150>"
            ]
          },
          "metadata": {},
          "execution_count": 135
        }
      ]
    },
    {
      "cell_type": "code",
      "source": [
        "# Make and plot predictions for model_3\n",
        "y_preds_3 = model_3.predict(X_test)\n",
        "plot_predictions(predictions=y_preds_3)"
      ],
      "metadata": {
        "id": "AjnQG56HX_Pl",
        "outputId": "efb8bac7-ebc1-404b-936b-adde42f4a5fb",
        "colab": {
          "base_uri": "https://localhost:8080/",
          "height": 428
        }
      },
      "execution_count": 136,
      "outputs": [
        {
          "output_type": "display_data",
          "data": {
            "text/plain": [
              "<Figure size 720x504 with 1 Axes>"
            ],
            "image/png": "[encoded data removed]"
          },
          "metadata": {
            "needs_background": "light"
          }
        }
      ]
    },
    {
      "cell_type": "code",
      "source": [
        "mae_3 = mae(y_test, tf.squeeze(y_preds_3))\n",
        "mse_3 = mse(y_test, tf.squeeze(y_preds_3))\n",
        "huber_3 = huber_metric(y_test, tf.squeeze(y_preds_3))\n",
        "print(mae_1,mse_1,huber_1)\n",
        "print(mae_2,mse_2,huber_2)\n",
        "print(mae_3,mse_3,huber_3)"
      ],
      "metadata": {
        "id": "b2BgcyZvYtkB",
        "outputId": "130fb8ba-0721-4c5d-c139-5b3db7fef61b",
        "colab": {
          "base_uri": "https://localhost:8080/"
        }
      },
      "execution_count": 145,
      "outputs": [
        {
          "output_type": "stream",
          "name": "stdout",
          "text": [
            "tf.Tensor(30.403025, shape=(), dtype=float32) tf.Tensor(934.5885, shape=(), dtype=float32) 29.903025\n",
            "10.144222 110.23521 9.644222\n",
            "67.9668 4703.9014 67.4668\n"
          ]
        }
      ]
    },
    {
      "cell_type": "code",
      "source": [
        "model_results = [[\"model_1\", mae_1.numpy(), mse_1.numpy(), huber_1],\n",
        "                 [\"model_2\", mae_2, mse_2, huber_2],\n",
        "                 [\"model_3\", mae_3, mae_3, huber_3]]"
      ],
      "metadata": {
        "id": "O9VCfxsoZPwl"
      },
      "execution_count": 146,
      "outputs": []
    },
    {
      "cell_type": "code",
      "source": [
        "import pandas as pd\n",
        "all_results = pd.DataFrame(model_results, columns=[\"model\", \"mae\", \"mse\",\"huber\"])\n",
        "all_results"
      ],
      "metadata": {
        "id": "AwBUZufQZbCI",
        "outputId": "ba886806-be65-42b5-956c-ee5bced7be7a",
        "colab": {
          "base_uri": "https://localhost:8080/",
          "height": 143
        }
      },
      "execution_count": 148,
      "outputs": [
        {
          "output_type": "execute_result",
          "data": {
            "text/plain": [
              "     model        mae         mse      huber\n",
              "0  model_1  30.403025  934.588501  29.903025\n",
              "1  model_2  10.144222  110.235207   9.644222\n",
              "2  model_3  67.966797   67.966797  67.466797"
            ],
            "text/html": [
              "\n",
              "  <div id=\"df-db2e0d0c-eabf-49c8-aeea-c3694a9f5a36\">\n",
              "    <div class=\"colab-df-container\">\n",
              "      <div>\n",
              "<style scoped>\n",
              "    .dataframe tbody tr th:only-of-type {\n",
              "        vertical-align: middle;\n",
              "    }\n",
              "\n",
              "    .dataframe tbody tr th {\n",
              "        vertical-align: top;\n",
              "    }\n",
              "\n",
              "    .dataframe thead th {\n",
              "        text-align: right;\n",
              "    }\n",
              "</style>\n",
              "<table border=\"1\" class=\"dataframe\">\n",
              "  <thead>\n",
              "    <tr style=\"text-align: right;\">\n",
              "      <th></th>\n",
              "      <th>model</th>\n",
              "      <th>mae</th>\n",
              "      <th>mse</th>\n",
              "      <th>huber</th>\n",
              "    </tr>\n",
              "  </thead>\n",
              "  <tbody>\n",
              "    <tr>\n",
              "      <th>0</th>\n",
              "      <td>model_1</td>\n",
              "      <td>30.403025</td>\n",
              "      <td>934.588501</td>\n",
              "      <td>29.903025</td>\n",
              "    </tr>\n",
              "    <tr>\n",
              "      <th>1</th>\n",
              "      <td>model_2</td>\n",
              "      <td>10.144222</td>\n",
              "      <td>110.235207</td>\n",
              "      <td>9.644222</td>\n",
              "    </tr>\n",
              "    <tr>\n",
              "      <th>2</th>\n",
              "      <td>model_3</td>\n",
              "      <td>67.966797</td>\n",
              "      <td>67.966797</td>\n",
              "      <td>67.466797</td>\n",
              "    </tr>\n",
              "  </tbody>\n",
              "</table>\n",
              "</div>\n",
              "      <button class=\"colab-df-convert\" onclick=\"convertToInteractive('df-db2e0d0c-eabf-49c8-aeea-c3694a9f5a36')\"\n",
              "              title=\"Convert this dataframe to an interactive table.\"\n",
              "              style=\"display:none;\">\n",
              "        \n",
              "  <svg xmlns=\"http://www.w3.org/2000/svg\" height=\"24px\"viewBox=\"0 0 24 24\"\n",
              "       width=\"24px\">\n",
              "    <path d=\"M0 0h24v24H0V0z\" fill=\"none\"/>\n",
              "    <path d=\"M18.56 5.44l.94 2.06.94-2.06 2.06-.94-2.06-.94-.94-2.06-.94 2.06-2.06.94zm-11 1L8.5 8.5l.94-2.06 2.06-.94-2.06-.94L8.5 2.5l-.94 2.06-2.06.94zm10 10l.94 2.06.94-2.06 2.06-.94-2.06-.94-.94-2.06-.94 2.06-2.06.94z\"/><path d=\"M17.41 7.96l-1.37-1.37c-.4-.4-.92-.59-1.43-.59-.52 0-1.04.2-1.43.59L10.3 9.45l-7.72 7.72c-.78.78-.78 2.05 0 2.83L4 21.41c.39.39.9.59 1.41.59.51 0 1.02-.2 1.41-.59l7.78-7.78 2.81-2.81c.8-.78.8-2.07 0-2.86zM5.41 20L4 18.59l7.72-7.72 1.47 1.35L5.41 20z\"/>\n",
              "  </svg>\n",
              "      </button>\n",
              "      \n",
              "  <style>\n",
              "    .colab-df-container {\n",
              "      display:flex;\n",
              "      flex-wrap:wrap;\n",
              "      gap: 12px;\n",
              "    }\n",
              "\n",
              "    .colab-df-convert {\n",
              "      background-color: #E8F0FE;\n",
              "      border: none;\n",
              "      border-radius: 50%;\n",
              "      cursor: pointer;\n",
              "      display: none;\n",
              "      fill: #1967D2;\n",
              "      height: 32px;\n",
              "      padding: 0 0 0 0;\n",
              "      width: 32px;\n",
              "    }\n",
              "\n",
              "    .colab-df-convert:hover {\n",
              "      background-color: #E2EBFA;\n",
              "      box-shadow: 0px 1px 2px rgba(60, 64, 67, 0.3), 0px 1px 3px 1px rgba(60, 64, 67, 0.15);\n",
              "      fill: #174EA6;\n",
              "    }\n",
              "\n",
              "    [theme=dark] .colab-df-convert {\n",
              "      background-color: #3B4455;\n",
              "      fill: #D2E3FC;\n",
              "    }\n",
              "\n",
              "    [theme=dark] .colab-df-convert:hover {\n",
              "      background-color: #434B5C;\n",
              "      box-shadow: 0px 1px 3px 1px rgba(0, 0, 0, 0.15);\n",
              "      filter: drop-shadow(0px 1px 2px rgba(0, 0, 0, 0.3));\n",
              "      fill: #FFFFFF;\n",
              "    }\n",
              "  </style>\n",
              "\n",
              "      <script>\n",
              "        const buttonEl =\n",
              "          document.querySelector('#df-db2e0d0c-eabf-49c8-aeea-c3694a9f5a36 button.colab-df-convert');\n",
              "        buttonEl.style.display =\n",
              "          google.colab.kernel.accessAllowed ? 'block' : 'none';\n",
              "\n",
              "        async function convertToInteractive(key) {\n",
              "          const element = document.querySelector('#df-db2e0d0c-eabf-49c8-aeea-c3694a9f5a36');\n",
              "          const dataTable =\n",
              "            await google.colab.kernel.invokeFunction('convertToInteractive',\n",
              "                                                     [key], {});\n",
              "          if (!dataTable) return;\n",
              "\n",
              "          const docLinkHtml = 'Like what you see? Visit the ' +\n",
              "            '<a target=\"_blank\" href=https://colab.research.google.com/notebooks/data_table.ipynb>data table notebook</a>'\n",
              "            + ' to learn more about interactive tables.';\n",
              "          element.innerHTML = '';\n",
              "          dataTable['output_type'] = 'display_data';\n",
              "          await google.colab.output.renderOutput(dataTable, element);\n",
              "          const docLink = document.createElement('div');\n",
              "          docLink.innerHTML = docLinkHtml;\n",
              "          element.appendChild(docLink);\n",
              "        }\n",
              "      </script>\n",
              "    </div>\n",
              "  </div>\n",
              "  "
            ]
          },
          "metadata": {},
          "execution_count": 148
        }
      ]
    },
    {
      "cell_type": "code",
      "source": [
        ""
      ],
      "metadata": {
        "id": "-ESSvRZXZfvi"
      },
      "execution_count": null,
      "outputs": []
    }
  ]
}